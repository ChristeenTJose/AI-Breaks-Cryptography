{
  "nbformat": 4,
  "nbformat_minor": 0,
  "metadata": {
    "colab": {
      "name": "AI Vs Cryptography.ipynb",
      "provenance": [],
      "collapsed_sections": [
        "ifoj9Ni9bqCh",
        "XDqOC1YPsPc9",
        "LoDll0HmzEcG",
        "lNYzSGIHOPe5"
      ],
      "toc_visible": true,
      "mount_file_id": "1slSwkBuWGoRWylq3dWehwdV-s7ZffKW1",
      "authorship_tag": "ABX9TyNQHu0nFdrytvCUpolD5T9H",
      "include_colab_link": true
    },
    "kernelspec": {
      "name": "python3",
      "display_name": "Python 3"
    },
    "accelerator": "GPU"
  },
  "cells": [
    {
      "cell_type": "markdown",
      "metadata": {
        "id": "view-in-github",
        "colab_type": "text"
      },
      "source": [
        "<a href=\"https://colab.research.google.com/github/ChristeenTJose/AI-vs.-Cryptography/blob/master/AI_vs_Cryptography.ipynb\" target=\"_parent\"><img src=\"https://colab.research.google.com/assets/colab-badge.svg\" alt=\"Open In Colab\"/></a>"
      ]
    },
    {
      "cell_type": "markdown",
      "metadata": {
        "id": "slptdE5rZGMI"
      },
      "source": [
        "# Import required libraries"
      ]
    },
    {
      "cell_type": "code",
      "metadata": {
        "id": "ULphdRRzZDit"
      },
      "source": [
        "import random\n",
        "import pandas as pd\n",
        "from sklearn.preprocessing import LabelEncoder, OneHotEncoder\n",
        "import matplotlib.pyplot as plt\n",
        "import numpy as np\n",
        "import datetime"
      ],
      "execution_count": 1,
      "outputs": []
    },
    {
      "cell_type": "code",
      "metadata": {
        "id": "8F7ShoG0dRGl"
      },
      "source": [
        "import tensorflow as tf\n",
        "from tensorflow.keras import datasets, layers, models"
      ],
      "execution_count": 2,
      "outputs": []
    },
    {
      "cell_type": "markdown",
      "metadata": {
        "id": "kVQMYsNg6IDQ"
      },
      "source": [
        "# cryptography"
      ]
    },
    {
      "cell_type": "code",
      "metadata": {
        "id": "5o_6LZ4R6JWv",
        "outputId": "f382e15f-acdf-45c9-9c23-e9a700183588",
        "colab": {
          "base_uri": "https://localhost:8080/"
        }
      },
      "source": [
        "def CaesarCipher_characterset():\n",
        "\treturn 'ABCDEFGHIJKLMNOPQRSTUVWXYZ'\n",
        "def CaesarCipher_get_dict():\n",
        "\tx=CaesarCipher_characterset()\n",
        "\ty=range(len(x))\n",
        "\treturn dict(zip(x,y)),dict(zip(y,x))\n",
        "\n",
        "def CaesarCipher_encryption(plaintext,key):\n",
        "\tC2I,I2C=CaesarCipher_get_dict()\n",
        "\t#INPUTS\n",
        "\tplaintext=plaintext.upper()\n",
        "\tkey=int(key)\n",
        "\t#CEASAR CIPHER\n",
        "\tciphertext=[]\n",
        "\tfor word in plaintext.split(' '):\n",
        "\t\tciphertext.append(''.join([I2C[(C2I[i]+key)%26] for i in word]))\n",
        "\tciphertext=' '.join(ciphertext)\n",
        "\t#OUTPUTS\n",
        "\t#print('\\n\\n\\t\\tPlaintext:  ',plaintext)\n",
        "\t#print('\\n\\n\\t\\tCiphertext: ',ciphertext)\n",
        "\treturn ciphertext\n",
        "\n",
        "def CaesarCipher_decryption(ciphertext,key):\n",
        "\tC2I,I2C=CaesarCipher_get_dict()\n",
        "\t#INPUTS\n",
        "\tciphertext=ciphertext.upper()\n",
        "\tkey=int(key)\n",
        "\t#CEASAR CIPHER\n",
        "\tplaintext=[]\n",
        "\tfor word in ciphertext.split(' '):\n",
        "\t\tplaintext.append(''.join([I2C[(C2I[i]-key)%26] for i in word]))\n",
        "\tplaintext=' '.join(plaintext)\n",
        "\t#OUTPUTS\n",
        "\t#print('\\n\\n\\t\\tCiphertext: ',ciphertext)\n",
        "\t#print('\\n\\n\\t\\tPlaintext:  ',plaintext)\n",
        "\treturn plaintext\n",
        "\n",
        "def ROT13(plaintext):\n",
        "\tC2I,I2C=CaesarCipher_get_dict()\n",
        "\t#INPUTS\n",
        "\tplaintext=plaintext.upper()\n",
        "\tkey=13\n",
        "\t#CEASAR CIPHER\n",
        "\tciphertext=[]\n",
        "\tfor word in plaintext.split(' '):\n",
        "\t\tciphertext.append(''.join([I2C[(C2I[i]+key)%26] for i in word]))\n",
        "\tciphertext=' '.join(ciphertext)\n",
        "\t#OUTPUTS\n",
        "\t#print('\\n\\n\\t\\tPlaintext:  ',plaintext)\n",
        "\t#print('\\n\\n\\t\\tCiphertext: ',ciphertext)\n",
        "\treturn ciphertext\n",
        "\n",
        "def SimpleSubstitutionCipher_get_dict(keyword):\n",
        "\tx=CaesarCipher_characterset()\n",
        "\ty=''\n",
        "\tfor i in keyword:\n",
        "\t\tif i not in y:\n",
        "\t\t\ty+=i\n",
        "\tfor i in x:\n",
        "\t\tif i not in y:\n",
        "\t\t\ty+=i\n",
        "\treturn dict(zip(x,y)),dict(zip(y,x))\t\n",
        "\t\n",
        "def SimpleSubstitutionCipher_encryption(plaintext,keyword):\n",
        "\tplaintext=plaintext.upper()\n",
        "\tkeyword=keyword.upper()\t\n",
        "\tDict_Encrypt,_= SimpleSubstitutionCipher_get_dict(keyword)\n",
        "\tciphertext=''\n",
        "\tfor i in plaintext:\n",
        "\t\tif i == ' ':\n",
        "\t\t\tciphertext+=' '\n",
        "\t\telse:\n",
        "\t\t\tciphertext+=Dict_Encrypt[i]\n",
        "\treturn ciphertext\n",
        "\n",
        "def SimpleSubstitutionCipher_decryption(ciphertext,keyword):\n",
        "\tkeyword=keyword.upper()\t\n",
        "\t_,Dict_Decrypt= SimpleSubstitutionCipher_get_dict(keyword)\n",
        "\tplaintext=''\n",
        "\tfor i in ciphertext:\n",
        "\t\tif i == ' ':\n",
        "\t\t\tplaintext+=' '\n",
        "\t\telse:\n",
        "\t\t\tplaintext+=Dict_Decrypt[i]\n",
        "\treturn plaintext\n",
        "\n",
        "if __name__==\"__main__\":\n",
        "\tkey=25\n",
        "\tprint(CaesarCipher_decryption(CaesarCipher_encryption(\"Christeen T Jose\",key),key))\n",
        "\tprint(ROT13(ROT13(\"Christeen T Jose\")))\n",
        "\tprint(SimpleSubstitutionCipher_decryption(SimpleSubstitutionCipher_encryption(\"flee at once we are discovered\",\"zebras\"),\"zebras\"))"
      ],
      "execution_count": 3,
      "outputs": [
        {
          "output_type": "stream",
          "text": [
            "CHRISTEEN T JOSE\n",
            "CHRISTEEN T JOSE\n",
            "FLEE AT ONCE WE ARE DISCOVERED\n"
          ],
          "name": "stdout"
        }
      ]
    },
    {
      "cell_type": "markdown",
      "metadata": {
        "id": "ifoj9Ni9bqCh"
      },
      "source": [
        "# Load Saved Model"
      ]
    },
    {
      "cell_type": "code",
      "metadata": {
        "id": "uhMfJzEvcBgo"
      },
      "source": [
        "Name='Model 3.1 - SS 13 - 2020-10-03 16:15:34.173018.h5'"
      ],
      "execution_count": null,
      "outputs": []
    },
    {
      "cell_type": "markdown",
      "metadata": {
        "id": "woYkuv_ccejW"
      },
      "source": [
        "Note: First Build the model"
      ]
    },
    {
      "cell_type": "code",
      "metadata": {
        "id": "qwroxLpIbvcv"
      },
      "source": [
        "Location='/content/drive/My Drive/AI Breaks Cryptography/Models/'\n",
        "model_SS.load_weights(Location+Name)"
      ],
      "execution_count": null,
      "outputs": []
    },
    {
      "cell_type": "markdown",
      "metadata": {
        "id": "XDqOC1YPsPc9"
      },
      "source": [
        "# Caesar Cipher"
      ]
    },
    {
      "cell_type": "markdown",
      "metadata": {
        "id": "PLWXppeBGqn3"
      },
      "source": [
        "## Known-Plaintext Attack"
      ]
    },
    {
      "cell_type": "markdown",
      "metadata": {
        "id": "VkVz4O0XHchW"
      },
      "source": [
        "### Fixed Key"
      ]
    },
    {
      "cell_type": "code",
      "metadata": {
        "id": "8j_Of2MB3IUI"
      },
      "source": [
        "KEY=23"
      ],
      "execution_count": null,
      "outputs": []
    },
    {
      "cell_type": "markdown",
      "metadata": {
        "id": "2qbHOIYVIcVQ"
      },
      "source": [
        "### Password Size"
      ]
    },
    {
      "cell_type": "code",
      "metadata": {
        "id": "d1LM9ErHIll9"
      },
      "source": [
        "PASSWORD_SIZE=8"
      ],
      "execution_count": null,
      "outputs": []
    },
    {
      "cell_type": "markdown",
      "metadata": {
        "id": "XbtxwBwQIhGJ"
      },
      "source": [
        "### Dataset Size"
      ]
    },
    {
      "cell_type": "code",
      "metadata": {
        "id": "QJUlD688IvUD"
      },
      "source": [
        "DATASET_SIZE=50"
      ],
      "execution_count": null,
      "outputs": []
    },
    {
      "cell_type": "markdown",
      "metadata": {
        "id": "Fvwi7iKxHydK"
      },
      "source": [
        "### Generation of Dataset"
      ]
    },
    {
      "cell_type": "code",
      "metadata": {
        "id": "IgoZawwY1KwZ",
        "outputId": "7ced4a53-13ce-48eb-d203-f71bd4ecce21",
        "colab": {
          "base_uri": "https://localhost:8080/",
          "height": 35
        }
      },
      "source": [
        "CHOICES=CaesarCipher_characterset()\n",
        "CHOICES"
      ],
      "execution_count": null,
      "outputs": [
        {
          "output_type": "execute_result",
          "data": {
            "application/vnd.google.colaboratory.intrinsic+json": {
              "type": "string"
            },
            "text/plain": [
              "'ABCDEFGHIJKLMNOPQRSTUVWXYZ'"
            ]
          },
          "metadata": {
            "tags": []
          },
          "execution_count": 7
        }
      ]
    },
    {
      "cell_type": "code",
      "metadata": {
        "id": "-PSNMcgN2R7p",
        "outputId": "f65430a8-bb3b-4063-9880-b90c3d873f07",
        "colab": {
          "base_uri": "https://localhost:8080/",
          "height": 70
        }
      },
      "source": [
        "x=[]\n",
        "y=[]\n",
        "for i in range(DATASET_SIZE):\n",
        "  temp=''\n",
        "  for j in range(PASSWORD_SIZE):\n",
        "    temp+=random.choice(CHOICES)\n",
        "  x.append(temp)\n",
        "  y.append(CaesarCipher_encryption(temp,KEY))\n",
        "print(x)\n",
        "print(y)"
      ],
      "execution_count": null,
      "outputs": [
        {
          "output_type": "stream",
          "text": [
            "['BUEXRYKR', 'BRPBGHIQ', 'QRBZJJHK', 'BMBJPOYV', 'WEOCDQWP', 'BMTDGQUZ', 'FHZGPFJX', 'GLINQEDO', 'LNKXSRYA', 'EWMUSNCP', 'YLGRVFFL', 'MNPIDNRM', 'BEUVZYQH', 'ADDEOZIO', 'JQBEEFSS', 'YXIERKGB', 'WWBPKOWV', 'YVPFKWXM', 'DEGYMSLK', 'QQOESIOE', 'GNPTQOGP', 'JNYQSBLI', 'JTRRTTDO', 'RZXGUSZG', 'QLOMBVRZ', 'WLFRCGCN', 'NCDUZOPQ', 'WPQSIPTZ', 'ZYMNNNWR', 'JORCSGMV', 'BNNIANTG', 'MADJWWCI', 'LUAMWYVI', 'GRLSGXJG', 'GPFZNBYB', 'UTRKFBOW', 'RXZZYWUY', 'XSZDRPEU', 'IBKDONRS', 'ADEZPDUP', 'FMZAXLJR', 'FGQMVLPD', 'YZOHOWJD', 'JQQDPHVT', 'EFIVKZBN', 'PCNKNJFS', 'AZEKJUSC', 'SZIYPEFD', 'GFNIEXIQ', 'ZCDJRIBT']\n",
            "['YRBUOVHO', 'YOMYDEFN', 'NOYWGGEH', 'YJYGMLVS', 'TBLZANTM', 'YJQADNRW', 'CEWDMCGU', 'DIFKNBAL', 'IKHUPOVX', 'BTJRPKZM', 'VIDOSCCI', 'JKMFAKOJ', 'YBRSWVNE', 'XAABLWFL', 'GNYBBCPP', 'VUFBOHDY', 'TTYMHLTS', 'VSMCHTUJ', 'ABDVJPIH', 'NNLBPFLB', 'DKMQNLDM', 'GKVNPYIF', 'GQOOQQAL', 'OWUDRPWD', 'NILJYSOW', 'TICOZDZK', 'KZARWLMN', 'TMNPFMQW', 'WVJKKKTO', 'GLOZPDJS', 'YKKFXKQD', 'JXAGTTZF', 'IRXJTVSF', 'DOIPDUGD', 'DMCWKYVY', 'RQOHCYLT', 'OUWWVTRV', 'UPWAOMBR', 'FYHALKOP', 'XABWMARM', 'CJWXUIGO', 'CDNJSIMA', 'VWLELTGA', 'GNNAMESQ', 'BCFSHWYK', 'MZKHKGCP', 'XWBHGRPZ', 'PWFVMBCA', 'DCKFBUFN', 'WZAGOFYQ']\n"
          ],
          "name": "stdout"
        }
      ]
    },
    {
      "cell_type": "code",
      "metadata": {
        "id": "pDhXFJcUKEmj",
        "outputId": "cd3b118b-b897-4037-89c8-5854bd8bf149",
        "colab": {
          "base_uri": "https://localhost:8080/",
          "height": 491
        }
      },
      "source": [
        "Data=pd.DataFrame({'Plaintext':x,'Ciphertext':y})\n",
        "Data.head(15)"
      ],
      "execution_count": null,
      "outputs": [
        {
          "output_type": "execute_result",
          "data": {
            "text/html": [
              "<div>\n",
              "<style scoped>\n",
              "    .dataframe tbody tr th:only-of-type {\n",
              "        vertical-align: middle;\n",
              "    }\n",
              "\n",
              "    .dataframe tbody tr th {\n",
              "        vertical-align: top;\n",
              "    }\n",
              "\n",
              "    .dataframe thead th {\n",
              "        text-align: right;\n",
              "    }\n",
              "</style>\n",
              "<table border=\"1\" class=\"dataframe\">\n",
              "  <thead>\n",
              "    <tr style=\"text-align: right;\">\n",
              "      <th></th>\n",
              "      <th>Plaintext</th>\n",
              "      <th>Ciphertext</th>\n",
              "    </tr>\n",
              "  </thead>\n",
              "  <tbody>\n",
              "    <tr>\n",
              "      <th>0</th>\n",
              "      <td>BUEXRYKR</td>\n",
              "      <td>YRBUOVHO</td>\n",
              "    </tr>\n",
              "    <tr>\n",
              "      <th>1</th>\n",
              "      <td>BRPBGHIQ</td>\n",
              "      <td>YOMYDEFN</td>\n",
              "    </tr>\n",
              "    <tr>\n",
              "      <th>2</th>\n",
              "      <td>QRBZJJHK</td>\n",
              "      <td>NOYWGGEH</td>\n",
              "    </tr>\n",
              "    <tr>\n",
              "      <th>3</th>\n",
              "      <td>BMBJPOYV</td>\n",
              "      <td>YJYGMLVS</td>\n",
              "    </tr>\n",
              "    <tr>\n",
              "      <th>4</th>\n",
              "      <td>WEOCDQWP</td>\n",
              "      <td>TBLZANTM</td>\n",
              "    </tr>\n",
              "    <tr>\n",
              "      <th>5</th>\n",
              "      <td>BMTDGQUZ</td>\n",
              "      <td>YJQADNRW</td>\n",
              "    </tr>\n",
              "    <tr>\n",
              "      <th>6</th>\n",
              "      <td>FHZGPFJX</td>\n",
              "      <td>CEWDMCGU</td>\n",
              "    </tr>\n",
              "    <tr>\n",
              "      <th>7</th>\n",
              "      <td>GLINQEDO</td>\n",
              "      <td>DIFKNBAL</td>\n",
              "    </tr>\n",
              "    <tr>\n",
              "      <th>8</th>\n",
              "      <td>LNKXSRYA</td>\n",
              "      <td>IKHUPOVX</td>\n",
              "    </tr>\n",
              "    <tr>\n",
              "      <th>9</th>\n",
              "      <td>EWMUSNCP</td>\n",
              "      <td>BTJRPKZM</td>\n",
              "    </tr>\n",
              "    <tr>\n",
              "      <th>10</th>\n",
              "      <td>YLGRVFFL</td>\n",
              "      <td>VIDOSCCI</td>\n",
              "    </tr>\n",
              "    <tr>\n",
              "      <th>11</th>\n",
              "      <td>MNPIDNRM</td>\n",
              "      <td>JKMFAKOJ</td>\n",
              "    </tr>\n",
              "    <tr>\n",
              "      <th>12</th>\n",
              "      <td>BEUVZYQH</td>\n",
              "      <td>YBRSWVNE</td>\n",
              "    </tr>\n",
              "    <tr>\n",
              "      <th>13</th>\n",
              "      <td>ADDEOZIO</td>\n",
              "      <td>XAABLWFL</td>\n",
              "    </tr>\n",
              "    <tr>\n",
              "      <th>14</th>\n",
              "      <td>JQBEEFSS</td>\n",
              "      <td>GNYBBCPP</td>\n",
              "    </tr>\n",
              "  </tbody>\n",
              "</table>\n",
              "</div>"
            ],
            "text/plain": [
              "   Plaintext Ciphertext\n",
              "0   BUEXRYKR   YRBUOVHO\n",
              "1   BRPBGHIQ   YOMYDEFN\n",
              "2   QRBZJJHK   NOYWGGEH\n",
              "3   BMBJPOYV   YJYGMLVS\n",
              "4   WEOCDQWP   TBLZANTM\n",
              "5   BMTDGQUZ   YJQADNRW\n",
              "6   FHZGPFJX   CEWDMCGU\n",
              "7   GLINQEDO   DIFKNBAL\n",
              "8   LNKXSRYA   IKHUPOVX\n",
              "9   EWMUSNCP   BTJRPKZM\n",
              "10  YLGRVFFL   VIDOSCCI\n",
              "11  MNPIDNRM   JKMFAKOJ\n",
              "12  BEUVZYQH   YBRSWVNE\n",
              "13  ADDEOZIO   XAABLWFL\n",
              "14  JQBEEFSS   GNYBBCPP"
            ]
          },
          "metadata": {
            "tags": []
          },
          "execution_count": 9
        }
      ]
    },
    {
      "cell_type": "markdown",
      "metadata": {
        "id": "Sb1rx_sNW2_Y"
      },
      "source": [
        "### Since Caesar Cipher is a Stream Cipher"
      ]
    },
    {
      "cell_type": "code",
      "metadata": {
        "id": "qvQRLZhmXkhR",
        "outputId": "f41d3aa9-c8fd-4640-bec8-9f8b8e45caf3",
        "colab": {
          "base_uri": "https://localhost:8080/",
          "height": 491
        }
      },
      "source": [
        "plaintext=[]\n",
        "ciphertext=[]\n",
        "for password in x:\n",
        "  for character in password:\n",
        "    plaintext.append(character)\n",
        "for Encrypted_password in y:\n",
        "  for character in Encrypted_password:\n",
        "    ciphertext.append(character)\n",
        "Data=pd.DataFrame({'Plaintext':plaintext,'Ciphertext':ciphertext})\n",
        "Data.head(15)"
      ],
      "execution_count": null,
      "outputs": [
        {
          "output_type": "execute_result",
          "data": {
            "text/html": [
              "<div>\n",
              "<style scoped>\n",
              "    .dataframe tbody tr th:only-of-type {\n",
              "        vertical-align: middle;\n",
              "    }\n",
              "\n",
              "    .dataframe tbody tr th {\n",
              "        vertical-align: top;\n",
              "    }\n",
              "\n",
              "    .dataframe thead th {\n",
              "        text-align: right;\n",
              "    }\n",
              "</style>\n",
              "<table border=\"1\" class=\"dataframe\">\n",
              "  <thead>\n",
              "    <tr style=\"text-align: right;\">\n",
              "      <th></th>\n",
              "      <th>Plaintext</th>\n",
              "      <th>Ciphertext</th>\n",
              "    </tr>\n",
              "  </thead>\n",
              "  <tbody>\n",
              "    <tr>\n",
              "      <th>0</th>\n",
              "      <td>B</td>\n",
              "      <td>Y</td>\n",
              "    </tr>\n",
              "    <tr>\n",
              "      <th>1</th>\n",
              "      <td>U</td>\n",
              "      <td>R</td>\n",
              "    </tr>\n",
              "    <tr>\n",
              "      <th>2</th>\n",
              "      <td>E</td>\n",
              "      <td>B</td>\n",
              "    </tr>\n",
              "    <tr>\n",
              "      <th>3</th>\n",
              "      <td>X</td>\n",
              "      <td>U</td>\n",
              "    </tr>\n",
              "    <tr>\n",
              "      <th>4</th>\n",
              "      <td>R</td>\n",
              "      <td>O</td>\n",
              "    </tr>\n",
              "    <tr>\n",
              "      <th>5</th>\n",
              "      <td>Y</td>\n",
              "      <td>V</td>\n",
              "    </tr>\n",
              "    <tr>\n",
              "      <th>6</th>\n",
              "      <td>K</td>\n",
              "      <td>H</td>\n",
              "    </tr>\n",
              "    <tr>\n",
              "      <th>7</th>\n",
              "      <td>R</td>\n",
              "      <td>O</td>\n",
              "    </tr>\n",
              "    <tr>\n",
              "      <th>8</th>\n",
              "      <td>B</td>\n",
              "      <td>Y</td>\n",
              "    </tr>\n",
              "    <tr>\n",
              "      <th>9</th>\n",
              "      <td>R</td>\n",
              "      <td>O</td>\n",
              "    </tr>\n",
              "    <tr>\n",
              "      <th>10</th>\n",
              "      <td>P</td>\n",
              "      <td>M</td>\n",
              "    </tr>\n",
              "    <tr>\n",
              "      <th>11</th>\n",
              "      <td>B</td>\n",
              "      <td>Y</td>\n",
              "    </tr>\n",
              "    <tr>\n",
              "      <th>12</th>\n",
              "      <td>G</td>\n",
              "      <td>D</td>\n",
              "    </tr>\n",
              "    <tr>\n",
              "      <th>13</th>\n",
              "      <td>H</td>\n",
              "      <td>E</td>\n",
              "    </tr>\n",
              "    <tr>\n",
              "      <th>14</th>\n",
              "      <td>I</td>\n",
              "      <td>F</td>\n",
              "    </tr>\n",
              "  </tbody>\n",
              "</table>\n",
              "</div>"
            ],
            "text/plain": [
              "   Plaintext Ciphertext\n",
              "0          B          Y\n",
              "1          U          R\n",
              "2          E          B\n",
              "3          X          U\n",
              "4          R          O\n",
              "5          Y          V\n",
              "6          K          H\n",
              "7          R          O\n",
              "8          B          Y\n",
              "9          R          O\n",
              "10         P          M\n",
              "11         B          Y\n",
              "12         G          D\n",
              "13         H          E\n",
              "14         I          F"
            ]
          },
          "metadata": {
            "tags": []
          },
          "execution_count": 10
        }
      ]
    },
    {
      "cell_type": "markdown",
      "metadata": {
        "id": "DKD7h79lpNlO"
      },
      "source": [
        "## Data Preprocessing"
      ]
    },
    {
      "cell_type": "markdown",
      "metadata": {
        "id": "hBChraNfYir_"
      },
      "source": [
        "### Encoding"
      ]
    },
    {
      "cell_type": "code",
      "metadata": {
        "id": "ctfHA7lYYslx",
        "outputId": "f874d326-43ef-4e0e-aa36-33950de8617c",
        "colab": {
          "base_uri": "https://localhost:8080/",
          "height": 252
        }
      },
      "source": [
        "plaintext=LabelEncoder().fit_transform(plaintext).reshape(-1, 1)\n",
        "ciphertext=LabelEncoder().fit_transform(ciphertext).reshape(-1, 1)\n",
        "X=OneHotEncoder().fit_transform(plaintext).toarray()\n",
        "Y=OneHotEncoder().fit_transform(ciphertext).toarray()\n",
        "print(X)\n",
        "print(Y)"
      ],
      "execution_count": null,
      "outputs": [
        {
          "output_type": "stream",
          "text": [
            "[[0. 1. 0. ... 0. 0. 0.]\n",
            " [0. 0. 0. ... 0. 0. 0.]\n",
            " [0. 0. 0. ... 0. 0. 0.]\n",
            " ...\n",
            " [0. 0. 0. ... 0. 0. 0.]\n",
            " [0. 1. 0. ... 0. 0. 0.]\n",
            " [0. 0. 0. ... 0. 0. 0.]]\n",
            "[[0. 0. 0. ... 0. 1. 0.]\n",
            " [0. 0. 0. ... 0. 0. 0.]\n",
            " [0. 1. 0. ... 0. 0. 0.]\n",
            " ...\n",
            " [0. 0. 0. ... 0. 0. 0.]\n",
            " [0. 0. 0. ... 0. 1. 0.]\n",
            " [0. 0. 0. ... 0. 0. 0.]]\n"
          ],
          "name": "stdout"
        }
      ]
    },
    {
      "cell_type": "markdown",
      "metadata": {
        "id": "bpsAtE50ceYp"
      },
      "source": [
        "### Splitting the Dataset - Decryption"
      ]
    },
    {
      "cell_type": "code",
      "metadata": {
        "id": "i2QCsVWocdM2",
        "outputId": "ca94da2b-eea7-4e65-b630-05e35dd25d92",
        "colab": {
          "base_uri": "https://localhost:8080/",
          "height": 34
        }
      },
      "source": [
        "from sklearn.model_selection import train_test_split\n",
        "X_train,X_test,Y_train,Y_test=train_test_split(Y,X,test_size=0.2,random_state=0)\n",
        "print(X_train.shape)"
      ],
      "execution_count": null,
      "outputs": [
        {
          "output_type": "stream",
          "text": [
            "(320, 26)\n"
          ],
          "name": "stdout"
        }
      ]
    },
    {
      "cell_type": "markdown",
      "metadata": {
        "id": "LsTqMHKRf2dT"
      },
      "source": [
        "## Training the Shallow Neural Network"
      ]
    },
    {
      "cell_type": "code",
      "metadata": {
        "id": "BA70_1DOdGBp",
        "outputId": "ab05447c-47d5-4320-ee88-e3b1517c83f0",
        "colab": {
          "base_uri": "https://localhost:8080/",
          "height": 252
        }
      },
      "source": [
        "model_CC= models.Sequential()\n",
        "model_CC.add(layers.Dense(26, activation='relu',input_shape=(26,)))\n",
        "model_CC.add(layers.Dense(39, activation='relu'))\n",
        "model_CC.add(layers.Dense(26, activation='softmax'))\n",
        "model_CC.summary()"
      ],
      "execution_count": null,
      "outputs": [
        {
          "output_type": "stream",
          "text": [
            "Model: \"sequential\"\n",
            "_________________________________________________________________\n",
            "Layer (type)                 Output Shape              Param #   \n",
            "=================================================================\n",
            "dense (Dense)                (None, 26)                702       \n",
            "_________________________________________________________________\n",
            "dense_1 (Dense)              (None, 39)                1053      \n",
            "_________________________________________________________________\n",
            "dense_2 (Dense)              (None, 26)                1040      \n",
            "=================================================================\n",
            "Total params: 2,795\n",
            "Trainable params: 2,795\n",
            "Non-trainable params: 0\n",
            "_________________________________________________________________\n"
          ],
          "name": "stdout"
        }
      ]
    },
    {
      "cell_type": "code",
      "metadata": {
        "id": "ZdrUUqrCf86y"
      },
      "source": [
        "EarlyStopping=tf.keras.callbacks.EarlyStopping(monitor='val_loss', patience=10, verbose=1, mode='min',restore_best_weights=True)"
      ],
      "execution_count": null,
      "outputs": []
    },
    {
      "cell_type": "code",
      "metadata": {
        "id": "li8fxsnOeM8Q"
      },
      "source": [
        "model_CC.compile(loss='categorical_crossentropy',\n",
        "              optimizer=tf.keras.optimizers.RMSprop(learning_rate=0.0001, decay=1e-6),\n",
        "              metrics=['accuracy'])"
      ],
      "execution_count": null,
      "outputs": []
    },
    {
      "cell_type": "code",
      "metadata": {
        "id": "B-zGCRWvfnbP",
        "outputId": "9346c5fe-1959-4525-a0f5-6b5b1d8274c7",
        "colab": {
          "base_uri": "https://localhost:8080/",
          "height": 1000
        }
      },
      "source": [
        "model_CC.fit(x=X_train,y=Y_train,epochs=1000,batch_size=10,validation_split=0.1,callbacks=EarlyStopping)"
      ],
      "execution_count": null,
      "outputs": [
        {
          "output_type": "stream",
          "text": [
            "Epoch 1/1000\n",
            "29/29 [==============================] - 0s 8ms/step - loss: 3.2670 - accuracy: 0.0347 - val_loss: 3.2782 - val_accuracy: 0.0312\n",
            "Epoch 2/1000\n",
            "29/29 [==============================] - 0s 3ms/step - loss: 3.2575 - accuracy: 0.0417 - val_loss: 3.2697 - val_accuracy: 0.0312\n",
            "Epoch 3/1000\n",
            "29/29 [==============================] - 0s 3ms/step - loss: 3.2488 - accuracy: 0.0729 - val_loss: 3.2613 - val_accuracy: 0.0312\n",
            "Epoch 4/1000\n",
            "29/29 [==============================] - 0s 3ms/step - loss: 3.2402 - accuracy: 0.0729 - val_loss: 3.2527 - val_accuracy: 0.0312\n",
            "Epoch 5/1000\n",
            "29/29 [==============================] - 0s 3ms/step - loss: 3.2317 - accuracy: 0.0729 - val_loss: 3.2444 - val_accuracy: 0.0312\n",
            "Epoch 6/1000\n",
            "29/29 [==============================] - 0s 3ms/step - loss: 3.2230 - accuracy: 0.0729 - val_loss: 3.2358 - val_accuracy: 0.0312\n",
            "Epoch 7/1000\n",
            "29/29 [==============================] - 0s 3ms/step - loss: 3.2143 - accuracy: 0.0729 - val_loss: 3.2272 - val_accuracy: 0.0312\n",
            "Epoch 8/1000\n",
            "29/29 [==============================] - 0s 3ms/step - loss: 3.2058 - accuracy: 0.0868 - val_loss: 3.2191 - val_accuracy: 0.0625\n",
            "Epoch 9/1000\n",
            "29/29 [==============================] - 0s 3ms/step - loss: 3.1974 - accuracy: 0.0972 - val_loss: 3.2112 - val_accuracy: 0.0625\n",
            "Epoch 10/1000\n",
            "29/29 [==============================] - 0s 3ms/step - loss: 3.1894 - accuracy: 0.1215 - val_loss: 3.2035 - val_accuracy: 0.0938\n",
            "Epoch 11/1000\n",
            "29/29 [==============================] - 0s 3ms/step - loss: 3.1811 - accuracy: 0.1424 - val_loss: 3.1955 - val_accuracy: 0.0938\n",
            "Epoch 12/1000\n",
            "29/29 [==============================] - 0s 3ms/step - loss: 3.1726 - accuracy: 0.1528 - val_loss: 3.1872 - val_accuracy: 0.1250\n",
            "Epoch 13/1000\n",
            "29/29 [==============================] - 0s 3ms/step - loss: 3.1640 - accuracy: 0.2882 - val_loss: 3.1793 - val_accuracy: 0.2500\n",
            "Epoch 14/1000\n",
            "29/29 [==============================] - 0s 3ms/step - loss: 3.1553 - accuracy: 0.3194 - val_loss: 3.1711 - val_accuracy: 0.2812\n",
            "Epoch 15/1000\n",
            "29/29 [==============================] - 0s 3ms/step - loss: 3.1466 - accuracy: 0.3715 - val_loss: 3.1633 - val_accuracy: 0.3125\n",
            "Epoch 16/1000\n",
            "29/29 [==============================] - 0s 3ms/step - loss: 3.1378 - accuracy: 0.3889 - val_loss: 3.1551 - val_accuracy: 0.3125\n",
            "Epoch 17/1000\n",
            "29/29 [==============================] - 0s 3ms/step - loss: 3.1288 - accuracy: 0.3889 - val_loss: 3.1470 - val_accuracy: 0.3125\n",
            "Epoch 18/1000\n",
            "29/29 [==============================] - 0s 3ms/step - loss: 3.1198 - accuracy: 0.3889 - val_loss: 3.1386 - val_accuracy: 0.3125\n",
            "Epoch 19/1000\n",
            "29/29 [==============================] - 0s 3ms/step - loss: 3.1106 - accuracy: 0.3889 - val_loss: 3.1301 - val_accuracy: 0.3125\n",
            "Epoch 20/1000\n",
            "29/29 [==============================] - 0s 3ms/step - loss: 3.1012 - accuracy: 0.4062 - val_loss: 3.1216 - val_accuracy: 0.4062\n",
            "Epoch 21/1000\n",
            "29/29 [==============================] - 0s 3ms/step - loss: 3.0913 - accuracy: 0.4236 - val_loss: 3.1122 - val_accuracy: 0.4062\n",
            "Epoch 22/1000\n",
            "29/29 [==============================] - 0s 3ms/step - loss: 3.0812 - accuracy: 0.4236 - val_loss: 3.1032 - val_accuracy: 0.4062\n",
            "Epoch 23/1000\n",
            "29/29 [==============================] - 0s 3ms/step - loss: 3.0713 - accuracy: 0.4514 - val_loss: 3.0943 - val_accuracy: 0.5000\n",
            "Epoch 24/1000\n",
            "29/29 [==============================] - 0s 3ms/step - loss: 3.0611 - accuracy: 0.5035 - val_loss: 3.0846 - val_accuracy: 0.5938\n",
            "Epoch 25/1000\n",
            "29/29 [==============================] - 0s 3ms/step - loss: 3.0506 - accuracy: 0.5833 - val_loss: 3.0746 - val_accuracy: 0.6250\n",
            "Epoch 26/1000\n",
            "29/29 [==============================] - 0s 3ms/step - loss: 3.0399 - accuracy: 0.6250 - val_loss: 3.0647 - val_accuracy: 0.6250\n",
            "Epoch 27/1000\n",
            "29/29 [==============================] - 0s 3ms/step - loss: 3.0287 - accuracy: 0.6250 - val_loss: 3.0544 - val_accuracy: 0.6250\n",
            "Epoch 28/1000\n",
            "29/29 [==============================] - 0s 3ms/step - loss: 3.0172 - accuracy: 0.6389 - val_loss: 3.0440 - val_accuracy: 0.6562\n",
            "Epoch 29/1000\n",
            "29/29 [==============================] - 0s 3ms/step - loss: 3.0057 - accuracy: 0.6667 - val_loss: 3.0335 - val_accuracy: 0.6562\n",
            "Epoch 30/1000\n",
            "29/29 [==============================] - 0s 3ms/step - loss: 2.9940 - accuracy: 0.6667 - val_loss: 3.0222 - val_accuracy: 0.6562\n",
            "Epoch 31/1000\n",
            "29/29 [==============================] - 0s 3ms/step - loss: 2.9816 - accuracy: 0.6701 - val_loss: 3.0109 - val_accuracy: 0.6562\n",
            "Epoch 32/1000\n",
            "29/29 [==============================] - 0s 3ms/step - loss: 2.9692 - accuracy: 0.6875 - val_loss: 2.9997 - val_accuracy: 0.6875\n",
            "Epoch 33/1000\n",
            "29/29 [==============================] - 0s 3ms/step - loss: 2.9566 - accuracy: 0.7014 - val_loss: 2.9882 - val_accuracy: 0.6875\n",
            "Epoch 34/1000\n",
            "29/29 [==============================] - 0s 3ms/step - loss: 2.9434 - accuracy: 0.7014 - val_loss: 2.9755 - val_accuracy: 0.6875\n",
            "Epoch 35/1000\n",
            "29/29 [==============================] - 0s 3ms/step - loss: 2.9297 - accuracy: 0.6806 - val_loss: 2.9630 - val_accuracy: 0.5938\n",
            "Epoch 36/1000\n",
            "29/29 [==============================] - 0s 3ms/step - loss: 2.9159 - accuracy: 0.6667 - val_loss: 2.9503 - val_accuracy: 0.6562\n",
            "Epoch 37/1000\n",
            "29/29 [==============================] - 0s 3ms/step - loss: 2.9020 - accuracy: 0.7500 - val_loss: 2.9378 - val_accuracy: 0.7812\n",
            "Epoch 38/1000\n",
            "29/29 [==============================] - 0s 3ms/step - loss: 2.8879 - accuracy: 0.7569 - val_loss: 2.9246 - val_accuracy: 0.6875\n",
            "Epoch 39/1000\n",
            "29/29 [==============================] - 0s 3ms/step - loss: 2.8738 - accuracy: 0.7569 - val_loss: 2.9117 - val_accuracy: 0.6875\n",
            "Epoch 40/1000\n",
            "29/29 [==============================] - 0s 3ms/step - loss: 2.8590 - accuracy: 0.7396 - val_loss: 2.8980 - val_accuracy: 0.6875\n",
            "Epoch 41/1000\n",
            "29/29 [==============================] - 0s 3ms/step - loss: 2.8442 - accuracy: 0.7396 - val_loss: 2.8843 - val_accuracy: 0.6875\n",
            "Epoch 42/1000\n",
            "29/29 [==============================] - 0s 3ms/step - loss: 2.8292 - accuracy: 0.7396 - val_loss: 2.8702 - val_accuracy: 0.6875\n",
            "Epoch 43/1000\n",
            "29/29 [==============================] - 0s 3ms/step - loss: 2.8137 - accuracy: 0.7396 - val_loss: 2.8556 - val_accuracy: 0.6875\n",
            "Epoch 44/1000\n",
            "29/29 [==============================] - 0s 3ms/step - loss: 2.7979 - accuracy: 0.7396 - val_loss: 2.8413 - val_accuracy: 0.6875\n",
            "Epoch 45/1000\n",
            "29/29 [==============================] - 0s 3ms/step - loss: 2.7822 - accuracy: 0.7465 - val_loss: 2.8264 - val_accuracy: 0.6875\n",
            "Epoch 46/1000\n",
            "29/29 [==============================] - 0s 3ms/step - loss: 2.7659 - accuracy: 0.7396 - val_loss: 2.8112 - val_accuracy: 0.6875\n",
            "Epoch 47/1000\n",
            "29/29 [==============================] - 0s 3ms/step - loss: 2.7494 - accuracy: 0.7917 - val_loss: 2.7963 - val_accuracy: 0.8438\n",
            "Epoch 48/1000\n",
            "29/29 [==============================] - 0s 3ms/step - loss: 2.7327 - accuracy: 0.8507 - val_loss: 2.7806 - val_accuracy: 0.8438\n",
            "Epoch 49/1000\n",
            "29/29 [==============================] - 0s 3ms/step - loss: 2.7154 - accuracy: 0.8438 - val_loss: 2.7644 - val_accuracy: 0.8438\n",
            "Epoch 50/1000\n",
            "29/29 [==============================] - 0s 3ms/step - loss: 2.6976 - accuracy: 0.8646 - val_loss: 2.7479 - val_accuracy: 0.8438\n",
            "Epoch 51/1000\n",
            "29/29 [==============================] - 0s 3ms/step - loss: 2.6797 - accuracy: 0.8576 - val_loss: 2.7306 - val_accuracy: 0.8438\n",
            "Epoch 52/1000\n",
            "29/29 [==============================] - 0s 3ms/step - loss: 2.6615 - accuracy: 0.8681 - val_loss: 2.7137 - val_accuracy: 0.8438\n",
            "Epoch 53/1000\n",
            "29/29 [==============================] - 0s 3ms/step - loss: 2.6432 - accuracy: 0.8646 - val_loss: 2.6962 - val_accuracy: 0.8438\n",
            "Epoch 54/1000\n",
            "29/29 [==============================] - 0s 4ms/step - loss: 2.6245 - accuracy: 0.8646 - val_loss: 2.6789 - val_accuracy: 0.8438\n",
            "Epoch 55/1000\n",
            "29/29 [==============================] - 0s 3ms/step - loss: 2.6056 - accuracy: 0.8576 - val_loss: 2.6612 - val_accuracy: 0.8438\n",
            "Epoch 56/1000\n",
            "29/29 [==============================] - 0s 3ms/step - loss: 2.5867 - accuracy: 0.8576 - val_loss: 2.6437 - val_accuracy: 0.8438\n",
            "Epoch 57/1000\n",
            "29/29 [==============================] - 0s 3ms/step - loss: 2.5672 - accuracy: 0.8646 - val_loss: 2.6253 - val_accuracy: 0.8125\n",
            "Epoch 58/1000\n",
            "29/29 [==============================] - 0s 3ms/step - loss: 2.5478 - accuracy: 0.8611 - val_loss: 2.6072 - val_accuracy: 0.8438\n",
            "Epoch 59/1000\n",
            "29/29 [==============================] - 0s 3ms/step - loss: 2.5288 - accuracy: 0.8646 - val_loss: 2.5895 - val_accuracy: 0.8438\n",
            "Epoch 60/1000\n",
            "29/29 [==============================] - 0s 3ms/step - loss: 2.5095 - accuracy: 0.8924 - val_loss: 2.5714 - val_accuracy: 0.8438\n",
            "Epoch 61/1000\n",
            "29/29 [==============================] - 0s 3ms/step - loss: 2.4901 - accuracy: 0.8889 - val_loss: 2.5529 - val_accuracy: 0.8438\n",
            "Epoch 62/1000\n",
            "29/29 [==============================] - 0s 3ms/step - loss: 2.4701 - accuracy: 0.8750 - val_loss: 2.5344 - val_accuracy: 0.8438\n",
            "Epoch 63/1000\n",
            "29/29 [==============================] - 0s 3ms/step - loss: 2.4501 - accuracy: 0.8819 - val_loss: 2.5155 - val_accuracy: 0.8438\n",
            "Epoch 64/1000\n",
            "29/29 [==============================] - 0s 4ms/step - loss: 2.4301 - accuracy: 0.8889 - val_loss: 2.4965 - val_accuracy: 0.8438\n",
            "Epoch 65/1000\n",
            "29/29 [==============================] - 0s 3ms/step - loss: 2.4095 - accuracy: 0.8750 - val_loss: 2.4770 - val_accuracy: 0.8125\n",
            "Epoch 66/1000\n",
            "29/29 [==============================] - 0s 3ms/step - loss: 2.3889 - accuracy: 0.8750 - val_loss: 2.4573 - val_accuracy: 0.8438\n",
            "Epoch 67/1000\n",
            "29/29 [==============================] - 0s 3ms/step - loss: 2.3675 - accuracy: 0.8889 - val_loss: 2.4365 - val_accuracy: 0.8438\n",
            "Epoch 68/1000\n",
            "29/29 [==============================] - 0s 3ms/step - loss: 2.3457 - accuracy: 0.8819 - val_loss: 2.4160 - val_accuracy: 0.8438\n",
            "Epoch 69/1000\n",
            "29/29 [==============================] - 0s 3ms/step - loss: 2.3240 - accuracy: 0.8750 - val_loss: 2.3955 - val_accuracy: 0.8438\n",
            "Epoch 70/1000\n",
            "29/29 [==============================] - 0s 3ms/step - loss: 2.3021 - accuracy: 0.8819 - val_loss: 2.3745 - val_accuracy: 0.8438\n",
            "Epoch 71/1000\n",
            "29/29 [==============================] - 0s 3ms/step - loss: 2.2796 - accuracy: 0.8924 - val_loss: 2.3531 - val_accuracy: 0.8438\n",
            "Epoch 72/1000\n",
            "29/29 [==============================] - 0s 3ms/step - loss: 2.2569 - accuracy: 0.8924 - val_loss: 2.3319 - val_accuracy: 0.8438\n",
            "Epoch 73/1000\n",
            "29/29 [==============================] - 0s 3ms/step - loss: 2.2345 - accuracy: 0.8924 - val_loss: 2.3106 - val_accuracy: 0.8438\n",
            "Epoch 74/1000\n",
            "29/29 [==============================] - 0s 3ms/step - loss: 2.2119 - accuracy: 0.8924 - val_loss: 2.2890 - val_accuracy: 0.8438\n",
            "Epoch 75/1000\n",
            "29/29 [==============================] - 0s 4ms/step - loss: 2.1894 - accuracy: 0.8924 - val_loss: 2.2670 - val_accuracy: 0.8438\n",
            "Epoch 76/1000\n",
            "29/29 [==============================] - 0s 3ms/step - loss: 2.1661 - accuracy: 0.8924 - val_loss: 2.2446 - val_accuracy: 0.8438\n",
            "Epoch 77/1000\n",
            "29/29 [==============================] - 0s 3ms/step - loss: 2.1427 - accuracy: 0.8924 - val_loss: 2.2220 - val_accuracy: 0.8438\n",
            "Epoch 78/1000\n",
            "29/29 [==============================] - 0s 3ms/step - loss: 2.1191 - accuracy: 0.8924 - val_loss: 2.1989 - val_accuracy: 0.8438\n",
            "Epoch 79/1000\n",
            "29/29 [==============================] - 0s 3ms/step - loss: 2.0952 - accuracy: 0.8924 - val_loss: 2.1757 - val_accuracy: 0.8438\n",
            "Epoch 80/1000\n",
            "29/29 [==============================] - 0s 3ms/step - loss: 2.0717 - accuracy: 0.9167 - val_loss: 2.1535 - val_accuracy: 0.8438\n",
            "Epoch 81/1000\n",
            "29/29 [==============================] - 0s 3ms/step - loss: 2.0483 - accuracy: 0.9271 - val_loss: 2.1307 - val_accuracy: 0.8438\n",
            "Epoch 82/1000\n",
            "29/29 [==============================] - 0s 3ms/step - loss: 2.0246 - accuracy: 0.9306 - val_loss: 2.1083 - val_accuracy: 0.8438\n",
            "Epoch 83/1000\n",
            "29/29 [==============================] - 0s 3ms/step - loss: 2.0002 - accuracy: 0.9306 - val_loss: 2.0840 - val_accuracy: 0.8438\n",
            "Epoch 84/1000\n",
            "29/29 [==============================] - 0s 3ms/step - loss: 1.9758 - accuracy: 0.9236 - val_loss: 2.0610 - val_accuracy: 0.8438\n",
            "Epoch 85/1000\n",
            "29/29 [==============================] - 0s 4ms/step - loss: 1.9517 - accuracy: 0.9201 - val_loss: 2.0373 - val_accuracy: 0.8438\n",
            "Epoch 86/1000\n",
            "29/29 [==============================] - 0s 3ms/step - loss: 1.9275 - accuracy: 0.9306 - val_loss: 2.0145 - val_accuracy: 0.8438\n",
            "Epoch 87/1000\n",
            "29/29 [==============================] - 0s 3ms/step - loss: 1.9034 - accuracy: 0.9236 - val_loss: 1.9898 - val_accuracy: 0.8438\n",
            "Epoch 88/1000\n",
            "29/29 [==============================] - 0s 3ms/step - loss: 1.8792 - accuracy: 0.9201 - val_loss: 1.9664 - val_accuracy: 0.8438\n",
            "Epoch 89/1000\n",
            "29/29 [==============================] - 0s 3ms/step - loss: 1.8547 - accuracy: 0.9097 - val_loss: 1.9415 - val_accuracy: 0.8438\n",
            "Epoch 90/1000\n",
            "29/29 [==============================] - 0s 3ms/step - loss: 1.8304 - accuracy: 0.9271 - val_loss: 1.9184 - val_accuracy: 0.8438\n",
            "Epoch 91/1000\n",
            "29/29 [==============================] - 0s 3ms/step - loss: 1.8064 - accuracy: 0.9306 - val_loss: 1.8938 - val_accuracy: 0.8438\n",
            "Epoch 92/1000\n",
            "29/29 [==============================] - 0s 3ms/step - loss: 1.7818 - accuracy: 0.9236 - val_loss: 1.8700 - val_accuracy: 0.8438\n",
            "Epoch 93/1000\n",
            "29/29 [==============================] - 0s 3ms/step - loss: 1.7572 - accuracy: 0.9306 - val_loss: 1.8450 - val_accuracy: 0.8438\n",
            "Epoch 94/1000\n",
            "29/29 [==============================] - 0s 3ms/step - loss: 1.7322 - accuracy: 0.9306 - val_loss: 1.8201 - val_accuracy: 0.8438\n",
            "Epoch 95/1000\n",
            "29/29 [==============================] - 0s 3ms/step - loss: 1.7073 - accuracy: 0.9306 - val_loss: 1.7960 - val_accuracy: 0.8438\n",
            "Epoch 96/1000\n",
            "29/29 [==============================] - 0s 4ms/step - loss: 1.6827 - accuracy: 0.9306 - val_loss: 1.7718 - val_accuracy: 0.8438\n",
            "Epoch 97/1000\n",
            "29/29 [==============================] - 0s 3ms/step - loss: 1.6581 - accuracy: 0.9306 - val_loss: 1.7474 - val_accuracy: 0.8438\n",
            "Epoch 98/1000\n",
            "29/29 [==============================] - 0s 3ms/step - loss: 1.6333 - accuracy: 0.9306 - val_loss: 1.7217 - val_accuracy: 0.8438\n",
            "Epoch 99/1000\n",
            "29/29 [==============================] - 0s 3ms/step - loss: 1.6085 - accuracy: 0.9514 - val_loss: 1.6964 - val_accuracy: 0.9688\n",
            "Epoch 100/1000\n",
            "29/29 [==============================] - 0s 3ms/step - loss: 1.5836 - accuracy: 0.9583 - val_loss: 1.6717 - val_accuracy: 0.9688\n",
            "Epoch 101/1000\n",
            "29/29 [==============================] - 0s 3ms/step - loss: 1.5587 - accuracy: 0.9583 - val_loss: 1.6467 - val_accuracy: 0.9688\n",
            "Epoch 102/1000\n",
            "29/29 [==============================] - 0s 3ms/step - loss: 1.5342 - accuracy: 0.9583 - val_loss: 1.6211 - val_accuracy: 0.9688\n",
            "Epoch 103/1000\n",
            "29/29 [==============================] - 0s 3ms/step - loss: 1.5094 - accuracy: 0.9583 - val_loss: 1.5957 - val_accuracy: 0.9688\n",
            "Epoch 104/1000\n",
            "29/29 [==============================] - 0s 3ms/step - loss: 1.4848 - accuracy: 0.9583 - val_loss: 1.5718 - val_accuracy: 0.9688\n",
            "Epoch 105/1000\n",
            "29/29 [==============================] - 0s 3ms/step - loss: 1.4596 - accuracy: 0.9583 - val_loss: 1.5457 - val_accuracy: 0.9688\n",
            "Epoch 106/1000\n",
            "29/29 [==============================] - 0s 4ms/step - loss: 1.4344 - accuracy: 0.9583 - val_loss: 1.5193 - val_accuracy: 0.9688\n",
            "Epoch 107/1000\n",
            "29/29 [==============================] - 0s 3ms/step - loss: 1.4097 - accuracy: 0.9583 - val_loss: 1.4950 - val_accuracy: 0.9688\n",
            "Epoch 108/1000\n",
            "29/29 [==============================] - 0s 3ms/step - loss: 1.3852 - accuracy: 0.9583 - val_loss: 1.4692 - val_accuracy: 0.9688\n",
            "Epoch 109/1000\n",
            "29/29 [==============================] - 0s 3ms/step - loss: 1.3608 - accuracy: 0.9583 - val_loss: 1.4439 - val_accuracy: 0.9688\n",
            "Epoch 110/1000\n",
            "29/29 [==============================] - 0s 3ms/step - loss: 1.3362 - accuracy: 0.9583 - val_loss: 1.4180 - val_accuracy: 0.9688\n",
            "Epoch 111/1000\n",
            "29/29 [==============================] - 0s 3ms/step - loss: 1.3116 - accuracy: 0.9583 - val_loss: 1.3920 - val_accuracy: 0.9688\n",
            "Epoch 112/1000\n",
            "29/29 [==============================] - 0s 3ms/step - loss: 1.2869 - accuracy: 0.9583 - val_loss: 1.3664 - val_accuracy: 0.9688\n",
            "Epoch 113/1000\n",
            "29/29 [==============================] - 0s 3ms/step - loss: 1.2628 - accuracy: 0.9583 - val_loss: 1.3419 - val_accuracy: 0.9688\n",
            "Epoch 114/1000\n",
            "29/29 [==============================] - 0s 3ms/step - loss: 1.2387 - accuracy: 0.9583 - val_loss: 1.3169 - val_accuracy: 0.9688\n",
            "Epoch 115/1000\n",
            "29/29 [==============================] - 0s 3ms/step - loss: 1.2141 - accuracy: 0.9583 - val_loss: 1.2910 - val_accuracy: 0.9688\n",
            "Epoch 116/1000\n",
            "29/29 [==============================] - 0s 3ms/step - loss: 1.1900 - accuracy: 0.9583 - val_loss: 1.2660 - val_accuracy: 0.9688\n",
            "Epoch 117/1000\n",
            "29/29 [==============================] - 0s 3ms/step - loss: 1.1659 - accuracy: 0.9583 - val_loss: 1.2405 - val_accuracy: 0.9688\n",
            "Epoch 118/1000\n",
            "29/29 [==============================] - 0s 3ms/step - loss: 1.1427 - accuracy: 0.9583 - val_loss: 1.2166 - val_accuracy: 0.9688\n",
            "Epoch 119/1000\n",
            "29/29 [==============================] - 0s 3ms/step - loss: 1.1193 - accuracy: 0.9583 - val_loss: 1.1916 - val_accuracy: 0.9688\n",
            "Epoch 120/1000\n",
            "29/29 [==============================] - 0s 3ms/step - loss: 1.0956 - accuracy: 0.9583 - val_loss: 1.1666 - val_accuracy: 0.9688\n",
            "Epoch 121/1000\n",
            "29/29 [==============================] - 0s 3ms/step - loss: 1.0721 - accuracy: 0.9583 - val_loss: 1.1419 - val_accuracy: 0.9688\n",
            "Epoch 122/1000\n",
            "29/29 [==============================] - 0s 3ms/step - loss: 1.0488 - accuracy: 0.9583 - val_loss: 1.1171 - val_accuracy: 0.9688\n",
            "Epoch 123/1000\n",
            "29/29 [==============================] - 0s 3ms/step - loss: 1.0258 - accuracy: 0.9583 - val_loss: 1.0929 - val_accuracy: 0.9688\n",
            "Epoch 124/1000\n",
            "29/29 [==============================] - 0s 3ms/step - loss: 1.0030 - accuracy: 0.9583 - val_loss: 1.0684 - val_accuracy: 0.9688\n",
            "Epoch 125/1000\n",
            "29/29 [==============================] - 0s 3ms/step - loss: 0.9800 - accuracy: 0.9583 - val_loss: 1.0451 - val_accuracy: 0.9688\n",
            "Epoch 126/1000\n",
            "29/29 [==============================] - 0s 3ms/step - loss: 0.9577 - accuracy: 0.9583 - val_loss: 1.0209 - val_accuracy: 0.9688\n",
            "Epoch 127/1000\n",
            "29/29 [==============================] - 0s 4ms/step - loss: 0.9352 - accuracy: 0.9583 - val_loss: 0.9969 - val_accuracy: 0.9688\n",
            "Epoch 128/1000\n",
            "29/29 [==============================] - 0s 3ms/step - loss: 0.9133 - accuracy: 0.9583 - val_loss: 0.9734 - val_accuracy: 0.9688\n",
            "Epoch 129/1000\n",
            "29/29 [==============================] - 0s 3ms/step - loss: 0.8914 - accuracy: 0.9583 - val_loss: 0.9497 - val_accuracy: 0.9688\n",
            "Epoch 130/1000\n",
            "29/29 [==============================] - 0s 3ms/step - loss: 0.8699 - accuracy: 0.9583 - val_loss: 0.9265 - val_accuracy: 0.9688\n",
            "Epoch 131/1000\n",
            "29/29 [==============================] - 0s 3ms/step - loss: 0.8486 - accuracy: 0.9583 - val_loss: 0.9043 - val_accuracy: 0.9688\n",
            "Epoch 132/1000\n",
            "29/29 [==============================] - 0s 3ms/step - loss: 0.8276 - accuracy: 0.9583 - val_loss: 0.8820 - val_accuracy: 0.9688\n",
            "Epoch 133/1000\n",
            "29/29 [==============================] - 0s 3ms/step - loss: 0.8073 - accuracy: 0.9583 - val_loss: 0.8602 - val_accuracy: 0.9688\n",
            "Epoch 134/1000\n",
            "29/29 [==============================] - 0s 3ms/step - loss: 0.7871 - accuracy: 0.9583 - val_loss: 0.8387 - val_accuracy: 0.9688\n",
            "Epoch 135/1000\n",
            "29/29 [==============================] - 0s 3ms/step - loss: 0.7669 - accuracy: 0.9583 - val_loss: 0.8173 - val_accuracy: 0.9688\n",
            "Epoch 136/1000\n",
            "29/29 [==============================] - 0s 3ms/step - loss: 0.7471 - accuracy: 0.9583 - val_loss: 0.7960 - val_accuracy: 0.9688\n",
            "Epoch 137/1000\n",
            "29/29 [==============================] - 0s 3ms/step - loss: 0.7278 - accuracy: 0.9618 - val_loss: 0.7759 - val_accuracy: 0.9688\n",
            "Epoch 138/1000\n",
            "29/29 [==============================] - 0s 3ms/step - loss: 0.7084 - accuracy: 0.9722 - val_loss: 0.7549 - val_accuracy: 0.9688\n",
            "Epoch 139/1000\n",
            "29/29 [==============================] - 0s 3ms/step - loss: 0.6892 - accuracy: 0.9792 - val_loss: 0.7339 - val_accuracy: 0.9688\n",
            "Epoch 140/1000\n",
            "29/29 [==============================] - 0s 3ms/step - loss: 0.6706 - accuracy: 0.9792 - val_loss: 0.7138 - val_accuracy: 0.9688\n",
            "Epoch 141/1000\n",
            "29/29 [==============================] - 0s 3ms/step - loss: 0.6523 - accuracy: 0.9792 - val_loss: 0.6941 - val_accuracy: 0.9688\n",
            "Epoch 142/1000\n",
            "29/29 [==============================] - 0s 3ms/step - loss: 0.6341 - accuracy: 0.9792 - val_loss: 0.6744 - val_accuracy: 0.9688\n",
            "Epoch 143/1000\n",
            "29/29 [==============================] - 0s 3ms/step - loss: 0.6161 - accuracy: 0.9792 - val_loss: 0.6549 - val_accuracy: 0.9688\n",
            "Epoch 144/1000\n",
            "29/29 [==============================] - 0s 3ms/step - loss: 0.5987 - accuracy: 0.9792 - val_loss: 0.6357 - val_accuracy: 0.9688\n",
            "Epoch 145/1000\n",
            "29/29 [==============================] - 0s 3ms/step - loss: 0.5815 - accuracy: 0.9792 - val_loss: 0.6167 - val_accuracy: 0.9688\n",
            "Epoch 146/1000\n",
            "29/29 [==============================] - 0s 4ms/step - loss: 0.5645 - accuracy: 0.9792 - val_loss: 0.5987 - val_accuracy: 0.9688\n",
            "Epoch 147/1000\n",
            "29/29 [==============================] - 0s 3ms/step - loss: 0.5478 - accuracy: 0.9792 - val_loss: 0.5799 - val_accuracy: 0.9688\n",
            "Epoch 148/1000\n",
            "29/29 [==============================] - 0s 3ms/step - loss: 0.5310 - accuracy: 0.9792 - val_loss: 0.5612 - val_accuracy: 0.9688\n",
            "Epoch 149/1000\n",
            "29/29 [==============================] - 0s 3ms/step - loss: 0.5144 - accuracy: 0.9792 - val_loss: 0.5432 - val_accuracy: 0.9688\n",
            "Epoch 150/1000\n",
            "29/29 [==============================] - 0s 3ms/step - loss: 0.4982 - accuracy: 0.9792 - val_loss: 0.5251 - val_accuracy: 0.9688\n",
            "Epoch 151/1000\n",
            "29/29 [==============================] - 0s 3ms/step - loss: 0.4825 - accuracy: 0.9792 - val_loss: 0.5078 - val_accuracy: 0.9688\n",
            "Epoch 152/1000\n",
            "29/29 [==============================] - 0s 3ms/step - loss: 0.4674 - accuracy: 0.9792 - val_loss: 0.4916 - val_accuracy: 0.9688\n",
            "Epoch 153/1000\n",
            "29/29 [==============================] - 0s 4ms/step - loss: 0.4527 - accuracy: 0.9861 - val_loss: 0.4757 - val_accuracy: 1.0000\n",
            "Epoch 154/1000\n",
            "29/29 [==============================] - 0s 3ms/step - loss: 0.4383 - accuracy: 1.0000 - val_loss: 0.4597 - val_accuracy: 1.0000\n",
            "Epoch 155/1000\n",
            "29/29 [==============================] - 0s 3ms/step - loss: 0.4243 - accuracy: 1.0000 - val_loss: 0.4444 - val_accuracy: 1.0000\n",
            "Epoch 156/1000\n",
            "29/29 [==============================] - 0s 3ms/step - loss: 0.4107 - accuracy: 1.0000 - val_loss: 0.4291 - val_accuracy: 1.0000\n",
            "Epoch 157/1000\n",
            "29/29 [==============================] - 0s 3ms/step - loss: 0.3977 - accuracy: 1.0000 - val_loss: 0.4148 - val_accuracy: 1.0000\n",
            "Epoch 158/1000\n",
            "29/29 [==============================] - 0s 4ms/step - loss: 0.3845 - accuracy: 1.0000 - val_loss: 0.4004 - val_accuracy: 1.0000\n",
            "Epoch 159/1000\n",
            "29/29 [==============================] - 0s 3ms/step - loss: 0.3716 - accuracy: 1.0000 - val_loss: 0.3860 - val_accuracy: 1.0000\n",
            "Epoch 160/1000\n",
            "29/29 [==============================] - 0s 3ms/step - loss: 0.3592 - accuracy: 1.0000 - val_loss: 0.3723 - val_accuracy: 1.0000\n",
            "Epoch 161/1000\n",
            "29/29 [==============================] - 0s 3ms/step - loss: 0.3472 - accuracy: 1.0000 - val_loss: 0.3593 - val_accuracy: 1.0000\n",
            "Epoch 162/1000\n",
            "29/29 [==============================] - 0s 3ms/step - loss: 0.3354 - accuracy: 1.0000 - val_loss: 0.3459 - val_accuracy: 1.0000\n",
            "Epoch 163/1000\n",
            "29/29 [==============================] - 0s 3ms/step - loss: 0.3237 - accuracy: 1.0000 - val_loss: 0.3335 - val_accuracy: 1.0000\n",
            "Epoch 164/1000\n",
            "29/29 [==============================] - 0s 3ms/step - loss: 0.3123 - accuracy: 1.0000 - val_loss: 0.3210 - val_accuracy: 1.0000\n",
            "Epoch 165/1000\n",
            "29/29 [==============================] - 0s 3ms/step - loss: 0.3012 - accuracy: 1.0000 - val_loss: 0.3092 - val_accuracy: 1.0000\n",
            "Epoch 166/1000\n",
            "29/29 [==============================] - 0s 3ms/step - loss: 0.2904 - accuracy: 1.0000 - val_loss: 0.2974 - val_accuracy: 1.0000\n",
            "Epoch 167/1000\n",
            "29/29 [==============================] - 0s 3ms/step - loss: 0.2800 - accuracy: 1.0000 - val_loss: 0.2862 - val_accuracy: 1.0000\n",
            "Epoch 168/1000\n",
            "29/29 [==============================] - 0s 3ms/step - loss: 0.2701 - accuracy: 1.0000 - val_loss: 0.2751 - val_accuracy: 1.0000\n",
            "Epoch 169/1000\n",
            "29/29 [==============================] - 0s 3ms/step - loss: 0.2603 - accuracy: 1.0000 - val_loss: 0.2649 - val_accuracy: 1.0000\n",
            "Epoch 170/1000\n",
            "29/29 [==============================] - 0s 3ms/step - loss: 0.2510 - accuracy: 1.0000 - val_loss: 0.2544 - val_accuracy: 1.0000\n",
            "Epoch 171/1000\n",
            "29/29 [==============================] - 0s 3ms/step - loss: 0.2418 - accuracy: 1.0000 - val_loss: 0.2449 - val_accuracy: 1.0000\n",
            "Epoch 172/1000\n",
            "29/29 [==============================] - 0s 3ms/step - loss: 0.2330 - accuracy: 1.0000 - val_loss: 0.2351 - val_accuracy: 1.0000\n",
            "Epoch 173/1000\n",
            "29/29 [==============================] - 0s 3ms/step - loss: 0.2242 - accuracy: 1.0000 - val_loss: 0.2256 - val_accuracy: 1.0000\n",
            "Epoch 174/1000\n",
            "29/29 [==============================] - 0s 3ms/step - loss: 0.2159 - accuracy: 1.0000 - val_loss: 0.2168 - val_accuracy: 1.0000\n",
            "Epoch 175/1000\n",
            "29/29 [==============================] - 0s 3ms/step - loss: 0.2078 - accuracy: 1.0000 - val_loss: 0.2082 - val_accuracy: 1.0000\n",
            "Epoch 176/1000\n",
            "29/29 [==============================] - 0s 3ms/step - loss: 0.2001 - accuracy: 1.0000 - val_loss: 0.2001 - val_accuracy: 1.0000\n",
            "Epoch 177/1000\n",
            "29/29 [==============================] - 0s 3ms/step - loss: 0.1928 - accuracy: 1.0000 - val_loss: 0.1925 - val_accuracy: 1.0000\n",
            "Epoch 178/1000\n",
            "29/29 [==============================] - 0s 3ms/step - loss: 0.1855 - accuracy: 1.0000 - val_loss: 0.1849 - val_accuracy: 1.0000\n",
            "Epoch 179/1000\n",
            "29/29 [==============================] - 0s 3ms/step - loss: 0.1785 - accuracy: 1.0000 - val_loss: 0.1774 - val_accuracy: 1.0000\n",
            "Epoch 180/1000\n",
            "29/29 [==============================] - 0s 3ms/step - loss: 0.1717 - accuracy: 1.0000 - val_loss: 0.1706 - val_accuracy: 1.0000\n",
            "Epoch 181/1000\n",
            "29/29 [==============================] - 0s 3ms/step - loss: 0.1649 - accuracy: 1.0000 - val_loss: 0.1635 - val_accuracy: 1.0000\n",
            "Epoch 182/1000\n",
            "29/29 [==============================] - 0s 3ms/step - loss: 0.1583 - accuracy: 1.0000 - val_loss: 0.1565 - val_accuracy: 1.0000\n",
            "Epoch 183/1000\n",
            "29/29 [==============================] - 0s 3ms/step - loss: 0.1520 - accuracy: 1.0000 - val_loss: 0.1503 - val_accuracy: 1.0000\n",
            "Epoch 184/1000\n",
            "29/29 [==============================] - 0s 3ms/step - loss: 0.1460 - accuracy: 1.0000 - val_loss: 0.1441 - val_accuracy: 1.0000\n",
            "Epoch 185/1000\n",
            "29/29 [==============================] - 0s 3ms/step - loss: 0.1402 - accuracy: 1.0000 - val_loss: 0.1386 - val_accuracy: 1.0000\n",
            "Epoch 186/1000\n",
            "29/29 [==============================] - 0s 3ms/step - loss: 0.1347 - accuracy: 1.0000 - val_loss: 0.1326 - val_accuracy: 1.0000\n",
            "Epoch 187/1000\n",
            "29/29 [==============================] - 0s 3ms/step - loss: 0.1291 - accuracy: 1.0000 - val_loss: 0.1269 - val_accuracy: 1.0000\n",
            "Epoch 188/1000\n",
            "29/29 [==============================] - 0s 3ms/step - loss: 0.1237 - accuracy: 1.0000 - val_loss: 0.1217 - val_accuracy: 1.0000\n",
            "Epoch 189/1000\n",
            "29/29 [==============================] - 0s 4ms/step - loss: 0.1186 - accuracy: 1.0000 - val_loss: 0.1167 - val_accuracy: 1.0000\n",
            "Epoch 190/1000\n",
            "29/29 [==============================] - 0s 3ms/step - loss: 0.1136 - accuracy: 1.0000 - val_loss: 0.1117 - val_accuracy: 1.0000\n",
            "Epoch 191/1000\n",
            "29/29 [==============================] - 0s 3ms/step - loss: 0.1089 - accuracy: 1.0000 - val_loss: 0.1069 - val_accuracy: 1.0000\n",
            "Epoch 192/1000\n",
            "29/29 [==============================] - 0s 3ms/step - loss: 0.1042 - accuracy: 1.0000 - val_loss: 0.1022 - val_accuracy: 1.0000\n",
            "Epoch 193/1000\n",
            "29/29 [==============================] - 0s 3ms/step - loss: 0.0998 - accuracy: 1.0000 - val_loss: 0.0981 - val_accuracy: 1.0000\n",
            "Epoch 194/1000\n",
            "29/29 [==============================] - 0s 3ms/step - loss: 0.0957 - accuracy: 1.0000 - val_loss: 0.0939 - val_accuracy: 1.0000\n",
            "Epoch 195/1000\n",
            "29/29 [==============================] - 0s 3ms/step - loss: 0.0916 - accuracy: 1.0000 - val_loss: 0.0898 - val_accuracy: 1.0000\n",
            "Epoch 196/1000\n",
            "29/29 [==============================] - 0s 3ms/step - loss: 0.0877 - accuracy: 1.0000 - val_loss: 0.0859 - val_accuracy: 1.0000\n",
            "Epoch 197/1000\n",
            "29/29 [==============================] - 0s 3ms/step - loss: 0.0840 - accuracy: 1.0000 - val_loss: 0.0824 - val_accuracy: 1.0000\n",
            "Epoch 198/1000\n",
            "29/29 [==============================] - 0s 3ms/step - loss: 0.0803 - accuracy: 1.0000 - val_loss: 0.0787 - val_accuracy: 1.0000\n",
            "Epoch 199/1000\n",
            "29/29 [==============================] - 0s 3ms/step - loss: 0.0767 - accuracy: 1.0000 - val_loss: 0.0751 - val_accuracy: 1.0000\n",
            "Epoch 200/1000\n",
            "29/29 [==============================] - 0s 3ms/step - loss: 0.0733 - accuracy: 1.0000 - val_loss: 0.0719 - val_accuracy: 1.0000\n",
            "Epoch 201/1000\n",
            "29/29 [==============================] - 0s 3ms/step - loss: 0.0700 - accuracy: 1.0000 - val_loss: 0.0686 - val_accuracy: 1.0000\n",
            "Epoch 202/1000\n",
            "29/29 [==============================] - 0s 3ms/step - loss: 0.0668 - accuracy: 1.0000 - val_loss: 0.0655 - val_accuracy: 1.0000\n",
            "Epoch 203/1000\n",
            "29/29 [==============================] - 0s 3ms/step - loss: 0.0637 - accuracy: 1.0000 - val_loss: 0.0625 - val_accuracy: 1.0000\n",
            "Epoch 204/1000\n",
            "29/29 [==============================] - 0s 3ms/step - loss: 0.0608 - accuracy: 1.0000 - val_loss: 0.0596 - val_accuracy: 1.0000\n",
            "Epoch 205/1000\n",
            "29/29 [==============================] - 0s 3ms/step - loss: 0.0581 - accuracy: 1.0000 - val_loss: 0.0568 - val_accuracy: 1.0000\n",
            "Epoch 206/1000\n",
            "29/29 [==============================] - 0s 3ms/step - loss: 0.0554 - accuracy: 1.0000 - val_loss: 0.0543 - val_accuracy: 1.0000\n",
            "Epoch 207/1000\n",
            "29/29 [==============================] - 0s 3ms/step - loss: 0.0529 - accuracy: 1.0000 - val_loss: 0.0518 - val_accuracy: 1.0000\n",
            "Epoch 208/1000\n",
            "29/29 [==============================] - 0s 3ms/step - loss: 0.0505 - accuracy: 1.0000 - val_loss: 0.0494 - val_accuracy: 1.0000\n",
            "Epoch 209/1000\n",
            "29/29 [==============================] - 0s 3ms/step - loss: 0.0480 - accuracy: 1.0000 - val_loss: 0.0471 - val_accuracy: 1.0000\n",
            "Epoch 210/1000\n",
            "29/29 [==============================] - 0s 3ms/step - loss: 0.0458 - accuracy: 1.0000 - val_loss: 0.0449 - val_accuracy: 1.0000\n",
            "Epoch 211/1000\n",
            "29/29 [==============================] - 0s 3ms/step - loss: 0.0436 - accuracy: 1.0000 - val_loss: 0.0428 - val_accuracy: 1.0000\n",
            "Epoch 212/1000\n",
            "29/29 [==============================] - 0s 3ms/step - loss: 0.0415 - accuracy: 1.0000 - val_loss: 0.0408 - val_accuracy: 1.0000\n",
            "Epoch 213/1000\n",
            "29/29 [==============================] - 0s 3ms/step - loss: 0.0395 - accuracy: 1.0000 - val_loss: 0.0389 - val_accuracy: 1.0000\n",
            "Epoch 214/1000\n",
            "29/29 [==============================] - 0s 3ms/step - loss: 0.0376 - accuracy: 1.0000 - val_loss: 0.0371 - val_accuracy: 1.0000\n",
            "Epoch 215/1000\n",
            "29/29 [==============================] - 0s 3ms/step - loss: 0.0359 - accuracy: 1.0000 - val_loss: 0.0354 - val_accuracy: 1.0000\n",
            "Epoch 216/1000\n",
            "29/29 [==============================] - 0s 3ms/step - loss: 0.0341 - accuracy: 1.0000 - val_loss: 0.0337 - val_accuracy: 1.0000\n",
            "Epoch 217/1000\n",
            "29/29 [==============================] - 0s 3ms/step - loss: 0.0325 - accuracy: 1.0000 - val_loss: 0.0320 - val_accuracy: 1.0000\n",
            "Epoch 218/1000\n",
            "29/29 [==============================] - 0s 3ms/step - loss: 0.0309 - accuracy: 1.0000 - val_loss: 0.0305 - val_accuracy: 1.0000\n",
            "Epoch 219/1000\n",
            "29/29 [==============================] - 0s 3ms/step - loss: 0.0293 - accuracy: 1.0000 - val_loss: 0.0290 - val_accuracy: 1.0000\n",
            "Epoch 220/1000\n",
            "29/29 [==============================] - 0s 3ms/step - loss: 0.0278 - accuracy: 1.0000 - val_loss: 0.0277 - val_accuracy: 1.0000\n",
            "Epoch 221/1000\n",
            "29/29 [==============================] - 0s 3ms/step - loss: 0.0264 - accuracy: 1.0000 - val_loss: 0.0262 - val_accuracy: 1.0000\n",
            "Epoch 222/1000\n",
            "29/29 [==============================] - 0s 3ms/step - loss: 0.0250 - accuracy: 1.0000 - val_loss: 0.0249 - val_accuracy: 1.0000\n",
            "Epoch 223/1000\n",
            "29/29 [==============================] - 0s 3ms/step - loss: 0.0238 - accuracy: 1.0000 - val_loss: 0.0237 - val_accuracy: 1.0000\n",
            "Epoch 224/1000\n",
            "29/29 [==============================] - 0s 3ms/step - loss: 0.0227 - accuracy: 1.0000 - val_loss: 0.0225 - val_accuracy: 1.0000\n",
            "Epoch 225/1000\n",
            "29/29 [==============================] - 0s 3ms/step - loss: 0.0215 - accuracy: 1.0000 - val_loss: 0.0214 - val_accuracy: 1.0000\n",
            "Epoch 226/1000\n",
            "29/29 [==============================] - 0s 3ms/step - loss: 0.0204 - accuracy: 1.0000 - val_loss: 0.0204 - val_accuracy: 1.0000\n",
            "Epoch 227/1000\n",
            "29/29 [==============================] - 0s 3ms/step - loss: 0.0194 - accuracy: 1.0000 - val_loss: 0.0194 - val_accuracy: 1.0000\n",
            "Epoch 228/1000\n",
            "29/29 [==============================] - 0s 3ms/step - loss: 0.0184 - accuracy: 1.0000 - val_loss: 0.0184 - val_accuracy: 1.0000\n",
            "Epoch 229/1000\n",
            "29/29 [==============================] - 0s 3ms/step - loss: 0.0174 - accuracy: 1.0000 - val_loss: 0.0174 - val_accuracy: 1.0000\n",
            "Epoch 230/1000\n",
            "29/29 [==============================] - 0s 4ms/step - loss: 0.0165 - accuracy: 1.0000 - val_loss: 0.0166 - val_accuracy: 1.0000\n",
            "Epoch 231/1000\n",
            "29/29 [==============================] - 0s 3ms/step - loss: 0.0157 - accuracy: 1.0000 - val_loss: 0.0157 - val_accuracy: 1.0000\n",
            "Epoch 232/1000\n",
            "29/29 [==============================] - 0s 3ms/step - loss: 0.0148 - accuracy: 1.0000 - val_loss: 0.0148 - val_accuracy: 1.0000\n",
            "Epoch 233/1000\n",
            "29/29 [==============================] - 0s 3ms/step - loss: 0.0140 - accuracy: 1.0000 - val_loss: 0.0141 - val_accuracy: 1.0000\n",
            "Epoch 234/1000\n",
            "29/29 [==============================] - 0s 3ms/step - loss: 0.0133 - accuracy: 1.0000 - val_loss: 0.0133 - val_accuracy: 1.0000\n",
            "Epoch 235/1000\n",
            "29/29 [==============================] - 0s 3ms/step - loss: 0.0126 - accuracy: 1.0000 - val_loss: 0.0127 - val_accuracy: 1.0000\n",
            "Epoch 236/1000\n",
            "29/29 [==============================] - 0s 3ms/step - loss: 0.0120 - accuracy: 1.0000 - val_loss: 0.0120 - val_accuracy: 1.0000\n",
            "Epoch 237/1000\n",
            "29/29 [==============================] - 0s 3ms/step - loss: 0.0113 - accuracy: 1.0000 - val_loss: 0.0114 - val_accuracy: 1.0000\n",
            "Epoch 238/1000\n",
            "29/29 [==============================] - 0s 3ms/step - loss: 0.0107 - accuracy: 1.0000 - val_loss: 0.0108 - val_accuracy: 1.0000\n",
            "Epoch 239/1000\n",
            "29/29 [==============================] - 0s 3ms/step - loss: 0.0101 - accuracy: 1.0000 - val_loss: 0.0102 - val_accuracy: 1.0000\n",
            "Epoch 240/1000\n",
            "29/29 [==============================] - 0s 4ms/step - loss: 0.0096 - accuracy: 1.0000 - val_loss: 0.0096 - val_accuracy: 1.0000\n",
            "Epoch 241/1000\n",
            "29/29 [==============================] - 0s 3ms/step - loss: 0.0090 - accuracy: 1.0000 - val_loss: 0.0091 - val_accuracy: 1.0000\n",
            "Epoch 242/1000\n",
            "29/29 [==============================] - 0s 3ms/step - loss: 0.0085 - accuracy: 1.0000 - val_loss: 0.0086 - val_accuracy: 1.0000\n",
            "Epoch 243/1000\n",
            "29/29 [==============================] - 0s 3ms/step - loss: 0.0080 - accuracy: 1.0000 - val_loss: 0.0081 - val_accuracy: 1.0000\n",
            "Epoch 244/1000\n",
            "29/29 [==============================] - 0s 3ms/step - loss: 0.0076 - accuracy: 1.0000 - val_loss: 0.0076 - val_accuracy: 1.0000\n",
            "Epoch 245/1000\n",
            "29/29 [==============================] - 0s 3ms/step - loss: 0.0071 - accuracy: 1.0000 - val_loss: 0.0072 - val_accuracy: 1.0000\n",
            "Epoch 246/1000\n",
            "29/29 [==============================] - 0s 3ms/step - loss: 0.0067 - accuracy: 1.0000 - val_loss: 0.0068 - val_accuracy: 1.0000\n",
            "Epoch 247/1000\n",
            "29/29 [==============================] - 0s 3ms/step - loss: 0.0063 - accuracy: 1.0000 - val_loss: 0.0064 - val_accuracy: 1.0000\n",
            "Epoch 248/1000\n",
            "29/29 [==============================] - 0s 3ms/step - loss: 0.0060 - accuracy: 1.0000 - val_loss: 0.0060 - val_accuracy: 1.0000\n",
            "Epoch 249/1000\n",
            "29/29 [==============================] - 0s 3ms/step - loss: 0.0056 - accuracy: 1.0000 - val_loss: 0.0057 - val_accuracy: 1.0000\n",
            "Epoch 250/1000\n",
            "29/29 [==============================] - 0s 3ms/step - loss: 0.0053 - accuracy: 1.0000 - val_loss: 0.0053 - val_accuracy: 1.0000\n",
            "Epoch 251/1000\n",
            "29/29 [==============================] - 0s 3ms/step - loss: 0.0050 - accuracy: 1.0000 - val_loss: 0.0051 - val_accuracy: 1.0000\n",
            "Epoch 252/1000\n",
            "29/29 [==============================] - 0s 3ms/step - loss: 0.0047 - accuracy: 1.0000 - val_loss: 0.0047 - val_accuracy: 1.0000\n",
            "Epoch 253/1000\n",
            "29/29 [==============================] - 0s 3ms/step - loss: 0.0044 - accuracy: 1.0000 - val_loss: 0.0045 - val_accuracy: 1.0000\n",
            "Epoch 254/1000\n",
            "29/29 [==============================] - 0s 3ms/step - loss: 0.0042 - accuracy: 1.0000 - val_loss: 0.0042 - val_accuracy: 1.0000\n",
            "Epoch 255/1000\n",
            "29/29 [==============================] - 0s 3ms/step - loss: 0.0039 - accuracy: 1.0000 - val_loss: 0.0040 - val_accuracy: 1.0000\n",
            "Epoch 256/1000\n",
            "29/29 [==============================] - 0s 3ms/step - loss: 0.0037 - accuracy: 1.0000 - val_loss: 0.0037 - val_accuracy: 1.0000\n",
            "Epoch 257/1000\n",
            "29/29 [==============================] - 0s 3ms/step - loss: 0.0035 - accuracy: 1.0000 - val_loss: 0.0035 - val_accuracy: 1.0000\n",
            "Epoch 258/1000\n",
            "29/29 [==============================] - 0s 4ms/step - loss: 0.0033 - accuracy: 1.0000 - val_loss: 0.0033 - val_accuracy: 1.0000\n",
            "Epoch 259/1000\n",
            "29/29 [==============================] - 0s 3ms/step - loss: 0.0031 - accuracy: 1.0000 - val_loss: 0.0031 - val_accuracy: 1.0000\n",
            "Epoch 260/1000\n",
            "29/29 [==============================] - 0s 3ms/step - loss: 0.0029 - accuracy: 1.0000 - val_loss: 0.0029 - val_accuracy: 1.0000\n",
            "Epoch 261/1000\n",
            "29/29 [==============================] - 0s 3ms/step - loss: 0.0027 - accuracy: 1.0000 - val_loss: 0.0027 - val_accuracy: 1.0000\n",
            "Epoch 262/1000\n",
            "29/29 [==============================] - 0s 3ms/step - loss: 0.0025 - accuracy: 1.0000 - val_loss: 0.0025 - val_accuracy: 1.0000\n",
            "Epoch 263/1000\n",
            "29/29 [==============================] - 0s 3ms/step - loss: 0.0024 - accuracy: 1.0000 - val_loss: 0.0024 - val_accuracy: 1.0000\n",
            "Epoch 264/1000\n",
            "29/29 [==============================] - 0s 3ms/step - loss: 0.0022 - accuracy: 1.0000 - val_loss: 0.0022 - val_accuracy: 1.0000\n",
            "Epoch 265/1000\n",
            "29/29 [==============================] - 0s 3ms/step - loss: 0.0021 - accuracy: 1.0000 - val_loss: 0.0021 - val_accuracy: 1.0000\n",
            "Epoch 266/1000\n",
            "29/29 [==============================] - 0s 3ms/step - loss: 0.0020 - accuracy: 1.0000 - val_loss: 0.0020 - val_accuracy: 1.0000\n",
            "Epoch 267/1000\n",
            "29/29 [==============================] - 0s 3ms/step - loss: 0.0018 - accuracy: 1.0000 - val_loss: 0.0018 - val_accuracy: 1.0000\n",
            "Epoch 268/1000\n",
            "29/29 [==============================] - 0s 3ms/step - loss: 0.0017 - accuracy: 1.0000 - val_loss: 0.0017 - val_accuracy: 1.0000\n",
            "Epoch 269/1000\n",
            "29/29 [==============================] - 0s 3ms/step - loss: 0.0016 - accuracy: 1.0000 - val_loss: 0.0016 - val_accuracy: 1.0000\n",
            "Epoch 270/1000\n",
            "29/29 [==============================] - 0s 3ms/step - loss: 0.0015 - accuracy: 1.0000 - val_loss: 0.0015 - val_accuracy: 1.0000\n",
            "Epoch 271/1000\n",
            "29/29 [==============================] - 0s 3ms/step - loss: 0.0014 - accuracy: 1.0000 - val_loss: 0.0014 - val_accuracy: 1.0000\n",
            "Epoch 272/1000\n",
            "29/29 [==============================] - 0s 3ms/step - loss: 0.0013 - accuracy: 1.0000 - val_loss: 0.0013 - val_accuracy: 1.0000\n",
            "Epoch 273/1000\n",
            "29/29 [==============================] - 0s 3ms/step - loss: 0.0012 - accuracy: 1.0000 - val_loss: 0.0012 - val_accuracy: 1.0000\n",
            "Epoch 274/1000\n",
            "29/29 [==============================] - 0s 3ms/step - loss: 0.0011 - accuracy: 1.0000 - val_loss: 0.0011 - val_accuracy: 1.0000\n",
            "Epoch 275/1000\n",
            "29/29 [==============================] - 0s 3ms/step - loss: 0.0011 - accuracy: 1.0000 - val_loss: 0.0010 - val_accuracy: 1.0000\n",
            "Epoch 276/1000\n",
            "29/29 [==============================] - 0s 3ms/step - loss: 9.7915e-04 - accuracy: 1.0000 - val_loss: 9.7649e-04 - val_accuracy: 1.0000\n",
            "Epoch 277/1000\n",
            "29/29 [==============================] - 0s 3ms/step - loss: 9.1254e-04 - accuracy: 1.0000 - val_loss: 9.0691e-04 - val_accuracy: 1.0000\n",
            "Epoch 278/1000\n",
            "29/29 [==============================] - 0s 3ms/step - loss: 8.4987e-04 - accuracy: 1.0000 - val_loss: 8.4290e-04 - val_accuracy: 1.0000\n",
            "Epoch 279/1000\n",
            "29/29 [==============================] - 0s 3ms/step - loss: 7.9250e-04 - accuracy: 1.0000 - val_loss: 7.8778e-04 - val_accuracy: 1.0000\n",
            "Epoch 280/1000\n",
            "29/29 [==============================] - 0s 3ms/step - loss: 7.3819e-04 - accuracy: 1.0000 - val_loss: 7.3091e-04 - val_accuracy: 1.0000\n",
            "Epoch 281/1000\n",
            "29/29 [==============================] - 0s 4ms/step - loss: 6.8913e-04 - accuracy: 1.0000 - val_loss: 6.8289e-04 - val_accuracy: 1.0000\n",
            "Epoch 282/1000\n",
            "29/29 [==============================] - 0s 3ms/step - loss: 6.4410e-04 - accuracy: 1.0000 - val_loss: 6.4438e-04 - val_accuracy: 1.0000\n",
            "Epoch 283/1000\n",
            "29/29 [==============================] - 0s 3ms/step - loss: 6.0183e-04 - accuracy: 1.0000 - val_loss: 5.9672e-04 - val_accuracy: 1.0000\n",
            "Epoch 284/1000\n",
            "29/29 [==============================] - 0s 3ms/step - loss: 5.5873e-04 - accuracy: 1.0000 - val_loss: 5.5282e-04 - val_accuracy: 1.0000\n",
            "Epoch 285/1000\n",
            "29/29 [==============================] - 0s 3ms/step - loss: 5.1971e-04 - accuracy: 1.0000 - val_loss: 5.1635e-04 - val_accuracy: 1.0000\n",
            "Epoch 286/1000\n",
            "29/29 [==============================] - 0s 3ms/step - loss: 4.8310e-04 - accuracy: 1.0000 - val_loss: 4.7831e-04 - val_accuracy: 1.0000\n",
            "Epoch 287/1000\n",
            "29/29 [==============================] - 0s 3ms/step - loss: 4.4885e-04 - accuracy: 1.0000 - val_loss: 4.4336e-04 - val_accuracy: 1.0000\n",
            "Epoch 288/1000\n",
            "29/29 [==============================] - 0s 3ms/step - loss: 4.1615e-04 - accuracy: 1.0000 - val_loss: 4.1165e-04 - val_accuracy: 1.0000\n",
            "Epoch 289/1000\n",
            "29/29 [==============================] - 0s 3ms/step - loss: 3.8580e-04 - accuracy: 1.0000 - val_loss: 3.8038e-04 - val_accuracy: 1.0000\n",
            "Epoch 290/1000\n",
            "29/29 [==============================] - 0s 3ms/step - loss: 3.5689e-04 - accuracy: 1.0000 - val_loss: 3.5063e-04 - val_accuracy: 1.0000\n",
            "Epoch 291/1000\n",
            "29/29 [==============================] - 0s 3ms/step - loss: 3.3014e-04 - accuracy: 1.0000 - val_loss: 3.2388e-04 - val_accuracy: 1.0000\n",
            "Epoch 292/1000\n",
            "29/29 [==============================] - 0s 3ms/step - loss: 3.0527e-04 - accuracy: 1.0000 - val_loss: 2.9992e-04 - val_accuracy: 1.0000\n",
            "Epoch 293/1000\n",
            "29/29 [==============================] - 0s 3ms/step - loss: 2.8316e-04 - accuracy: 1.0000 - val_loss: 2.7882e-04 - val_accuracy: 1.0000\n",
            "Epoch 294/1000\n",
            "29/29 [==============================] - 0s 3ms/step - loss: 2.6201e-04 - accuracy: 1.0000 - val_loss: 2.5651e-04 - val_accuracy: 1.0000\n",
            "Epoch 295/1000\n",
            "29/29 [==============================] - 0s 3ms/step - loss: 2.4242e-04 - accuracy: 1.0000 - val_loss: 2.3768e-04 - val_accuracy: 1.0000\n",
            "Epoch 296/1000\n",
            "29/29 [==============================] - 0s 3ms/step - loss: 2.2457e-04 - accuracy: 1.0000 - val_loss: 2.1963e-04 - val_accuracy: 1.0000\n",
            "Epoch 297/1000\n",
            "29/29 [==============================] - 0s 3ms/step - loss: 2.0798e-04 - accuracy: 1.0000 - val_loss: 2.0436e-04 - val_accuracy: 1.0000\n",
            "Epoch 298/1000\n",
            "29/29 [==============================] - 0s 3ms/step - loss: 1.9279e-04 - accuracy: 1.0000 - val_loss: 1.8774e-04 - val_accuracy: 1.0000\n",
            "Epoch 299/1000\n",
            "29/29 [==============================] - 0s 3ms/step - loss: 1.7825e-04 - accuracy: 1.0000 - val_loss: 1.7342e-04 - val_accuracy: 1.0000\n",
            "Epoch 300/1000\n",
            "29/29 [==============================] - 0s 3ms/step - loss: 1.6470e-04 - accuracy: 1.0000 - val_loss: 1.6042e-04 - val_accuracy: 1.0000\n",
            "Epoch 301/1000\n",
            "29/29 [==============================] - 0s 3ms/step - loss: 1.5262e-04 - accuracy: 1.0000 - val_loss: 1.4893e-04 - val_accuracy: 1.0000\n",
            "Epoch 302/1000\n",
            "29/29 [==============================] - 0s 3ms/step - loss: 1.4100e-04 - accuracy: 1.0000 - val_loss: 1.3752e-04 - val_accuracy: 1.0000\n",
            "Epoch 303/1000\n",
            "29/29 [==============================] - 0s 3ms/step - loss: 1.3027e-04 - accuracy: 1.0000 - val_loss: 1.2735e-04 - val_accuracy: 1.0000\n",
            "Epoch 304/1000\n",
            "29/29 [==============================] - 0s 3ms/step - loss: 1.2084e-04 - accuracy: 1.0000 - val_loss: 1.1771e-04 - val_accuracy: 1.0000\n",
            "Epoch 305/1000\n",
            "29/29 [==============================] - 0s 3ms/step - loss: 1.1136e-04 - accuracy: 1.0000 - val_loss: 1.0843e-04 - val_accuracy: 1.0000\n",
            "Epoch 306/1000\n",
            "29/29 [==============================] - 0s 3ms/step - loss: 1.0286e-04 - accuracy: 1.0000 - val_loss: 1.0026e-04 - val_accuracy: 1.0000\n",
            "Epoch 307/1000\n",
            "29/29 [==============================] - 0s 3ms/step - loss: 9.4875e-05 - accuracy: 1.0000 - val_loss: 9.2210e-05 - val_accuracy: 1.0000\n",
            "Epoch 308/1000\n",
            "29/29 [==============================] - 0s 3ms/step - loss: 8.7477e-05 - accuracy: 1.0000 - val_loss: 8.5477e-05 - val_accuracy: 1.0000\n",
            "Epoch 309/1000\n",
            "29/29 [==============================] - 0s 3ms/step - loss: 8.0635e-05 - accuracy: 1.0000 - val_loss: 7.8372e-05 - val_accuracy: 1.0000\n",
            "Epoch 310/1000\n",
            "29/29 [==============================] - 0s 3ms/step - loss: 7.4121e-05 - accuracy: 1.0000 - val_loss: 7.1908e-05 - val_accuracy: 1.0000\n",
            "Epoch 311/1000\n",
            "29/29 [==============================] - 0s 3ms/step - loss: 6.8387e-05 - accuracy: 1.0000 - val_loss: 6.6616e-05 - val_accuracy: 1.0000\n",
            "Epoch 312/1000\n",
            "29/29 [==============================] - 0s 3ms/step - loss: 6.3027e-05 - accuracy: 1.0000 - val_loss: 6.1253e-05 - val_accuracy: 1.0000\n",
            "Epoch 313/1000\n",
            "29/29 [==============================] - 0s 3ms/step - loss: 5.8141e-05 - accuracy: 1.0000 - val_loss: 5.6222e-05 - val_accuracy: 1.0000\n",
            "Epoch 314/1000\n",
            "29/29 [==============================] - 0s 3ms/step - loss: 5.3536e-05 - accuracy: 1.0000 - val_loss: 5.1939e-05 - val_accuracy: 1.0000\n",
            "Epoch 315/1000\n",
            "29/29 [==============================] - 0s 3ms/step - loss: 4.9269e-05 - accuracy: 1.0000 - val_loss: 4.7779e-05 - val_accuracy: 1.0000\n",
            "Epoch 316/1000\n",
            "29/29 [==============================] - 0s 3ms/step - loss: 4.5257e-05 - accuracy: 1.0000 - val_loss: 4.3622e-05 - val_accuracy: 1.0000\n",
            "Epoch 317/1000\n",
            "29/29 [==============================] - 0s 3ms/step - loss: 4.1463e-05 - accuracy: 1.0000 - val_loss: 3.9976e-05 - val_accuracy: 1.0000\n",
            "Epoch 318/1000\n",
            "29/29 [==============================] - 0s 3ms/step - loss: 3.8087e-05 - accuracy: 1.0000 - val_loss: 3.6881e-05 - val_accuracy: 1.0000\n",
            "Epoch 319/1000\n",
            "29/29 [==============================] - 0s 3ms/step - loss: 3.5020e-05 - accuracy: 1.0000 - val_loss: 3.3670e-05 - val_accuracy: 1.0000\n",
            "Epoch 320/1000\n",
            "29/29 [==============================] - 0s 3ms/step - loss: 3.2139e-05 - accuracy: 1.0000 - val_loss: 3.0910e-05 - val_accuracy: 1.0000\n",
            "Epoch 321/1000\n",
            "29/29 [==============================] - 0s 3ms/step - loss: 2.9532e-05 - accuracy: 1.0000 - val_loss: 2.8299e-05 - val_accuracy: 1.0000\n",
            "Epoch 322/1000\n",
            "29/29 [==============================] - 0s 3ms/step - loss: 2.7040e-05 - accuracy: 1.0000 - val_loss: 2.5941e-05 - val_accuracy: 1.0000\n",
            "Epoch 323/1000\n",
            "29/29 [==============================] - 0s 3ms/step - loss: 2.4902e-05 - accuracy: 1.0000 - val_loss: 2.4053e-05 - val_accuracy: 1.0000\n",
            "Epoch 324/1000\n",
            "29/29 [==============================] - 0s 3ms/step - loss: 2.2869e-05 - accuracy: 1.0000 - val_loss: 2.1922e-05 - val_accuracy: 1.0000\n",
            "Epoch 325/1000\n",
            "29/29 [==============================] - 0s 3ms/step - loss: 2.1019e-05 - accuracy: 1.0000 - val_loss: 2.0026e-05 - val_accuracy: 1.0000\n",
            "Epoch 326/1000\n",
            "29/29 [==============================] - 0s 3ms/step - loss: 1.9246e-05 - accuracy: 1.0000 - val_loss: 1.8317e-05 - val_accuracy: 1.0000\n",
            "Epoch 327/1000\n",
            "29/29 [==============================] - 0s 3ms/step - loss: 1.7702e-05 - accuracy: 1.0000 - val_loss: 1.6968e-05 - val_accuracy: 1.0000\n",
            "Epoch 328/1000\n",
            "29/29 [==============================] - 0s 3ms/step - loss: 1.6252e-05 - accuracy: 1.0000 - val_loss: 1.5430e-05 - val_accuracy: 1.0000\n",
            "Epoch 329/1000\n",
            "29/29 [==============================] - 0s 3ms/step - loss: 1.4963e-05 - accuracy: 1.0000 - val_loss: 1.4219e-05 - val_accuracy: 1.0000\n",
            "Epoch 330/1000\n",
            "29/29 [==============================] - 0s 3ms/step - loss: 1.3759e-05 - accuracy: 1.0000 - val_loss: 1.3064e-05 - val_accuracy: 1.0000\n",
            "Epoch 331/1000\n",
            "29/29 [==============================] - 0s 3ms/step - loss: 1.2646e-05 - accuracy: 1.0000 - val_loss: 1.2070e-05 - val_accuracy: 1.0000\n",
            "Epoch 332/1000\n",
            "29/29 [==============================] - 0s 3ms/step - loss: 1.1633e-05 - accuracy: 1.0000 - val_loss: 1.1004e-05 - val_accuracy: 1.0000\n",
            "Epoch 333/1000\n",
            "29/29 [==============================] - 0s 3ms/step - loss: 1.0679e-05 - accuracy: 1.0000 - val_loss: 1.0106e-05 - val_accuracy: 1.0000\n",
            "Epoch 334/1000\n",
            "29/29 [==============================] - 0s 3ms/step - loss: 9.7820e-06 - accuracy: 1.0000 - val_loss: 9.2646e-06 - val_accuracy: 1.0000\n",
            "Epoch 335/1000\n",
            "29/29 [==============================] - 0s 3ms/step - loss: 8.9584e-06 - accuracy: 1.0000 - val_loss: 8.4823e-06 - val_accuracy: 1.0000\n",
            "Epoch 336/1000\n",
            "29/29 [==============================] - 0s 3ms/step - loss: 8.2551e-06 - accuracy: 1.0000 - val_loss: 7.8416e-06 - val_accuracy: 1.0000\n",
            "Epoch 337/1000\n",
            "29/29 [==============================] - 0s 3ms/step - loss: 7.6065e-06 - accuracy: 1.0000 - val_loss: 7.1487e-06 - val_accuracy: 1.0000\n",
            "Epoch 338/1000\n",
            "29/29 [==============================] - 0s 3ms/step - loss: 6.9761e-06 - accuracy: 1.0000 - val_loss: 6.5639e-06 - val_accuracy: 1.0000\n",
            "Epoch 339/1000\n",
            "29/29 [==============================] - 0s 3ms/step - loss: 6.4161e-06 - accuracy: 1.0000 - val_loss: 5.9865e-06 - val_accuracy: 1.0000\n",
            "Epoch 340/1000\n",
            "29/29 [==============================] - 0s 3ms/step - loss: 5.8813e-06 - accuracy: 1.0000 - val_loss: 5.4873e-06 - val_accuracy: 1.0000\n",
            "Epoch 341/1000\n",
            "29/29 [==============================] - 0s 3ms/step - loss: 5.3880e-06 - accuracy: 1.0000 - val_loss: 5.0812e-06 - val_accuracy: 1.0000\n",
            "Epoch 342/1000\n",
            "29/29 [==============================] - 0s 3ms/step - loss: 4.9807e-06 - accuracy: 1.0000 - val_loss: 4.6119e-06 - val_accuracy: 1.0000\n",
            "Epoch 343/1000\n",
            "29/29 [==============================] - 0s 3ms/step - loss: 4.5783e-06 - accuracy: 1.0000 - val_loss: 4.2878e-06 - val_accuracy: 1.0000\n",
            "Epoch 344/1000\n",
            "29/29 [==============================] - 0s 3ms/step - loss: 4.2315e-06 - accuracy: 1.0000 - val_loss: 3.9339e-06 - val_accuracy: 1.0000\n",
            "Epoch 345/1000\n",
            "29/29 [==============================] - 0s 3ms/step - loss: 3.8946e-06 - accuracy: 1.0000 - val_loss: 3.6247e-06 - val_accuracy: 1.0000\n",
            "Epoch 346/1000\n",
            "29/29 [==============================] - 0s 3ms/step - loss: 3.6036e-06 - accuracy: 1.0000 - val_loss: 3.3788e-06 - val_accuracy: 1.0000\n",
            "Epoch 347/1000\n",
            "29/29 [==============================] - 0s 3ms/step - loss: 3.3130e-06 - accuracy: 1.0000 - val_loss: 3.0845e-06 - val_accuracy: 1.0000\n",
            "Epoch 348/1000\n",
            "29/29 [==============================] - 0s 3ms/step - loss: 3.0696e-06 - accuracy: 1.0000 - val_loss: 2.8536e-06 - val_accuracy: 1.0000\n",
            "Epoch 349/1000\n",
            "29/29 [==============================] - 0s 3ms/step - loss: 2.8366e-06 - accuracy: 1.0000 - val_loss: 2.6189e-06 - val_accuracy: 1.0000\n",
            "Epoch 350/1000\n",
            "29/29 [==============================] - 0s 3ms/step - loss: 2.6276e-06 - accuracy: 1.0000 - val_loss: 2.4289e-06 - val_accuracy: 1.0000\n",
            "Epoch 351/1000\n",
            "29/29 [==============================] - 0s 3ms/step - loss: 2.4442e-06 - accuracy: 1.0000 - val_loss: 2.2575e-06 - val_accuracy: 1.0000\n",
            "Epoch 352/1000\n",
            "29/29 [==============================] - 0s 3ms/step - loss: 2.2509e-06 - accuracy: 1.0000 - val_loss: 2.0824e-06 - val_accuracy: 1.0000\n",
            "Epoch 353/1000\n",
            "29/29 [==============================] - 0s 3ms/step - loss: 2.0878e-06 - accuracy: 1.0000 - val_loss: 1.9595e-06 - val_accuracy: 1.0000\n",
            "Epoch 354/1000\n",
            "29/29 [==============================] - 0s 3ms/step - loss: 1.9508e-06 - accuracy: 1.0000 - val_loss: 1.8403e-06 - val_accuracy: 1.0000\n",
            "Epoch 355/1000\n",
            "29/29 [==============================] - 0s 3ms/step - loss: 1.8121e-06 - accuracy: 1.0000 - val_loss: 1.6727e-06 - val_accuracy: 1.0000\n",
            "Epoch 356/1000\n",
            "29/29 [==============================] - 0s 3ms/step - loss: 1.6842e-06 - accuracy: 1.0000 - val_loss: 1.5460e-06 - val_accuracy: 1.0000\n",
            "Epoch 357/1000\n",
            "29/29 [==============================] - 0s 3ms/step - loss: 1.5696e-06 - accuracy: 1.0000 - val_loss: 1.4566e-06 - val_accuracy: 1.0000\n",
            "Epoch 358/1000\n",
            "29/29 [==============================] - 0s 3ms/step - loss: 1.4736e-06 - accuracy: 1.0000 - val_loss: 1.3746e-06 - val_accuracy: 1.0000\n",
            "Epoch 359/1000\n",
            "29/29 [==============================] - 0s 3ms/step - loss: 1.3697e-06 - accuracy: 1.0000 - val_loss: 1.2629e-06 - val_accuracy: 1.0000\n",
            "Epoch 360/1000\n",
            "29/29 [==============================] - 0s 3ms/step - loss: 1.2778e-06 - accuracy: 1.0000 - val_loss: 1.1846e-06 - val_accuracy: 1.0000\n",
            "Epoch 361/1000\n",
            "29/29 [==============================] - 0s 3ms/step - loss: 1.1867e-06 - accuracy: 1.0000 - val_loss: 1.0952e-06 - val_accuracy: 1.0000\n",
            "Epoch 362/1000\n",
            "29/29 [==============================] - 0s 3ms/step - loss: 1.1217e-06 - accuracy: 1.0000 - val_loss: 1.0282e-06 - val_accuracy: 1.0000\n",
            "Epoch 363/1000\n",
            "29/29 [==============================] - 0s 3ms/step - loss: 1.0497e-06 - accuracy: 1.0000 - val_loss: 9.8720e-07 - val_accuracy: 1.0000\n",
            "Epoch 364/1000\n",
            "29/29 [==============================] - 0s 3ms/step - loss: 9.9341e-07 - accuracy: 1.0000 - val_loss: 9.3505e-07 - val_accuracy: 1.0000\n",
            "Epoch 365/1000\n",
            "29/29 [==============================] - 0s 3ms/step - loss: 9.4581e-07 - accuracy: 1.0000 - val_loss: 8.6799e-07 - val_accuracy: 1.0000\n",
            "Epoch 366/1000\n",
            "29/29 [==============================] - 0s 4ms/step - loss: 8.9531e-07 - accuracy: 1.0000 - val_loss: 8.2701e-07 - val_accuracy: 1.0000\n",
            "Epoch 367/1000\n",
            "29/29 [==============================] - 0s 3ms/step - loss: 8.3571e-07 - accuracy: 1.0000 - val_loss: 7.7858e-07 - val_accuracy: 1.0000\n",
            "Epoch 368/1000\n",
            "29/29 [==============================] - 0s 3ms/step - loss: 7.9804e-07 - accuracy: 1.0000 - val_loss: 7.5623e-07 - val_accuracy: 1.0000\n",
            "Epoch 369/1000\n",
            "29/29 [==============================] - 0s 3ms/step - loss: 7.6493e-07 - accuracy: 1.0000 - val_loss: 7.3388e-07 - val_accuracy: 1.0000\n",
            "Epoch 370/1000\n",
            "29/29 [==============================] - 0s 3ms/step - loss: 7.1939e-07 - accuracy: 1.0000 - val_loss: 6.9663e-07 - val_accuracy: 1.0000\n",
            "Epoch 371/1000\n",
            "29/29 [==============================] - 0s 3ms/step - loss: 6.7511e-07 - accuracy: 1.0000 - val_loss: 6.4447e-07 - val_accuracy: 1.0000\n",
            "Epoch 372/1000\n",
            "29/29 [==============================] - 0s 3ms/step - loss: 6.3827e-07 - accuracy: 1.0000 - val_loss: 6.1095e-07 - val_accuracy: 1.0000\n",
            "Epoch 373/1000\n",
            "29/29 [==============================] - 0s 3ms/step - loss: 6.0308e-07 - accuracy: 1.0000 - val_loss: 5.5507e-07 - val_accuracy: 1.0000\n",
            "Epoch 374/1000\n",
            "29/29 [==============================] - 0s 3ms/step - loss: 5.6873e-07 - accuracy: 1.0000 - val_loss: 5.2899e-07 - val_accuracy: 1.0000\n",
            "Epoch 375/1000\n",
            "29/29 [==============================] - 0s 3ms/step - loss: 5.3810e-07 - accuracy: 1.0000 - val_loss: 4.8801e-07 - val_accuracy: 1.0000\n",
            "Epoch 376/1000\n",
            "29/29 [==============================] - 0s 3ms/step - loss: 5.1326e-07 - accuracy: 1.0000 - val_loss: 4.7684e-07 - val_accuracy: 1.0000\n",
            "Epoch 377/1000\n",
            "29/29 [==============================] - 0s 3ms/step - loss: 4.8553e-07 - accuracy: 1.0000 - val_loss: 4.4331e-07 - val_accuracy: 1.0000\n",
            "Epoch 378/1000\n",
            "29/29 [==============================] - 0s 3ms/step - loss: 4.5987e-07 - accuracy: 1.0000 - val_loss: 4.2096e-07 - val_accuracy: 1.0000\n",
            "Epoch 379/1000\n",
            "29/29 [==============================] - 0s 3ms/step - loss: 4.3627e-07 - accuracy: 1.0000 - val_loss: 4.1351e-07 - val_accuracy: 1.0000\n",
            "Epoch 380/1000\n",
            "29/29 [==============================] - 0s 3ms/step - loss: 4.2675e-07 - accuracy: 1.0000 - val_loss: 4.0606e-07 - val_accuracy: 1.0000\n",
            "Epoch 381/1000\n",
            "29/29 [==============================] - 0s 3ms/step - loss: 4.1433e-07 - accuracy: 1.0000 - val_loss: 3.9116e-07 - val_accuracy: 1.0000\n",
            "Epoch 382/1000\n",
            "29/29 [==============================] - 0s 3ms/step - loss: 3.9695e-07 - accuracy: 1.0000 - val_loss: 3.6880e-07 - val_accuracy: 1.0000\n",
            "Epoch 383/1000\n",
            "29/29 [==============================] - 0s 3ms/step - loss: 3.6384e-07 - accuracy: 1.0000 - val_loss: 3.4645e-07 - val_accuracy: 1.0000\n",
            "Epoch 384/1000\n",
            "29/29 [==============================] - 0s 3ms/step - loss: 3.5142e-07 - accuracy: 1.0000 - val_loss: 3.3528e-07 - val_accuracy: 1.0000\n",
            "Epoch 385/1000\n",
            "29/29 [==============================] - 0s 3ms/step - loss: 3.3528e-07 - accuracy: 1.0000 - val_loss: 3.0547e-07 - val_accuracy: 1.0000\n",
            "Epoch 386/1000\n",
            "29/29 [==============================] - 0s 3ms/step - loss: 3.1872e-07 - accuracy: 1.0000 - val_loss: 3.0175e-07 - val_accuracy: 1.0000\n",
            "Epoch 387/1000\n",
            "29/29 [==============================] - 0s 3ms/step - loss: 3.0382e-07 - accuracy: 1.0000 - val_loss: 2.6822e-07 - val_accuracy: 1.0000\n",
            "Epoch 388/1000\n",
            "29/29 [==============================] - 0s 3ms/step - loss: 2.9223e-07 - accuracy: 1.0000 - val_loss: 2.5332e-07 - val_accuracy: 1.0000\n",
            "Epoch 389/1000\n",
            "29/29 [==============================] - 0s 3ms/step - loss: 2.7981e-07 - accuracy: 1.0000 - val_loss: 2.4959e-07 - val_accuracy: 1.0000\n",
            "Epoch 390/1000\n",
            "29/29 [==============================] - 0s 3ms/step - loss: 2.7236e-07 - accuracy: 1.0000 - val_loss: 2.3842e-07 - val_accuracy: 1.0000\n",
            "Epoch 391/1000\n",
            "29/29 [==============================] - 0s 3ms/step - loss: 2.6325e-07 - accuracy: 1.0000 - val_loss: 2.3842e-07 - val_accuracy: 1.0000\n",
            "Epoch 392/1000\n",
            "29/29 [==============================] - 0s 3ms/step - loss: 2.5456e-07 - accuracy: 1.0000 - val_loss: 2.3469e-07 - val_accuracy: 1.0000\n",
            "Epoch 393/1000\n",
            "29/29 [==============================] - 0s 3ms/step - loss: 2.4959e-07 - accuracy: 1.0000 - val_loss: 2.3097e-07 - val_accuracy: 1.0000\n",
            "Epoch 394/1000\n",
            "29/29 [==============================] - 0s 3ms/step - loss: 2.4007e-07 - accuracy: 1.0000 - val_loss: 2.2724e-07 - val_accuracy: 1.0000\n",
            "Epoch 395/1000\n",
            "29/29 [==============================] - 0s 3ms/step - loss: 2.3262e-07 - accuracy: 1.0000 - val_loss: 2.2352e-07 - val_accuracy: 1.0000\n",
            "Epoch 396/1000\n",
            "29/29 [==============================] - 0s 3ms/step - loss: 2.1855e-07 - accuracy: 1.0000 - val_loss: 2.1607e-07 - val_accuracy: 1.0000\n",
            "Epoch 397/1000\n",
            "29/29 [==============================] - 0s 3ms/step - loss: 2.0406e-07 - accuracy: 1.0000 - val_loss: 1.8999e-07 - val_accuracy: 1.0000\n",
            "Epoch 398/1000\n",
            "29/29 [==============================] - 0s 3ms/step - loss: 1.9578e-07 - accuracy: 1.0000 - val_loss: 1.8999e-07 - val_accuracy: 1.0000\n",
            "Epoch 399/1000\n",
            "29/29 [==============================] - 0s 3ms/step - loss: 1.9330e-07 - accuracy: 1.0000 - val_loss: 1.8254e-07 - val_accuracy: 1.0000\n",
            "Epoch 400/1000\n",
            "29/29 [==============================] - 0s 3ms/step - loss: 1.8751e-07 - accuracy: 1.0000 - val_loss: 1.7136e-07 - val_accuracy: 1.0000\n",
            "Epoch 401/1000\n",
            "29/29 [==============================] - 0s 3ms/step - loss: 1.8544e-07 - accuracy: 1.0000 - val_loss: 1.7136e-07 - val_accuracy: 1.0000\n",
            "Epoch 402/1000\n",
            "29/29 [==============================] - 0s 3ms/step - loss: 1.8006e-07 - accuracy: 1.0000 - val_loss: 1.6391e-07 - val_accuracy: 1.0000\n",
            "Epoch 403/1000\n",
            "29/29 [==============================] - 0s 3ms/step - loss: 1.7467e-07 - accuracy: 1.0000 - val_loss: 1.5646e-07 - val_accuracy: 1.0000\n",
            "Epoch 404/1000\n",
            "29/29 [==============================] - 0s 3ms/step - loss: 1.6102e-07 - accuracy: 1.0000 - val_loss: 1.5646e-07 - val_accuracy: 1.0000\n",
            "Epoch 405/1000\n",
            "29/29 [==============================] - 0s 3ms/step - loss: 1.5688e-07 - accuracy: 1.0000 - val_loss: 1.5274e-07 - val_accuracy: 1.0000\n",
            "Epoch 406/1000\n",
            "29/29 [==============================] - 0s 3ms/step - loss: 1.6102e-07 - accuracy: 1.0000 - val_loss: 1.5274e-07 - val_accuracy: 1.0000\n",
            "Epoch 407/1000\n",
            "29/29 [==============================] - 0s 3ms/step - loss: 1.5398e-07 - accuracy: 1.0000 - val_loss: 1.5274e-07 - val_accuracy: 1.0000\n",
            "Epoch 408/1000\n",
            "29/29 [==============================] - 0s 3ms/step - loss: 1.5522e-07 - accuracy: 1.0000 - val_loss: 1.4529e-07 - val_accuracy: 1.0000\n",
            "Epoch 409/1000\n",
            "29/29 [==============================] - 0s 3ms/step - loss: 1.4984e-07 - accuracy: 1.0000 - val_loss: 1.4529e-07 - val_accuracy: 1.0000\n",
            "Epoch 410/1000\n",
            "29/29 [==============================] - 0s 3ms/step - loss: 1.4529e-07 - accuracy: 1.0000 - val_loss: 1.3039e-07 - val_accuracy: 1.0000\n",
            "Epoch 411/1000\n",
            "29/29 [==============================] - 0s 3ms/step - loss: 1.4156e-07 - accuracy: 1.0000 - val_loss: 1.1548e-07 - val_accuracy: 1.0000\n",
            "Epoch 412/1000\n",
            "29/29 [==============================] - 0s 3ms/step - loss: 1.4280e-07 - accuracy: 1.0000 - val_loss: 1.2293e-07 - val_accuracy: 1.0000\n",
            "Epoch 413/1000\n",
            "29/29 [==============================] - 0s 3ms/step - loss: 1.4197e-07 - accuracy: 1.0000 - val_loss: 1.2293e-07 - val_accuracy: 1.0000\n",
            "Epoch 414/1000\n",
            "29/29 [==============================] - 0s 3ms/step - loss: 1.3866e-07 - accuracy: 1.0000 - val_loss: 1.0803e-07 - val_accuracy: 1.0000\n",
            "Epoch 415/1000\n",
            "29/29 [==============================] - 0s 3ms/step - loss: 1.3494e-07 - accuracy: 1.0000 - val_loss: 1.3411e-07 - val_accuracy: 1.0000\n",
            "Epoch 416/1000\n",
            "29/29 [==============================] - 0s 3ms/step - loss: 1.3784e-07 - accuracy: 1.0000 - val_loss: 1.0431e-07 - val_accuracy: 1.0000\n",
            "Epoch 417/1000\n",
            "29/29 [==============================] - 0s 3ms/step - loss: 1.2914e-07 - accuracy: 1.0000 - val_loss: 9.6858e-08 - val_accuracy: 1.0000\n",
            "Epoch 418/1000\n",
            "29/29 [==============================] - 0s 3ms/step - loss: 1.2004e-07 - accuracy: 1.0000 - val_loss: 1.0431e-07 - val_accuracy: 1.0000\n",
            "Epoch 419/1000\n",
            "29/29 [==============================] - 0s 3ms/step - loss: 1.1176e-07 - accuracy: 1.0000 - val_loss: 8.9407e-08 - val_accuracy: 1.0000\n",
            "Epoch 420/1000\n",
            "29/29 [==============================] - 0s 3ms/step - loss: 1.0638e-07 - accuracy: 1.0000 - val_loss: 1.0058e-07 - val_accuracy: 1.0000\n",
            "Epoch 421/1000\n",
            "29/29 [==============================] - 0s 3ms/step - loss: 1.0182e-07 - accuracy: 1.0000 - val_loss: 8.1956e-08 - val_accuracy: 1.0000\n",
            "Epoch 422/1000\n",
            "29/29 [==============================] - 0s 3ms/step - loss: 1.0265e-07 - accuracy: 1.0000 - val_loss: 8.1956e-08 - val_accuracy: 1.0000\n",
            "Epoch 423/1000\n",
            "29/29 [==============================] - 0s 3ms/step - loss: 8.9407e-08 - accuracy: 1.0000 - val_loss: 9.3132e-08 - val_accuracy: 1.0000\n",
            "Epoch 424/1000\n",
            "29/29 [==============================] - 0s 3ms/step - loss: 8.9407e-08 - accuracy: 1.0000 - val_loss: 8.9407e-08 - val_accuracy: 1.0000\n",
            "Epoch 425/1000\n",
            "29/29 [==============================] - 0s 3ms/step - loss: 9.0649e-08 - accuracy: 1.0000 - val_loss: 1.0058e-07 - val_accuracy: 1.0000\n",
            "Epoch 426/1000\n",
            "29/29 [==============================] - 0s 3ms/step - loss: 8.8579e-08 - accuracy: 1.0000 - val_loss: 7.0781e-08 - val_accuracy: 1.0000\n",
            "Epoch 427/1000\n",
            "29/29 [==============================] - 0s 3ms/step - loss: 8.6096e-08 - accuracy: 1.0000 - val_loss: 7.4506e-08 - val_accuracy: 1.0000\n",
            "Epoch 428/1000\n",
            "29/29 [==============================] - 0s 3ms/step - loss: 8.5268e-08 - accuracy: 1.0000 - val_loss: 8.5682e-08 - val_accuracy: 1.0000\n",
            "Epoch 429/1000\n",
            "29/29 [==============================] - 0s 3ms/step - loss: 8.1542e-08 - accuracy: 1.0000 - val_loss: 9.3132e-08 - val_accuracy: 1.0000\n",
            "Epoch 430/1000\n",
            "29/29 [==============================] - 0s 3ms/step - loss: 7.4506e-08 - accuracy: 1.0000 - val_loss: 8.1956e-08 - val_accuracy: 1.0000\n",
            "Epoch 431/1000\n",
            "29/29 [==============================] - 0s 3ms/step - loss: 7.5748e-08 - accuracy: 1.0000 - val_loss: 7.8231e-08 - val_accuracy: 1.0000\n",
            "Epoch 432/1000\n",
            "29/29 [==============================] - 0s 3ms/step - loss: 7.2022e-08 - accuracy: 1.0000 - val_loss: 5.2154e-08 - val_accuracy: 1.0000\n",
            "Epoch 433/1000\n",
            "29/29 [==============================] - 0s 3ms/step - loss: 6.4986e-08 - accuracy: 1.0000 - val_loss: 6.3330e-08 - val_accuracy: 1.0000\n",
            "Epoch 434/1000\n",
            "29/29 [==============================] - 0s 3ms/step - loss: 6.8711e-08 - accuracy: 1.0000 - val_loss: 5.9605e-08 - val_accuracy: 1.0000\n",
            "Epoch 435/1000\n",
            "29/29 [==============================] - 0s 3ms/step - loss: 6.8297e-08 - accuracy: 1.0000 - val_loss: 7.4506e-08 - val_accuracy: 1.0000\n",
            "Epoch 436/1000\n",
            "29/29 [==============================] - 0s 3ms/step - loss: 5.5879e-08 - accuracy: 1.0000 - val_loss: 6.7055e-08 - val_accuracy: 1.0000\n",
            "Epoch 437/1000\n",
            "29/29 [==============================] - 0s 3ms/step - loss: 6.0019e-08 - accuracy: 1.0000 - val_loss: 4.4703e-08 - val_accuracy: 1.0000\n",
            "Epoch 438/1000\n",
            "29/29 [==============================] - 0s 3ms/step - loss: 5.2982e-08 - accuracy: 1.0000 - val_loss: 5.2154e-08 - val_accuracy: 1.0000\n",
            "Epoch 439/1000\n",
            "29/29 [==============================] - 0s 3ms/step - loss: 5.4638e-08 - accuracy: 1.0000 - val_loss: 5.5879e-08 - val_accuracy: 1.0000\n",
            "Epoch 440/1000\n",
            "29/29 [==============================] - 0s 3ms/step - loss: 5.0084e-08 - accuracy: 1.0000 - val_loss: 3.7253e-08 - val_accuracy: 1.0000\n",
            "Epoch 441/1000\n",
            "29/29 [==============================] - 0s 3ms/step - loss: 5.0084e-08 - accuracy: 1.0000 - val_loss: 6.3330e-08 - val_accuracy: 1.0000\n",
            "Epoch 442/1000\n",
            "29/29 [==============================] - 0s 3ms/step - loss: 5.2982e-08 - accuracy: 1.0000 - val_loss: 3.7253e-08 - val_accuracy: 1.0000\n",
            "Epoch 443/1000\n",
            "29/29 [==============================] - 0s 3ms/step - loss: 5.3396e-08 - accuracy: 1.0000 - val_loss: 5.2154e-08 - val_accuracy: 1.0000\n",
            "Epoch 444/1000\n",
            "29/29 [==============================] - 0s 3ms/step - loss: 4.9671e-08 - accuracy: 1.0000 - val_loss: 5.2154e-08 - val_accuracy: 1.0000\n",
            "Epoch 445/1000\n",
            "29/29 [==============================] - 0s 3ms/step - loss: 4.0978e-08 - accuracy: 1.0000 - val_loss: 3.7253e-08 - val_accuracy: 1.0000\n",
            "Epoch 446/1000\n",
            "29/29 [==============================] - 0s 3ms/step - loss: 4.0978e-08 - accuracy: 1.0000 - val_loss: 2.9802e-08 - val_accuracy: 1.0000\n",
            "Epoch 447/1000\n",
            "29/29 [==============================] - 0s 3ms/step - loss: 4.0150e-08 - accuracy: 1.0000 - val_loss: 5.2154e-08 - val_accuracy: 1.0000\n",
            "Epoch 448/1000\n",
            "29/29 [==============================] - 0s 3ms/step - loss: 4.0564e-08 - accuracy: 1.0000 - val_loss: 2.9802e-08 - val_accuracy: 1.0000\n",
            "Epoch 449/1000\n",
            "29/29 [==============================] - 0s 3ms/step - loss: 4.1806e-08 - accuracy: 1.0000 - val_loss: 2.2352e-08 - val_accuracy: 1.0000\n",
            "Epoch 450/1000\n",
            "29/29 [==============================] - 0s 3ms/step - loss: 4.2220e-08 - accuracy: 1.0000 - val_loss: 2.9802e-08 - val_accuracy: 1.0000\n",
            "Epoch 451/1000\n",
            "29/29 [==============================] - 0s 3ms/step - loss: 3.8495e-08 - accuracy: 1.0000 - val_loss: 4.0978e-08 - val_accuracy: 1.0000\n",
            "Epoch 452/1000\n",
            "29/29 [==============================] - 0s 3ms/step - loss: 4.0564e-08 - accuracy: 1.0000 - val_loss: 3.7253e-08 - val_accuracy: 1.0000\n",
            "Epoch 453/1000\n",
            "29/29 [==============================] - 0s 3ms/step - loss: 3.7253e-08 - accuracy: 1.0000 - val_loss: 4.0978e-08 - val_accuracy: 1.0000\n",
            "Epoch 454/1000\n",
            "29/29 [==============================] - 0s 3ms/step - loss: 3.7253e-08 - accuracy: 1.0000 - val_loss: 2.9802e-08 - val_accuracy: 1.0000\n",
            "Epoch 455/1000\n",
            "29/29 [==============================] - 0s 3ms/step - loss: 4.2220e-08 - accuracy: 1.0000 - val_loss: 1.8626e-08 - val_accuracy: 1.0000\n",
            "Epoch 456/1000\n",
            "29/29 [==============================] - 0s 3ms/step - loss: 3.2700e-08 - accuracy: 1.0000 - val_loss: 2.9802e-08 - val_accuracy: 1.0000\n",
            "Epoch 457/1000\n",
            "29/29 [==============================] - 0s 3ms/step - loss: 3.5183e-08 - accuracy: 1.0000 - val_loss: 3.3528e-08 - val_accuracy: 1.0000\n",
            "Epoch 458/1000\n",
            "29/29 [==============================] - 0s 3ms/step - loss: 3.2700e-08 - accuracy: 1.0000 - val_loss: 1.8626e-08 - val_accuracy: 1.0000\n",
            "Epoch 459/1000\n",
            "29/29 [==============================] - 0s 3ms/step - loss: 3.2286e-08 - accuracy: 1.0000 - val_loss: 2.9802e-08 - val_accuracy: 1.0000\n",
            "Epoch 460/1000\n",
            "29/29 [==============================] - 0s 3ms/step - loss: 3.5183e-08 - accuracy: 1.0000 - val_loss: 1.8626e-08 - val_accuracy: 1.0000\n",
            "Epoch 461/1000\n",
            "29/29 [==============================] - 0s 3ms/step - loss: 3.0630e-08 - accuracy: 1.0000 - val_loss: 3.3528e-08 - val_accuracy: 1.0000\n",
            "Epoch 462/1000\n",
            "29/29 [==============================] - 0s 3ms/step - loss: 3.0216e-08 - accuracy: 1.0000 - val_loss: 2.6077e-08 - val_accuracy: 1.0000\n",
            "Epoch 463/1000\n",
            "29/29 [==============================] - 0s 3ms/step - loss: 3.0630e-08 - accuracy: 1.0000 - val_loss: 3.7253e-08 - val_accuracy: 1.0000\n",
            "Epoch 464/1000\n",
            "29/29 [==============================] - 0s 3ms/step - loss: 3.1044e-08 - accuracy: 1.0000 - val_loss: 3.3528e-08 - val_accuracy: 1.0000\n",
            "Epoch 465/1000\n",
            "23/29 [======================>.......] - ETA: 0s - loss: 3.4208e-08 - accuracy: 1.0000Restoring model weights from the end of the best epoch.\n",
            "29/29 [==============================] - 0s 3ms/step - loss: 3.2286e-08 - accuracy: 1.0000 - val_loss: 2.2352e-08 - val_accuracy: 1.0000\n",
            "Epoch 00465: early stopping\n"
          ],
          "name": "stdout"
        },
        {
          "output_type": "execute_result",
          "data": {
            "text/plain": [
              "<tensorflow.python.keras.callbacks.History at 0x7f283457bfd0>"
            ]
          },
          "metadata": {
            "tags": []
          },
          "execution_count": 16
        }
      ]
    },
    {
      "cell_type": "code",
      "metadata": {
        "id": "uzk_veNghbk9"
      },
      "source": [
        "History = model_CC.history"
      ],
      "execution_count": null,
      "outputs": []
    },
    {
      "cell_type": "code",
      "metadata": {
        "id": "H11YUWRKhjX8",
        "outputId": "2e99d979-a827-4d34-c0e1-44733eb60f58",
        "colab": {
          "base_uri": "https://localhost:8080/",
          "height": 295
        }
      },
      "source": [
        "plt.plot(History.history['accuracy'])\n",
        "plt.title('Accuracy VS Epoch')\n",
        "plt.ylabel('Accuracy')\n",
        "plt.xlabel('Epoch')\n",
        "plt.legend(['Train'], loc='lower right')\n",
        "plt.show()"
      ],
      "execution_count": null,
      "outputs": [
        {
          "output_type": "display_data",
          "data": {
            "image/png": "[encoded data removed]",
            "text/plain": [
              "<Figure size 432x288 with 1 Axes>"
            ]
          },
          "metadata": {
            "tags": [],
            "needs_background": "light"
          }
        }
      ]
    },
    {
      "cell_type": "code",
      "metadata": {
        "id": "gciWe5pShw_w",
        "outputId": "64c60cc3-6cd5-4fc8-8793-142309b0cdf0",
        "colab": {
          "base_uri": "https://localhost:8080/",
          "height": 295
        }
      },
      "source": [
        "plt.plot(History.history['loss'])\n",
        "plt.title('Loss VS Epoch')\n",
        "plt.ylabel('Loss')\n",
        "plt.xlabel('Epoch')\n",
        "plt.legend(['Train'], loc='lower right')\n",
        "plt.show()"
      ],
      "execution_count": null,
      "outputs": [
        {
          "output_type": "display_data",
          "data": {
            "image/png": "[encoded data removed]",
            "text/plain": [
              "<Figure size 432x288 with 1 Axes>"
            ]
          },
          "metadata": {
            "tags": [],
            "needs_background": "light"
          }
        }
      ]
    },
    {
      "cell_type": "markdown",
      "metadata": {
        "id": "PKqDI_Kkpjq0"
      },
      "source": [
        "## Testing the Shallow Neural Network"
      ]
    },
    {
      "cell_type": "code",
      "metadata": {
        "id": "crKdmviAlwXF",
        "outputId": "072803d1-1622-4717-cd02-7b9b7df41ecf",
        "colab": {
          "base_uri": "https://localhost:8080/",
          "height": 67
        }
      },
      "source": [
        "Loss,Accuracy=model_CC.evaluate(X_test,Y_test,verbose=1)\n",
        "print('Accuracy: ',Accuracy)\n",
        "print('Loss: ',Loss)"
      ],
      "execution_count": null,
      "outputs": [
        {
          "output_type": "stream",
          "text": [
            "3/3 [==============================] - 0s 2ms/step - loss: 2.8312e-08 - accuracy: 1.0000\n",
            "Accuracy:  1.0\n",
            "Loss:  2.831220413668234e-08\n"
          ],
          "name": "stdout"
        }
      ]
    },
    {
      "cell_type": "markdown",
      "metadata": {
        "id": "mDDayESX2bTx"
      },
      "source": [
        "## Save the Model"
      ]
    },
    {
      "cell_type": "code",
      "metadata": {
        "id": "Gemhjnzb2i35"
      },
      "source": [
        "Name='Model 1.3 - CC 39'"
      ],
      "execution_count": null,
      "outputs": []
    },
    {
      "cell_type": "code",
      "metadata": {
        "id": "lsRhW0Dk2u9j"
      },
      "source": [
        "Name=Name + ' - ' + str(datetime.datetime.now()) + '.h5'\n",
        "model_CC.save('/content/drive/My Drive/AI Breaks Cryptography/Models/'+Name)"
      ],
      "execution_count": null,
      "outputs": []
    },
    {
      "cell_type": "markdown",
      "metadata": {
        "id": "0K5rG9B4iRDB"
      },
      "source": [
        "## Decoding function"
      ]
    },
    {
      "cell_type": "code",
      "metadata": {
        "id": "32GziM3xp6wq",
        "outputId": "da7d2214-b87c-4bad-d9bd-238c1d728bed",
        "colab": {
          "base_uri": "https://localhost:8080/",
          "height": 507
        }
      },
      "source": [
        "Categories=[i for i in CHOICES]\n",
        "Label_Encoding=LabelEncoder().fit_transform(Categories).reshape(-1,1)\n",
        "One_Hot_Encoding=OneHotEncoder().fit_transform(Label_Encoding).toarray()\n",
        "Categories_Dictionary={Categories[i]:One_Hot_Encoding[i] for i in range(len(Categories))}\n",
        "Categories_Dictionary_Reverse={tuple(One_Hot_Encoding[i]):Categories[i] for i in range(len(Categories))}\n",
        "print(Categories_Dictionary)\n",
        "print(Categories_Dictionary_Reverse)"
      ],
      "execution_count": null,
      "outputs": [
        {
          "output_type": "stream",
          "text": [
            "{'A': array([1., 0., 0., 0., 0., 0., 0., 0., 0., 0., 0., 0., 0., 0., 0., 0., 0.,\n",
            "       0., 0., 0., 0., 0., 0., 0., 0., 0.]), 'B': array([0., 1., 0., 0., 0., 0., 0., 0., 0., 0., 0., 0., 0., 0., 0., 0., 0.,\n",
            "       0., 0., 0., 0., 0., 0., 0., 0., 0.]), 'C': array([0., 0., 1., 0., 0., 0., 0., 0., 0., 0., 0., 0., 0., 0., 0., 0., 0.,\n",
            "       0., 0., 0., 0., 0., 0., 0., 0., 0.]), 'D': array([0., 0., 0., 1., 0., 0., 0., 0., 0., 0., 0., 0., 0., 0., 0., 0., 0.,\n",
            "       0., 0., 0., 0., 0., 0., 0., 0., 0.]), 'E': array([0., 0., 0., 0., 1., 0., 0., 0., 0., 0., 0., 0., 0., 0., 0., 0., 0.,\n",
            "       0., 0., 0., 0., 0., 0., 0., 0., 0.]), 'F': array([0., 0., 0., 0., 0., 1., 0., 0., 0., 0., 0., 0., 0., 0., 0., 0., 0.,\n",
            "       0., 0., 0., 0., 0., 0., 0., 0., 0.]), 'G': array([0., 0., 0., 0., 0., 0., 1., 0., 0., 0., 0., 0., 0., 0., 0., 0., 0.,\n",
            "       0., 0., 0., 0., 0., 0., 0., 0., 0.]), 'H': array([0., 0., 0., 0., 0., 0., 0., 1., 0., 0., 0., 0., 0., 0., 0., 0., 0.,\n",
            "       0., 0., 0., 0., 0., 0., 0., 0., 0.]), 'I': array([0., 0., 0., 0., 0., 0., 0., 0., 1., 0., 0., 0., 0., 0., 0., 0., 0.,\n",
            "       0., 0., 0., 0., 0., 0., 0., 0., 0.]), 'J': array([0., 0., 0., 0., 0., 0., 0., 0., 0., 1., 0., 0., 0., 0., 0., 0., 0.,\n",
            "       0., 0., 0., 0., 0., 0., 0., 0., 0.]), 'K': array([0., 0., 0., 0., 0., 0., 0., 0., 0., 0., 1., 0., 0., 0., 0., 0., 0.,\n",
            "       0., 0., 0., 0., 0., 0., 0., 0., 0.]), 'L': array([0., 0., 0., 0., 0., 0., 0., 0., 0., 0., 0., 1., 0., 0., 0., 0., 0.,\n",
            "       0., 0., 0., 0., 0., 0., 0., 0., 0.]), 'M': array([0., 0., 0., 0., 0., 0., 0., 0., 0., 0., 0., 0., 1., 0., 0., 0., 0.,\n",
            "       0., 0., 0., 0., 0., 0., 0., 0., 0.]), 'N': array([0., 0., 0., 0., 0., 0., 0., 0., 0., 0., 0., 0., 0., 1., 0., 0., 0.,\n",
            "       0., 0., 0., 0., 0., 0., 0., 0., 0.]), 'O': array([0., 0., 0., 0., 0., 0., 0., 0., 0., 0., 0., 0., 0., 0., 1., 0., 0.,\n",
            "       0., 0., 0., 0., 0., 0., 0., 0., 0.]), 'P': array([0., 0., 0., 0., 0., 0., 0., 0., 0., 0., 0., 0., 0., 0., 0., 1., 0.,\n",
            "       0., 0., 0., 0., 0., 0., 0., 0., 0.]), 'Q': array([0., 0., 0., 0., 0., 0., 0., 0., 0., 0., 0., 0., 0., 0., 0., 0., 1.,\n",
            "       0., 0., 0., 0., 0., 0., 0., 0., 0.]), 'R': array([0., 0., 0., 0., 0., 0., 0., 0., 0., 0., 0., 0., 0., 0., 0., 0., 0.,\n",
            "       1., 0., 0., 0., 0., 0., 0., 0., 0.]), 'S': array([0., 0., 0., 0., 0., 0., 0., 0., 0., 0., 0., 0., 0., 0., 0., 0., 0.,\n",
            "       0., 1., 0., 0., 0., 0., 0., 0., 0.]), 'T': array([0., 0., 0., 0., 0., 0., 0., 0., 0., 0., 0., 0., 0., 0., 0., 0., 0.,\n",
            "       0., 0., 1., 0., 0., 0., 0., 0., 0.]), 'U': array([0., 0., 0., 0., 0., 0., 0., 0., 0., 0., 0., 0., 0., 0., 0., 0., 0.,\n",
            "       0., 0., 0., 1., 0., 0., 0., 0., 0.]), 'V': array([0., 0., 0., 0., 0., 0., 0., 0., 0., 0., 0., 0., 0., 0., 0., 0., 0.,\n",
            "       0., 0., 0., 0., 1., 0., 0., 0., 0.]), 'W': array([0., 0., 0., 0., 0., 0., 0., 0., 0., 0., 0., 0., 0., 0., 0., 0., 0.,\n",
            "       0., 0., 0., 0., 0., 1., 0., 0., 0.]), 'X': array([0., 0., 0., 0., 0., 0., 0., 0., 0., 0., 0., 0., 0., 0., 0., 0., 0.,\n",
            "       0., 0., 0., 0., 0., 0., 1., 0., 0.]), 'Y': array([0., 0., 0., 0., 0., 0., 0., 0., 0., 0., 0., 0., 0., 0., 0., 0., 0.,\n",
            "       0., 0., 0., 0., 0., 0., 0., 1., 0.]), 'Z': array([0., 0., 0., 0., 0., 0., 0., 0., 0., 0., 0., 0., 0., 0., 0., 0., 0.,\n",
            "       0., 0., 0., 0., 0., 0., 0., 0., 1.])}\n",
            "{(1.0, 0.0, 0.0, 0.0, 0.0, 0.0, 0.0, 0.0, 0.0, 0.0, 0.0, 0.0, 0.0, 0.0, 0.0, 0.0, 0.0, 0.0, 0.0, 0.0, 0.0, 0.0, 0.0, 0.0, 0.0, 0.0): 'A', (0.0, 1.0, 0.0, 0.0, 0.0, 0.0, 0.0, 0.0, 0.0, 0.0, 0.0, 0.0, 0.0, 0.0, 0.0, 0.0, 0.0, 0.0, 0.0, 0.0, 0.0, 0.0, 0.0, 0.0, 0.0, 0.0): 'B', (0.0, 0.0, 1.0, 0.0, 0.0, 0.0, 0.0, 0.0, 0.0, 0.0, 0.0, 0.0, 0.0, 0.0, 0.0, 0.0, 0.0, 0.0, 0.0, 0.0, 0.0, 0.0, 0.0, 0.0, 0.0, 0.0): 'C', (0.0, 0.0, 0.0, 1.0, 0.0, 0.0, 0.0, 0.0, 0.0, 0.0, 0.0, 0.0, 0.0, 0.0, 0.0, 0.0, 0.0, 0.0, 0.0, 0.0, 0.0, 0.0, 0.0, 0.0, 0.0, 0.0): 'D', (0.0, 0.0, 0.0, 0.0, 1.0, 0.0, 0.0, 0.0, 0.0, 0.0, 0.0, 0.0, 0.0, 0.0, 0.0, 0.0, 0.0, 0.0, 0.0, 0.0, 0.0, 0.0, 0.0, 0.0, 0.0, 0.0): 'E', (0.0, 0.0, 0.0, 0.0, 0.0, 1.0, 0.0, 0.0, 0.0, 0.0, 0.0, 0.0, 0.0, 0.0, 0.0, 0.0, 0.0, 0.0, 0.0, 0.0, 0.0, 0.0, 0.0, 0.0, 0.0, 0.0): 'F', (0.0, 0.0, 0.0, 0.0, 0.0, 0.0, 1.0, 0.0, 0.0, 0.0, 0.0, 0.0, 0.0, 0.0, 0.0, 0.0, 0.0, 0.0, 0.0, 0.0, 0.0, 0.0, 0.0, 0.0, 0.0, 0.0): 'G', (0.0, 0.0, 0.0, 0.0, 0.0, 0.0, 0.0, 1.0, 0.0, 0.0, 0.0, 0.0, 0.0, 0.0, 0.0, 0.0, 0.0, 0.0, 0.0, 0.0, 0.0, 0.0, 0.0, 0.0, 0.0, 0.0): 'H', (0.0, 0.0, 0.0, 0.0, 0.0, 0.0, 0.0, 0.0, 1.0, 0.0, 0.0, 0.0, 0.0, 0.0, 0.0, 0.0, 0.0, 0.0, 0.0, 0.0, 0.0, 0.0, 0.0, 0.0, 0.0, 0.0): 'I', (0.0, 0.0, 0.0, 0.0, 0.0, 0.0, 0.0, 0.0, 0.0, 1.0, 0.0, 0.0, 0.0, 0.0, 0.0, 0.0, 0.0, 0.0, 0.0, 0.0, 0.0, 0.0, 0.0, 0.0, 0.0, 0.0): 'J', (0.0, 0.0, 0.0, 0.0, 0.0, 0.0, 0.0, 0.0, 0.0, 0.0, 1.0, 0.0, 0.0, 0.0, 0.0, 0.0, 0.0, 0.0, 0.0, 0.0, 0.0, 0.0, 0.0, 0.0, 0.0, 0.0): 'K', (0.0, 0.0, 0.0, 0.0, 0.0, 0.0, 0.0, 0.0, 0.0, 0.0, 0.0, 1.0, 0.0, 0.0, 0.0, 0.0, 0.0, 0.0, 0.0, 0.0, 0.0, 0.0, 0.0, 0.0, 0.0, 0.0): 'L', (0.0, 0.0, 0.0, 0.0, 0.0, 0.0, 0.0, 0.0, 0.0, 0.0, 0.0, 0.0, 1.0, 0.0, 0.0, 0.0, 0.0, 0.0, 0.0, 0.0, 0.0, 0.0, 0.0, 0.0, 0.0, 0.0): 'M', (0.0, 0.0, 0.0, 0.0, 0.0, 0.0, 0.0, 0.0, 0.0, 0.0, 0.0, 0.0, 0.0, 1.0, 0.0, 0.0, 0.0, 0.0, 0.0, 0.0, 0.0, 0.0, 0.0, 0.0, 0.0, 0.0): 'N', (0.0, 0.0, 0.0, 0.0, 0.0, 0.0, 0.0, 0.0, 0.0, 0.0, 0.0, 0.0, 0.0, 0.0, 1.0, 0.0, 0.0, 0.0, 0.0, 0.0, 0.0, 0.0, 0.0, 0.0, 0.0, 0.0): 'O', (0.0, 0.0, 0.0, 0.0, 0.0, 0.0, 0.0, 0.0, 0.0, 0.0, 0.0, 0.0, 0.0, 0.0, 0.0, 1.0, 0.0, 0.0, 0.0, 0.0, 0.0, 0.0, 0.0, 0.0, 0.0, 0.0): 'P', (0.0, 0.0, 0.0, 0.0, 0.0, 0.0, 0.0, 0.0, 0.0, 0.0, 0.0, 0.0, 0.0, 0.0, 0.0, 0.0, 1.0, 0.0, 0.0, 0.0, 0.0, 0.0, 0.0, 0.0, 0.0, 0.0): 'Q', (0.0, 0.0, 0.0, 0.0, 0.0, 0.0, 0.0, 0.0, 0.0, 0.0, 0.0, 0.0, 0.0, 0.0, 0.0, 0.0, 0.0, 1.0, 0.0, 0.0, 0.0, 0.0, 0.0, 0.0, 0.0, 0.0): 'R', (0.0, 0.0, 0.0, 0.0, 0.0, 0.0, 0.0, 0.0, 0.0, 0.0, 0.0, 0.0, 0.0, 0.0, 0.0, 0.0, 0.0, 0.0, 1.0, 0.0, 0.0, 0.0, 0.0, 0.0, 0.0, 0.0): 'S', (0.0, 0.0, 0.0, 0.0, 0.0, 0.0, 0.0, 0.0, 0.0, 0.0, 0.0, 0.0, 0.0, 0.0, 0.0, 0.0, 0.0, 0.0, 0.0, 1.0, 0.0, 0.0, 0.0, 0.0, 0.0, 0.0): 'T', (0.0, 0.0, 0.0, 0.0, 0.0, 0.0, 0.0, 0.0, 0.0, 0.0, 0.0, 0.0, 0.0, 0.0, 0.0, 0.0, 0.0, 0.0, 0.0, 0.0, 1.0, 0.0, 0.0, 0.0, 0.0, 0.0): 'U', (0.0, 0.0, 0.0, 0.0, 0.0, 0.0, 0.0, 0.0, 0.0, 0.0, 0.0, 0.0, 0.0, 0.0, 0.0, 0.0, 0.0, 0.0, 0.0, 0.0, 0.0, 1.0, 0.0, 0.0, 0.0, 0.0): 'V', (0.0, 0.0, 0.0, 0.0, 0.0, 0.0, 0.0, 0.0, 0.0, 0.0, 0.0, 0.0, 0.0, 0.0, 0.0, 0.0, 0.0, 0.0, 0.0, 0.0, 0.0, 0.0, 1.0, 0.0, 0.0, 0.0): 'W', (0.0, 0.0, 0.0, 0.0, 0.0, 0.0, 0.0, 0.0, 0.0, 0.0, 0.0, 0.0, 0.0, 0.0, 0.0, 0.0, 0.0, 0.0, 0.0, 0.0, 0.0, 0.0, 0.0, 1.0, 0.0, 0.0): 'X', (0.0, 0.0, 0.0, 0.0, 0.0, 0.0, 0.0, 0.0, 0.0, 0.0, 0.0, 0.0, 0.0, 0.0, 0.0, 0.0, 0.0, 0.0, 0.0, 0.0, 0.0, 0.0, 0.0, 0.0, 1.0, 0.0): 'Y', (0.0, 0.0, 0.0, 0.0, 0.0, 0.0, 0.0, 0.0, 0.0, 0.0, 0.0, 0.0, 0.0, 0.0, 0.0, 0.0, 0.0, 0.0, 0.0, 0.0, 0.0, 0.0, 0.0, 0.0, 0.0, 1.0): 'Z'}\n"
          ],
          "name": "stdout"
        }
      ]
    },
    {
      "cell_type": "code",
      "metadata": {
        "id": "qAsnwgBXiPLu"
      },
      "source": [
        "def Decode(character,Categories_Dictionary_Reverse=Categories_Dictionary_Reverse):\n",
        "  #print(np.array(Categories_Dictionary[character]).shape)\n",
        "  prediction=model_CC.predict(np.array(Categories_Dictionary[character]).reshape(1,26))\n",
        "  prediction=prediction>=prediction.max()\n",
        "  #print(prediction)\n",
        "  temp=[0.0 for i in range(26)]\n",
        "  for i in range(len(prediction[0])):\n",
        "    if prediction[0][i]==True:\n",
        "      temp[i]=1\n",
        "  return Categories_Dictionary_Reverse[tuple(temp)]"
      ],
      "execution_count": null,
      "outputs": []
    },
    {
      "cell_type": "code",
      "metadata": {
        "id": "v8yoDMSTqqWO",
        "outputId": "36d6841a-3652-46fb-8c36-12ff8965e6e0",
        "colab": {
          "base_uri": "https://localhost:8080/",
          "height": 50
        }
      },
      "source": [
        "character='G'\n",
        "print(character)\n",
        "print(Decode(character))"
      ],
      "execution_count": null,
      "outputs": [
        {
          "output_type": "stream",
          "text": [
            "G\n",
            "J\n"
          ],
          "name": "stdout"
        }
      ]
    },
    {
      "cell_type": "markdown",
      "metadata": {
        "id": "pMOLtyxzfVxs"
      },
      "source": [
        "## AI Based Decryption of Caesar Cipher"
      ]
    },
    {
      "cell_type": "code",
      "metadata": {
        "id": "qEnxRSI1ebzQ",
        "outputId": "328733ac-0c8c-4417-a439-6f53cc53a078",
        "colab": {
          "base_uri": "https://localhost:8080/",
          "height": 134
        }
      },
      "source": [
        "MESSAGE=\"CHRISTEEN T JOSE\"\n",
        "MESSAGE=MESSAGE.upper()\n",
        "print(\"\\t\\tOriginal Message:\\t\\t\\t\\t\",MESSAGE)\n",
        "ENCRYPTED_MESSAGE=CaesarCipher_encryption(MESSAGE,KEY)\n",
        "print(\"\\n\\n\\t\\tMessage after Encryption using Caesar Cipher:\\t\",ENCRYPTED_MESSAGE)\n",
        "#print(\"Key used for Encryption: \",KEY)\n",
        "DECRYPTED_MESSAGE=''\n",
        "for i in ENCRYPTED_MESSAGE:\n",
        "  if i==' ':\n",
        "    DECRYPTED_MESSAGE+=i\n",
        "  else:\n",
        "    DECRYPTED_MESSAGE+=Decode(i)\n",
        "print(\"\\n\\n\\t\\tMessage after AI based Decryption:\\t\\t\",DECRYPTED_MESSAGE)"
      ],
      "execution_count": null,
      "outputs": [
        {
          "output_type": "stream",
          "text": [
            "\t\tOriginal Message:\t\t\t\t CHRISTEEN T JOSE\n",
            "\n",
            "\n",
            "\t\tMessage after Encryption using Caesar Cipher:\t ZEOFPQBBK Q GLPB\n",
            "\n",
            "\n",
            "\t\tMessage after AI based Decryption:\t\t CHRISTEEN T JOSE\n"
          ],
          "name": "stdout"
        }
      ]
    },
    {
      "cell_type": "markdown",
      "metadata": {
        "id": "LoDll0HmzEcG"
      },
      "source": [
        "# ROT13 Cipher"
      ]
    },
    {
      "cell_type": "markdown",
      "metadata": {
        "id": "VR1xBSnFzEcI"
      },
      "source": [
        "## Known-Plaintext Attack"
      ]
    },
    {
      "cell_type": "markdown",
      "metadata": {
        "id": "xheJltRDzEcS"
      },
      "source": [
        "### Password Size"
      ]
    },
    {
      "cell_type": "code",
      "metadata": {
        "id": "9kIOlbg-zEcT"
      },
      "source": [
        "PASSWORD_SIZE=8"
      ],
      "execution_count": null,
      "outputs": []
    },
    {
      "cell_type": "markdown",
      "metadata": {
        "id": "JQJdKCoxzEca"
      },
      "source": [
        "### Dataset Size"
      ]
    },
    {
      "cell_type": "code",
      "metadata": {
        "id": "YPSW4JQ0zEcb"
      },
      "source": [
        "DATASET_SIZE=50"
      ],
      "execution_count": null,
      "outputs": []
    },
    {
      "cell_type": "markdown",
      "metadata": {
        "id": "1OJYOcovzEch"
      },
      "source": [
        "### Generation of Dataset"
      ]
    },
    {
      "cell_type": "code",
      "metadata": {
        "id": "ImWliuCrzEci",
        "outputId": "2e451900-01c2-465f-ed17-f8cb1136dd79",
        "colab": {
          "base_uri": "https://localhost:8080/",
          "height": 35
        }
      },
      "source": [
        "CHOICES=CaesarCipher_characterset()\n",
        "CHOICES"
      ],
      "execution_count": null,
      "outputs": [
        {
          "output_type": "execute_result",
          "data": {
            "application/vnd.google.colaboratory.intrinsic+json": {
              "type": "string"
            },
            "text/plain": [
              "'ABCDEFGHIJKLMNOPQRSTUVWXYZ'"
            ]
          },
          "metadata": {
            "tags": []
          },
          "execution_count": 87
        }
      ]
    },
    {
      "cell_type": "code",
      "metadata": {
        "id": "sdx8jN5DzEco",
        "outputId": "689ec88c-1365-4140-dae4-3bd13b15a526",
        "colab": {
          "base_uri": "https://localhost:8080/",
          "height": 70
        }
      },
      "source": [
        "x=[]\n",
        "y=[]\n",
        "for i in range(DATASET_SIZE):\n",
        "  temp=''\n",
        "  for j in range(PASSWORD_SIZE):\n",
        "    temp+=random.choice(CHOICES)\n",
        "  x.append(temp)\n",
        "  y.append(ROT13(temp))\n",
        "print(x)\n",
        "print(y)"
      ],
      "execution_count": null,
      "outputs": [
        {
          "output_type": "stream",
          "text": [
            "['BYPDOSFR', 'ZYYKRSBZ', 'NGIKKOGV', 'HYTFVPRC', 'TEWDZTYI', 'QZSMMPHT', 'TMZTINKC', 'TELZRJET', 'ATVDJEYO', 'IFCOWNEH', 'GLBCVSOJ', 'FYSVHUUO', 'KYTLSYTL', 'JDBZKIIM', 'JRCLQEOC', 'LEMAHPLM', 'SUTFJFGK', 'RYWLICIB', 'DISYBXMW', 'DXCWWETW', 'FTUEQLXB', 'YTFPCSZI', 'DWAOVPSP', 'EBOQYAHF', 'HZBABQXF', 'BMQZPNIV', 'BQGVBSKG', 'PILIQYXC', 'HSJZEUXI', 'YZGYBNJP', 'DWCDLTRU', 'UPVJTOIL', 'BWTWROKA', 'MBJREGUW', 'LIDZNHYS', 'WNMTGESC', 'XHXZZJLH', 'DGNPPJNA', 'BMTWEKOS', 'URORSTMB', 'HRSKBFFX', 'XIDPQOZX', 'OBYAOHAH', 'YHPDYSJS', 'FYXCYHEF', 'BUCEYXFI', 'NDAAIIUD', 'CQFDVNDW', 'ZCMMZSBI', 'KDTWJZFY']\n",
            "['OLCQBFSE', 'MLLXEFOM', 'ATVXXBTI', 'ULGSICEP', 'GRJQMGLV', 'DMFZZCUG', 'GZMGVAXP', 'GRYMEWRG', 'NGIQWRLB', 'VSPBJARU', 'TYOPIFBW', 'SLFIUHHB', 'XLGYFLGY', 'WQOMXVVZ', 'WEPYDRBP', 'YRZNUCYZ', 'FHGSWSTX', 'ELJYVPVO', 'QVFLOKZJ', 'QKPJJRGJ', 'SGHRDYKO', 'LGSCPFMV', 'QJNBICFC', 'ROBDLNUS', 'UMONODKS', 'OZDMCAVI', 'ODTIOFXT', 'CVYVDLKP', 'UFWMRHKV', 'LMTLOAWC', 'QJPQYGEH', 'HCIWGBVY', 'OJGJEBXN', 'ZOWERTHJ', 'YVQMAULF', 'JAZGTRFP', 'KUKMMWYU', 'QTACCWAN', 'OZGJRXBF', 'HEBEFGZO', 'UEFXOSSK', 'KVQCDBMK', 'BOLNBUNU', 'LUCQLFWF', 'SLKPLURS', 'OHPRLKSV', 'AQNNVVHQ', 'PDSQIAQJ', 'MPZZMFOV', 'XQGJWMSL']\n"
          ],
          "name": "stdout"
        }
      ]
    },
    {
      "cell_type": "code",
      "metadata": {
        "id": "1jDpNUgizEct",
        "outputId": "cde6c08c-fcf5-47d5-de5b-09675ed555e3",
        "colab": {
          "base_uri": "https://localhost:8080/",
          "height": 491
        }
      },
      "source": [
        "Data=pd.DataFrame({'Plaintext':x,'Ciphertext':y})\n",
        "Data.head(15)"
      ],
      "execution_count": null,
      "outputs": [
        {
          "output_type": "execute_result",
          "data": {
            "text/html": [
              "<div>\n",
              "<style scoped>\n",
              "    .dataframe tbody tr th:only-of-type {\n",
              "        vertical-align: middle;\n",
              "    }\n",
              "\n",
              "    .dataframe tbody tr th {\n",
              "        vertical-align: top;\n",
              "    }\n",
              "\n",
              "    .dataframe thead th {\n",
              "        text-align: right;\n",
              "    }\n",
              "</style>\n",
              "<table border=\"1\" class=\"dataframe\">\n",
              "  <thead>\n",
              "    <tr style=\"text-align: right;\">\n",
              "      <th></th>\n",
              "      <th>Plaintext</th>\n",
              "      <th>Ciphertext</th>\n",
              "    </tr>\n",
              "  </thead>\n",
              "  <tbody>\n",
              "    <tr>\n",
              "      <th>0</th>\n",
              "      <td>BYPDOSFR</td>\n",
              "      <td>OLCQBFSE</td>\n",
              "    </tr>\n",
              "    <tr>\n",
              "      <th>1</th>\n",
              "      <td>ZYYKRSBZ</td>\n",
              "      <td>MLLXEFOM</td>\n",
              "    </tr>\n",
              "    <tr>\n",
              "      <th>2</th>\n",
              "      <td>NGIKKOGV</td>\n",
              "      <td>ATVXXBTI</td>\n",
              "    </tr>\n",
              "    <tr>\n",
              "      <th>3</th>\n",
              "      <td>HYTFVPRC</td>\n",
              "      <td>ULGSICEP</td>\n",
              "    </tr>\n",
              "    <tr>\n",
              "      <th>4</th>\n",
              "      <td>TEWDZTYI</td>\n",
              "      <td>GRJQMGLV</td>\n",
              "    </tr>\n",
              "    <tr>\n",
              "      <th>5</th>\n",
              "      <td>QZSMMPHT</td>\n",
              "      <td>DMFZZCUG</td>\n",
              "    </tr>\n",
              "    <tr>\n",
              "      <th>6</th>\n",
              "      <td>TMZTINKC</td>\n",
              "      <td>GZMGVAXP</td>\n",
              "    </tr>\n",
              "    <tr>\n",
              "      <th>7</th>\n",
              "      <td>TELZRJET</td>\n",
              "      <td>GRYMEWRG</td>\n",
              "    </tr>\n",
              "    <tr>\n",
              "      <th>8</th>\n",
              "      <td>ATVDJEYO</td>\n",
              "      <td>NGIQWRLB</td>\n",
              "    </tr>\n",
              "    <tr>\n",
              "      <th>9</th>\n",
              "      <td>IFCOWNEH</td>\n",
              "      <td>VSPBJARU</td>\n",
              "    </tr>\n",
              "    <tr>\n",
              "      <th>10</th>\n",
              "      <td>GLBCVSOJ</td>\n",
              "      <td>TYOPIFBW</td>\n",
              "    </tr>\n",
              "    <tr>\n",
              "      <th>11</th>\n",
              "      <td>FYSVHUUO</td>\n",
              "      <td>SLFIUHHB</td>\n",
              "    </tr>\n",
              "    <tr>\n",
              "      <th>12</th>\n",
              "      <td>KYTLSYTL</td>\n",
              "      <td>XLGYFLGY</td>\n",
              "    </tr>\n",
              "    <tr>\n",
              "      <th>13</th>\n",
              "      <td>JDBZKIIM</td>\n",
              "      <td>WQOMXVVZ</td>\n",
              "    </tr>\n",
              "    <tr>\n",
              "      <th>14</th>\n",
              "      <td>JRCLQEOC</td>\n",
              "      <td>WEPYDRBP</td>\n",
              "    </tr>\n",
              "  </tbody>\n",
              "</table>\n",
              "</div>"
            ],
            "text/plain": [
              "   Plaintext Ciphertext\n",
              "0   BYPDOSFR   OLCQBFSE\n",
              "1   ZYYKRSBZ   MLLXEFOM\n",
              "2   NGIKKOGV   ATVXXBTI\n",
              "3   HYTFVPRC   ULGSICEP\n",
              "4   TEWDZTYI   GRJQMGLV\n",
              "5   QZSMMPHT   DMFZZCUG\n",
              "6   TMZTINKC   GZMGVAXP\n",
              "7   TELZRJET   GRYMEWRG\n",
              "8   ATVDJEYO   NGIQWRLB\n",
              "9   IFCOWNEH   VSPBJARU\n",
              "10  GLBCVSOJ   TYOPIFBW\n",
              "11  FYSVHUUO   SLFIUHHB\n",
              "12  KYTLSYTL   XLGYFLGY\n",
              "13  JDBZKIIM   WQOMXVVZ\n",
              "14  JRCLQEOC   WEPYDRBP"
            ]
          },
          "metadata": {
            "tags": []
          },
          "execution_count": 89
        }
      ]
    },
    {
      "cell_type": "markdown",
      "metadata": {
        "id": "TE20axmhzEcy"
      },
      "source": [
        "### Since ROT13 is a Stream Cipher"
      ]
    },
    {
      "cell_type": "code",
      "metadata": {
        "id": "zHhAlFpzzEcz",
        "outputId": "21df8a44-5650-41c7-fc17-28153666ca93",
        "colab": {
          "base_uri": "https://localhost:8080/",
          "height": 491
        }
      },
      "source": [
        "plaintext=[]\n",
        "ciphertext=[]\n",
        "for password in x:\n",
        "  for character in password:\n",
        "    plaintext.append(character)\n",
        "for Encrypted_password in y:\n",
        "  for character in Encrypted_password:\n",
        "    ciphertext.append(character)\n",
        "Data=pd.DataFrame({'Plaintext':plaintext,'Ciphertext':ciphertext})\n",
        "Data.head(15)"
      ],
      "execution_count": null,
      "outputs": [
        {
          "output_type": "execute_result",
          "data": {
            "text/html": [
              "<div>\n",
              "<style scoped>\n",
              "    .dataframe tbody tr th:only-of-type {\n",
              "        vertical-align: middle;\n",
              "    }\n",
              "\n",
              "    .dataframe tbody tr th {\n",
              "        vertical-align: top;\n",
              "    }\n",
              "\n",
              "    .dataframe thead th {\n",
              "        text-align: right;\n",
              "    }\n",
              "</style>\n",
              "<table border=\"1\" class=\"dataframe\">\n",
              "  <thead>\n",
              "    <tr style=\"text-align: right;\">\n",
              "      <th></th>\n",
              "      <th>Plaintext</th>\n",
              "      <th>Ciphertext</th>\n",
              "    </tr>\n",
              "  </thead>\n",
              "  <tbody>\n",
              "    <tr>\n",
              "      <th>0</th>\n",
              "      <td>B</td>\n",
              "      <td>O</td>\n",
              "    </tr>\n",
              "    <tr>\n",
              "      <th>1</th>\n",
              "      <td>Y</td>\n",
              "      <td>L</td>\n",
              "    </tr>\n",
              "    <tr>\n",
              "      <th>2</th>\n",
              "      <td>P</td>\n",
              "      <td>C</td>\n",
              "    </tr>\n",
              "    <tr>\n",
              "      <th>3</th>\n",
              "      <td>D</td>\n",
              "      <td>Q</td>\n",
              "    </tr>\n",
              "    <tr>\n",
              "      <th>4</th>\n",
              "      <td>O</td>\n",
              "      <td>B</td>\n",
              "    </tr>\n",
              "    <tr>\n",
              "      <th>5</th>\n",
              "      <td>S</td>\n",
              "      <td>F</td>\n",
              "    </tr>\n",
              "    <tr>\n",
              "      <th>6</th>\n",
              "      <td>F</td>\n",
              "      <td>S</td>\n",
              "    </tr>\n",
              "    <tr>\n",
              "      <th>7</th>\n",
              "      <td>R</td>\n",
              "      <td>E</td>\n",
              "    </tr>\n",
              "    <tr>\n",
              "      <th>8</th>\n",
              "      <td>Z</td>\n",
              "      <td>M</td>\n",
              "    </tr>\n",
              "    <tr>\n",
              "      <th>9</th>\n",
              "      <td>Y</td>\n",
              "      <td>L</td>\n",
              "    </tr>\n",
              "    <tr>\n",
              "      <th>10</th>\n",
              "      <td>Y</td>\n",
              "      <td>L</td>\n",
              "    </tr>\n",
              "    <tr>\n",
              "      <th>11</th>\n",
              "      <td>K</td>\n",
              "      <td>X</td>\n",
              "    </tr>\n",
              "    <tr>\n",
              "      <th>12</th>\n",
              "      <td>R</td>\n",
              "      <td>E</td>\n",
              "    </tr>\n",
              "    <tr>\n",
              "      <th>13</th>\n",
              "      <td>S</td>\n",
              "      <td>F</td>\n",
              "    </tr>\n",
              "    <tr>\n",
              "      <th>14</th>\n",
              "      <td>B</td>\n",
              "      <td>O</td>\n",
              "    </tr>\n",
              "  </tbody>\n",
              "</table>\n",
              "</div>"
            ],
            "text/plain": [
              "   Plaintext Ciphertext\n",
              "0          B          O\n",
              "1          Y          L\n",
              "2          P          C\n",
              "3          D          Q\n",
              "4          O          B\n",
              "5          S          F\n",
              "6          F          S\n",
              "7          R          E\n",
              "8          Z          M\n",
              "9          Y          L\n",
              "10         Y          L\n",
              "11         K          X\n",
              "12         R          E\n",
              "13         S          F\n",
              "14         B          O"
            ]
          },
          "metadata": {
            "tags": []
          },
          "execution_count": 90
        }
      ]
    },
    {
      "cell_type": "markdown",
      "metadata": {
        "id": "MZ0nsF5MzEc4"
      },
      "source": [
        "## Data Preprocessing"
      ]
    },
    {
      "cell_type": "markdown",
      "metadata": {
        "id": "U7B8XlBezEc5"
      },
      "source": [
        "### Encoding"
      ]
    },
    {
      "cell_type": "code",
      "metadata": {
        "id": "OsBW44KrzEc6",
        "outputId": "d2b24fa8-441b-4930-9096-4dc3ccb18a53",
        "colab": {
          "base_uri": "https://localhost:8080/",
          "height": 252
        }
      },
      "source": [
        "plaintext=LabelEncoder().fit_transform(plaintext).reshape(-1, 1)\n",
        "ciphertext=LabelEncoder().fit_transform(ciphertext).reshape(-1, 1)\n",
        "X=OneHotEncoder().fit_transform(plaintext).toarray()\n",
        "Y=OneHotEncoder().fit_transform(ciphertext).toarray()\n",
        "print(X)\n",
        "print(Y)"
      ],
      "execution_count": null,
      "outputs": [
        {
          "output_type": "stream",
          "text": [
            "[[0. 1. 0. ... 0. 0. 0.]\n",
            " [0. 0. 0. ... 0. 1. 0.]\n",
            " [0. 0. 0. ... 0. 0. 0.]\n",
            " ...\n",
            " [0. 0. 0. ... 0. 0. 1.]\n",
            " [0. 0. 0. ... 0. 0. 0.]\n",
            " [0. 0. 0. ... 0. 1. 0.]]\n",
            "[[0. 0. 0. ... 0. 0. 0.]\n",
            " [0. 0. 0. ... 0. 0. 0.]\n",
            " [0. 0. 1. ... 0. 0. 0.]\n",
            " ...\n",
            " [0. 0. 0. ... 0. 0. 0.]\n",
            " [0. 0. 0. ... 0. 0. 0.]\n",
            " [0. 0. 0. ... 0. 0. 0.]]\n"
          ],
          "name": "stdout"
        }
      ]
    },
    {
      "cell_type": "markdown",
      "metadata": {
        "id": "laHhuHEXzEc_"
      },
      "source": [
        "### Splitting the Dataset - Decryption"
      ]
    },
    {
      "cell_type": "code",
      "metadata": {
        "id": "Xyzi1IRpzEdA",
        "outputId": "2b692d37-7050-4fad-be4b-fd65f6b9be5a",
        "colab": {
          "base_uri": "https://localhost:8080/",
          "height": 34
        }
      },
      "source": [
        "from sklearn.model_selection import train_test_split\n",
        "X_train,X_test,Y_train,Y_test=train_test_split(Y,X,test_size=0.2,random_state=0)\n",
        "print(X_train.shape)"
      ],
      "execution_count": null,
      "outputs": [
        {
          "output_type": "stream",
          "text": [
            "(320, 26)\n"
          ],
          "name": "stdout"
        }
      ]
    },
    {
      "cell_type": "markdown",
      "metadata": {
        "id": "3NJrNBZRzEdF"
      },
      "source": [
        "## Training the Shallow Neural Network"
      ]
    },
    {
      "cell_type": "code",
      "metadata": {
        "id": "ryRo7yE5zEdG",
        "outputId": "a0606ff9-6c59-447e-e7fc-c71d5f0533f3",
        "colab": {
          "base_uri": "https://localhost:8080/",
          "height": 252
        }
      },
      "source": [
        "model_ROT13= models.Sequential()\n",
        "model_ROT13.add(layers.Dense(26, activation='relu',input_shape=(26,)))\n",
        "model_ROT13.add(layers.Dense(39, activation='relu'))\n",
        "model_ROT13.add(layers.Dense(26, activation='softmax'))\n",
        "model_ROT13.summary()"
      ],
      "execution_count": null,
      "outputs": [
        {
          "output_type": "stream",
          "text": [
            "Model: \"sequential_4\"\n",
            "_________________________________________________________________\n",
            "Layer (type)                 Output Shape              Param #   \n",
            "=================================================================\n",
            "dense_12 (Dense)             (None, 26)                702       \n",
            "_________________________________________________________________\n",
            "dense_13 (Dense)             (None, 39)                1053      \n",
            "_________________________________________________________________\n",
            "dense_14 (Dense)             (None, 26)                1040      \n",
            "=================================================================\n",
            "Total params: 2,795\n",
            "Trainable params: 2,795\n",
            "Non-trainable params: 0\n",
            "_________________________________________________________________\n"
          ],
          "name": "stdout"
        }
      ]
    },
    {
      "cell_type": "code",
      "metadata": {
        "id": "utENcvrozEdL"
      },
      "source": [
        "EarlyStopping=tf.keras.callbacks.EarlyStopping(monitor='val_loss', patience=10, verbose=1, mode='min',restore_best_weights=True)"
      ],
      "execution_count": null,
      "outputs": []
    },
    {
      "cell_type": "code",
      "metadata": {
        "id": "5b5q_b8IzEdQ"
      },
      "source": [
        "model_ROT13.compile(loss='categorical_crossentropy',\n",
        "              optimizer=tf.keras.optimizers.RMSprop(learning_rate=0.0001, decay=1e-6),\n",
        "              metrics=['accuracy'])"
      ],
      "execution_count": null,
      "outputs": []
    },
    {
      "cell_type": "code",
      "metadata": {
        "id": "VUayQcxzzEdU",
        "outputId": "2d037fad-05b9-44db-d6ff-83a15e22ab85",
        "colab": {
          "base_uri": "https://localhost:8080/",
          "height": 1000
        }
      },
      "source": [
        "model_ROT13.fit(x=X_train,y=Y_train,epochs=1000,batch_size=10,validation_split=0.1,callbacks=EarlyStopping)"
      ],
      "execution_count": null,
      "outputs": [
        {
          "output_type": "stream",
          "text": [
            "Epoch 1/1000\n",
            "29/29 [==============================] - 0s 7ms/step - loss: 3.2639 - accuracy: 0.1111 - val_loss: 3.2612 - val_accuracy: 0.1562\n",
            "Epoch 2/1000\n",
            "29/29 [==============================] - 0s 3ms/step - loss: 3.2534 - accuracy: 0.1111 - val_loss: 3.2516 - val_accuracy: 0.1562\n",
            "Epoch 3/1000\n",
            "29/29 [==============================] - 0s 3ms/step - loss: 3.2438 - accuracy: 0.1111 - val_loss: 3.2422 - val_accuracy: 0.1562\n",
            "Epoch 4/1000\n",
            "29/29 [==============================] - 0s 3ms/step - loss: 3.2343 - accuracy: 0.1111 - val_loss: 3.2329 - val_accuracy: 0.1562\n",
            "Epoch 5/1000\n",
            "29/29 [==============================] - 0s 4ms/step - loss: 3.2248 - accuracy: 0.1389 - val_loss: 3.2234 - val_accuracy: 0.2188\n",
            "Epoch 6/1000\n",
            "29/29 [==============================] - 0s 3ms/step - loss: 3.2154 - accuracy: 0.1875 - val_loss: 3.2138 - val_accuracy: 0.2188\n",
            "Epoch 7/1000\n",
            "29/29 [==============================] - 0s 3ms/step - loss: 3.2058 - accuracy: 0.1875 - val_loss: 3.2041 - val_accuracy: 0.2188\n",
            "Epoch 8/1000\n",
            "29/29 [==============================] - 0s 3ms/step - loss: 3.1960 - accuracy: 0.2326 - val_loss: 3.1944 - val_accuracy: 0.2188\n",
            "Epoch 9/1000\n",
            "29/29 [==============================] - 0s 3ms/step - loss: 3.1863 - accuracy: 0.2326 - val_loss: 3.1848 - val_accuracy: 0.2188\n",
            "Epoch 10/1000\n",
            "29/29 [==============================] - 0s 3ms/step - loss: 3.1768 - accuracy: 0.2326 - val_loss: 3.1752 - val_accuracy: 0.2188\n",
            "Epoch 11/1000\n",
            "29/29 [==============================] - 0s 3ms/step - loss: 3.1673 - accuracy: 0.2326 - val_loss: 3.1656 - val_accuracy: 0.2188\n",
            "Epoch 12/1000\n",
            "29/29 [==============================] - 0s 3ms/step - loss: 3.1576 - accuracy: 0.2569 - val_loss: 3.1555 - val_accuracy: 0.2812\n",
            "Epoch 13/1000\n",
            "29/29 [==============================] - 0s 3ms/step - loss: 3.1478 - accuracy: 0.2882 - val_loss: 3.1453 - val_accuracy: 0.3438\n",
            "Epoch 14/1000\n",
            "29/29 [==============================] - 0s 3ms/step - loss: 3.1380 - accuracy: 0.3194 - val_loss: 3.1353 - val_accuracy: 0.3438\n",
            "Epoch 15/1000\n",
            "29/29 [==============================] - 0s 3ms/step - loss: 3.1278 - accuracy: 0.3542 - val_loss: 3.1245 - val_accuracy: 0.3438\n",
            "Epoch 16/1000\n",
            "29/29 [==============================] - 0s 3ms/step - loss: 3.1173 - accuracy: 0.3542 - val_loss: 3.1135 - val_accuracy: 0.3438\n",
            "Epoch 17/1000\n",
            "29/29 [==============================] - 0s 3ms/step - loss: 3.1065 - accuracy: 0.3542 - val_loss: 3.1021 - val_accuracy: 0.4375\n",
            "Epoch 18/1000\n",
            "29/29 [==============================] - 0s 3ms/step - loss: 3.0956 - accuracy: 0.4097 - val_loss: 3.0910 - val_accuracy: 0.4375\n",
            "Epoch 19/1000\n",
            "29/29 [==============================] - 0s 3ms/step - loss: 3.0845 - accuracy: 0.4688 - val_loss: 3.0794 - val_accuracy: 0.5312\n",
            "Epoch 20/1000\n",
            "29/29 [==============================] - 0s 3ms/step - loss: 3.0733 - accuracy: 0.5069 - val_loss: 3.0679 - val_accuracy: 0.5312\n",
            "Epoch 21/1000\n",
            "29/29 [==============================] - 0s 3ms/step - loss: 3.0620 - accuracy: 0.5069 - val_loss: 3.0561 - val_accuracy: 0.5312\n",
            "Epoch 22/1000\n",
            "29/29 [==============================] - 0s 3ms/step - loss: 3.0506 - accuracy: 0.5104 - val_loss: 3.0445 - val_accuracy: 0.6562\n",
            "Epoch 23/1000\n",
            "29/29 [==============================] - 0s 3ms/step - loss: 3.0391 - accuracy: 0.5417 - val_loss: 3.0327 - val_accuracy: 0.6562\n",
            "Epoch 24/1000\n",
            "29/29 [==============================] - 0s 4ms/step - loss: 3.0272 - accuracy: 0.5417 - val_loss: 3.0205 - val_accuracy: 0.6562\n",
            "Epoch 25/1000\n",
            "29/29 [==============================] - 0s 4ms/step - loss: 3.0149 - accuracy: 0.5417 - val_loss: 3.0076 - val_accuracy: 0.6562\n",
            "Epoch 26/1000\n",
            "29/29 [==============================] - 0s 3ms/step - loss: 3.0024 - accuracy: 0.5417 - val_loss: 2.9947 - val_accuracy: 0.6562\n",
            "Epoch 27/1000\n",
            "29/29 [==============================] - 0s 3ms/step - loss: 2.9898 - accuracy: 0.5521 - val_loss: 2.9814 - val_accuracy: 0.6875\n",
            "Epoch 28/1000\n",
            "29/29 [==============================] - 0s 3ms/step - loss: 2.9768 - accuracy: 0.5833 - val_loss: 2.9683 - val_accuracy: 0.6875\n",
            "Epoch 29/1000\n",
            "29/29 [==============================] - 0s 3ms/step - loss: 2.9635 - accuracy: 0.5833 - val_loss: 2.9546 - val_accuracy: 0.6875\n",
            "Epoch 30/1000\n",
            "29/29 [==============================] - 0s 3ms/step - loss: 2.9503 - accuracy: 0.5833 - val_loss: 2.9413 - val_accuracy: 0.6875\n",
            "Epoch 31/1000\n",
            "29/29 [==============================] - 0s 3ms/step - loss: 2.9371 - accuracy: 0.5833 - val_loss: 2.9277 - val_accuracy: 0.6875\n",
            "Epoch 32/1000\n",
            "29/29 [==============================] - 0s 3ms/step - loss: 2.9234 - accuracy: 0.5833 - val_loss: 2.9130 - val_accuracy: 0.6875\n",
            "Epoch 33/1000\n",
            "29/29 [==============================] - 0s 3ms/step - loss: 2.9091 - accuracy: 0.5833 - val_loss: 2.8983 - val_accuracy: 0.6875\n",
            "Epoch 34/1000\n",
            "29/29 [==============================] - 0s 3ms/step - loss: 2.8948 - accuracy: 0.5833 - val_loss: 2.8837 - val_accuracy: 0.6875\n",
            "Epoch 35/1000\n",
            "29/29 [==============================] - 0s 3ms/step - loss: 2.8803 - accuracy: 0.5833 - val_loss: 2.8687 - val_accuracy: 0.6875\n",
            "Epoch 36/1000\n",
            "29/29 [==============================] - 0s 3ms/step - loss: 2.8653 - accuracy: 0.6215 - val_loss: 2.8534 - val_accuracy: 0.7188\n",
            "Epoch 37/1000\n",
            "29/29 [==============================] - 0s 3ms/step - loss: 2.8501 - accuracy: 0.6701 - val_loss: 2.8381 - val_accuracy: 0.7500\n",
            "Epoch 38/1000\n",
            "29/29 [==============================] - 0s 3ms/step - loss: 2.8347 - accuracy: 0.6875 - val_loss: 2.8224 - val_accuracy: 0.7500\n",
            "Epoch 39/1000\n",
            "29/29 [==============================] - 0s 3ms/step - loss: 2.8191 - accuracy: 0.7083 - val_loss: 2.8063 - val_accuracy: 0.8125\n",
            "Epoch 40/1000\n",
            "29/29 [==============================] - 0s 3ms/step - loss: 2.8032 - accuracy: 0.7257 - val_loss: 2.7900 - val_accuracy: 0.8125\n",
            "Epoch 41/1000\n",
            "29/29 [==============================] - 0s 3ms/step - loss: 2.7870 - accuracy: 0.7257 - val_loss: 2.7734 - val_accuracy: 0.8125\n",
            "Epoch 42/1000\n",
            "29/29 [==============================] - 0s 3ms/step - loss: 2.7706 - accuracy: 0.7257 - val_loss: 2.7571 - val_accuracy: 0.8125\n",
            "Epoch 43/1000\n",
            "29/29 [==============================] - 0s 3ms/step - loss: 2.7538 - accuracy: 0.7257 - val_loss: 2.7399 - val_accuracy: 0.8125\n",
            "Epoch 44/1000\n",
            "29/29 [==============================] - 0s 4ms/step - loss: 2.7366 - accuracy: 0.7257 - val_loss: 2.7224 - val_accuracy: 0.8125\n",
            "Epoch 45/1000\n",
            "29/29 [==============================] - 0s 4ms/step - loss: 2.7194 - accuracy: 0.7257 - val_loss: 2.7048 - val_accuracy: 0.8125\n",
            "Epoch 46/1000\n",
            "29/29 [==============================] - 0s 3ms/step - loss: 2.7014 - accuracy: 0.7257 - val_loss: 2.6869 - val_accuracy: 0.8125\n",
            "Epoch 47/1000\n",
            "29/29 [==============================] - 0s 3ms/step - loss: 2.6829 - accuracy: 0.7257 - val_loss: 2.6676 - val_accuracy: 0.8125\n",
            "Epoch 48/1000\n",
            "29/29 [==============================] - 0s 3ms/step - loss: 2.6639 - accuracy: 0.7257 - val_loss: 2.6483 - val_accuracy: 0.8125\n",
            "Epoch 49/1000\n",
            "29/29 [==============================] - 0s 3ms/step - loss: 2.6450 - accuracy: 0.7257 - val_loss: 2.6295 - val_accuracy: 0.8125\n",
            "Epoch 50/1000\n",
            "29/29 [==============================] - 0s 3ms/step - loss: 2.6262 - accuracy: 0.7257 - val_loss: 2.6101 - val_accuracy: 0.8125\n",
            "Epoch 51/1000\n",
            "29/29 [==============================] - 0s 3ms/step - loss: 2.6068 - accuracy: 0.7500 - val_loss: 2.5901 - val_accuracy: 0.8750\n",
            "Epoch 52/1000\n",
            "29/29 [==============================] - 0s 3ms/step - loss: 2.5870 - accuracy: 0.7674 - val_loss: 2.5702 - val_accuracy: 0.8750\n",
            "Epoch 53/1000\n",
            "29/29 [==============================] - 0s 3ms/step - loss: 2.5672 - accuracy: 0.7674 - val_loss: 2.5502 - val_accuracy: 0.8750\n",
            "Epoch 54/1000\n",
            "29/29 [==============================] - 0s 4ms/step - loss: 2.5471 - accuracy: 0.7569 - val_loss: 2.5296 - val_accuracy: 0.8750\n",
            "Epoch 55/1000\n",
            "29/29 [==============================] - 0s 3ms/step - loss: 2.5272 - accuracy: 0.7535 - val_loss: 2.5091 - val_accuracy: 0.8750\n",
            "Epoch 56/1000\n",
            "29/29 [==============================] - 0s 3ms/step - loss: 2.5067 - accuracy: 0.7361 - val_loss: 2.4880 - val_accuracy: 0.8125\n",
            "Epoch 57/1000\n",
            "29/29 [==============================] - 0s 3ms/step - loss: 2.4852 - accuracy: 0.7361 - val_loss: 2.4659 - val_accuracy: 0.8125\n",
            "Epoch 58/1000\n",
            "29/29 [==============================] - 0s 3ms/step - loss: 2.4637 - accuracy: 0.7361 - val_loss: 2.4445 - val_accuracy: 0.8125\n",
            "Epoch 59/1000\n",
            "29/29 [==============================] - 0s 3ms/step - loss: 2.4422 - accuracy: 0.7361 - val_loss: 2.4224 - val_accuracy: 0.8125\n",
            "Epoch 60/1000\n",
            "29/29 [==============================] - 0s 3ms/step - loss: 2.4206 - accuracy: 0.7500 - val_loss: 2.4001 - val_accuracy: 0.8125\n",
            "Epoch 61/1000\n",
            "29/29 [==============================] - 0s 3ms/step - loss: 2.3989 - accuracy: 0.7361 - val_loss: 2.3788 - val_accuracy: 0.8125\n",
            "Epoch 62/1000\n",
            "29/29 [==============================] - 0s 3ms/step - loss: 2.3775 - accuracy: 0.7431 - val_loss: 2.3563 - val_accuracy: 0.8750\n",
            "Epoch 63/1000\n",
            "29/29 [==============================] - 0s 3ms/step - loss: 2.3555 - accuracy: 0.7674 - val_loss: 2.3338 - val_accuracy: 0.9062\n",
            "Epoch 64/1000\n",
            "29/29 [==============================] - 0s 3ms/step - loss: 2.3335 - accuracy: 0.7917 - val_loss: 2.3119 - val_accuracy: 0.9062\n",
            "Epoch 65/1000\n",
            "29/29 [==============================] - 0s 4ms/step - loss: 2.3107 - accuracy: 0.7951 - val_loss: 2.2883 - val_accuracy: 0.9062\n",
            "Epoch 66/1000\n",
            "29/29 [==============================] - 0s 3ms/step - loss: 2.2882 - accuracy: 0.7951 - val_loss: 2.2656 - val_accuracy: 0.9062\n",
            "Epoch 67/1000\n",
            "29/29 [==============================] - 0s 3ms/step - loss: 2.2654 - accuracy: 0.7951 - val_loss: 2.2426 - val_accuracy: 0.9062\n",
            "Epoch 68/1000\n",
            "29/29 [==============================] - 0s 3ms/step - loss: 2.2425 - accuracy: 0.7951 - val_loss: 2.2190 - val_accuracy: 0.9062\n",
            "Epoch 69/1000\n",
            "29/29 [==============================] - 0s 3ms/step - loss: 2.2189 - accuracy: 0.7951 - val_loss: 2.1948 - val_accuracy: 0.9062\n",
            "Epoch 70/1000\n",
            "29/29 [==============================] - 0s 3ms/step - loss: 2.1951 - accuracy: 0.7951 - val_loss: 2.1702 - val_accuracy: 0.9062\n",
            "Epoch 71/1000\n",
            "29/29 [==============================] - 0s 3ms/step - loss: 2.1710 - accuracy: 0.7951 - val_loss: 2.1457 - val_accuracy: 0.9062\n",
            "Epoch 72/1000\n",
            "29/29 [==============================] - 0s 3ms/step - loss: 2.1474 - accuracy: 0.7951 - val_loss: 2.1220 - val_accuracy: 0.9062\n",
            "Epoch 73/1000\n",
            "29/29 [==============================] - 0s 3ms/step - loss: 2.1234 - accuracy: 0.7951 - val_loss: 2.0974 - val_accuracy: 0.9062\n",
            "Epoch 74/1000\n",
            "29/29 [==============================] - 0s 3ms/step - loss: 2.0984 - accuracy: 0.8090 - val_loss: 2.0711 - val_accuracy: 0.9062\n",
            "Epoch 75/1000\n",
            "29/29 [==============================] - 0s 4ms/step - loss: 2.0738 - accuracy: 0.8403 - val_loss: 2.0465 - val_accuracy: 0.9062\n",
            "Epoch 76/1000\n",
            "29/29 [==============================] - 0s 3ms/step - loss: 2.0496 - accuracy: 0.8403 - val_loss: 2.0219 - val_accuracy: 0.9062\n",
            "Epoch 77/1000\n",
            "29/29 [==============================] - 0s 3ms/step - loss: 2.0250 - accuracy: 0.8403 - val_loss: 1.9968 - val_accuracy: 0.9062\n",
            "Epoch 78/1000\n",
            "29/29 [==============================] - 0s 3ms/step - loss: 2.0003 - accuracy: 0.8403 - val_loss: 1.9721 - val_accuracy: 0.9062\n",
            "Epoch 79/1000\n",
            "29/29 [==============================] - 0s 3ms/step - loss: 1.9757 - accuracy: 0.8403 - val_loss: 1.9475 - val_accuracy: 0.9375\n",
            "Epoch 80/1000\n",
            "29/29 [==============================] - 0s 3ms/step - loss: 1.9508 - accuracy: 0.8472 - val_loss: 1.9223 - val_accuracy: 0.9375\n",
            "Epoch 81/1000\n",
            "29/29 [==============================] - 0s 3ms/step - loss: 1.9263 - accuracy: 0.8715 - val_loss: 1.8980 - val_accuracy: 0.9375\n",
            "Epoch 82/1000\n",
            "29/29 [==============================] - 0s 3ms/step - loss: 1.9015 - accuracy: 0.8715 - val_loss: 1.8730 - val_accuracy: 0.9375\n",
            "Epoch 83/1000\n",
            "29/29 [==============================] - 0s 3ms/step - loss: 1.8771 - accuracy: 0.8715 - val_loss: 1.8486 - val_accuracy: 0.9375\n",
            "Epoch 84/1000\n",
            "29/29 [==============================] - 0s 3ms/step - loss: 1.8525 - accuracy: 0.8715 - val_loss: 1.8232 - val_accuracy: 0.9375\n",
            "Epoch 85/1000\n",
            "29/29 [==============================] - 0s 4ms/step - loss: 1.8280 - accuracy: 0.8715 - val_loss: 1.7985 - val_accuracy: 0.9375\n",
            "Epoch 86/1000\n",
            "29/29 [==============================] - 0s 3ms/step - loss: 1.8032 - accuracy: 0.8715 - val_loss: 1.7734 - val_accuracy: 0.9375\n",
            "Epoch 87/1000\n",
            "29/29 [==============================] - 0s 3ms/step - loss: 1.7780 - accuracy: 0.8715 - val_loss: 1.7478 - val_accuracy: 0.9375\n",
            "Epoch 88/1000\n",
            "29/29 [==============================] - 0s 3ms/step - loss: 1.7531 - accuracy: 0.8715 - val_loss: 1.7226 - val_accuracy: 0.9375\n",
            "Epoch 89/1000\n",
            "29/29 [==============================] - 0s 3ms/step - loss: 1.7282 - accuracy: 0.8715 - val_loss: 1.6975 - val_accuracy: 0.9375\n",
            "Epoch 90/1000\n",
            "29/29 [==============================] - 0s 3ms/step - loss: 1.7030 - accuracy: 0.8715 - val_loss: 1.6713 - val_accuracy: 0.9375\n",
            "Epoch 91/1000\n",
            "29/29 [==============================] - 0s 3ms/step - loss: 1.6775 - accuracy: 0.8715 - val_loss: 1.6455 - val_accuracy: 0.9375\n",
            "Epoch 92/1000\n",
            "29/29 [==============================] - 0s 3ms/step - loss: 1.6525 - accuracy: 0.8715 - val_loss: 1.6204 - val_accuracy: 0.9375\n",
            "Epoch 93/1000\n",
            "29/29 [==============================] - 0s 3ms/step - loss: 1.6275 - accuracy: 0.8715 - val_loss: 1.5948 - val_accuracy: 0.9375\n",
            "Epoch 94/1000\n",
            "29/29 [==============================] - 0s 3ms/step - loss: 1.6026 - accuracy: 0.8715 - val_loss: 1.5696 - val_accuracy: 0.9375\n",
            "Epoch 95/1000\n",
            "29/29 [==============================] - 0s 4ms/step - loss: 1.5779 - accuracy: 0.8715 - val_loss: 1.5441 - val_accuracy: 0.9375\n",
            "Epoch 96/1000\n",
            "29/29 [==============================] - 0s 3ms/step - loss: 1.5533 - accuracy: 0.8715 - val_loss: 1.5189 - val_accuracy: 0.9375\n",
            "Epoch 97/1000\n",
            "29/29 [==============================] - 0s 3ms/step - loss: 1.5283 - accuracy: 0.8715 - val_loss: 1.4929 - val_accuracy: 0.9375\n",
            "Epoch 98/1000\n",
            "29/29 [==============================] - 0s 3ms/step - loss: 1.5038 - accuracy: 0.8715 - val_loss: 1.4683 - val_accuracy: 0.9375\n",
            "Epoch 99/1000\n",
            "29/29 [==============================] - 0s 3ms/step - loss: 1.4792 - accuracy: 0.8924 - val_loss: 1.4435 - val_accuracy: 0.9375\n",
            "Epoch 100/1000\n",
            "29/29 [==============================] - 0s 3ms/step - loss: 1.4547 - accuracy: 0.9132 - val_loss: 1.4186 - val_accuracy: 0.9375\n",
            "Epoch 101/1000\n",
            "29/29 [==============================] - 0s 3ms/step - loss: 1.4299 - accuracy: 0.9271 - val_loss: 1.3936 - val_accuracy: 0.9375\n",
            "Epoch 102/1000\n",
            "29/29 [==============================] - 0s 3ms/step - loss: 1.4056 - accuracy: 0.9271 - val_loss: 1.3695 - val_accuracy: 0.9375\n",
            "Epoch 103/1000\n",
            "29/29 [==============================] - 0s 3ms/step - loss: 1.3816 - accuracy: 0.9271 - val_loss: 1.3452 - val_accuracy: 0.9375\n",
            "Epoch 104/1000\n",
            "29/29 [==============================] - 0s 3ms/step - loss: 1.3576 - accuracy: 0.9271 - val_loss: 1.3206 - val_accuracy: 0.9375\n",
            "Epoch 105/1000\n",
            "29/29 [==============================] - 0s 4ms/step - loss: 1.3336 - accuracy: 0.9271 - val_loss: 1.2957 - val_accuracy: 0.9375\n",
            "Epoch 106/1000\n",
            "29/29 [==============================] - 0s 3ms/step - loss: 1.3091 - accuracy: 0.9271 - val_loss: 1.2705 - val_accuracy: 0.9375\n",
            "Epoch 107/1000\n",
            "29/29 [==============================] - 0s 3ms/step - loss: 1.2844 - accuracy: 0.9271 - val_loss: 1.2459 - val_accuracy: 0.9375\n",
            "Epoch 108/1000\n",
            "29/29 [==============================] - 0s 3ms/step - loss: 1.2597 - accuracy: 0.9271 - val_loss: 1.2209 - val_accuracy: 0.9375\n",
            "Epoch 109/1000\n",
            "29/29 [==============================] - 0s 3ms/step - loss: 1.2351 - accuracy: 0.9271 - val_loss: 1.1959 - val_accuracy: 0.9375\n",
            "Epoch 110/1000\n",
            "29/29 [==============================] - 0s 3ms/step - loss: 1.2112 - accuracy: 0.9271 - val_loss: 1.1716 - val_accuracy: 0.9375\n",
            "Epoch 111/1000\n",
            "29/29 [==============================] - 0s 3ms/step - loss: 1.1876 - accuracy: 0.9271 - val_loss: 1.1479 - val_accuracy: 0.9375\n",
            "Epoch 112/1000\n",
            "29/29 [==============================] - 0s 3ms/step - loss: 1.1638 - accuracy: 0.9271 - val_loss: 1.1243 - val_accuracy: 0.9375\n",
            "Epoch 113/1000\n",
            "29/29 [==============================] - 0s 3ms/step - loss: 1.1401 - accuracy: 0.9410 - val_loss: 1.0996 - val_accuracy: 0.9688\n",
            "Epoch 114/1000\n",
            "29/29 [==============================] - 0s 3ms/step - loss: 1.1162 - accuracy: 0.9583 - val_loss: 1.0752 - val_accuracy: 0.9688\n",
            "Epoch 115/1000\n",
            "29/29 [==============================] - 0s 4ms/step - loss: 1.0931 - accuracy: 0.9583 - val_loss: 1.0511 - val_accuracy: 0.9688\n",
            "Epoch 116/1000\n",
            "29/29 [==============================] - 0s 3ms/step - loss: 1.0697 - accuracy: 0.9583 - val_loss: 1.0277 - val_accuracy: 0.9688\n",
            "Epoch 117/1000\n",
            "29/29 [==============================] - 0s 3ms/step - loss: 1.0467 - accuracy: 0.9583 - val_loss: 1.0043 - val_accuracy: 0.9688\n",
            "Epoch 118/1000\n",
            "29/29 [==============================] - 0s 3ms/step - loss: 1.0238 - accuracy: 0.9583 - val_loss: 0.9808 - val_accuracy: 0.9688\n",
            "Epoch 119/1000\n",
            "29/29 [==============================] - 0s 3ms/step - loss: 1.0011 - accuracy: 0.9583 - val_loss: 0.9577 - val_accuracy: 0.9688\n",
            "Epoch 120/1000\n",
            "29/29 [==============================] - 0s 3ms/step - loss: 0.9786 - accuracy: 0.9688 - val_loss: 0.9353 - val_accuracy: 1.0000\n",
            "Epoch 121/1000\n",
            "29/29 [==============================] - 0s 3ms/step - loss: 0.9566 - accuracy: 0.9826 - val_loss: 0.9133 - val_accuracy: 1.0000\n",
            "Epoch 122/1000\n",
            "29/29 [==============================] - 0s 3ms/step - loss: 0.9346 - accuracy: 0.9826 - val_loss: 0.8907 - val_accuracy: 1.0000\n",
            "Epoch 123/1000\n",
            "29/29 [==============================] - 0s 3ms/step - loss: 0.9129 - accuracy: 0.9826 - val_loss: 0.8685 - val_accuracy: 1.0000\n",
            "Epoch 124/1000\n",
            "29/29 [==============================] - 0s 3ms/step - loss: 0.8914 - accuracy: 0.9826 - val_loss: 0.8464 - val_accuracy: 1.0000\n",
            "Epoch 125/1000\n",
            "29/29 [==============================] - 0s 3ms/step - loss: 0.8700 - accuracy: 0.9826 - val_loss: 0.8245 - val_accuracy: 1.0000\n",
            "Epoch 126/1000\n",
            "29/29 [==============================] - 0s 3ms/step - loss: 0.8487 - accuracy: 0.9826 - val_loss: 0.8021 - val_accuracy: 1.0000\n",
            "Epoch 127/1000\n",
            "29/29 [==============================] - 0s 3ms/step - loss: 0.8276 - accuracy: 0.9826 - val_loss: 0.7813 - val_accuracy: 1.0000\n",
            "Epoch 128/1000\n",
            "29/29 [==============================] - 0s 3ms/step - loss: 0.8067 - accuracy: 0.9826 - val_loss: 0.7599 - val_accuracy: 1.0000\n",
            "Epoch 129/1000\n",
            "29/29 [==============================] - 0s 3ms/step - loss: 0.7864 - accuracy: 0.9826 - val_loss: 0.7396 - val_accuracy: 1.0000\n",
            "Epoch 130/1000\n",
            "29/29 [==============================] - 0s 3ms/step - loss: 0.7665 - accuracy: 0.9931 - val_loss: 0.7191 - val_accuracy: 1.0000\n",
            "Epoch 131/1000\n",
            "29/29 [==============================] - 0s 3ms/step - loss: 0.7462 - accuracy: 1.0000 - val_loss: 0.6993 - val_accuracy: 1.0000\n",
            "Epoch 132/1000\n",
            "29/29 [==============================] - 0s 3ms/step - loss: 0.7267 - accuracy: 1.0000 - val_loss: 0.6795 - val_accuracy: 1.0000\n",
            "Epoch 133/1000\n",
            "29/29 [==============================] - 0s 3ms/step - loss: 0.7079 - accuracy: 1.0000 - val_loss: 0.6607 - val_accuracy: 1.0000\n",
            "Epoch 134/1000\n",
            "29/29 [==============================] - 0s 3ms/step - loss: 0.6894 - accuracy: 1.0000 - val_loss: 0.6420 - val_accuracy: 1.0000\n",
            "Epoch 135/1000\n",
            "29/29 [==============================] - 0s 4ms/step - loss: 0.6709 - accuracy: 1.0000 - val_loss: 0.6233 - val_accuracy: 1.0000\n",
            "Epoch 136/1000\n",
            "29/29 [==============================] - 0s 3ms/step - loss: 0.6527 - accuracy: 1.0000 - val_loss: 0.6050 - val_accuracy: 1.0000\n",
            "Epoch 137/1000\n",
            "29/29 [==============================] - 0s 3ms/step - loss: 0.6345 - accuracy: 1.0000 - val_loss: 0.5864 - val_accuracy: 1.0000\n",
            "Epoch 138/1000\n",
            "29/29 [==============================] - 0s 3ms/step - loss: 0.6162 - accuracy: 1.0000 - val_loss: 0.5678 - val_accuracy: 1.0000\n",
            "Epoch 139/1000\n",
            "29/29 [==============================] - 0s 3ms/step - loss: 0.5988 - accuracy: 1.0000 - val_loss: 0.5504 - val_accuracy: 1.0000\n",
            "Epoch 140/1000\n",
            "29/29 [==============================] - 0s 3ms/step - loss: 0.5816 - accuracy: 1.0000 - val_loss: 0.5328 - val_accuracy: 1.0000\n",
            "Epoch 141/1000\n",
            "29/29 [==============================] - 0s 3ms/step - loss: 0.5647 - accuracy: 1.0000 - val_loss: 0.5166 - val_accuracy: 1.0000\n",
            "Epoch 142/1000\n",
            "29/29 [==============================] - 0s 3ms/step - loss: 0.5481 - accuracy: 1.0000 - val_loss: 0.4998 - val_accuracy: 1.0000\n",
            "Epoch 143/1000\n",
            "29/29 [==============================] - 0s 3ms/step - loss: 0.5318 - accuracy: 1.0000 - val_loss: 0.4842 - val_accuracy: 1.0000\n",
            "Epoch 144/1000\n",
            "29/29 [==============================] - 0s 3ms/step - loss: 0.5155 - accuracy: 1.0000 - val_loss: 0.4678 - val_accuracy: 1.0000\n",
            "Epoch 145/1000\n",
            "29/29 [==============================] - 0s 3ms/step - loss: 0.4998 - accuracy: 1.0000 - val_loss: 0.4526 - val_accuracy: 1.0000\n",
            "Epoch 146/1000\n",
            "29/29 [==============================] - 0s 4ms/step - loss: 0.4842 - accuracy: 1.0000 - val_loss: 0.4371 - val_accuracy: 1.0000\n",
            "Epoch 147/1000\n",
            "29/29 [==============================] - 0s 3ms/step - loss: 0.4688 - accuracy: 1.0000 - val_loss: 0.4219 - val_accuracy: 1.0000\n",
            "Epoch 148/1000\n",
            "29/29 [==============================] - 0s 3ms/step - loss: 0.4539 - accuracy: 1.0000 - val_loss: 0.4068 - val_accuracy: 1.0000\n",
            "Epoch 149/1000\n",
            "29/29 [==============================] - 0s 3ms/step - loss: 0.4392 - accuracy: 1.0000 - val_loss: 0.3924 - val_accuracy: 1.0000\n",
            "Epoch 150/1000\n",
            "29/29 [==============================] - 0s 3ms/step - loss: 0.4245 - accuracy: 1.0000 - val_loss: 0.3777 - val_accuracy: 1.0000\n",
            "Epoch 151/1000\n",
            "29/29 [==============================] - 0s 3ms/step - loss: 0.4106 - accuracy: 1.0000 - val_loss: 0.3648 - val_accuracy: 1.0000\n",
            "Epoch 152/1000\n",
            "29/29 [==============================] - 0s 3ms/step - loss: 0.3969 - accuracy: 1.0000 - val_loss: 0.3514 - val_accuracy: 1.0000\n",
            "Epoch 153/1000\n",
            "29/29 [==============================] - 0s 3ms/step - loss: 0.3832 - accuracy: 1.0000 - val_loss: 0.3382 - val_accuracy: 1.0000\n",
            "Epoch 154/1000\n",
            "29/29 [==============================] - 0s 3ms/step - loss: 0.3700 - accuracy: 1.0000 - val_loss: 0.3258 - val_accuracy: 1.0000\n",
            "Epoch 155/1000\n",
            "29/29 [==============================] - 0s 3ms/step - loss: 0.3575 - accuracy: 1.0000 - val_loss: 0.3137 - val_accuracy: 1.0000\n",
            "Epoch 156/1000\n",
            "29/29 [==============================] - 0s 3ms/step - loss: 0.3450 - accuracy: 1.0000 - val_loss: 0.3019 - val_accuracy: 1.0000\n",
            "Epoch 157/1000\n",
            "29/29 [==============================] - 0s 3ms/step - loss: 0.3328 - accuracy: 1.0000 - val_loss: 0.2905 - val_accuracy: 1.0000\n",
            "Epoch 158/1000\n",
            "29/29 [==============================] - 0s 3ms/step - loss: 0.3207 - accuracy: 1.0000 - val_loss: 0.2790 - val_accuracy: 1.0000\n",
            "Epoch 159/1000\n",
            "29/29 [==============================] - 0s 3ms/step - loss: 0.3090 - accuracy: 1.0000 - val_loss: 0.2678 - val_accuracy: 1.0000\n",
            "Epoch 160/1000\n",
            "29/29 [==============================] - 0s 3ms/step - loss: 0.2974 - accuracy: 1.0000 - val_loss: 0.2574 - val_accuracy: 1.0000\n",
            "Epoch 161/1000\n",
            "29/29 [==============================] - 0s 3ms/step - loss: 0.2860 - accuracy: 1.0000 - val_loss: 0.2468 - val_accuracy: 1.0000\n",
            "Epoch 162/1000\n",
            "29/29 [==============================] - 0s 3ms/step - loss: 0.2750 - accuracy: 1.0000 - val_loss: 0.2367 - val_accuracy: 1.0000\n",
            "Epoch 163/1000\n",
            "29/29 [==============================] - 0s 3ms/step - loss: 0.2642 - accuracy: 1.0000 - val_loss: 0.2266 - val_accuracy: 1.0000\n",
            "Epoch 164/1000\n",
            "29/29 [==============================] - 0s 3ms/step - loss: 0.2538 - accuracy: 1.0000 - val_loss: 0.2174 - val_accuracy: 1.0000\n",
            "Epoch 165/1000\n",
            "29/29 [==============================] - 0s 3ms/step - loss: 0.2440 - accuracy: 1.0000 - val_loss: 0.2083 - val_accuracy: 1.0000\n",
            "Epoch 166/1000\n",
            "29/29 [==============================] - 0s 3ms/step - loss: 0.2345 - accuracy: 1.0000 - val_loss: 0.1999 - val_accuracy: 1.0000\n",
            "Epoch 167/1000\n",
            "29/29 [==============================] - 0s 3ms/step - loss: 0.2251 - accuracy: 1.0000 - val_loss: 0.1913 - val_accuracy: 1.0000\n",
            "Epoch 168/1000\n",
            "29/29 [==============================] - 0s 3ms/step - loss: 0.2159 - accuracy: 1.0000 - val_loss: 0.1833 - val_accuracy: 1.0000\n",
            "Epoch 169/1000\n",
            "29/29 [==============================] - 0s 3ms/step - loss: 0.2071 - accuracy: 1.0000 - val_loss: 0.1752 - val_accuracy: 1.0000\n",
            "Epoch 170/1000\n",
            "29/29 [==============================] - 0s 3ms/step - loss: 0.1984 - accuracy: 1.0000 - val_loss: 0.1673 - val_accuracy: 1.0000\n",
            "Epoch 171/1000\n",
            "29/29 [==============================] - 0s 3ms/step - loss: 0.1901 - accuracy: 1.0000 - val_loss: 0.1600 - val_accuracy: 1.0000\n",
            "Epoch 172/1000\n",
            "29/29 [==============================] - 0s 3ms/step - loss: 0.1821 - accuracy: 1.0000 - val_loss: 0.1531 - val_accuracy: 1.0000\n",
            "Epoch 173/1000\n",
            "29/29 [==============================] - 0s 3ms/step - loss: 0.1743 - accuracy: 1.0000 - val_loss: 0.1461 - val_accuracy: 1.0000\n",
            "Epoch 174/1000\n",
            "29/29 [==============================] - 0s 3ms/step - loss: 0.1670 - accuracy: 1.0000 - val_loss: 0.1397 - val_accuracy: 1.0000\n",
            "Epoch 175/1000\n",
            "29/29 [==============================] - 0s 4ms/step - loss: 0.1602 - accuracy: 1.0000 - val_loss: 0.1335 - val_accuracy: 1.0000\n",
            "Epoch 176/1000\n",
            "29/29 [==============================] - 0s 4ms/step - loss: 0.1533 - accuracy: 1.0000 - val_loss: 0.1276 - val_accuracy: 1.0000\n",
            "Epoch 177/1000\n",
            "29/29 [==============================] - 0s 3ms/step - loss: 0.1468 - accuracy: 1.0000 - val_loss: 0.1219 - val_accuracy: 1.0000\n",
            "Epoch 178/1000\n",
            "29/29 [==============================] - 0s 3ms/step - loss: 0.1405 - accuracy: 1.0000 - val_loss: 0.1163 - val_accuracy: 1.0000\n",
            "Epoch 179/1000\n",
            "29/29 [==============================] - 0s 3ms/step - loss: 0.1344 - accuracy: 1.0000 - val_loss: 0.1111 - val_accuracy: 1.0000\n",
            "Epoch 180/1000\n",
            "29/29 [==============================] - 0s 3ms/step - loss: 0.1285 - accuracy: 1.0000 - val_loss: 0.1059 - val_accuracy: 1.0000\n",
            "Epoch 181/1000\n",
            "29/29 [==============================] - 0s 3ms/step - loss: 0.1228 - accuracy: 1.0000 - val_loss: 0.1012 - val_accuracy: 1.0000\n",
            "Epoch 182/1000\n",
            "29/29 [==============================] - 0s 3ms/step - loss: 0.1173 - accuracy: 1.0000 - val_loss: 0.0964 - val_accuracy: 1.0000\n",
            "Epoch 183/1000\n",
            "29/29 [==============================] - 0s 3ms/step - loss: 0.1119 - accuracy: 1.0000 - val_loss: 0.0919 - val_accuracy: 1.0000\n",
            "Epoch 184/1000\n",
            "29/29 [==============================] - 0s 3ms/step - loss: 0.1068 - accuracy: 1.0000 - val_loss: 0.0877 - val_accuracy: 1.0000\n",
            "Epoch 185/1000\n",
            "29/29 [==============================] - 0s 3ms/step - loss: 0.1020 - accuracy: 1.0000 - val_loss: 0.0835 - val_accuracy: 1.0000\n",
            "Epoch 186/1000\n",
            "29/29 [==============================] - 0s 4ms/step - loss: 0.0973 - accuracy: 1.0000 - val_loss: 0.0795 - val_accuracy: 1.0000\n",
            "Epoch 187/1000\n",
            "29/29 [==============================] - 0s 3ms/step - loss: 0.0930 - accuracy: 1.0000 - val_loss: 0.0758 - val_accuracy: 1.0000\n",
            "Epoch 188/1000\n",
            "29/29 [==============================] - 0s 3ms/step - loss: 0.0886 - accuracy: 1.0000 - val_loss: 0.0720 - val_accuracy: 1.0000\n",
            "Epoch 189/1000\n",
            "29/29 [==============================] - 0s 3ms/step - loss: 0.0843 - accuracy: 1.0000 - val_loss: 0.0686 - val_accuracy: 1.0000\n",
            "Epoch 190/1000\n",
            "29/29 [==============================] - 0s 3ms/step - loss: 0.0803 - accuracy: 1.0000 - val_loss: 0.0652 - val_accuracy: 1.0000\n",
            "Epoch 191/1000\n",
            "29/29 [==============================] - 0s 3ms/step - loss: 0.0765 - accuracy: 1.0000 - val_loss: 0.0621 - val_accuracy: 1.0000\n",
            "Epoch 192/1000\n",
            "29/29 [==============================] - 0s 3ms/step - loss: 0.0728 - accuracy: 1.0000 - val_loss: 0.0590 - val_accuracy: 1.0000\n",
            "Epoch 193/1000\n",
            "29/29 [==============================] - 0s 3ms/step - loss: 0.0694 - accuracy: 1.0000 - val_loss: 0.0562 - val_accuracy: 1.0000\n",
            "Epoch 194/1000\n",
            "29/29 [==============================] - 0s 3ms/step - loss: 0.0660 - accuracy: 1.0000 - val_loss: 0.0534 - val_accuracy: 1.0000\n",
            "Epoch 195/1000\n",
            "29/29 [==============================] - 0s 3ms/step - loss: 0.0628 - accuracy: 1.0000 - val_loss: 0.0508 - val_accuracy: 1.0000\n",
            "Epoch 196/1000\n",
            "29/29 [==============================] - 0s 3ms/step - loss: 0.0598 - accuracy: 1.0000 - val_loss: 0.0483 - val_accuracy: 1.0000\n",
            "Epoch 197/1000\n",
            "29/29 [==============================] - 0s 3ms/step - loss: 0.0570 - accuracy: 1.0000 - val_loss: 0.0459 - val_accuracy: 1.0000\n",
            "Epoch 198/1000\n",
            "29/29 [==============================] - 0s 3ms/step - loss: 0.0542 - accuracy: 1.0000 - val_loss: 0.0436 - val_accuracy: 1.0000\n",
            "Epoch 199/1000\n",
            "29/29 [==============================] - 0s 3ms/step - loss: 0.0515 - accuracy: 1.0000 - val_loss: 0.0413 - val_accuracy: 1.0000\n",
            "Epoch 200/1000\n",
            "29/29 [==============================] - 0s 3ms/step - loss: 0.0489 - accuracy: 1.0000 - val_loss: 0.0393 - val_accuracy: 1.0000\n",
            "Epoch 201/1000\n",
            "29/29 [==============================] - 0s 3ms/step - loss: 0.0465 - accuracy: 1.0000 - val_loss: 0.0373 - val_accuracy: 1.0000\n",
            "Epoch 202/1000\n",
            "29/29 [==============================] - 0s 3ms/step - loss: 0.0442 - accuracy: 1.0000 - val_loss: 0.0355 - val_accuracy: 1.0000\n",
            "Epoch 203/1000\n",
            "29/29 [==============================] - 0s 3ms/step - loss: 0.0420 - accuracy: 1.0000 - val_loss: 0.0336 - val_accuracy: 1.0000\n",
            "Epoch 204/1000\n",
            "29/29 [==============================] - 0s 3ms/step - loss: 0.0399 - accuracy: 1.0000 - val_loss: 0.0320 - val_accuracy: 1.0000\n",
            "Epoch 205/1000\n",
            "29/29 [==============================] - 0s 4ms/step - loss: 0.0379 - accuracy: 1.0000 - val_loss: 0.0303 - val_accuracy: 1.0000\n",
            "Epoch 206/1000\n",
            "29/29 [==============================] - 0s 3ms/step - loss: 0.0360 - accuracy: 1.0000 - val_loss: 0.0288 - val_accuracy: 1.0000\n",
            "Epoch 207/1000\n",
            "29/29 [==============================] - 0s 3ms/step - loss: 0.0342 - accuracy: 1.0000 - val_loss: 0.0272 - val_accuracy: 1.0000\n",
            "Epoch 208/1000\n",
            "29/29 [==============================] - 0s 3ms/step - loss: 0.0325 - accuracy: 1.0000 - val_loss: 0.0258 - val_accuracy: 1.0000\n",
            "Epoch 209/1000\n",
            "29/29 [==============================] - 0s 3ms/step - loss: 0.0308 - accuracy: 1.0000 - val_loss: 0.0244 - val_accuracy: 1.0000\n",
            "Epoch 210/1000\n",
            "29/29 [==============================] - 0s 3ms/step - loss: 0.0291 - accuracy: 1.0000 - val_loss: 0.0230 - val_accuracy: 1.0000\n",
            "Epoch 211/1000\n",
            "29/29 [==============================] - 0s 3ms/step - loss: 0.0276 - accuracy: 1.0000 - val_loss: 0.0219 - val_accuracy: 1.0000\n",
            "Epoch 212/1000\n",
            "29/29 [==============================] - 0s 3ms/step - loss: 0.0262 - accuracy: 1.0000 - val_loss: 0.0207 - val_accuracy: 1.0000\n",
            "Epoch 213/1000\n",
            "29/29 [==============================] - 0s 3ms/step - loss: 0.0248 - accuracy: 1.0000 - val_loss: 0.0196 - val_accuracy: 1.0000\n",
            "Epoch 214/1000\n",
            "29/29 [==============================] - 0s 3ms/step - loss: 0.0235 - accuracy: 1.0000 - val_loss: 0.0185 - val_accuracy: 1.0000\n",
            "Epoch 215/1000\n",
            "29/29 [==============================] - 0s 4ms/step - loss: 0.0222 - accuracy: 1.0000 - val_loss: 0.0175 - val_accuracy: 1.0000\n",
            "Epoch 216/1000\n",
            "29/29 [==============================] - 0s 3ms/step - loss: 0.0210 - accuracy: 1.0000 - val_loss: 0.0165 - val_accuracy: 1.0000\n",
            "Epoch 217/1000\n",
            "29/29 [==============================] - 0s 3ms/step - loss: 0.0199 - accuracy: 1.0000 - val_loss: 0.0156 - val_accuracy: 1.0000\n",
            "Epoch 218/1000\n",
            "29/29 [==============================] - 0s 3ms/step - loss: 0.0189 - accuracy: 1.0000 - val_loss: 0.0148 - val_accuracy: 1.0000\n",
            "Epoch 219/1000\n",
            "29/29 [==============================] - 0s 3ms/step - loss: 0.0178 - accuracy: 1.0000 - val_loss: 0.0140 - val_accuracy: 1.0000\n",
            "Epoch 220/1000\n",
            "29/29 [==============================] - 0s 3ms/step - loss: 0.0169 - accuracy: 1.0000 - val_loss: 0.0132 - val_accuracy: 1.0000\n",
            "Epoch 221/1000\n",
            "29/29 [==============================] - 0s 3ms/step - loss: 0.0159 - accuracy: 1.0000 - val_loss: 0.0125 - val_accuracy: 1.0000\n",
            "Epoch 222/1000\n",
            "29/29 [==============================] - 0s 3ms/step - loss: 0.0150 - accuracy: 1.0000 - val_loss: 0.0118 - val_accuracy: 1.0000\n",
            "Epoch 223/1000\n",
            "29/29 [==============================] - 0s 3ms/step - loss: 0.0142 - accuracy: 1.0000 - val_loss: 0.0111 - val_accuracy: 1.0000\n",
            "Epoch 224/1000\n",
            "29/29 [==============================] - 0s 3ms/step - loss: 0.0134 - accuracy: 1.0000 - val_loss: 0.0105 - val_accuracy: 1.0000\n",
            "Epoch 225/1000\n",
            "29/29 [==============================] - 0s 3ms/step - loss: 0.0127 - accuracy: 1.0000 - val_loss: 0.0099 - val_accuracy: 1.0000\n",
            "Epoch 226/1000\n",
            "29/29 [==============================] - 0s 3ms/step - loss: 0.0120 - accuracy: 1.0000 - val_loss: 0.0093 - val_accuracy: 1.0000\n",
            "Epoch 227/1000\n",
            "29/29 [==============================] - 0s 3ms/step - loss: 0.0113 - accuracy: 1.0000 - val_loss: 0.0088 - val_accuracy: 1.0000\n",
            "Epoch 228/1000\n",
            "29/29 [==============================] - 0s 3ms/step - loss: 0.0107 - accuracy: 1.0000 - val_loss: 0.0083 - val_accuracy: 1.0000\n",
            "Epoch 229/1000\n",
            "29/29 [==============================] - 0s 3ms/step - loss: 0.0101 - accuracy: 1.0000 - val_loss: 0.0078 - val_accuracy: 1.0000\n",
            "Epoch 230/1000\n",
            "29/29 [==============================] - 0s 3ms/step - loss: 0.0095 - accuracy: 1.0000 - val_loss: 0.0074 - val_accuracy: 1.0000\n",
            "Epoch 231/1000\n",
            "29/29 [==============================] - 0s 3ms/step - loss: 0.0089 - accuracy: 1.0000 - val_loss: 0.0069 - val_accuracy: 1.0000\n",
            "Epoch 232/1000\n",
            "29/29 [==============================] - 0s 3ms/step - loss: 0.0084 - accuracy: 1.0000 - val_loss: 0.0065 - val_accuracy: 1.0000\n",
            "Epoch 233/1000\n",
            "29/29 [==============================] - 0s 3ms/step - loss: 0.0079 - accuracy: 1.0000 - val_loss: 0.0061 - val_accuracy: 1.0000\n",
            "Epoch 234/1000\n",
            "29/29 [==============================] - 0s 4ms/step - loss: 0.0075 - accuracy: 1.0000 - val_loss: 0.0058 - val_accuracy: 1.0000\n",
            "Epoch 235/1000\n",
            "29/29 [==============================] - 0s 4ms/step - loss: 0.0070 - accuracy: 1.0000 - val_loss: 0.0054 - val_accuracy: 1.0000\n",
            "Epoch 236/1000\n",
            "29/29 [==============================] - 0s 4ms/step - loss: 0.0066 - accuracy: 1.0000 - val_loss: 0.0051 - val_accuracy: 1.0000\n",
            "Epoch 237/1000\n",
            "29/29 [==============================] - 0s 3ms/step - loss: 0.0062 - accuracy: 1.0000 - val_loss: 0.0048 - val_accuracy: 1.0000\n",
            "Epoch 238/1000\n",
            "29/29 [==============================] - 0s 3ms/step - loss: 0.0058 - accuracy: 1.0000 - val_loss: 0.0045 - val_accuracy: 1.0000\n",
            "Epoch 239/1000\n",
            "29/29 [==============================] - 0s 3ms/step - loss: 0.0055 - accuracy: 1.0000 - val_loss: 0.0042 - val_accuracy: 1.0000\n",
            "Epoch 240/1000\n",
            "29/29 [==============================] - 0s 3ms/step - loss: 0.0051 - accuracy: 1.0000 - val_loss: 0.0039 - val_accuracy: 1.0000\n",
            "Epoch 241/1000\n",
            "29/29 [==============================] - 0s 3ms/step - loss: 0.0048 - accuracy: 1.0000 - val_loss: 0.0037 - val_accuracy: 1.0000\n",
            "Epoch 242/1000\n",
            "29/29 [==============================] - 0s 3ms/step - loss: 0.0045 - accuracy: 1.0000 - val_loss: 0.0034 - val_accuracy: 1.0000\n",
            "Epoch 243/1000\n",
            "29/29 [==============================] - 0s 3ms/step - loss: 0.0043 - accuracy: 1.0000 - val_loss: 0.0032 - val_accuracy: 1.0000\n",
            "Epoch 244/1000\n",
            "29/29 [==============================] - 0s 3ms/step - loss: 0.0040 - accuracy: 1.0000 - val_loss: 0.0030 - val_accuracy: 1.0000\n",
            "Epoch 245/1000\n",
            "29/29 [==============================] - 0s 3ms/step - loss: 0.0038 - accuracy: 1.0000 - val_loss: 0.0028 - val_accuracy: 1.0000\n",
            "Epoch 246/1000\n",
            "29/29 [==============================] - 0s 4ms/step - loss: 0.0035 - accuracy: 1.0000 - val_loss: 0.0027 - val_accuracy: 1.0000\n",
            "Epoch 247/1000\n",
            "29/29 [==============================] - 0s 3ms/step - loss: 0.0033 - accuracy: 1.0000 - val_loss: 0.0025 - val_accuracy: 1.0000\n",
            "Epoch 248/1000\n",
            "29/29 [==============================] - 0s 3ms/step - loss: 0.0031 - accuracy: 1.0000 - val_loss: 0.0023 - val_accuracy: 1.0000\n",
            "Epoch 249/1000\n",
            "29/29 [==============================] - 0s 3ms/step - loss: 0.0029 - accuracy: 1.0000 - val_loss: 0.0022 - val_accuracy: 1.0000\n",
            "Epoch 250/1000\n",
            "29/29 [==============================] - 0s 3ms/step - loss: 0.0027 - accuracy: 1.0000 - val_loss: 0.0020 - val_accuracy: 1.0000\n",
            "Epoch 251/1000\n",
            "29/29 [==============================] - 0s 3ms/step - loss: 0.0025 - accuracy: 1.0000 - val_loss: 0.0019 - val_accuracy: 1.0000\n",
            "Epoch 252/1000\n",
            "29/29 [==============================] - 0s 3ms/step - loss: 0.0024 - accuracy: 1.0000 - val_loss: 0.0018 - val_accuracy: 1.0000\n",
            "Epoch 253/1000\n",
            "29/29 [==============================] - 0s 3ms/step - loss: 0.0022 - accuracy: 1.0000 - val_loss: 0.0017 - val_accuracy: 1.0000\n",
            "Epoch 254/1000\n",
            "29/29 [==============================] - 0s 3ms/step - loss: 0.0021 - accuracy: 1.0000 - val_loss: 0.0016 - val_accuracy: 1.0000\n",
            "Epoch 255/1000\n",
            "29/29 [==============================] - 0s 3ms/step - loss: 0.0020 - accuracy: 1.0000 - val_loss: 0.0015 - val_accuracy: 1.0000\n",
            "Epoch 256/1000\n",
            "29/29 [==============================] - 0s 3ms/step - loss: 0.0018 - accuracy: 1.0000 - val_loss: 0.0014 - val_accuracy: 1.0000\n",
            "Epoch 257/1000\n",
            "29/29 [==============================] - 0s 3ms/step - loss: 0.0017 - accuracy: 1.0000 - val_loss: 0.0013 - val_accuracy: 1.0000\n",
            "Epoch 258/1000\n",
            "29/29 [==============================] - 0s 3ms/step - loss: 0.0016 - accuracy: 1.0000 - val_loss: 0.0012 - val_accuracy: 1.0000\n",
            "Epoch 259/1000\n",
            "29/29 [==============================] - 0s 3ms/step - loss: 0.0015 - accuracy: 1.0000 - val_loss: 0.0011 - val_accuracy: 1.0000\n",
            "Epoch 260/1000\n",
            "29/29 [==============================] - 0s 3ms/step - loss: 0.0014 - accuracy: 1.0000 - val_loss: 0.0010 - val_accuracy: 1.0000\n",
            "Epoch 261/1000\n",
            "29/29 [==============================] - 0s 3ms/step - loss: 0.0013 - accuracy: 1.0000 - val_loss: 9.6074e-04 - val_accuracy: 1.0000\n",
            "Epoch 262/1000\n",
            "29/29 [==============================] - 0s 3ms/step - loss: 0.0012 - accuracy: 1.0000 - val_loss: 8.9625e-04 - val_accuracy: 1.0000\n",
            "Epoch 263/1000\n",
            "29/29 [==============================] - 0s 3ms/step - loss: 0.0011 - accuracy: 1.0000 - val_loss: 8.4187e-04 - val_accuracy: 1.0000\n",
            "Epoch 264/1000\n",
            "29/29 [==============================] - 0s 3ms/step - loss: 0.0011 - accuracy: 1.0000 - val_loss: 7.7844e-04 - val_accuracy: 1.0000\n",
            "Epoch 265/1000\n",
            "29/29 [==============================] - 0s 3ms/step - loss: 9.9352e-04 - accuracy: 1.0000 - val_loss: 7.2353e-04 - val_accuracy: 1.0000\n",
            "Epoch 266/1000\n",
            "29/29 [==============================] - 0s 4ms/step - loss: 9.2692e-04 - accuracy: 1.0000 - val_loss: 6.7414e-04 - val_accuracy: 1.0000\n",
            "Epoch 267/1000\n",
            "29/29 [==============================] - 0s 3ms/step - loss: 8.6388e-04 - accuracy: 1.0000 - val_loss: 6.2562e-04 - val_accuracy: 1.0000\n",
            "Epoch 268/1000\n",
            "29/29 [==============================] - 0s 3ms/step - loss: 8.0577e-04 - accuracy: 1.0000 - val_loss: 5.8273e-04 - val_accuracy: 1.0000\n",
            "Epoch 269/1000\n",
            "29/29 [==============================] - 0s 3ms/step - loss: 7.5147e-04 - accuracy: 1.0000 - val_loss: 5.4225e-04 - val_accuracy: 1.0000\n",
            "Epoch 270/1000\n",
            "29/29 [==============================] - 0s 3ms/step - loss: 6.9935e-04 - accuracy: 1.0000 - val_loss: 5.0522e-04 - val_accuracy: 1.0000\n",
            "Epoch 271/1000\n",
            "29/29 [==============================] - 0s 3ms/step - loss: 6.5371e-04 - accuracy: 1.0000 - val_loss: 4.7043e-04 - val_accuracy: 1.0000\n",
            "Epoch 272/1000\n",
            "29/29 [==============================] - 0s 3ms/step - loss: 6.0908e-04 - accuracy: 1.0000 - val_loss: 4.3855e-04 - val_accuracy: 1.0000\n",
            "Epoch 273/1000\n",
            "29/29 [==============================] - 0s 3ms/step - loss: 5.6755e-04 - accuracy: 1.0000 - val_loss: 4.0801e-04 - val_accuracy: 1.0000\n",
            "Epoch 274/1000\n",
            "29/29 [==============================] - 0s 3ms/step - loss: 5.2770e-04 - accuracy: 1.0000 - val_loss: 3.8006e-04 - val_accuracy: 1.0000\n",
            "Epoch 275/1000\n",
            "29/29 [==============================] - 0s 3ms/step - loss: 4.9211e-04 - accuracy: 1.0000 - val_loss: 3.5336e-04 - val_accuracy: 1.0000\n",
            "Epoch 276/1000\n",
            "29/29 [==============================] - 0s 4ms/step - loss: 4.5806e-04 - accuracy: 1.0000 - val_loss: 3.2898e-04 - val_accuracy: 1.0000\n",
            "Epoch 277/1000\n",
            "29/29 [==============================] - 0s 3ms/step - loss: 4.2591e-04 - accuracy: 1.0000 - val_loss: 3.0503e-04 - val_accuracy: 1.0000\n",
            "Epoch 278/1000\n",
            "29/29 [==============================] - 0s 3ms/step - loss: 3.9609e-04 - accuracy: 1.0000 - val_loss: 2.8207e-04 - val_accuracy: 1.0000\n",
            "Epoch 279/1000\n",
            "29/29 [==============================] - 0s 3ms/step - loss: 3.6769e-04 - accuracy: 1.0000 - val_loss: 2.6010e-04 - val_accuracy: 1.0000\n",
            "Epoch 280/1000\n",
            "29/29 [==============================] - 0s 3ms/step - loss: 3.4234e-04 - accuracy: 1.0000 - val_loss: 2.4156e-04 - val_accuracy: 1.0000\n",
            "Epoch 281/1000\n",
            "29/29 [==============================] - 0s 3ms/step - loss: 3.1772e-04 - accuracy: 1.0000 - val_loss: 2.2467e-04 - val_accuracy: 1.0000\n",
            "Epoch 282/1000\n",
            "29/29 [==============================] - 0s 3ms/step - loss: 2.9496e-04 - accuracy: 1.0000 - val_loss: 2.0825e-04 - val_accuracy: 1.0000\n",
            "Epoch 283/1000\n",
            "29/29 [==============================] - 0s 3ms/step - loss: 2.7340e-04 - accuracy: 1.0000 - val_loss: 1.9316e-04 - val_accuracy: 1.0000\n",
            "Epoch 284/1000\n",
            "29/29 [==============================] - 0s 4ms/step - loss: 2.5330e-04 - accuracy: 1.0000 - val_loss: 1.7814e-04 - val_accuracy: 1.0000\n",
            "Epoch 285/1000\n",
            "29/29 [==============================] - 0s 3ms/step - loss: 2.3493e-04 - accuracy: 1.0000 - val_loss: 1.6501e-04 - val_accuracy: 1.0000\n",
            "Epoch 286/1000\n",
            "29/29 [==============================] - 0s 4ms/step - loss: 2.1781e-04 - accuracy: 1.0000 - val_loss: 1.5281e-04 - val_accuracy: 1.0000\n",
            "Epoch 287/1000\n",
            "29/29 [==============================] - 0s 3ms/step - loss: 2.0193e-04 - accuracy: 1.0000 - val_loss: 1.4144e-04 - val_accuracy: 1.0000\n",
            "Epoch 288/1000\n",
            "29/29 [==============================] - 0s 3ms/step - loss: 1.8763e-04 - accuracy: 1.0000 - val_loss: 1.3247e-04 - val_accuracy: 1.0000\n",
            "Epoch 289/1000\n",
            "29/29 [==============================] - 0s 3ms/step - loss: 1.7362e-04 - accuracy: 1.0000 - val_loss: 1.2227e-04 - val_accuracy: 1.0000\n",
            "Epoch 290/1000\n",
            "29/29 [==============================] - 0s 3ms/step - loss: 1.6044e-04 - accuracy: 1.0000 - val_loss: 1.1311e-04 - val_accuracy: 1.0000\n",
            "Epoch 291/1000\n",
            "29/29 [==============================] - 0s 3ms/step - loss: 1.4783e-04 - accuracy: 1.0000 - val_loss: 1.0393e-04 - val_accuracy: 1.0000\n",
            "Epoch 292/1000\n",
            "29/29 [==============================] - 0s 3ms/step - loss: 1.3635e-04 - accuracy: 1.0000 - val_loss: 9.6170e-05 - val_accuracy: 1.0000\n",
            "Epoch 293/1000\n",
            "29/29 [==============================] - 0s 3ms/step - loss: 1.2593e-04 - accuracy: 1.0000 - val_loss: 8.8848e-05 - val_accuracy: 1.0000\n",
            "Epoch 294/1000\n",
            "29/29 [==============================] - 0s 4ms/step - loss: 1.1630e-04 - accuracy: 1.0000 - val_loss: 8.1499e-05 - val_accuracy: 1.0000\n",
            "Epoch 295/1000\n",
            "29/29 [==============================] - 0s 3ms/step - loss: 1.0742e-04 - accuracy: 1.0000 - val_loss: 7.5506e-05 - val_accuracy: 1.0000\n",
            "Epoch 296/1000\n",
            "29/29 [==============================] - 0s 4ms/step - loss: 9.9160e-05 - accuracy: 1.0000 - val_loss: 6.9420e-05 - val_accuracy: 1.0000\n",
            "Epoch 297/1000\n",
            "29/29 [==============================] - 0s 4ms/step - loss: 9.1403e-05 - accuracy: 1.0000 - val_loss: 6.3944e-05 - val_accuracy: 1.0000\n",
            "Epoch 298/1000\n",
            "29/29 [==============================] - 0s 3ms/step - loss: 8.4126e-05 - accuracy: 1.0000 - val_loss: 5.8648e-05 - val_accuracy: 1.0000\n",
            "Epoch 299/1000\n",
            "29/29 [==============================] - 0s 3ms/step - loss: 7.7319e-05 - accuracy: 1.0000 - val_loss: 5.3891e-05 - val_accuracy: 1.0000\n",
            "Epoch 300/1000\n",
            "29/29 [==============================] - 0s 3ms/step - loss: 7.1323e-05 - accuracy: 1.0000 - val_loss: 4.9734e-05 - val_accuracy: 1.0000\n",
            "Epoch 301/1000\n",
            "29/29 [==============================] - 0s 3ms/step - loss: 6.5655e-05 - accuracy: 1.0000 - val_loss: 4.5566e-05 - val_accuracy: 1.0000\n",
            "Epoch 302/1000\n",
            "29/29 [==============================] - 0s 3ms/step - loss: 6.0466e-05 - accuracy: 1.0000 - val_loss: 4.2161e-05 - val_accuracy: 1.0000\n",
            "Epoch 303/1000\n",
            "29/29 [==============================] - 0s 4ms/step - loss: 5.5630e-05 - accuracy: 1.0000 - val_loss: 3.8641e-05 - val_accuracy: 1.0000\n",
            "Epoch 304/1000\n",
            "29/29 [==============================] - 0s 3ms/step - loss: 5.1213e-05 - accuracy: 1.0000 - val_loss: 3.5557e-05 - val_accuracy: 1.0000\n",
            "Epoch 305/1000\n",
            "29/29 [==============================] - 0s 4ms/step - loss: 4.7164e-05 - accuracy: 1.0000 - val_loss: 3.2875e-05 - val_accuracy: 1.0000\n",
            "Epoch 306/1000\n",
            "29/29 [==============================] - 0s 3ms/step - loss: 4.3391e-05 - accuracy: 1.0000 - val_loss: 3.0193e-05 - val_accuracy: 1.0000\n",
            "Epoch 307/1000\n",
            "29/29 [==============================] - 0s 4ms/step - loss: 4.0002e-05 - accuracy: 1.0000 - val_loss: 2.7980e-05 - val_accuracy: 1.0000\n",
            "Epoch 308/1000\n",
            "29/29 [==============================] - 0s 4ms/step - loss: 3.6756e-05 - accuracy: 1.0000 - val_loss: 2.5719e-05 - val_accuracy: 1.0000\n",
            "Epoch 309/1000\n",
            "29/29 [==============================] - 0s 3ms/step - loss: 3.3755e-05 - accuracy: 1.0000 - val_loss: 2.3510e-05 - val_accuracy: 1.0000\n",
            "Epoch 310/1000\n",
            "29/29 [==============================] - 0s 3ms/step - loss: 3.1005e-05 - accuracy: 1.0000 - val_loss: 2.1554e-05 - val_accuracy: 1.0000\n",
            "Epoch 311/1000\n",
            "29/29 [==============================] - 0s 3ms/step - loss: 2.8455e-05 - accuracy: 1.0000 - val_loss: 1.9952e-05 - val_accuracy: 1.0000\n",
            "Epoch 312/1000\n",
            "29/29 [==============================] - 0s 4ms/step - loss: 2.6090e-05 - accuracy: 1.0000 - val_loss: 1.8403e-05 - val_accuracy: 1.0000\n",
            "Epoch 313/1000\n",
            "29/29 [==============================] - 0s 3ms/step - loss: 2.3994e-05 - accuracy: 1.0000 - val_loss: 1.6816e-05 - val_accuracy: 1.0000\n",
            "Epoch 314/1000\n",
            "29/29 [==============================] - 0s 4ms/step - loss: 2.1985e-05 - accuracy: 1.0000 - val_loss: 1.5501e-05 - val_accuracy: 1.0000\n",
            "Epoch 315/1000\n",
            "29/29 [==============================] - 0s 3ms/step - loss: 2.0138e-05 - accuracy: 1.0000 - val_loss: 1.4167e-05 - val_accuracy: 1.0000\n",
            "Epoch 316/1000\n",
            "29/29 [==============================] - 0s 3ms/step - loss: 1.8528e-05 - accuracy: 1.0000 - val_loss: 1.3057e-05 - val_accuracy: 1.0000\n",
            "Epoch 317/1000\n",
            "29/29 [==============================] - 0s 3ms/step - loss: 1.7050e-05 - accuracy: 1.0000 - val_loss: 1.1988e-05 - val_accuracy: 1.0000\n",
            "Epoch 318/1000\n",
            "29/29 [==============================] - 0s 3ms/step - loss: 1.5663e-05 - accuracy: 1.0000 - val_loss: 1.1012e-05 - val_accuracy: 1.0000\n",
            "Epoch 319/1000\n",
            "29/29 [==============================] - 0s 3ms/step - loss: 1.4357e-05 - accuracy: 1.0000 - val_loss: 1.0051e-05 - val_accuracy: 1.0000\n",
            "Epoch 320/1000\n",
            "29/29 [==============================] - 0s 3ms/step - loss: 1.3193e-05 - accuracy: 1.0000 - val_loss: 9.2573e-06 - val_accuracy: 1.0000\n",
            "Epoch 321/1000\n",
            "29/29 [==============================] - 0s 3ms/step - loss: 1.2128e-05 - accuracy: 1.0000 - val_loss: 8.5644e-06 - val_accuracy: 1.0000\n",
            "Epoch 322/1000\n",
            "29/29 [==============================] - 0s 4ms/step - loss: 1.1146e-05 - accuracy: 1.0000 - val_loss: 7.8491e-06 - val_accuracy: 1.0000\n",
            "Epoch 323/1000\n",
            "29/29 [==============================] - 0s 3ms/step - loss: 1.0236e-05 - accuracy: 1.0000 - val_loss: 7.1898e-06 - val_accuracy: 1.0000\n",
            "Epoch 324/1000\n",
            "29/29 [==============================] - 0s 3ms/step - loss: 9.3934e-06 - accuracy: 1.0000 - val_loss: 6.6049e-06 - val_accuracy: 1.0000\n",
            "Epoch 325/1000\n",
            "29/29 [==============================] - 0s 3ms/step - loss: 8.6335e-06 - accuracy: 1.0000 - val_loss: 6.0796e-06 - val_accuracy: 1.0000\n",
            "Epoch 326/1000\n",
            "29/29 [==============================] - 0s 3ms/step - loss: 7.9389e-06 - accuracy: 1.0000 - val_loss: 5.6289e-06 - val_accuracy: 1.0000\n",
            "Epoch 327/1000\n",
            "29/29 [==============================] - 0s 3ms/step - loss: 7.3060e-06 - accuracy: 1.0000 - val_loss: 5.1968e-06 - val_accuracy: 1.0000\n",
            "Epoch 328/1000\n",
            "29/29 [==============================] - 0s 3ms/step - loss: 6.7017e-06 - accuracy: 1.0000 - val_loss: 4.7721e-06 - val_accuracy: 1.0000\n",
            "Epoch 329/1000\n",
            "29/29 [==============================] - 0s 3ms/step - loss: 6.1616e-06 - accuracy: 1.0000 - val_loss: 4.3996e-06 - val_accuracy: 1.0000\n",
            "Epoch 330/1000\n",
            "29/29 [==============================] - 0s 3ms/step - loss: 5.6736e-06 - accuracy: 1.0000 - val_loss: 4.0382e-06 - val_accuracy: 1.0000\n",
            "Epoch 331/1000\n",
            "29/29 [==============================] - 0s 3ms/step - loss: 5.2158e-06 - accuracy: 1.0000 - val_loss: 3.7327e-06 - val_accuracy: 1.0000\n",
            "Epoch 332/1000\n",
            "29/29 [==============================] - 0s 3ms/step - loss: 4.8159e-06 - accuracy: 1.0000 - val_loss: 3.4422e-06 - val_accuracy: 1.0000\n",
            "Epoch 333/1000\n",
            "29/29 [==============================] - 0s 3ms/step - loss: 4.4401e-06 - accuracy: 1.0000 - val_loss: 3.1963e-06 - val_accuracy: 1.0000\n",
            "Epoch 334/1000\n",
            "29/29 [==============================] - 0s 3ms/step - loss: 4.0854e-06 - accuracy: 1.0000 - val_loss: 2.9430e-06 - val_accuracy: 1.0000\n",
            "Epoch 335/1000\n",
            "29/29 [==============================] - 0s 3ms/step - loss: 3.7613e-06 - accuracy: 1.0000 - val_loss: 2.7493e-06 - val_accuracy: 1.0000\n",
            "Epoch 336/1000\n",
            "29/29 [==============================] - 0s 4ms/step - loss: 3.4984e-06 - accuracy: 1.0000 - val_loss: 2.5220e-06 - val_accuracy: 1.0000\n",
            "Epoch 337/1000\n",
            "29/29 [==============================] - 0s 3ms/step - loss: 3.2021e-06 - accuracy: 1.0000 - val_loss: 2.3320e-06 - val_accuracy: 1.0000\n",
            "Epoch 338/1000\n",
            "29/29 [==============================] - 0s 3ms/step - loss: 2.9740e-06 - accuracy: 1.0000 - val_loss: 2.1569e-06 - val_accuracy: 1.0000\n",
            "Epoch 339/1000\n",
            "29/29 [==============================] - 0s 3ms/step - loss: 2.7687e-06 - accuracy: 1.0000 - val_loss: 2.0005e-06 - val_accuracy: 1.0000\n",
            "Epoch 340/1000\n",
            "29/29 [==============================] - 0s 3ms/step - loss: 2.5522e-06 - accuracy: 1.0000 - val_loss: 1.8738e-06 - val_accuracy: 1.0000\n",
            "Epoch 341/1000\n",
            "29/29 [==============================] - 0s 3ms/step - loss: 2.3676e-06 - accuracy: 1.0000 - val_loss: 1.7509e-06 - val_accuracy: 1.0000\n",
            "Epoch 342/1000\n",
            "29/29 [==============================] - 0s 4ms/step - loss: 2.1942e-06 - accuracy: 1.0000 - val_loss: 1.6466e-06 - val_accuracy: 1.0000\n",
            "Epoch 343/1000\n",
            "29/29 [==============================] - 0s 3ms/step - loss: 2.0336e-06 - accuracy: 1.0000 - val_loss: 1.4901e-06 - val_accuracy: 1.0000\n",
            "Epoch 344/1000\n",
            "29/29 [==============================] - 0s 3ms/step - loss: 1.8987e-06 - accuracy: 1.0000 - val_loss: 1.4305e-06 - val_accuracy: 1.0000\n",
            "Epoch 345/1000\n",
            "29/29 [==============================] - 0s 3ms/step - loss: 1.7745e-06 - accuracy: 1.0000 - val_loss: 1.3299e-06 - val_accuracy: 1.0000\n",
            "Epoch 346/1000\n",
            "29/29 [==============================] - 0s 3ms/step - loss: 1.6420e-06 - accuracy: 1.0000 - val_loss: 1.2554e-06 - val_accuracy: 1.0000\n",
            "Epoch 347/1000\n",
            "29/29 [==============================] - 0s 3ms/step - loss: 1.5406e-06 - accuracy: 1.0000 - val_loss: 1.1586e-06 - val_accuracy: 1.0000\n",
            "Epoch 348/1000\n",
            "29/29 [==============================] - 0s 3ms/step - loss: 1.4384e-06 - accuracy: 1.0000 - val_loss: 1.1027e-06 - val_accuracy: 1.0000\n",
            "Epoch 349/1000\n",
            "29/29 [==============================] - 0s 3ms/step - loss: 1.3568e-06 - accuracy: 1.0000 - val_loss: 1.0245e-06 - val_accuracy: 1.0000\n",
            "Epoch 350/1000\n",
            "29/29 [==============================] - 0s 3ms/step - loss: 1.2600e-06 - accuracy: 1.0000 - val_loss: 9.6112e-07 - val_accuracy: 1.0000\n",
            "Epoch 351/1000\n",
            "29/29 [==============================] - 0s 3ms/step - loss: 1.1793e-06 - accuracy: 1.0000 - val_loss: 9.1642e-07 - val_accuracy: 1.0000\n",
            "Epoch 352/1000\n",
            "29/29 [==============================] - 0s 3ms/step - loss: 1.0985e-06 - accuracy: 1.0000 - val_loss: 8.5309e-07 - val_accuracy: 1.0000\n",
            "Epoch 353/1000\n",
            "29/29 [==============================] - 0s 3ms/step - loss: 1.0439e-06 - accuracy: 1.0000 - val_loss: 8.0466e-07 - val_accuracy: 1.0000\n",
            "Epoch 354/1000\n",
            "29/29 [==============================] - 0s 3ms/step - loss: 9.8679e-07 - accuracy: 1.0000 - val_loss: 7.8604e-07 - val_accuracy: 1.0000\n",
            "Epoch 355/1000\n",
            "29/29 [==============================] - 0s 3ms/step - loss: 9.2594e-07 - accuracy: 1.0000 - val_loss: 7.1898e-07 - val_accuracy: 1.0000\n",
            "Epoch 356/1000\n",
            "29/29 [==============================] - 0s 3ms/step - loss: 8.6551e-07 - accuracy: 1.0000 - val_loss: 6.7055e-07 - val_accuracy: 1.0000\n",
            "Epoch 357/1000\n",
            "29/29 [==============================] - 0s 3ms/step - loss: 8.0963e-07 - accuracy: 1.0000 - val_loss: 6.2957e-07 - val_accuracy: 1.0000\n",
            "Epoch 358/1000\n",
            "29/29 [==============================] - 0s 3ms/step - loss: 7.7031e-07 - accuracy: 1.0000 - val_loss: 6.1467e-07 - val_accuracy: 1.0000\n",
            "Epoch 359/1000\n",
            "29/29 [==============================] - 0s 3ms/step - loss: 7.3057e-07 - accuracy: 1.0000 - val_loss: 5.9232e-07 - val_accuracy: 1.0000\n",
            "Epoch 360/1000\n",
            "29/29 [==============================] - 0s 3ms/step - loss: 6.9415e-07 - accuracy: 1.0000 - val_loss: 5.6252e-07 - val_accuracy: 1.0000\n",
            "Epoch 361/1000\n",
            "29/29 [==============================] - 0s 3ms/step - loss: 6.5979e-07 - accuracy: 1.0000 - val_loss: 5.4017e-07 - val_accuracy: 1.0000\n",
            "Epoch 362/1000\n",
            "29/29 [==============================] - 0s 3ms/step - loss: 6.1384e-07 - accuracy: 1.0000 - val_loss: 4.9174e-07 - val_accuracy: 1.0000\n",
            "Epoch 363/1000\n",
            "29/29 [==============================] - 0s 3ms/step - loss: 5.8404e-07 - accuracy: 1.0000 - val_loss: 4.8429e-07 - val_accuracy: 1.0000\n",
            "Epoch 364/1000\n",
            "29/29 [==============================] - 0s 3ms/step - loss: 5.6004e-07 - accuracy: 1.0000 - val_loss: 4.6566e-07 - val_accuracy: 1.0000\n",
            "Epoch 365/1000\n",
            "29/29 [==============================] - 0s 3ms/step - loss: 5.3851e-07 - accuracy: 1.0000 - val_loss: 4.3586e-07 - val_accuracy: 1.0000\n",
            "Epoch 366/1000\n",
            "29/29 [==============================] - 0s 3ms/step - loss: 5.0498e-07 - accuracy: 1.0000 - val_loss: 4.0606e-07 - val_accuracy: 1.0000\n",
            "Epoch 367/1000\n",
            "29/29 [==============================] - 0s 3ms/step - loss: 4.7518e-07 - accuracy: 1.0000 - val_loss: 3.9116e-07 - val_accuracy: 1.0000\n",
            "Epoch 368/1000\n",
            "29/29 [==============================] - 0s 3ms/step - loss: 4.5573e-07 - accuracy: 1.0000 - val_loss: 3.7625e-07 - val_accuracy: 1.0000\n",
            "Epoch 369/1000\n",
            "29/29 [==============================] - 0s 3ms/step - loss: 4.3710e-07 - accuracy: 1.0000 - val_loss: 3.4645e-07 - val_accuracy: 1.0000\n",
            "Epoch 370/1000\n",
            "29/29 [==============================] - 0s 3ms/step - loss: 4.2592e-07 - accuracy: 1.0000 - val_loss: 3.3900e-07 - val_accuracy: 1.0000\n",
            "Epoch 371/1000\n",
            "29/29 [==============================] - 0s 3ms/step - loss: 4.0730e-07 - accuracy: 1.0000 - val_loss: 3.3900e-07 - val_accuracy: 1.0000\n",
            "Epoch 372/1000\n",
            "29/29 [==============================] - 0s 3ms/step - loss: 3.9488e-07 - accuracy: 1.0000 - val_loss: 3.2410e-07 - val_accuracy: 1.0000\n",
            "Epoch 373/1000\n",
            "29/29 [==============================] - 0s 3ms/step - loss: 3.7377e-07 - accuracy: 1.0000 - val_loss: 3.0920e-07 - val_accuracy: 1.0000\n",
            "Epoch 374/1000\n",
            "29/29 [==============================] - 0s 3ms/step - loss: 3.5639e-07 - accuracy: 1.0000 - val_loss: 2.9430e-07 - val_accuracy: 1.0000\n",
            "Epoch 375/1000\n",
            "29/29 [==============================] - 0s 4ms/step - loss: 3.3900e-07 - accuracy: 1.0000 - val_loss: 2.8685e-07 - val_accuracy: 1.0000\n",
            "Epoch 376/1000\n",
            "29/29 [==============================] - 0s 3ms/step - loss: 3.1996e-07 - accuracy: 1.0000 - val_loss: 2.6450e-07 - val_accuracy: 1.0000\n",
            "Epoch 377/1000\n",
            "29/29 [==============================] - 0s 3ms/step - loss: 3.0920e-07 - accuracy: 1.0000 - val_loss: 2.6450e-07 - val_accuracy: 1.0000\n",
            "Epoch 378/1000\n",
            "29/29 [==============================] - 0s 3ms/step - loss: 2.9513e-07 - accuracy: 1.0000 - val_loss: 2.5332e-07 - val_accuracy: 1.0000\n",
            "Epoch 379/1000\n",
            "29/29 [==============================] - 0s 3ms/step - loss: 2.7857e-07 - accuracy: 1.0000 - val_loss: 2.3097e-07 - val_accuracy: 1.0000\n",
            "Epoch 380/1000\n",
            "29/29 [==============================] - 0s 3ms/step - loss: 2.7070e-07 - accuracy: 1.0000 - val_loss: 2.3842e-07 - val_accuracy: 1.0000\n",
            "Epoch 381/1000\n",
            "29/29 [==============================] - 0s 3ms/step - loss: 2.6657e-07 - accuracy: 1.0000 - val_loss: 2.3097e-07 - val_accuracy: 1.0000\n",
            "Epoch 382/1000\n",
            "29/29 [==============================] - 0s 3ms/step - loss: 2.5166e-07 - accuracy: 1.0000 - val_loss: 2.2724e-07 - val_accuracy: 1.0000\n",
            "Epoch 383/1000\n",
            "29/29 [==============================] - 0s 3ms/step - loss: 2.3966e-07 - accuracy: 1.0000 - val_loss: 2.0862e-07 - val_accuracy: 1.0000\n",
            "Epoch 384/1000\n",
            "29/29 [==============================] - 0s 3ms/step - loss: 2.2310e-07 - accuracy: 1.0000 - val_loss: 1.7881e-07 - val_accuracy: 1.0000\n",
            "Epoch 385/1000\n",
            "29/29 [==============================] - 0s 4ms/step - loss: 2.1234e-07 - accuracy: 1.0000 - val_loss: 1.8626e-07 - val_accuracy: 1.0000\n",
            "Epoch 386/1000\n",
            "29/29 [==============================] - 0s 3ms/step - loss: 2.0199e-07 - accuracy: 1.0000 - val_loss: 1.6391e-07 - val_accuracy: 1.0000\n",
            "Epoch 387/1000\n",
            "29/29 [==============================] - 0s 3ms/step - loss: 1.8751e-07 - accuracy: 1.0000 - val_loss: 1.6391e-07 - val_accuracy: 1.0000\n",
            "Epoch 388/1000\n",
            "29/29 [==============================] - 0s 3ms/step - loss: 1.8461e-07 - accuracy: 1.0000 - val_loss: 1.6764e-07 - val_accuracy: 1.0000\n",
            "Epoch 389/1000\n",
            "29/29 [==============================] - 0s 3ms/step - loss: 1.7840e-07 - accuracy: 1.0000 - val_loss: 1.5646e-07 - val_accuracy: 1.0000\n",
            "Epoch 390/1000\n",
            "29/29 [==============================] - 0s 3ms/step - loss: 1.7509e-07 - accuracy: 1.0000 - val_loss: 1.6019e-07 - val_accuracy: 1.0000\n",
            "Epoch 391/1000\n",
            "29/29 [==============================] - 0s 3ms/step - loss: 1.6847e-07 - accuracy: 1.0000 - val_loss: 1.4156e-07 - val_accuracy: 1.0000\n",
            "Epoch 392/1000\n",
            "29/29 [==============================] - 0s 3ms/step - loss: 1.6267e-07 - accuracy: 1.0000 - val_loss: 1.4156e-07 - val_accuracy: 1.0000\n",
            "Epoch 393/1000\n",
            "29/29 [==============================] - 0s 4ms/step - loss: 1.5563e-07 - accuracy: 1.0000 - val_loss: 1.3784e-07 - val_accuracy: 1.0000\n",
            "Epoch 394/1000\n",
            "29/29 [==============================] - 0s 3ms/step - loss: 1.5067e-07 - accuracy: 1.0000 - val_loss: 1.4529e-07 - val_accuracy: 1.0000\n",
            "Epoch 395/1000\n",
            "29/29 [==============================] - 0s 3ms/step - loss: 1.5315e-07 - accuracy: 1.0000 - val_loss: 1.4529e-07 - val_accuracy: 1.0000\n",
            "Epoch 396/1000\n",
            "29/29 [==============================] - 0s 3ms/step - loss: 1.4818e-07 - accuracy: 1.0000 - val_loss: 1.3039e-07 - val_accuracy: 1.0000\n",
            "Epoch 397/1000\n",
            "29/29 [==============================] - 0s 3ms/step - loss: 1.4694e-07 - accuracy: 1.0000 - val_loss: 1.3039e-07 - val_accuracy: 1.0000\n",
            "Epoch 398/1000\n",
            "29/29 [==============================] - 0s 3ms/step - loss: 1.4322e-07 - accuracy: 1.0000 - val_loss: 1.1921e-07 - val_accuracy: 1.0000\n",
            "Epoch 399/1000\n",
            "29/29 [==============================] - 0s 3ms/step - loss: 1.4073e-07 - accuracy: 1.0000 - val_loss: 1.3784e-07 - val_accuracy: 1.0000\n",
            "Epoch 400/1000\n",
            "29/29 [==============================] - 0s 3ms/step - loss: 1.4322e-07 - accuracy: 1.0000 - val_loss: 1.1548e-07 - val_accuracy: 1.0000\n",
            "Epoch 401/1000\n",
            "29/29 [==============================] - 0s 3ms/step - loss: 1.3494e-07 - accuracy: 1.0000 - val_loss: 1.0803e-07 - val_accuracy: 1.0000\n",
            "Epoch 402/1000\n",
            "29/29 [==============================] - 0s 3ms/step - loss: 1.3452e-07 - accuracy: 1.0000 - val_loss: 1.0431e-07 - val_accuracy: 1.0000\n",
            "Epoch 403/1000\n",
            "29/29 [==============================] - 0s 3ms/step - loss: 1.2500e-07 - accuracy: 1.0000 - val_loss: 8.9407e-08 - val_accuracy: 1.0000\n",
            "Epoch 404/1000\n",
            "29/29 [==============================] - 0s 3ms/step - loss: 1.2086e-07 - accuracy: 1.0000 - val_loss: 1.0803e-07 - val_accuracy: 1.0000\n",
            "Epoch 405/1000\n",
            "29/29 [==============================] - 0s 3ms/step - loss: 1.2211e-07 - accuracy: 1.0000 - val_loss: 1.0058e-07 - val_accuracy: 1.0000\n",
            "Epoch 406/1000\n",
            "29/29 [==============================] - 0s 3ms/step - loss: 1.1631e-07 - accuracy: 1.0000 - val_loss: 1.0058e-07 - val_accuracy: 1.0000\n",
            "Epoch 407/1000\n",
            "29/29 [==============================] - 0s 3ms/step - loss: 1.1838e-07 - accuracy: 1.0000 - val_loss: 1.0431e-07 - val_accuracy: 1.0000\n",
            "Epoch 408/1000\n",
            "29/29 [==============================] - 0s 3ms/step - loss: 1.1880e-07 - accuracy: 1.0000 - val_loss: 8.5682e-08 - val_accuracy: 1.0000\n",
            "Epoch 409/1000\n",
            "29/29 [==============================] - 0s 3ms/step - loss: 1.1176e-07 - accuracy: 1.0000 - val_loss: 1.0803e-07 - val_accuracy: 1.0000\n",
            "Epoch 410/1000\n",
            "29/29 [==============================] - 0s 3ms/step - loss: 1.1548e-07 - accuracy: 1.0000 - val_loss: 9.3132e-08 - val_accuracy: 1.0000\n",
            "Epoch 411/1000\n",
            "29/29 [==============================] - 0s 3ms/step - loss: 1.1300e-07 - accuracy: 1.0000 - val_loss: 8.1956e-08 - val_accuracy: 1.0000\n",
            "Epoch 412/1000\n",
            "29/29 [==============================] - 0s 3ms/step - loss: 1.0514e-07 - accuracy: 1.0000 - val_loss: 8.1956e-08 - val_accuracy: 1.0000\n",
            "Epoch 413/1000\n",
            "29/29 [==============================] - 0s 3ms/step - loss: 1.0431e-07 - accuracy: 1.0000 - val_loss: 1.0431e-07 - val_accuracy: 1.0000\n",
            "Epoch 414/1000\n",
            "29/29 [==============================] - 0s 3ms/step - loss: 1.0721e-07 - accuracy: 1.0000 - val_loss: 8.5682e-08 - val_accuracy: 1.0000\n",
            "Epoch 415/1000\n",
            "29/29 [==============================] - 0s 3ms/step - loss: 1.0141e-07 - accuracy: 1.0000 - val_loss: 8.9407e-08 - val_accuracy: 1.0000\n",
            "Epoch 416/1000\n",
            "29/29 [==============================] - 0s 3ms/step - loss: 1.0348e-07 - accuracy: 1.0000 - val_loss: 8.1956e-08 - val_accuracy: 1.0000\n",
            "Epoch 417/1000\n",
            "29/29 [==============================] - 0s 3ms/step - loss: 9.8927e-08 - accuracy: 1.0000 - val_loss: 9.6858e-08 - val_accuracy: 1.0000\n",
            "Epoch 418/1000\n",
            "29/29 [==============================] - 0s 3ms/step - loss: 9.6444e-08 - accuracy: 1.0000 - val_loss: 7.0781e-08 - val_accuracy: 1.0000\n",
            "Epoch 419/1000\n",
            "29/29 [==============================] - 0s 3ms/step - loss: 8.3612e-08 - accuracy: 1.0000 - val_loss: 8.5682e-08 - val_accuracy: 1.0000\n",
            "Epoch 420/1000\n",
            "29/29 [==============================] - 0s 3ms/step - loss: 7.6989e-08 - accuracy: 1.0000 - val_loss: 7.8231e-08 - val_accuracy: 1.0000\n",
            "Epoch 421/1000\n",
            "29/29 [==============================] - 0s 3ms/step - loss: 7.2850e-08 - accuracy: 1.0000 - val_loss: 8.1956e-08 - val_accuracy: 1.0000\n",
            "Epoch 422/1000\n",
            "29/29 [==============================] - 0s 3ms/step - loss: 7.1608e-08 - accuracy: 1.0000 - val_loss: 5.5879e-08 - val_accuracy: 1.0000\n",
            "Epoch 423/1000\n",
            "29/29 [==============================] - 0s 4ms/step - loss: 7.0367e-08 - accuracy: 1.0000 - val_loss: 7.4506e-08 - val_accuracy: 1.0000\n",
            "Epoch 424/1000\n",
            "29/29 [==============================] - 0s 3ms/step - loss: 6.2502e-08 - accuracy: 1.0000 - val_loss: 5.5879e-08 - val_accuracy: 1.0000\n",
            "Epoch 425/1000\n",
            "29/29 [==============================] - 0s 3ms/step - loss: 5.9605e-08 - accuracy: 1.0000 - val_loss: 7.4506e-08 - val_accuracy: 1.0000\n",
            "Epoch 426/1000\n",
            "29/29 [==============================] - 0s 4ms/step - loss: 5.9605e-08 - accuracy: 1.0000 - val_loss: 5.9605e-08 - val_accuracy: 1.0000\n",
            "Epoch 427/1000\n",
            "29/29 [==============================] - 0s 3ms/step - loss: 5.6707e-08 - accuracy: 1.0000 - val_loss: 4.8429e-08 - val_accuracy: 1.0000\n",
            "Epoch 428/1000\n",
            "29/29 [==============================] - 0s 3ms/step - loss: 5.4638e-08 - accuracy: 1.0000 - val_loss: 4.4703e-08 - val_accuracy: 1.0000\n",
            "Epoch 429/1000\n",
            "29/29 [==============================] - 0s 3ms/step - loss: 5.0498e-08 - accuracy: 1.0000 - val_loss: 5.9605e-08 - val_accuracy: 1.0000\n",
            "Epoch 430/1000\n",
            "29/29 [==============================] - 0s 3ms/step - loss: 5.7121e-08 - accuracy: 1.0000 - val_loss: 4.8429e-08 - val_accuracy: 1.0000\n",
            "Epoch 431/1000\n",
            "29/29 [==============================] - 0s 3ms/step - loss: 5.1740e-08 - accuracy: 1.0000 - val_loss: 3.3528e-08 - val_accuracy: 1.0000\n",
            "Epoch 432/1000\n",
            "29/29 [==============================] - 0s 3ms/step - loss: 5.1326e-08 - accuracy: 1.0000 - val_loss: 3.7253e-08 - val_accuracy: 1.0000\n",
            "Epoch 433/1000\n",
            "29/29 [==============================] - 0s 3ms/step - loss: 3.9736e-08 - accuracy: 1.0000 - val_loss: 4.4703e-08 - val_accuracy: 1.0000\n",
            "Epoch 434/1000\n",
            "29/29 [==============================] - 0s 3ms/step - loss: 4.5531e-08 - accuracy: 1.0000 - val_loss: 4.8429e-08 - val_accuracy: 1.0000\n",
            "Epoch 435/1000\n",
            "29/29 [==============================] - 0s 3ms/step - loss: 4.1392e-08 - accuracy: 1.0000 - val_loss: 4.8429e-08 - val_accuracy: 1.0000\n",
            "Epoch 436/1000\n",
            "29/29 [==============================] - 0s 4ms/step - loss: 3.5597e-08 - accuracy: 1.0000 - val_loss: 5.2154e-08 - val_accuracy: 1.0000\n",
            "Epoch 437/1000\n",
            "29/29 [==============================] - 0s 3ms/step - loss: 3.8909e-08 - accuracy: 1.0000 - val_loss: 3.7253e-08 - val_accuracy: 1.0000\n",
            "Epoch 438/1000\n",
            "29/29 [==============================] - 0s 3ms/step - loss: 3.6425e-08 - accuracy: 1.0000 - val_loss: 4.0978e-08 - val_accuracy: 1.0000\n",
            "Epoch 439/1000\n",
            "29/29 [==============================] - 0s 3ms/step - loss: 3.5183e-08 - accuracy: 1.0000 - val_loss: 3.7253e-08 - val_accuracy: 1.0000\n",
            "Epoch 440/1000\n",
            "29/29 [==============================] - 0s 4ms/step - loss: 3.6839e-08 - accuracy: 1.0000 - val_loss: 3.3528e-08 - val_accuracy: 1.0000\n",
            "Epoch 441/1000\n",
            "29/29 [==============================] - 0s 3ms/step - loss: 3.1044e-08 - accuracy: 1.0000 - val_loss: 2.9802e-08 - val_accuracy: 1.0000\n",
            "Epoch 442/1000\n",
            "29/29 [==============================] - 0s 3ms/step - loss: 3.0216e-08 - accuracy: 1.0000 - val_loss: 2.9802e-08 - val_accuracy: 1.0000\n",
            "Epoch 443/1000\n",
            "29/29 [==============================] - 0s 3ms/step - loss: 3.2286e-08 - accuracy: 1.0000 - val_loss: 3.3528e-08 - val_accuracy: 1.0000\n",
            "Epoch 444/1000\n",
            "29/29 [==============================] - 0s 3ms/step - loss: 3.1872e-08 - accuracy: 1.0000 - val_loss: 3.7253e-08 - val_accuracy: 1.0000\n",
            "Epoch 445/1000\n",
            "29/29 [==============================] - 0s 3ms/step - loss: 3.1872e-08 - accuracy: 1.0000 - val_loss: 2.6077e-08 - val_accuracy: 1.0000\n",
            "Epoch 446/1000\n",
            "29/29 [==============================] - 0s 3ms/step - loss: 2.8561e-08 - accuracy: 1.0000 - val_loss: 5.2154e-08 - val_accuracy: 1.0000\n",
            "Epoch 447/1000\n",
            "29/29 [==============================] - 0s 3ms/step - loss: 3.5597e-08 - accuracy: 1.0000 - val_loss: 2.6077e-08 - val_accuracy: 1.0000\n",
            "Epoch 448/1000\n",
            "29/29 [==============================] - 0s 3ms/step - loss: 2.9388e-08 - accuracy: 1.0000 - val_loss: 5.2154e-08 - val_accuracy: 1.0000\n",
            "Epoch 449/1000\n",
            "29/29 [==============================] - 0s 3ms/step - loss: 3.1872e-08 - accuracy: 1.0000 - val_loss: 4.4703e-08 - val_accuracy: 1.0000\n",
            "Epoch 450/1000\n",
            "29/29 [==============================] - 0s 3ms/step - loss: 3.2700e-08 - accuracy: 1.0000 - val_loss: 3.7253e-08 - val_accuracy: 1.0000\n",
            "Epoch 451/1000\n",
            "29/29 [==============================] - 0s 3ms/step - loss: 3.0630e-08 - accuracy: 1.0000 - val_loss: 2.9802e-08 - val_accuracy: 1.0000\n",
            "Epoch 452/1000\n",
            "29/29 [==============================] - 0s 3ms/step - loss: 2.6077e-08 - accuracy: 1.0000 - val_loss: 3.7253e-08 - val_accuracy: 1.0000\n",
            "Epoch 453/1000\n",
            "29/29 [==============================] - 0s 3ms/step - loss: 2.6905e-08 - accuracy: 1.0000 - val_loss: 2.6077e-08 - val_accuracy: 1.0000\n",
            "Epoch 454/1000\n",
            "29/29 [==============================] - 0s 3ms/step - loss: 2.6905e-08 - accuracy: 1.0000 - val_loss: 2.6077e-08 - val_accuracy: 1.0000\n",
            "Epoch 455/1000\n",
            "22/29 [=====================>........] - ETA: 0s - loss: 2.6551e-08 - accuracy: 1.0000Restoring model weights from the end of the best epoch.\n",
            "29/29 [==============================] - 0s 3ms/step - loss: 2.4835e-08 - accuracy: 1.0000 - val_loss: 4.0978e-08 - val_accuracy: 1.0000\n",
            "Epoch 00455: early stopping\n"
          ],
          "name": "stdout"
        },
        {
          "output_type": "execute_result",
          "data": {
            "text/plain": [
              "<tensorflow.python.keras.callbacks.History at 0x7f3ff978dcc0>"
            ]
          },
          "metadata": {
            "tags": []
          },
          "execution_count": 96
        }
      ]
    },
    {
      "cell_type": "code",
      "metadata": {
        "id": "_KK0yXhBzEdZ"
      },
      "source": [
        "History = model_ROT13.history"
      ],
      "execution_count": null,
      "outputs": []
    },
    {
      "cell_type": "code",
      "metadata": {
        "id": "4kBrNzl2zEde",
        "outputId": "52e66d8b-4ea8-499e-8b6d-9327eb47fdc4",
        "colab": {
          "base_uri": "https://localhost:8080/",
          "height": 295
        }
      },
      "source": [
        "plt.plot(History.history['accuracy'])\n",
        "plt.title('Accuracy VS Epoch')\n",
        "plt.ylabel('Accuracy')\n",
        "plt.xlabel('Epoch')\n",
        "plt.legend(['Train'], loc='lower right')\n",
        "plt.show()"
      ],
      "execution_count": null,
      "outputs": [
        {
          "output_type": "display_data",
          "data": {
            "image/png": "[encoded data removed]",
            "text/plain": [
              "<Figure size 432x288 with 1 Axes>"
            ]
          },
          "metadata": {
            "tags": [],
            "needs_background": "light"
          }
        }
      ]
    },
    {
      "cell_type": "code",
      "metadata": {
        "id": "mWydA_CUzEdj",
        "outputId": "e8d37b75-4897-4576-973d-e3cc4f79187c",
        "colab": {
          "base_uri": "https://localhost:8080/",
          "height": 295
        }
      },
      "source": [
        "plt.plot(History.history['loss'])\n",
        "plt.title('Loss VS Epoch')\n",
        "plt.ylabel('Loss')\n",
        "plt.xlabel('Epoch')\n",
        "plt.legend(['Train'], loc='lower right')\n",
        "plt.show()"
      ],
      "execution_count": null,
      "outputs": [
        {
          "output_type": "display_data",
          "data": {
            "image/png": "[encoded data removed]",
            "text/plain": [
              "<Figure size 432x288 with 1 Axes>"
            ]
          },
          "metadata": {
            "tags": [],
            "needs_background": "light"
          }
        }
      ]
    },
    {
      "cell_type": "markdown",
      "metadata": {
        "id": "6gMf_ztgzEdn"
      },
      "source": [
        "## Testing the Shallow Neural Network"
      ]
    },
    {
      "cell_type": "code",
      "metadata": {
        "id": "AXU8nb5jzEdo",
        "outputId": "a40f3e6b-ed91-4cf6-83b9-958f02a5f710",
        "colab": {
          "base_uri": "https://localhost:8080/",
          "height": 67
        }
      },
      "source": [
        "Loss,Accuracy=model_ROT13.evaluate(X_test,Y_test,verbose=1)\n",
        "print('Accuracy: ',Accuracy)\n",
        "print('Loss: ',Loss)"
      ],
      "execution_count": null,
      "outputs": [
        {
          "output_type": "stream",
          "text": [
            "3/3 [==============================] - 0s 2ms/step - loss: 4.6194e-08 - accuracy: 1.0000\n",
            "Accuracy:  1.0\n",
            "Loss:  4.6193594727128584e-08\n"
          ],
          "name": "stdout"
        }
      ]
    },
    {
      "cell_type": "markdown",
      "metadata": {
        "id": "wLJgO3UrzEds"
      },
      "source": [
        "## Save the Model"
      ]
    },
    {
      "cell_type": "code",
      "metadata": {
        "id": "0N0vm_7gzEdt"
      },
      "source": [
        "Name='Model 2.3 - ROT13 39'"
      ],
      "execution_count": null,
      "outputs": []
    },
    {
      "cell_type": "code",
      "metadata": {
        "id": "pF91GtcOzEdx"
      },
      "source": [
        "Name=Name + ' - ' + str(datetime.datetime.now()) + '.h5'\n",
        "model_ROT13.save('/content/drive/My Drive/AI Breaks Cryptography/Models/'+Name)"
      ],
      "execution_count": null,
      "outputs": []
    },
    {
      "cell_type": "markdown",
      "metadata": {
        "id": "-KNSnGebzEd6"
      },
      "source": [
        "## Decoding function"
      ]
    },
    {
      "cell_type": "code",
      "metadata": {
        "id": "xQMmgmFjzEd7",
        "outputId": "e75897e4-8a80-44c6-ceb5-b05443215200",
        "colab": {
          "base_uri": "https://localhost:8080/",
          "height": 507
        }
      },
      "source": [
        "Categories=[i for i in CHOICES]\n",
        "Label_Encoding=LabelEncoder().fit_transform(Categories).reshape(-1,1)\n",
        "One_Hot_Encoding=OneHotEncoder().fit_transform(Label_Encoding).toarray()\n",
        "Categories_Dictionary={Categories[i]:One_Hot_Encoding[i] for i in range(len(Categories))}\n",
        "Categories_Dictionary_Reverse={tuple(One_Hot_Encoding[i]):Categories[i] for i in range(len(Categories))}\n",
        "print(Categories_Dictionary)\n",
        "print(Categories_Dictionary_Reverse)"
      ],
      "execution_count": null,
      "outputs": [
        {
          "output_type": "stream",
          "text": [
            "{'A': array([1., 0., 0., 0., 0., 0., 0., 0., 0., 0., 0., 0., 0., 0., 0., 0., 0.,\n",
            "       0., 0., 0., 0., 0., 0., 0., 0., 0.]), 'B': array([0., 1., 0., 0., 0., 0., 0., 0., 0., 0., 0., 0., 0., 0., 0., 0., 0.,\n",
            "       0., 0., 0., 0., 0., 0., 0., 0., 0.]), 'C': array([0., 0., 1., 0., 0., 0., 0., 0., 0., 0., 0., 0., 0., 0., 0., 0., 0.,\n",
            "       0., 0., 0., 0., 0., 0., 0., 0., 0.]), 'D': array([0., 0., 0., 1., 0., 0., 0., 0., 0., 0., 0., 0., 0., 0., 0., 0., 0.,\n",
            "       0., 0., 0., 0., 0., 0., 0., 0., 0.]), 'E': array([0., 0., 0., 0., 1., 0., 0., 0., 0., 0., 0., 0., 0., 0., 0., 0., 0.,\n",
            "       0., 0., 0., 0., 0., 0., 0., 0., 0.]), 'F': array([0., 0., 0., 0., 0., 1., 0., 0., 0., 0., 0., 0., 0., 0., 0., 0., 0.,\n",
            "       0., 0., 0., 0., 0., 0., 0., 0., 0.]), 'G': array([0., 0., 0., 0., 0., 0., 1., 0., 0., 0., 0., 0., 0., 0., 0., 0., 0.,\n",
            "       0., 0., 0., 0., 0., 0., 0., 0., 0.]), 'H': array([0., 0., 0., 0., 0., 0., 0., 1., 0., 0., 0., 0., 0., 0., 0., 0., 0.,\n",
            "       0., 0., 0., 0., 0., 0., 0., 0., 0.]), 'I': array([0., 0., 0., 0., 0., 0., 0., 0., 1., 0., 0., 0., 0., 0., 0., 0., 0.,\n",
            "       0., 0., 0., 0., 0., 0., 0., 0., 0.]), 'J': array([0., 0., 0., 0., 0., 0., 0., 0., 0., 1., 0., 0., 0., 0., 0., 0., 0.,\n",
            "       0., 0., 0., 0., 0., 0., 0., 0., 0.]), 'K': array([0., 0., 0., 0., 0., 0., 0., 0., 0., 0., 1., 0., 0., 0., 0., 0., 0.,\n",
            "       0., 0., 0., 0., 0., 0., 0., 0., 0.]), 'L': array([0., 0., 0., 0., 0., 0., 0., 0., 0., 0., 0., 1., 0., 0., 0., 0., 0.,\n",
            "       0., 0., 0., 0., 0., 0., 0., 0., 0.]), 'M': array([0., 0., 0., 0., 0., 0., 0., 0., 0., 0., 0., 0., 1., 0., 0., 0., 0.,\n",
            "       0., 0., 0., 0., 0., 0., 0., 0., 0.]), 'N': array([0., 0., 0., 0., 0., 0., 0., 0., 0., 0., 0., 0., 0., 1., 0., 0., 0.,\n",
            "       0., 0., 0., 0., 0., 0., 0., 0., 0.]), 'O': array([0., 0., 0., 0., 0., 0., 0., 0., 0., 0., 0., 0., 0., 0., 1., 0., 0.,\n",
            "       0., 0., 0., 0., 0., 0., 0., 0., 0.]), 'P': array([0., 0., 0., 0., 0., 0., 0., 0., 0., 0., 0., 0., 0., 0., 0., 1., 0.,\n",
            "       0., 0., 0., 0., 0., 0., 0., 0., 0.]), 'Q': array([0., 0., 0., 0., 0., 0., 0., 0., 0., 0., 0., 0., 0., 0., 0., 0., 1.,\n",
            "       0., 0., 0., 0., 0., 0., 0., 0., 0.]), 'R': array([0., 0., 0., 0., 0., 0., 0., 0., 0., 0., 0., 0., 0., 0., 0., 0., 0.,\n",
            "       1., 0., 0., 0., 0., 0., 0., 0., 0.]), 'S': array([0., 0., 0., 0., 0., 0., 0., 0., 0., 0., 0., 0., 0., 0., 0., 0., 0.,\n",
            "       0., 1., 0., 0., 0., 0., 0., 0., 0.]), 'T': array([0., 0., 0., 0., 0., 0., 0., 0., 0., 0., 0., 0., 0., 0., 0., 0., 0.,\n",
            "       0., 0., 1., 0., 0., 0., 0., 0., 0.]), 'U': array([0., 0., 0., 0., 0., 0., 0., 0., 0., 0., 0., 0., 0., 0., 0., 0., 0.,\n",
            "       0., 0., 0., 1., 0., 0., 0., 0., 0.]), 'V': array([0., 0., 0., 0., 0., 0., 0., 0., 0., 0., 0., 0., 0., 0., 0., 0., 0.,\n",
            "       0., 0., 0., 0., 1., 0., 0., 0., 0.]), 'W': array([0., 0., 0., 0., 0., 0., 0., 0., 0., 0., 0., 0., 0., 0., 0., 0., 0.,\n",
            "       0., 0., 0., 0., 0., 1., 0., 0., 0.]), 'X': array([0., 0., 0., 0., 0., 0., 0., 0., 0., 0., 0., 0., 0., 0., 0., 0., 0.,\n",
            "       0., 0., 0., 0., 0., 0., 1., 0., 0.]), 'Y': array([0., 0., 0., 0., 0., 0., 0., 0., 0., 0., 0., 0., 0., 0., 0., 0., 0.,\n",
            "       0., 0., 0., 0., 0., 0., 0., 1., 0.]), 'Z': array([0., 0., 0., 0., 0., 0., 0., 0., 0., 0., 0., 0., 0., 0., 0., 0., 0.,\n",
            "       0., 0., 0., 0., 0., 0., 0., 0., 1.])}\n",
            "{(1.0, 0.0, 0.0, 0.0, 0.0, 0.0, 0.0, 0.0, 0.0, 0.0, 0.0, 0.0, 0.0, 0.0, 0.0, 0.0, 0.0, 0.0, 0.0, 0.0, 0.0, 0.0, 0.0, 0.0, 0.0, 0.0): 'A', (0.0, 1.0, 0.0, 0.0, 0.0, 0.0, 0.0, 0.0, 0.0, 0.0, 0.0, 0.0, 0.0, 0.0, 0.0, 0.0, 0.0, 0.0, 0.0, 0.0, 0.0, 0.0, 0.0, 0.0, 0.0, 0.0): 'B', (0.0, 0.0, 1.0, 0.0, 0.0, 0.0, 0.0, 0.0, 0.0, 0.0, 0.0, 0.0, 0.0, 0.0, 0.0, 0.0, 0.0, 0.0, 0.0, 0.0, 0.0, 0.0, 0.0, 0.0, 0.0, 0.0): 'C', (0.0, 0.0, 0.0, 1.0, 0.0, 0.0, 0.0, 0.0, 0.0, 0.0, 0.0, 0.0, 0.0, 0.0, 0.0, 0.0, 0.0, 0.0, 0.0, 0.0, 0.0, 0.0, 0.0, 0.0, 0.0, 0.0): 'D', (0.0, 0.0, 0.0, 0.0, 1.0, 0.0, 0.0, 0.0, 0.0, 0.0, 0.0, 0.0, 0.0, 0.0, 0.0, 0.0, 0.0, 0.0, 0.0, 0.0, 0.0, 0.0, 0.0, 0.0, 0.0, 0.0): 'E', (0.0, 0.0, 0.0, 0.0, 0.0, 1.0, 0.0, 0.0, 0.0, 0.0, 0.0, 0.0, 0.0, 0.0, 0.0, 0.0, 0.0, 0.0, 0.0, 0.0, 0.0, 0.0, 0.0, 0.0, 0.0, 0.0): 'F', (0.0, 0.0, 0.0, 0.0, 0.0, 0.0, 1.0, 0.0, 0.0, 0.0, 0.0, 0.0, 0.0, 0.0, 0.0, 0.0, 0.0, 0.0, 0.0, 0.0, 0.0, 0.0, 0.0, 0.0, 0.0, 0.0): 'G', (0.0, 0.0, 0.0, 0.0, 0.0, 0.0, 0.0, 1.0, 0.0, 0.0, 0.0, 0.0, 0.0, 0.0, 0.0, 0.0, 0.0, 0.0, 0.0, 0.0, 0.0, 0.0, 0.0, 0.0, 0.0, 0.0): 'H', (0.0, 0.0, 0.0, 0.0, 0.0, 0.0, 0.0, 0.0, 1.0, 0.0, 0.0, 0.0, 0.0, 0.0, 0.0, 0.0, 0.0, 0.0, 0.0, 0.0, 0.0, 0.0, 0.0, 0.0, 0.0, 0.0): 'I', (0.0, 0.0, 0.0, 0.0, 0.0, 0.0, 0.0, 0.0, 0.0, 1.0, 0.0, 0.0, 0.0, 0.0, 0.0, 0.0, 0.0, 0.0, 0.0, 0.0, 0.0, 0.0, 0.0, 0.0, 0.0, 0.0): 'J', (0.0, 0.0, 0.0, 0.0, 0.0, 0.0, 0.0, 0.0, 0.0, 0.0, 1.0, 0.0, 0.0, 0.0, 0.0, 0.0, 0.0, 0.0, 0.0, 0.0, 0.0, 0.0, 0.0, 0.0, 0.0, 0.0): 'K', (0.0, 0.0, 0.0, 0.0, 0.0, 0.0, 0.0, 0.0, 0.0, 0.0, 0.0, 1.0, 0.0, 0.0, 0.0, 0.0, 0.0, 0.0, 0.0, 0.0, 0.0, 0.0, 0.0, 0.0, 0.0, 0.0): 'L', (0.0, 0.0, 0.0, 0.0, 0.0, 0.0, 0.0, 0.0, 0.0, 0.0, 0.0, 0.0, 1.0, 0.0, 0.0, 0.0, 0.0, 0.0, 0.0, 0.0, 0.0, 0.0, 0.0, 0.0, 0.0, 0.0): 'M', (0.0, 0.0, 0.0, 0.0, 0.0, 0.0, 0.0, 0.0, 0.0, 0.0, 0.0, 0.0, 0.0, 1.0, 0.0, 0.0, 0.0, 0.0, 0.0, 0.0, 0.0, 0.0, 0.0, 0.0, 0.0, 0.0): 'N', (0.0, 0.0, 0.0, 0.0, 0.0, 0.0, 0.0, 0.0, 0.0, 0.0, 0.0, 0.0, 0.0, 0.0, 1.0, 0.0, 0.0, 0.0, 0.0, 0.0, 0.0, 0.0, 0.0, 0.0, 0.0, 0.0): 'O', (0.0, 0.0, 0.0, 0.0, 0.0, 0.0, 0.0, 0.0, 0.0, 0.0, 0.0, 0.0, 0.0, 0.0, 0.0, 1.0, 0.0, 0.0, 0.0, 0.0, 0.0, 0.0, 0.0, 0.0, 0.0, 0.0): 'P', (0.0, 0.0, 0.0, 0.0, 0.0, 0.0, 0.0, 0.0, 0.0, 0.0, 0.0, 0.0, 0.0, 0.0, 0.0, 0.0, 1.0, 0.0, 0.0, 0.0, 0.0, 0.0, 0.0, 0.0, 0.0, 0.0): 'Q', (0.0, 0.0, 0.0, 0.0, 0.0, 0.0, 0.0, 0.0, 0.0, 0.0, 0.0, 0.0, 0.0, 0.0, 0.0, 0.0, 0.0, 1.0, 0.0, 0.0, 0.0, 0.0, 0.0, 0.0, 0.0, 0.0): 'R', (0.0, 0.0, 0.0, 0.0, 0.0, 0.0, 0.0, 0.0, 0.0, 0.0, 0.0, 0.0, 0.0, 0.0, 0.0, 0.0, 0.0, 0.0, 1.0, 0.0, 0.0, 0.0, 0.0, 0.0, 0.0, 0.0): 'S', (0.0, 0.0, 0.0, 0.0, 0.0, 0.0, 0.0, 0.0, 0.0, 0.0, 0.0, 0.0, 0.0, 0.0, 0.0, 0.0, 0.0, 0.0, 0.0, 1.0, 0.0, 0.0, 0.0, 0.0, 0.0, 0.0): 'T', (0.0, 0.0, 0.0, 0.0, 0.0, 0.0, 0.0, 0.0, 0.0, 0.0, 0.0, 0.0, 0.0, 0.0, 0.0, 0.0, 0.0, 0.0, 0.0, 0.0, 1.0, 0.0, 0.0, 0.0, 0.0, 0.0): 'U', (0.0, 0.0, 0.0, 0.0, 0.0, 0.0, 0.0, 0.0, 0.0, 0.0, 0.0, 0.0, 0.0, 0.0, 0.0, 0.0, 0.0, 0.0, 0.0, 0.0, 0.0, 1.0, 0.0, 0.0, 0.0, 0.0): 'V', (0.0, 0.0, 0.0, 0.0, 0.0, 0.0, 0.0, 0.0, 0.0, 0.0, 0.0, 0.0, 0.0, 0.0, 0.0, 0.0, 0.0, 0.0, 0.0, 0.0, 0.0, 0.0, 1.0, 0.0, 0.0, 0.0): 'W', (0.0, 0.0, 0.0, 0.0, 0.0, 0.0, 0.0, 0.0, 0.0, 0.0, 0.0, 0.0, 0.0, 0.0, 0.0, 0.0, 0.0, 0.0, 0.0, 0.0, 0.0, 0.0, 0.0, 1.0, 0.0, 0.0): 'X', (0.0, 0.0, 0.0, 0.0, 0.0, 0.0, 0.0, 0.0, 0.0, 0.0, 0.0, 0.0, 0.0, 0.0, 0.0, 0.0, 0.0, 0.0, 0.0, 0.0, 0.0, 0.0, 0.0, 0.0, 1.0, 0.0): 'Y', (0.0, 0.0, 0.0, 0.0, 0.0, 0.0, 0.0, 0.0, 0.0, 0.0, 0.0, 0.0, 0.0, 0.0, 0.0, 0.0, 0.0, 0.0, 0.0, 0.0, 0.0, 0.0, 0.0, 0.0, 0.0, 1.0): 'Z'}\n"
          ],
          "name": "stdout"
        }
      ]
    },
    {
      "cell_type": "code",
      "metadata": {
        "id": "R49Y2ApAzEd-"
      },
      "source": [
        "def Decode(character,Categories_Dictionary_Reverse=Categories_Dictionary_Reverse):\n",
        "  #print(np.array(Categories_Dictionary[character]).shape)\n",
        "  prediction=model_ROT13.predict(np.array(Categories_Dictionary[character]).reshape(1,26))\n",
        "  prediction=prediction>=prediction.max()\n",
        "  #print(prediction)\n",
        "  temp=[0.0 for i in range(26)]\n",
        "  for i in range(len(prediction[0])):\n",
        "    if prediction[0][i]==True:\n",
        "      temp[i]=1\n",
        "  return Categories_Dictionary_Reverse[tuple(temp)]"
      ],
      "execution_count": null,
      "outputs": []
    },
    {
      "cell_type": "code",
      "metadata": {
        "id": "Qq0WWamYzEeB",
        "outputId": "dd67a93c-65c8-43ad-d654-75de23b222d0",
        "colab": {
          "base_uri": "https://localhost:8080/",
          "height": 50
        }
      },
      "source": [
        "character='N'\n",
        "print(character)\n",
        "print(Decode(character))"
      ],
      "execution_count": null,
      "outputs": [
        {
          "output_type": "stream",
          "text": [
            "N\n",
            "A\n"
          ],
          "name": "stdout"
        }
      ]
    },
    {
      "cell_type": "markdown",
      "metadata": {
        "id": "9axZHImGzEeE"
      },
      "source": [
        "## AI Based Decryption of ROT13 Cipher"
      ]
    },
    {
      "cell_type": "code",
      "metadata": {
        "id": "9aLl5S-dzEeE",
        "outputId": "828b8c11-3357-4673-82c7-ea82ec3b2a05",
        "colab": {
          "base_uri": "https://localhost:8080/",
          "height": 134
        }
      },
      "source": [
        "MESSAGE=\"CHRISTEEN T JOSE\"\n",
        "MESSAGE=MESSAGE.upper()\n",
        "print(\"\\t\\tOriginal Message:\\t\\t\\t\\t\",MESSAGE)\n",
        "ENCRYPTED_MESSAGE=ROT13(MESSAGE)\n",
        "print(\"\\n\\n\\t\\tMessage after Encryption using ROT13 Cipher:\\t\",ENCRYPTED_MESSAGE)\n",
        "#print(\"Key used for Encryption: \",KEY)\n",
        "DECRYPTED_MESSAGE=''\n",
        "for i in ENCRYPTED_MESSAGE:\n",
        "  if i==' ':\n",
        "    DECRYPTED_MESSAGE+=i\n",
        "  else:\n",
        "    DECRYPTED_MESSAGE+=Decode(i)\n",
        "print(\"\\n\\n\\t\\tMessage after AI based Decryption:\\t\\t\",DECRYPTED_MESSAGE)"
      ],
      "execution_count": null,
      "outputs": [
        {
          "output_type": "stream",
          "text": [
            "\t\tOriginal Message:\t\t\t\t CHRISTEEN T JOSE\n",
            "\n",
            "\n",
            "\t\tMessage after Encryption using ROT13 Cipher:\t PUEVFGRRA G WBFR\n",
            "\n",
            "\n",
            "\t\tMessage after AI based Decryption:\t\t CHRISTEEN T JOSE\n"
          ],
          "name": "stdout"
        }
      ]
    },
    {
      "cell_type": "markdown",
      "metadata": {
        "id": "lNYzSGIHOPe5"
      },
      "source": [
        "# Simple Substitution Cipher"
      ]
    },
    {
      "cell_type": "markdown",
      "metadata": {
        "id": "3luTy3XPOPe8"
      },
      "source": [
        "## Known-Plaintext Attack"
      ]
    },
    {
      "cell_type": "markdown",
      "metadata": {
        "id": "OrkK8UyWOPe-"
      },
      "source": [
        "### Fixed Key"
      ]
    },
    {
      "cell_type": "code",
      "metadata": {
        "id": "cq5pIdwFOPe_"
      },
      "source": [
        "KEY='ProjectReviewISAA'"
      ],
      "execution_count": null,
      "outputs": []
    },
    {
      "cell_type": "markdown",
      "metadata": {
        "id": "NatiOjxLOPfG"
      },
      "source": [
        "### Password Size"
      ]
    },
    {
      "cell_type": "code",
      "metadata": {
        "id": "O_bIkK_gOPfH"
      },
      "source": [
        "PASSWORD_SIZE=8"
      ],
      "execution_count": null,
      "outputs": []
    },
    {
      "cell_type": "markdown",
      "metadata": {
        "id": "g5jRCtw3OPfM"
      },
      "source": [
        "### Dataset Size"
      ]
    },
    {
      "cell_type": "code",
      "metadata": {
        "id": "F42JH5ohOPfN"
      },
      "source": [
        "DATASET_SIZE=50"
      ],
      "execution_count": null,
      "outputs": []
    },
    {
      "cell_type": "markdown",
      "metadata": {
        "id": "fKY0CKe7OPfU"
      },
      "source": [
        "### Generation of Dataset"
      ]
    },
    {
      "cell_type": "code",
      "metadata": {
        "id": "K9byQ8JKOPfV",
        "outputId": "6e4a3993-291f-461f-bc54-9784b4dfe39d",
        "colab": {
          "base_uri": "https://localhost:8080/",
          "height": 35
        }
      },
      "source": [
        "CHOICES=CaesarCipher_characterset()\n",
        "CHOICES"
      ],
      "execution_count": null,
      "outputs": [
        {
          "output_type": "execute_result",
          "data": {
            "application/vnd.google.colaboratory.intrinsic+json": {
              "type": "string"
            },
            "text/plain": [
              "'ABCDEFGHIJKLMNOPQRSTUVWXYZ'"
            ]
          },
          "metadata": {
            "tags": []
          },
          "execution_count": 8
        }
      ]
    },
    {
      "cell_type": "code",
      "metadata": {
        "id": "AZ_pJS_iOPfa",
        "outputId": "5cf252a3-2331-43fe-8ea7-c2abb098ff80",
        "colab": {
          "base_uri": "https://localhost:8080/",
          "height": 70
        }
      },
      "source": [
        "x=[]\n",
        "y=[]\n",
        "for i in range(DATASET_SIZE):\n",
        "  temp=''\n",
        "  for j in range(PASSWORD_SIZE):\n",
        "    temp+=random.choice(CHOICES)\n",
        "  x.append(temp)\n",
        "  y.append(SimpleSubstitutionCipher_encryption(temp,KEY))\n",
        "print(x)\n",
        "print(y)"
      ],
      "execution_count": null,
      "outputs": [
        {
          "output_type": "stream",
          "text": [
            "['KICUHOIL', 'HJYBVVIF', 'SMSYVTFW', 'BSTUOHRE', 'FZTEHPQA', 'YGRLMGQE', 'BIQZWHMJ', 'DFFHYXWV', 'MEWJJUYW', 'IEJNIAHR', 'HXPAAQYU', 'UYGLSQEN', 'FCEYEOOZ', 'UCTTIQMJ', 'GILAUMSK', 'LILNTNBJ', 'DUPDIMYR', 'FSWODPSK', 'SFAYGXMS', 'IXBRECEK', 'AABIQLQE', 'YWHWWBOR', 'KVTTHCNX', 'CBREAWEZ', 'OOEBLUAI', 'YEKDRWFS', 'CZYICKSH', 'CKSCPZGV', 'REQXPPVE', 'DOBVVXCF', 'AIEKHMNB', 'NBNYDNLQ', 'FSMVCEMC', 'PKJKVBPB', 'BAMUZNGC', 'KYYJXEZM', 'PHRUHTYM', 'IJYBRHAY', 'MBZPVQOV', 'VOMYMXNC', 'VTCRYYJB', 'FKQHATMT', 'UUJXEIJR', 'OZPUEURT', 'SGBFTPSC', 'OTOMSWLX', 'WNTXMPAC', 'ALAYQGJJ', 'XQSTSJMC', 'IWJTRFEY']\n",
            "['SIONVFIA', 'VWYRQQIC', 'LBLYQMCU', 'RLMNFVKE', 'CZMEVGHP', 'YTKABTHE', 'RIHZUVBW', 'JCCVYXUQ', 'BEUWWNYU', 'IEWDIPVK', 'VXGPPHYN', 'NYTALHED', 'COEYEFFZ', 'NOMMIHBW', 'TIAPNBLS', 'AIADMDRW', 'JNGJIBYK', 'CLUFJGLS', 'LCPYTXBL', 'IXRKEOES', 'PPRIHAHE', 'YUVUURFK', 'SQMMVODX', 'ORKEPUEZ', 'FFERANPI', 'YESJKUCL', 'OZYIOSLV', 'OSLOGZTQ', 'KEHXGGQE', 'JFRQQXOC', 'PIESVBDR', 'DRDYJDAH', 'CLBQOEBO', 'GSWSQRGR', 'RPBNZDTO', 'SYYWXEZB', 'GVKNVMYB', 'IWYRKVPY', 'BRZGQHFQ', 'QFBYBXDO', 'QMOKYYWR', 'CSHVPMBM', 'NNWXEIWK', 'FZGNENKM', 'LTRCMGLO', 'FMFBLUAX', 'UDMXBGPO', 'PAPYHTWW', 'XHLMLWBO', 'IUWMKCEY']\n"
          ],
          "name": "stdout"
        }
      ]
    },
    {
      "cell_type": "code",
      "metadata": {
        "id": "fQr1vR0GOPff",
        "outputId": "4c2e3289-b88b-4e7d-f6ee-ef6d0adfbb9f",
        "colab": {
          "base_uri": "https://localhost:8080/",
          "height": 491
        }
      },
      "source": [
        "Data=pd.DataFrame({'Plaintext':x,'Ciphertext':y})\n",
        "Data.head(15)"
      ],
      "execution_count": null,
      "outputs": [
        {
          "output_type": "execute_result",
          "data": {
            "text/html": [
              "<div>\n",
              "<style scoped>\n",
              "    .dataframe tbody tr th:only-of-type {\n",
              "        vertical-align: middle;\n",
              "    }\n",
              "\n",
              "    .dataframe tbody tr th {\n",
              "        vertical-align: top;\n",
              "    }\n",
              "\n",
              "    .dataframe thead th {\n",
              "        text-align: right;\n",
              "    }\n",
              "</style>\n",
              "<table border=\"1\" class=\"dataframe\">\n",
              "  <thead>\n",
              "    <tr style=\"text-align: right;\">\n",
              "      <th></th>\n",
              "      <th>Plaintext</th>\n",
              "      <th>Ciphertext</th>\n",
              "    </tr>\n",
              "  </thead>\n",
              "  <tbody>\n",
              "    <tr>\n",
              "      <th>0</th>\n",
              "      <td>KICUHOIL</td>\n",
              "      <td>SIONVFIA</td>\n",
              "    </tr>\n",
              "    <tr>\n",
              "      <th>1</th>\n",
              "      <td>HJYBVVIF</td>\n",
              "      <td>VWYRQQIC</td>\n",
              "    </tr>\n",
              "    <tr>\n",
              "      <th>2</th>\n",
              "      <td>SMSYVTFW</td>\n",
              "      <td>LBLYQMCU</td>\n",
              "    </tr>\n",
              "    <tr>\n",
              "      <th>3</th>\n",
              "      <td>BSTUOHRE</td>\n",
              "      <td>RLMNFVKE</td>\n",
              "    </tr>\n",
              "    <tr>\n",
              "      <th>4</th>\n",
              "      <td>FZTEHPQA</td>\n",
              "      <td>CZMEVGHP</td>\n",
              "    </tr>\n",
              "    <tr>\n",
              "      <th>5</th>\n",
              "      <td>YGRLMGQE</td>\n",
              "      <td>YTKABTHE</td>\n",
              "    </tr>\n",
              "    <tr>\n",
              "      <th>6</th>\n",
              "      <td>BIQZWHMJ</td>\n",
              "      <td>RIHZUVBW</td>\n",
              "    </tr>\n",
              "    <tr>\n",
              "      <th>7</th>\n",
              "      <td>DFFHYXWV</td>\n",
              "      <td>JCCVYXUQ</td>\n",
              "    </tr>\n",
              "    <tr>\n",
              "      <th>8</th>\n",
              "      <td>MEWJJUYW</td>\n",
              "      <td>BEUWWNYU</td>\n",
              "    </tr>\n",
              "    <tr>\n",
              "      <th>9</th>\n",
              "      <td>IEJNIAHR</td>\n",
              "      <td>IEWDIPVK</td>\n",
              "    </tr>\n",
              "    <tr>\n",
              "      <th>10</th>\n",
              "      <td>HXPAAQYU</td>\n",
              "      <td>VXGPPHYN</td>\n",
              "    </tr>\n",
              "    <tr>\n",
              "      <th>11</th>\n",
              "      <td>UYGLSQEN</td>\n",
              "      <td>NYTALHED</td>\n",
              "    </tr>\n",
              "    <tr>\n",
              "      <th>12</th>\n",
              "      <td>FCEYEOOZ</td>\n",
              "      <td>COEYEFFZ</td>\n",
              "    </tr>\n",
              "    <tr>\n",
              "      <th>13</th>\n",
              "      <td>UCTTIQMJ</td>\n",
              "      <td>NOMMIHBW</td>\n",
              "    </tr>\n",
              "    <tr>\n",
              "      <th>14</th>\n",
              "      <td>GILAUMSK</td>\n",
              "      <td>TIAPNBLS</td>\n",
              "    </tr>\n",
              "  </tbody>\n",
              "</table>\n",
              "</div>"
            ],
            "text/plain": [
              "   Plaintext Ciphertext\n",
              "0   KICUHOIL   SIONVFIA\n",
              "1   HJYBVVIF   VWYRQQIC\n",
              "2   SMSYVTFW   LBLYQMCU\n",
              "3   BSTUOHRE   RLMNFVKE\n",
              "4   FZTEHPQA   CZMEVGHP\n",
              "5   YGRLMGQE   YTKABTHE\n",
              "6   BIQZWHMJ   RIHZUVBW\n",
              "7   DFFHYXWV   JCCVYXUQ\n",
              "8   MEWJJUYW   BEUWWNYU\n",
              "9   IEJNIAHR   IEWDIPVK\n",
              "10  HXPAAQYU   VXGPPHYN\n",
              "11  UYGLSQEN   NYTALHED\n",
              "12  FCEYEOOZ   COEYEFFZ\n",
              "13  UCTTIQMJ   NOMMIHBW\n",
              "14  GILAUMSK   TIAPNBLS"
            ]
          },
          "metadata": {
            "tags": []
          },
          "execution_count": 10
        }
      ]
    },
    {
      "cell_type": "markdown",
      "metadata": {
        "id": "7OIWPd9uOPfk"
      },
      "source": [
        "### Since Simple Substitution Cipher is a Stream Cipher"
      ]
    },
    {
      "cell_type": "code",
      "metadata": {
        "id": "zIN1dF9ZOPfk",
        "outputId": "5bdd317e-af8c-4945-ae8c-3a044ef1bb85",
        "colab": {
          "base_uri": "https://localhost:8080/",
          "height": 491
        }
      },
      "source": [
        "plaintext=[]\n",
        "ciphertext=[]\n",
        "for password in x:\n",
        "  for character in password:\n",
        "    plaintext.append(character)\n",
        "for Encrypted_password in y:\n",
        "  for character in Encrypted_password:\n",
        "    ciphertext.append(character)\n",
        "Data=pd.DataFrame({'Plaintext':plaintext,'Ciphertext':ciphertext})\n",
        "Data.head(15)"
      ],
      "execution_count": null,
      "outputs": [
        {
          "output_type": "execute_result",
          "data": {
            "text/html": [
              "<div>\n",
              "<style scoped>\n",
              "    .dataframe tbody tr th:only-of-type {\n",
              "        vertical-align: middle;\n",
              "    }\n",
              "\n",
              "    .dataframe tbody tr th {\n",
              "        vertical-align: top;\n",
              "    }\n",
              "\n",
              "    .dataframe thead th {\n",
              "        text-align: right;\n",
              "    }\n",
              "</style>\n",
              "<table border=\"1\" class=\"dataframe\">\n",
              "  <thead>\n",
              "    <tr style=\"text-align: right;\">\n",
              "      <th></th>\n",
              "      <th>Plaintext</th>\n",
              "      <th>Ciphertext</th>\n",
              "    </tr>\n",
              "  </thead>\n",
              "  <tbody>\n",
              "    <tr>\n",
              "      <th>0</th>\n",
              "      <td>K</td>\n",
              "      <td>S</td>\n",
              "    </tr>\n",
              "    <tr>\n",
              "      <th>1</th>\n",
              "      <td>I</td>\n",
              "      <td>I</td>\n",
              "    </tr>\n",
              "    <tr>\n",
              "      <th>2</th>\n",
              "      <td>C</td>\n",
              "      <td>O</td>\n",
              "    </tr>\n",
              "    <tr>\n",
              "      <th>3</th>\n",
              "      <td>U</td>\n",
              "      <td>N</td>\n",
              "    </tr>\n",
              "    <tr>\n",
              "      <th>4</th>\n",
              "      <td>H</td>\n",
              "      <td>V</td>\n",
              "    </tr>\n",
              "    <tr>\n",
              "      <th>5</th>\n",
              "      <td>O</td>\n",
              "      <td>F</td>\n",
              "    </tr>\n",
              "    <tr>\n",
              "      <th>6</th>\n",
              "      <td>I</td>\n",
              "      <td>I</td>\n",
              "    </tr>\n",
              "    <tr>\n",
              "      <th>7</th>\n",
              "      <td>L</td>\n",
              "      <td>A</td>\n",
              "    </tr>\n",
              "    <tr>\n",
              "      <th>8</th>\n",
              "      <td>H</td>\n",
              "      <td>V</td>\n",
              "    </tr>\n",
              "    <tr>\n",
              "      <th>9</th>\n",
              "      <td>J</td>\n",
              "      <td>W</td>\n",
              "    </tr>\n",
              "    <tr>\n",
              "      <th>10</th>\n",
              "      <td>Y</td>\n",
              "      <td>Y</td>\n",
              "    </tr>\n",
              "    <tr>\n",
              "      <th>11</th>\n",
              "      <td>B</td>\n",
              "      <td>R</td>\n",
              "    </tr>\n",
              "    <tr>\n",
              "      <th>12</th>\n",
              "      <td>V</td>\n",
              "      <td>Q</td>\n",
              "    </tr>\n",
              "    <tr>\n",
              "      <th>13</th>\n",
              "      <td>V</td>\n",
              "      <td>Q</td>\n",
              "    </tr>\n",
              "    <tr>\n",
              "      <th>14</th>\n",
              "      <td>I</td>\n",
              "      <td>I</td>\n",
              "    </tr>\n",
              "  </tbody>\n",
              "</table>\n",
              "</div>"
            ],
            "text/plain": [
              "   Plaintext Ciphertext\n",
              "0          K          S\n",
              "1          I          I\n",
              "2          C          O\n",
              "3          U          N\n",
              "4          H          V\n",
              "5          O          F\n",
              "6          I          I\n",
              "7          L          A\n",
              "8          H          V\n",
              "9          J          W\n",
              "10         Y          Y\n",
              "11         B          R\n",
              "12         V          Q\n",
              "13         V          Q\n",
              "14         I          I"
            ]
          },
          "metadata": {
            "tags": []
          },
          "execution_count": 11
        }
      ]
    },
    {
      "cell_type": "markdown",
      "metadata": {
        "id": "D9Eg4c1AOPfp"
      },
      "source": [
        "## Data Preprocessing"
      ]
    },
    {
      "cell_type": "markdown",
      "metadata": {
        "id": "jb8BYudtOPfq"
      },
      "source": [
        "### Encoding"
      ]
    },
    {
      "cell_type": "code",
      "metadata": {
        "id": "2320gID1OPfs",
        "outputId": "f435af9b-847a-4ed1-c040-38e3109b9eab",
        "colab": {
          "base_uri": "https://localhost:8080/",
          "height": 252
        }
      },
      "source": [
        "plaintext=LabelEncoder().fit_transform(plaintext).reshape(-1, 1)\n",
        "ciphertext=LabelEncoder().fit_transform(ciphertext).reshape(-1, 1)\n",
        "X=OneHotEncoder().fit_transform(plaintext).toarray()\n",
        "Y=OneHotEncoder().fit_transform(ciphertext).toarray()\n",
        "print(X)\n",
        "print(Y)"
      ],
      "execution_count": null,
      "outputs": [
        {
          "output_type": "stream",
          "text": [
            "[[0. 0. 0. ... 0. 0. 0.]\n",
            " [0. 0. 0. ... 0. 0. 0.]\n",
            " [0. 0. 1. ... 0. 0. 0.]\n",
            " ...\n",
            " [0. 0. 0. ... 0. 0. 0.]\n",
            " [0. 0. 0. ... 0. 0. 0.]\n",
            " [0. 0. 0. ... 0. 1. 0.]]\n",
            "[[0. 0. 0. ... 0. 0. 0.]\n",
            " [0. 0. 0. ... 0. 0. 0.]\n",
            " [0. 0. 0. ... 0. 0. 0.]\n",
            " ...\n",
            " [0. 0. 1. ... 0. 0. 0.]\n",
            " [0. 0. 0. ... 0. 0. 0.]\n",
            " [0. 0. 0. ... 0. 1. 0.]]\n"
          ],
          "name": "stdout"
        }
      ]
    },
    {
      "cell_type": "markdown",
      "metadata": {
        "id": "IBC4aJdUOPfx"
      },
      "source": [
        "### Splitting the Dataset - Decryption"
      ]
    },
    {
      "cell_type": "code",
      "metadata": {
        "id": "VFa6Hcb5OPfy",
        "outputId": "34380f1d-e83b-4d39-8362-793253eae7ef",
        "colab": {
          "base_uri": "https://localhost:8080/",
          "height": 34
        }
      },
      "source": [
        "from sklearn.model_selection import train_test_split\n",
        "X_train,X_test,Y_train,Y_test=train_test_split(Y,X,test_size=0.2,random_state=0)\n",
        "print(X_train.shape)"
      ],
      "execution_count": null,
      "outputs": [
        {
          "output_type": "stream",
          "text": [
            "(320, 26)\n"
          ],
          "name": "stdout"
        }
      ]
    },
    {
      "cell_type": "markdown",
      "metadata": {
        "id": "4-4VHkxKOPf3"
      },
      "source": [
        "## Training the Shallow Neural Network"
      ]
    },
    {
      "cell_type": "code",
      "metadata": {
        "id": "YWXkWt8lOPf4",
        "outputId": "301bb6ae-0e53-4e9b-8939-886525dc2dfa",
        "colab": {
          "base_uri": "https://localhost:8080/",
          "height": 252
        }
      },
      "source": [
        "model_SS= models.Sequential()\n",
        "model_SS.add(layers.Dense(26, activation='relu',input_shape=(26,)))\n",
        "model_SS.add(layers.Dense(39, activation='relu'))\n",
        "model_SS.add(layers.Dense(26, activation='softmax'))\n",
        "model_SS.summary()"
      ],
      "execution_count": null,
      "outputs": [
        {
          "output_type": "stream",
          "text": [
            "Model: \"sequential\"\n",
            "_________________________________________________________________\n",
            "Layer (type)                 Output Shape              Param #   \n",
            "=================================================================\n",
            "dense (Dense)                (None, 26)                702       \n",
            "_________________________________________________________________\n",
            "dense_1 (Dense)              (None, 39)                1053      \n",
            "_________________________________________________________________\n",
            "dense_2 (Dense)              (None, 26)                1040      \n",
            "=================================================================\n",
            "Total params: 2,795\n",
            "Trainable params: 2,795\n",
            "Non-trainable params: 0\n",
            "_________________________________________________________________\n"
          ],
          "name": "stdout"
        }
      ]
    },
    {
      "cell_type": "code",
      "metadata": {
        "id": "H3WtAlVNOPf8"
      },
      "source": [
        "EarlyStopping=tf.keras.callbacks.EarlyStopping(monitor='val_loss', patience=10, verbose=1, mode='min',restore_best_weights=True)"
      ],
      "execution_count": null,
      "outputs": []
    },
    {
      "cell_type": "code",
      "metadata": {
        "id": "lK1CEUtqOPgB"
      },
      "source": [
        "model_SS.compile(loss='categorical_crossentropy',\n",
        "              optimizer=tf.keras.optimizers.RMSprop(learning_rate=0.0001, decay=1e-6),\n",
        "              metrics=['accuracy'])"
      ],
      "execution_count": null,
      "outputs": []
    },
    {
      "cell_type": "code",
      "metadata": {
        "id": "EgX9QP54OPgF",
        "outputId": "3b827350-1410-4dc7-dd44-99b5059b4cce",
        "colab": {
          "base_uri": "https://localhost:8080/",
          "height": 1000
        }
      },
      "source": [
        "model_SS.fit(x=X_train,y=Y_train,epochs=1000,batch_size=10,validation_split=0.1,callbacks=EarlyStopping)"
      ],
      "execution_count": null,
      "outputs": [
        {
          "output_type": "stream",
          "text": [
            "Epoch 1/1000\n",
            "29/29 [==============================] - 0s 8ms/step - loss: 3.2327 - accuracy: 0.0278 - val_loss: 3.2469 - val_accuracy: 0.0000e+00\n",
            "Epoch 2/1000\n",
            "29/29 [==============================] - 0s 3ms/step - loss: 3.2210 - accuracy: 0.0278 - val_loss: 3.2373 - val_accuracy: 0.0000e+00\n",
            "Epoch 3/1000\n",
            "29/29 [==============================] - 0s 3ms/step - loss: 3.2104 - accuracy: 0.0278 - val_loss: 3.2278 - val_accuracy: 0.0000e+00\n",
            "Epoch 4/1000\n",
            "29/29 [==============================] - 0s 4ms/step - loss: 3.2000 - accuracy: 0.0278 - val_loss: 3.2185 - val_accuracy: 0.0000e+00\n",
            "Epoch 5/1000\n",
            "29/29 [==============================] - 0s 3ms/step - loss: 3.1892 - accuracy: 0.0278 - val_loss: 3.2087 - val_accuracy: 0.0000e+00\n",
            "Epoch 6/1000\n",
            "29/29 [==============================] - 0s 3ms/step - loss: 3.1784 - accuracy: 0.0556 - val_loss: 3.1989 - val_accuracy: 0.0312\n",
            "Epoch 7/1000\n",
            "29/29 [==============================] - 0s 3ms/step - loss: 3.1678 - accuracy: 0.0868 - val_loss: 3.1894 - val_accuracy: 0.0625\n",
            "Epoch 8/1000\n",
            "29/29 [==============================] - 0s 3ms/step - loss: 3.1574 - accuracy: 0.1146 - val_loss: 3.1801 - val_accuracy: 0.0625\n",
            "Epoch 9/1000\n",
            "29/29 [==============================] - 0s 3ms/step - loss: 3.1472 - accuracy: 0.1424 - val_loss: 3.1707 - val_accuracy: 0.0625\n",
            "Epoch 10/1000\n",
            "29/29 [==============================] - 0s 3ms/step - loss: 3.1369 - accuracy: 0.1806 - val_loss: 3.1609 - val_accuracy: 0.1250\n",
            "Epoch 11/1000\n",
            "29/29 [==============================] - 0s 3ms/step - loss: 3.1263 - accuracy: 0.2083 - val_loss: 3.1510 - val_accuracy: 0.1250\n",
            "Epoch 12/1000\n",
            "29/29 [==============================] - 0s 3ms/step - loss: 3.1154 - accuracy: 0.2083 - val_loss: 3.1413 - val_accuracy: 0.1250\n",
            "Epoch 13/1000\n",
            "29/29 [==============================] - 0s 3ms/step - loss: 3.1045 - accuracy: 0.2222 - val_loss: 3.1314 - val_accuracy: 0.1250\n",
            "Epoch 14/1000\n",
            "29/29 [==============================] - 0s 3ms/step - loss: 3.0938 - accuracy: 0.2500 - val_loss: 3.1216 - val_accuracy: 0.1250\n",
            "Epoch 15/1000\n",
            "29/29 [==============================] - 0s 3ms/step - loss: 3.0827 - accuracy: 0.2500 - val_loss: 3.1113 - val_accuracy: 0.1250\n",
            "Epoch 16/1000\n",
            "29/29 [==============================] - 0s 3ms/step - loss: 3.0715 - accuracy: 0.2674 - val_loss: 3.1011 - val_accuracy: 0.1875\n",
            "Epoch 17/1000\n",
            "29/29 [==============================] - 0s 3ms/step - loss: 3.0600 - accuracy: 0.3056 - val_loss: 3.0904 - val_accuracy: 0.2188\n",
            "Epoch 18/1000\n",
            "29/29 [==============================] - 0s 3ms/step - loss: 3.0483 - accuracy: 0.3403 - val_loss: 3.0793 - val_accuracy: 0.2188\n",
            "Epoch 19/1000\n",
            "29/29 [==============================] - 0s 3ms/step - loss: 3.0366 - accuracy: 0.3438 - val_loss: 3.0685 - val_accuracy: 0.2188\n",
            "Epoch 20/1000\n",
            "29/29 [==============================] - 0s 3ms/step - loss: 3.0243 - accuracy: 0.3438 - val_loss: 3.0571 - val_accuracy: 0.2188\n",
            "Epoch 21/1000\n",
            "29/29 [==============================] - 0s 3ms/step - loss: 3.0116 - accuracy: 0.3542 - val_loss: 3.0455 - val_accuracy: 0.2500\n",
            "Epoch 22/1000\n",
            "29/29 [==============================] - 0s 3ms/step - loss: 2.9990 - accuracy: 0.3889 - val_loss: 3.0342 - val_accuracy: 0.2500\n",
            "Epoch 23/1000\n",
            "29/29 [==============================] - 0s 3ms/step - loss: 2.9863 - accuracy: 0.3924 - val_loss: 3.0219 - val_accuracy: 0.3125\n",
            "Epoch 24/1000\n",
            "29/29 [==============================] - 0s 3ms/step - loss: 2.9731 - accuracy: 0.4097 - val_loss: 3.0099 - val_accuracy: 0.3125\n",
            "Epoch 25/1000\n",
            "29/29 [==============================] - 0s 3ms/step - loss: 2.9598 - accuracy: 0.4375 - val_loss: 2.9972 - val_accuracy: 0.3125\n",
            "Epoch 26/1000\n",
            "29/29 [==============================] - 0s 3ms/step - loss: 2.9463 - accuracy: 0.4375 - val_loss: 2.9842 - val_accuracy: 0.3125\n",
            "Epoch 27/1000\n",
            "29/29 [==============================] - 0s 3ms/step - loss: 2.9324 - accuracy: 0.4653 - val_loss: 2.9711 - val_accuracy: 0.3750\n",
            "Epoch 28/1000\n",
            "29/29 [==============================] - 0s 3ms/step - loss: 2.9182 - accuracy: 0.4896 - val_loss: 2.9577 - val_accuracy: 0.3750\n",
            "Epoch 29/1000\n",
            "29/29 [==============================] - 0s 3ms/step - loss: 2.9037 - accuracy: 0.4896 - val_loss: 2.9443 - val_accuracy: 0.3750\n",
            "Epoch 30/1000\n",
            "29/29 [==============================] - 0s 3ms/step - loss: 2.8890 - accuracy: 0.4896 - val_loss: 2.9305 - val_accuracy: 0.3750\n",
            "Epoch 31/1000\n",
            "29/29 [==============================] - 0s 3ms/step - loss: 2.8740 - accuracy: 0.4896 - val_loss: 2.9163 - val_accuracy: 0.3750\n",
            "Epoch 32/1000\n",
            "29/29 [==============================] - 0s 3ms/step - loss: 2.8586 - accuracy: 0.4896 - val_loss: 2.9021 - val_accuracy: 0.3750\n",
            "Epoch 33/1000\n",
            "29/29 [==============================] - 0s 3ms/step - loss: 2.8429 - accuracy: 0.4896 - val_loss: 2.8871 - val_accuracy: 0.3750\n",
            "Epoch 34/1000\n",
            "29/29 [==============================] - 0s 3ms/step - loss: 2.8267 - accuracy: 0.4896 - val_loss: 2.8722 - val_accuracy: 0.4375\n",
            "Epoch 35/1000\n",
            "29/29 [==============================] - 0s 3ms/step - loss: 2.8103 - accuracy: 0.5382 - val_loss: 2.8568 - val_accuracy: 0.4375\n",
            "Epoch 36/1000\n",
            "29/29 [==============================] - 0s 3ms/step - loss: 2.7936 - accuracy: 0.5451 - val_loss: 2.8411 - val_accuracy: 0.4375\n",
            "Epoch 37/1000\n",
            "29/29 [==============================] - 0s 3ms/step - loss: 2.7767 - accuracy: 0.5451 - val_loss: 2.8252 - val_accuracy: 0.4375\n",
            "Epoch 38/1000\n",
            "29/29 [==============================] - 0s 3ms/step - loss: 2.7593 - accuracy: 0.5451 - val_loss: 2.8088 - val_accuracy: 0.4375\n",
            "Epoch 39/1000\n",
            "29/29 [==============================] - 0s 3ms/step - loss: 2.7419 - accuracy: 0.5451 - val_loss: 2.7926 - val_accuracy: 0.4375\n",
            "Epoch 40/1000\n",
            "29/29 [==============================] - 0s 3ms/step - loss: 2.7244 - accuracy: 0.5521 - val_loss: 2.7760 - val_accuracy: 0.5312\n",
            "Epoch 41/1000\n",
            "29/29 [==============================] - 0s 3ms/step - loss: 2.7071 - accuracy: 0.5938 - val_loss: 2.7592 - val_accuracy: 0.5312\n",
            "Epoch 42/1000\n",
            "29/29 [==============================] - 0s 3ms/step - loss: 2.6895 - accuracy: 0.6076 - val_loss: 2.7427 - val_accuracy: 0.5312\n",
            "Epoch 43/1000\n",
            "29/29 [==============================] - 0s 3ms/step - loss: 2.6715 - accuracy: 0.6111 - val_loss: 2.7256 - val_accuracy: 0.5312\n",
            "Epoch 44/1000\n",
            "29/29 [==============================] - 0s 4ms/step - loss: 2.6531 - accuracy: 0.6181 - val_loss: 2.7084 - val_accuracy: 0.5312\n",
            "Epoch 45/1000\n",
            "29/29 [==============================] - 0s 3ms/step - loss: 2.6345 - accuracy: 0.6424 - val_loss: 2.6906 - val_accuracy: 0.5312\n",
            "Epoch 46/1000\n",
            "29/29 [==============================] - 0s 3ms/step - loss: 2.6157 - accuracy: 0.6493 - val_loss: 2.6728 - val_accuracy: 0.5312\n",
            "Epoch 47/1000\n",
            "29/29 [==============================] - 0s 3ms/step - loss: 2.5969 - accuracy: 0.6493 - val_loss: 2.6550 - val_accuracy: 0.5312\n",
            "Epoch 48/1000\n",
            "29/29 [==============================] - 0s 3ms/step - loss: 2.5781 - accuracy: 0.6493 - val_loss: 2.6371 - val_accuracy: 0.5312\n",
            "Epoch 49/1000\n",
            "29/29 [==============================] - 0s 4ms/step - loss: 2.5588 - accuracy: 0.6493 - val_loss: 2.6191 - val_accuracy: 0.5312\n",
            "Epoch 50/1000\n",
            "29/29 [==============================] - 0s 3ms/step - loss: 2.5391 - accuracy: 0.6493 - val_loss: 2.6008 - val_accuracy: 0.5312\n",
            "Epoch 51/1000\n",
            "29/29 [==============================] - 0s 3ms/step - loss: 2.5187 - accuracy: 0.6493 - val_loss: 2.5812 - val_accuracy: 0.5312\n",
            "Epoch 52/1000\n",
            "29/29 [==============================] - 0s 3ms/step - loss: 2.4983 - accuracy: 0.6493 - val_loss: 2.5621 - val_accuracy: 0.5312\n",
            "Epoch 53/1000\n",
            "29/29 [==============================] - 0s 3ms/step - loss: 2.4779 - accuracy: 0.6597 - val_loss: 2.5430 - val_accuracy: 0.5312\n",
            "Epoch 54/1000\n",
            "29/29 [==============================] - 0s 3ms/step - loss: 2.4574 - accuracy: 0.6910 - val_loss: 2.5235 - val_accuracy: 0.5312\n",
            "Epoch 55/1000\n",
            "29/29 [==============================] - 0s 3ms/step - loss: 2.4362 - accuracy: 0.6910 - val_loss: 2.5031 - val_accuracy: 0.5312\n",
            "Epoch 56/1000\n",
            "29/29 [==============================] - 0s 3ms/step - loss: 2.4145 - accuracy: 0.6910 - val_loss: 2.4829 - val_accuracy: 0.5312\n",
            "Epoch 57/1000\n",
            "29/29 [==============================] - 0s 3ms/step - loss: 2.3928 - accuracy: 0.7188 - val_loss: 2.4627 - val_accuracy: 0.5938\n",
            "Epoch 58/1000\n",
            "29/29 [==============================] - 0s 3ms/step - loss: 2.3714 - accuracy: 0.7257 - val_loss: 2.4424 - val_accuracy: 0.5938\n",
            "Epoch 59/1000\n",
            "29/29 [==============================] - 0s 3ms/step - loss: 2.3496 - accuracy: 0.7257 - val_loss: 2.4225 - val_accuracy: 0.5938\n",
            "Epoch 60/1000\n",
            "29/29 [==============================] - 0s 3ms/step - loss: 2.3273 - accuracy: 0.7257 - val_loss: 2.4018 - val_accuracy: 0.5938\n",
            "Epoch 61/1000\n",
            "29/29 [==============================] - 0s 3ms/step - loss: 2.3051 - accuracy: 0.7257 - val_loss: 2.3815 - val_accuracy: 0.5938\n",
            "Epoch 62/1000\n",
            "29/29 [==============================] - 0s 3ms/step - loss: 2.2831 - accuracy: 0.7396 - val_loss: 2.3605 - val_accuracy: 0.6250\n",
            "Epoch 63/1000\n",
            "29/29 [==============================] - 0s 3ms/step - loss: 2.2599 - accuracy: 0.7778 - val_loss: 2.3382 - val_accuracy: 0.7500\n",
            "Epoch 64/1000\n",
            "29/29 [==============================] - 0s 3ms/step - loss: 2.2363 - accuracy: 0.8056 - val_loss: 2.3170 - val_accuracy: 0.7500\n",
            "Epoch 65/1000\n",
            "29/29 [==============================] - 0s 3ms/step - loss: 2.2129 - accuracy: 0.8056 - val_loss: 2.2952 - val_accuracy: 0.7500\n",
            "Epoch 66/1000\n",
            "29/29 [==============================] - 0s 3ms/step - loss: 2.1902 - accuracy: 0.8056 - val_loss: 2.2743 - val_accuracy: 0.7500\n",
            "Epoch 67/1000\n",
            "29/29 [==============================] - 0s 3ms/step - loss: 2.1670 - accuracy: 0.8056 - val_loss: 2.2521 - val_accuracy: 0.7500\n",
            "Epoch 68/1000\n",
            "29/29 [==============================] - 0s 3ms/step - loss: 2.1432 - accuracy: 0.8056 - val_loss: 2.2298 - val_accuracy: 0.7500\n",
            "Epoch 69/1000\n",
            "29/29 [==============================] - 0s 3ms/step - loss: 2.1198 - accuracy: 0.8056 - val_loss: 2.2078 - val_accuracy: 0.7500\n",
            "Epoch 70/1000\n",
            "29/29 [==============================] - 0s 3ms/step - loss: 2.0958 - accuracy: 0.8056 - val_loss: 2.1856 - val_accuracy: 0.7500\n",
            "Epoch 71/1000\n",
            "29/29 [==============================] - 0s 3ms/step - loss: 2.0717 - accuracy: 0.8056 - val_loss: 2.1631 - val_accuracy: 0.7500\n",
            "Epoch 72/1000\n",
            "29/29 [==============================] - 0s 3ms/step - loss: 2.0474 - accuracy: 0.8056 - val_loss: 2.1402 - val_accuracy: 0.7500\n",
            "Epoch 73/1000\n",
            "29/29 [==============================] - 0s 3ms/step - loss: 2.0229 - accuracy: 0.8160 - val_loss: 2.1170 - val_accuracy: 0.7500\n",
            "Epoch 74/1000\n",
            "29/29 [==============================] - 0s 3ms/step - loss: 1.9985 - accuracy: 0.8264 - val_loss: 2.0933 - val_accuracy: 0.7500\n",
            "Epoch 75/1000\n",
            "29/29 [==============================] - 0s 3ms/step - loss: 1.9738 - accuracy: 0.8299 - val_loss: 2.0699 - val_accuracy: 0.7500\n",
            "Epoch 76/1000\n",
            "29/29 [==============================] - 0s 3ms/step - loss: 1.9493 - accuracy: 0.8542 - val_loss: 2.0461 - val_accuracy: 0.7812\n",
            "Epoch 77/1000\n",
            "29/29 [==============================] - 0s 3ms/step - loss: 1.9245 - accuracy: 0.8472 - val_loss: 2.0228 - val_accuracy: 0.7812\n",
            "Epoch 78/1000\n",
            "29/29 [==============================] - 0s 4ms/step - loss: 1.8993 - accuracy: 0.8646 - val_loss: 1.9991 - val_accuracy: 0.7812\n",
            "Epoch 79/1000\n",
            "29/29 [==============================] - 0s 3ms/step - loss: 1.8741 - accuracy: 0.8646 - val_loss: 1.9750 - val_accuracy: 0.7812\n",
            "Epoch 80/1000\n",
            "29/29 [==============================] - 0s 3ms/step - loss: 1.8486 - accuracy: 0.8646 - val_loss: 1.9511 - val_accuracy: 0.7812\n",
            "Epoch 81/1000\n",
            "29/29 [==============================] - 0s 3ms/step - loss: 1.8230 - accuracy: 0.8715 - val_loss: 1.9265 - val_accuracy: 0.7812\n",
            "Epoch 82/1000\n",
            "29/29 [==============================] - 0s 3ms/step - loss: 1.7973 - accuracy: 0.9167 - val_loss: 1.9026 - val_accuracy: 0.8125\n",
            "Epoch 83/1000\n",
            "29/29 [==============================] - 0s 3ms/step - loss: 1.7716 - accuracy: 0.9271 - val_loss: 1.8786 - val_accuracy: 0.8438\n",
            "Epoch 84/1000\n",
            "29/29 [==============================] - 0s 3ms/step - loss: 1.7459 - accuracy: 0.9479 - val_loss: 1.8544 - val_accuracy: 0.8438\n",
            "Epoch 85/1000\n",
            "29/29 [==============================] - 0s 3ms/step - loss: 1.7202 - accuracy: 0.9549 - val_loss: 1.8303 - val_accuracy: 0.8438\n",
            "Epoch 86/1000\n",
            "29/29 [==============================] - 0s 3ms/step - loss: 1.6950 - accuracy: 0.9549 - val_loss: 1.8064 - val_accuracy: 0.8438\n",
            "Epoch 87/1000\n",
            "29/29 [==============================] - 0s 3ms/step - loss: 1.6698 - accuracy: 0.9549 - val_loss: 1.7816 - val_accuracy: 0.8438\n",
            "Epoch 88/1000\n",
            "29/29 [==============================] - 0s 3ms/step - loss: 1.6444 - accuracy: 0.9549 - val_loss: 1.7578 - val_accuracy: 0.8438\n",
            "Epoch 89/1000\n",
            "29/29 [==============================] - 0s 3ms/step - loss: 1.6195 - accuracy: 0.9549 - val_loss: 1.7332 - val_accuracy: 0.8438\n",
            "Epoch 90/1000\n",
            "29/29 [==============================] - 0s 3ms/step - loss: 1.5948 - accuracy: 0.9549 - val_loss: 1.7100 - val_accuracy: 0.8438\n",
            "Epoch 91/1000\n",
            "29/29 [==============================] - 0s 4ms/step - loss: 1.5696 - accuracy: 0.9549 - val_loss: 1.6850 - val_accuracy: 0.8438\n",
            "Epoch 92/1000\n",
            "29/29 [==============================] - 0s 3ms/step - loss: 1.5444 - accuracy: 0.9549 - val_loss: 1.6612 - val_accuracy: 0.8438\n",
            "Epoch 93/1000\n",
            "29/29 [==============================] - 0s 3ms/step - loss: 1.5190 - accuracy: 0.9549 - val_loss: 1.6358 - val_accuracy: 0.8438\n",
            "Epoch 94/1000\n",
            "29/29 [==============================] - 0s 3ms/step - loss: 1.4935 - accuracy: 0.9549 - val_loss: 1.6111 - val_accuracy: 0.8438\n",
            "Epoch 95/1000\n",
            "29/29 [==============================] - 0s 3ms/step - loss: 1.4677 - accuracy: 0.9549 - val_loss: 1.5861 - val_accuracy: 0.8438\n",
            "Epoch 96/1000\n",
            "29/29 [==============================] - 0s 3ms/step - loss: 1.4418 - accuracy: 0.9549 - val_loss: 1.5605 - val_accuracy: 0.8438\n",
            "Epoch 97/1000\n",
            "29/29 [==============================] - 0s 3ms/step - loss: 1.4162 - accuracy: 0.9549 - val_loss: 1.5359 - val_accuracy: 0.8438\n",
            "Epoch 98/1000\n",
            "29/29 [==============================] - 0s 3ms/step - loss: 1.3905 - accuracy: 0.9618 - val_loss: 1.5106 - val_accuracy: 0.9062\n",
            "Epoch 99/1000\n",
            "29/29 [==============================] - 0s 3ms/step - loss: 1.3649 - accuracy: 0.9826 - val_loss: 1.4849 - val_accuracy: 0.9062\n",
            "Epoch 100/1000\n",
            "29/29 [==============================] - 0s 3ms/step - loss: 1.3398 - accuracy: 0.9826 - val_loss: 1.4618 - val_accuracy: 0.9062\n",
            "Epoch 101/1000\n",
            "29/29 [==============================] - 0s 3ms/step - loss: 1.3152 - accuracy: 0.9826 - val_loss: 1.4376 - val_accuracy: 0.9062\n",
            "Epoch 102/1000\n",
            "29/29 [==============================] - 0s 3ms/step - loss: 1.2905 - accuracy: 0.9826 - val_loss: 1.4130 - val_accuracy: 0.9062\n",
            "Epoch 103/1000\n",
            "29/29 [==============================] - 0s 3ms/step - loss: 1.2655 - accuracy: 0.9826 - val_loss: 1.3883 - val_accuracy: 0.9062\n",
            "Epoch 104/1000\n",
            "29/29 [==============================] - 0s 3ms/step - loss: 1.2409 - accuracy: 0.9826 - val_loss: 1.3645 - val_accuracy: 0.9062\n",
            "Epoch 105/1000\n",
            "29/29 [==============================] - 0s 3ms/step - loss: 1.2165 - accuracy: 0.9826 - val_loss: 1.3393 - val_accuracy: 0.9062\n",
            "Epoch 106/1000\n",
            "29/29 [==============================] - 0s 3ms/step - loss: 1.1920 - accuracy: 0.9826 - val_loss: 1.3149 - val_accuracy: 0.9062\n",
            "Epoch 107/1000\n",
            "29/29 [==============================] - 0s 3ms/step - loss: 1.1674 - accuracy: 0.9826 - val_loss: 1.2905 - val_accuracy: 1.0000\n",
            "Epoch 108/1000\n",
            "29/29 [==============================] - 0s 3ms/step - loss: 1.1431 - accuracy: 0.9965 - val_loss: 1.2666 - val_accuracy: 1.0000\n",
            "Epoch 109/1000\n",
            "29/29 [==============================] - 0s 3ms/step - loss: 1.1191 - accuracy: 1.0000 - val_loss: 1.2421 - val_accuracy: 1.0000\n",
            "Epoch 110/1000\n",
            "29/29 [==============================] - 0s 3ms/step - loss: 1.0952 - accuracy: 1.0000 - val_loss: 1.2178 - val_accuracy: 1.0000\n",
            "Epoch 111/1000\n",
            "29/29 [==============================] - 0s 3ms/step - loss: 1.0711 - accuracy: 1.0000 - val_loss: 1.1932 - val_accuracy: 1.0000\n",
            "Epoch 112/1000\n",
            "29/29 [==============================] - 0s 3ms/step - loss: 1.0473 - accuracy: 1.0000 - val_loss: 1.1689 - val_accuracy: 1.0000\n",
            "Epoch 113/1000\n",
            "29/29 [==============================] - 0s 3ms/step - loss: 1.0239 - accuracy: 1.0000 - val_loss: 1.1456 - val_accuracy: 1.0000\n",
            "Epoch 114/1000\n",
            "29/29 [==============================] - 0s 3ms/step - loss: 1.0007 - accuracy: 1.0000 - val_loss: 1.1226 - val_accuracy: 1.0000\n",
            "Epoch 115/1000\n",
            "29/29 [==============================] - 0s 3ms/step - loss: 0.9778 - accuracy: 1.0000 - val_loss: 1.0993 - val_accuracy: 1.0000\n",
            "Epoch 116/1000\n",
            "29/29 [==============================] - 0s 4ms/step - loss: 0.9549 - accuracy: 1.0000 - val_loss: 1.0762 - val_accuracy: 1.0000\n",
            "Epoch 117/1000\n",
            "29/29 [==============================] - 0s 4ms/step - loss: 0.9322 - accuracy: 1.0000 - val_loss: 1.0527 - val_accuracy: 1.0000\n",
            "Epoch 118/1000\n",
            "29/29 [==============================] - 0s 3ms/step - loss: 0.9096 - accuracy: 1.0000 - val_loss: 1.0296 - val_accuracy: 1.0000\n",
            "Epoch 119/1000\n",
            "29/29 [==============================] - 0s 3ms/step - loss: 0.8872 - accuracy: 1.0000 - val_loss: 1.0061 - val_accuracy: 1.0000\n",
            "Epoch 120/1000\n",
            "29/29 [==============================] - 0s 3ms/step - loss: 0.8653 - accuracy: 1.0000 - val_loss: 0.9837 - val_accuracy: 1.0000\n",
            "Epoch 121/1000\n",
            "29/29 [==============================] - 0s 3ms/step - loss: 0.8434 - accuracy: 1.0000 - val_loss: 0.9609 - val_accuracy: 1.0000\n",
            "Epoch 122/1000\n",
            "29/29 [==============================] - 0s 3ms/step - loss: 0.8218 - accuracy: 1.0000 - val_loss: 0.9385 - val_accuracy: 1.0000\n",
            "Epoch 123/1000\n",
            "29/29 [==============================] - 0s 3ms/step - loss: 0.8002 - accuracy: 1.0000 - val_loss: 0.9156 - val_accuracy: 1.0000\n",
            "Epoch 124/1000\n",
            "29/29 [==============================] - 0s 3ms/step - loss: 0.7794 - accuracy: 1.0000 - val_loss: 0.8944 - val_accuracy: 1.0000\n",
            "Epoch 125/1000\n",
            "29/29 [==============================] - 0s 3ms/step - loss: 0.7592 - accuracy: 1.0000 - val_loss: 0.8725 - val_accuracy: 1.0000\n",
            "Epoch 126/1000\n",
            "29/29 [==============================] - 0s 3ms/step - loss: 0.7393 - accuracy: 1.0000 - val_loss: 0.8514 - val_accuracy: 1.0000\n",
            "Epoch 127/1000\n",
            "29/29 [==============================] - 0s 3ms/step - loss: 0.7192 - accuracy: 1.0000 - val_loss: 0.8302 - val_accuracy: 1.0000\n",
            "Epoch 128/1000\n",
            "29/29 [==============================] - 0s 3ms/step - loss: 0.6995 - accuracy: 1.0000 - val_loss: 0.8096 - val_accuracy: 1.0000\n",
            "Epoch 129/1000\n",
            "29/29 [==============================] - 0s 3ms/step - loss: 0.6802 - accuracy: 1.0000 - val_loss: 0.7884 - val_accuracy: 1.0000\n",
            "Epoch 130/1000\n",
            "29/29 [==============================] - 0s 3ms/step - loss: 0.6610 - accuracy: 1.0000 - val_loss: 0.7669 - val_accuracy: 1.0000\n",
            "Epoch 131/1000\n",
            "29/29 [==============================] - 0s 3ms/step - loss: 0.6420 - accuracy: 1.0000 - val_loss: 0.7462 - val_accuracy: 1.0000\n",
            "Epoch 132/1000\n",
            "29/29 [==============================] - 0s 3ms/step - loss: 0.6231 - accuracy: 1.0000 - val_loss: 0.7260 - val_accuracy: 1.0000\n",
            "Epoch 133/1000\n",
            "29/29 [==============================] - 0s 3ms/step - loss: 0.6045 - accuracy: 1.0000 - val_loss: 0.7058 - val_accuracy: 1.0000\n",
            "Epoch 134/1000\n",
            "29/29 [==============================] - 0s 3ms/step - loss: 0.5864 - accuracy: 1.0000 - val_loss: 0.6858 - val_accuracy: 1.0000\n",
            "Epoch 135/1000\n",
            "29/29 [==============================] - 0s 3ms/step - loss: 0.5687 - accuracy: 1.0000 - val_loss: 0.6657 - val_accuracy: 1.0000\n",
            "Epoch 136/1000\n",
            "29/29 [==============================] - 0s 3ms/step - loss: 0.5514 - accuracy: 1.0000 - val_loss: 0.6460 - val_accuracy: 1.0000\n",
            "Epoch 137/1000\n",
            "29/29 [==============================] - 0s 3ms/step - loss: 0.5340 - accuracy: 1.0000 - val_loss: 0.6270 - val_accuracy: 1.0000\n",
            "Epoch 138/1000\n",
            "29/29 [==============================] - 0s 3ms/step - loss: 0.5171 - accuracy: 1.0000 - val_loss: 0.6080 - val_accuracy: 1.0000\n",
            "Epoch 139/1000\n",
            "29/29 [==============================] - 0s 3ms/step - loss: 0.5007 - accuracy: 1.0000 - val_loss: 0.5896 - val_accuracy: 1.0000\n",
            "Epoch 140/1000\n",
            "29/29 [==============================] - 0s 3ms/step - loss: 0.4847 - accuracy: 1.0000 - val_loss: 0.5715 - val_accuracy: 1.0000\n",
            "Epoch 141/1000\n",
            "29/29 [==============================] - 0s 3ms/step - loss: 0.4688 - accuracy: 1.0000 - val_loss: 0.5531 - val_accuracy: 1.0000\n",
            "Epoch 142/1000\n",
            "29/29 [==============================] - 0s 3ms/step - loss: 0.4534 - accuracy: 1.0000 - val_loss: 0.5350 - val_accuracy: 1.0000\n",
            "Epoch 143/1000\n",
            "29/29 [==============================] - 0s 4ms/step - loss: 0.4380 - accuracy: 1.0000 - val_loss: 0.5173 - val_accuracy: 1.0000\n",
            "Epoch 144/1000\n",
            "29/29 [==============================] - 0s 3ms/step - loss: 0.4229 - accuracy: 1.0000 - val_loss: 0.4999 - val_accuracy: 1.0000\n",
            "Epoch 145/1000\n",
            "29/29 [==============================] - 0s 3ms/step - loss: 0.4082 - accuracy: 1.0000 - val_loss: 0.4830 - val_accuracy: 1.0000\n",
            "Epoch 146/1000\n",
            "29/29 [==============================] - 0s 3ms/step - loss: 0.3936 - accuracy: 1.0000 - val_loss: 0.4664 - val_accuracy: 1.0000\n",
            "Epoch 147/1000\n",
            "29/29 [==============================] - 0s 4ms/step - loss: 0.3796 - accuracy: 1.0000 - val_loss: 0.4498 - val_accuracy: 1.0000\n",
            "Epoch 148/1000\n",
            "29/29 [==============================] - 0s 3ms/step - loss: 0.3657 - accuracy: 1.0000 - val_loss: 0.4341 - val_accuracy: 1.0000\n",
            "Epoch 149/1000\n",
            "29/29 [==============================] - 0s 3ms/step - loss: 0.3521 - accuracy: 1.0000 - val_loss: 0.4175 - val_accuracy: 1.0000\n",
            "Epoch 150/1000\n",
            "29/29 [==============================] - 0s 3ms/step - loss: 0.3393 - accuracy: 1.0000 - val_loss: 0.4027 - val_accuracy: 1.0000\n",
            "Epoch 151/1000\n",
            "29/29 [==============================] - 0s 3ms/step - loss: 0.3269 - accuracy: 1.0000 - val_loss: 0.3886 - val_accuracy: 1.0000\n",
            "Epoch 152/1000\n",
            "29/29 [==============================] - 0s 3ms/step - loss: 0.3150 - accuracy: 1.0000 - val_loss: 0.3747 - val_accuracy: 1.0000\n",
            "Epoch 153/1000\n",
            "29/29 [==============================] - 0s 3ms/step - loss: 0.3033 - accuracy: 1.0000 - val_loss: 0.3610 - val_accuracy: 1.0000\n",
            "Epoch 154/1000\n",
            "29/29 [==============================] - 0s 3ms/step - loss: 0.2916 - accuracy: 1.0000 - val_loss: 0.3474 - val_accuracy: 1.0000\n",
            "Epoch 155/1000\n",
            "29/29 [==============================] - 0s 3ms/step - loss: 0.2806 - accuracy: 1.0000 - val_loss: 0.3342 - val_accuracy: 1.0000\n",
            "Epoch 156/1000\n",
            "29/29 [==============================] - 0s 3ms/step - loss: 0.2697 - accuracy: 1.0000 - val_loss: 0.3220 - val_accuracy: 1.0000\n",
            "Epoch 157/1000\n",
            "29/29 [==============================] - 0s 3ms/step - loss: 0.2592 - accuracy: 1.0000 - val_loss: 0.3091 - val_accuracy: 1.0000\n",
            "Epoch 158/1000\n",
            "29/29 [==============================] - 0s 3ms/step - loss: 0.2490 - accuracy: 1.0000 - val_loss: 0.2974 - val_accuracy: 1.0000\n",
            "Epoch 159/1000\n",
            "29/29 [==============================] - 0s 3ms/step - loss: 0.2392 - accuracy: 1.0000 - val_loss: 0.2864 - val_accuracy: 1.0000\n",
            "Epoch 160/1000\n",
            "29/29 [==============================] - 0s 3ms/step - loss: 0.2298 - accuracy: 1.0000 - val_loss: 0.2749 - val_accuracy: 1.0000\n",
            "Epoch 161/1000\n",
            "29/29 [==============================] - 0s 3ms/step - loss: 0.2206 - accuracy: 1.0000 - val_loss: 0.2642 - val_accuracy: 1.0000\n",
            "Epoch 162/1000\n",
            "29/29 [==============================] - 0s 4ms/step - loss: 0.2117 - accuracy: 1.0000 - val_loss: 0.2532 - val_accuracy: 1.0000\n",
            "Epoch 163/1000\n",
            "29/29 [==============================] - 0s 4ms/step - loss: 0.2029 - accuracy: 1.0000 - val_loss: 0.2431 - val_accuracy: 1.0000\n",
            "Epoch 164/1000\n",
            "29/29 [==============================] - 0s 3ms/step - loss: 0.1945 - accuracy: 1.0000 - val_loss: 0.2332 - val_accuracy: 1.0000\n",
            "Epoch 165/1000\n",
            "29/29 [==============================] - 0s 3ms/step - loss: 0.1864 - accuracy: 1.0000 - val_loss: 0.2236 - val_accuracy: 1.0000\n",
            "Epoch 166/1000\n",
            "29/29 [==============================] - 0s 3ms/step - loss: 0.1786 - accuracy: 1.0000 - val_loss: 0.2142 - val_accuracy: 1.0000\n",
            "Epoch 167/1000\n",
            "29/29 [==============================] - 0s 3ms/step - loss: 0.1710 - accuracy: 1.0000 - val_loss: 0.2052 - val_accuracy: 1.0000\n",
            "Epoch 168/1000\n",
            "29/29 [==============================] - 0s 4ms/step - loss: 0.1637 - accuracy: 1.0000 - val_loss: 0.1961 - val_accuracy: 1.0000\n",
            "Epoch 169/1000\n",
            "29/29 [==============================] - 0s 3ms/step - loss: 0.1565 - accuracy: 1.0000 - val_loss: 0.1877 - val_accuracy: 1.0000\n",
            "Epoch 170/1000\n",
            "29/29 [==============================] - 0s 4ms/step - loss: 0.1496 - accuracy: 1.0000 - val_loss: 0.1794 - val_accuracy: 1.0000\n",
            "Epoch 171/1000\n",
            "29/29 [==============================] - 0s 3ms/step - loss: 0.1430 - accuracy: 1.0000 - val_loss: 0.1712 - val_accuracy: 1.0000\n",
            "Epoch 172/1000\n",
            "29/29 [==============================] - 0s 3ms/step - loss: 0.1365 - accuracy: 1.0000 - val_loss: 0.1637 - val_accuracy: 1.0000\n",
            "Epoch 173/1000\n",
            "29/29 [==============================] - 0s 3ms/step - loss: 0.1303 - accuracy: 1.0000 - val_loss: 0.1564 - val_accuracy: 1.0000\n",
            "Epoch 174/1000\n",
            "29/29 [==============================] - 0s 3ms/step - loss: 0.1244 - accuracy: 1.0000 - val_loss: 0.1492 - val_accuracy: 1.0000\n",
            "Epoch 175/1000\n",
            "29/29 [==============================] - 0s 3ms/step - loss: 0.1189 - accuracy: 1.0000 - val_loss: 0.1430 - val_accuracy: 1.0000\n",
            "Epoch 176/1000\n",
            "29/29 [==============================] - 0s 3ms/step - loss: 0.1134 - accuracy: 1.0000 - val_loss: 0.1363 - val_accuracy: 1.0000\n",
            "Epoch 177/1000\n",
            "29/29 [==============================] - 0s 4ms/step - loss: 0.1081 - accuracy: 1.0000 - val_loss: 0.1302 - val_accuracy: 1.0000\n",
            "Epoch 178/1000\n",
            "29/29 [==============================] - 0s 3ms/step - loss: 0.1031 - accuracy: 1.0000 - val_loss: 0.1245 - val_accuracy: 1.0000\n",
            "Epoch 179/1000\n",
            "29/29 [==============================] - 0s 3ms/step - loss: 0.0983 - accuracy: 1.0000 - val_loss: 0.1186 - val_accuracy: 1.0000\n",
            "Epoch 180/1000\n",
            "29/29 [==============================] - 0s 3ms/step - loss: 0.0937 - accuracy: 1.0000 - val_loss: 0.1129 - val_accuracy: 1.0000\n",
            "Epoch 181/1000\n",
            "29/29 [==============================] - 0s 3ms/step - loss: 0.0891 - accuracy: 1.0000 - val_loss: 0.1075 - val_accuracy: 1.0000\n",
            "Epoch 182/1000\n",
            "29/29 [==============================] - 0s 3ms/step - loss: 0.0849 - accuracy: 1.0000 - val_loss: 0.1024 - val_accuracy: 1.0000\n",
            "Epoch 183/1000\n",
            "29/29 [==============================] - 0s 3ms/step - loss: 0.0808 - accuracy: 1.0000 - val_loss: 0.0972 - val_accuracy: 1.0000\n",
            "Epoch 184/1000\n",
            "29/29 [==============================] - 0s 3ms/step - loss: 0.0768 - accuracy: 1.0000 - val_loss: 0.0927 - val_accuracy: 1.0000\n",
            "Epoch 185/1000\n",
            "29/29 [==============================] - 0s 3ms/step - loss: 0.0730 - accuracy: 1.0000 - val_loss: 0.0884 - val_accuracy: 1.0000\n",
            "Epoch 186/1000\n",
            "29/29 [==============================] - 0s 3ms/step - loss: 0.0694 - accuracy: 1.0000 - val_loss: 0.0838 - val_accuracy: 1.0000\n",
            "Epoch 187/1000\n",
            "29/29 [==============================] - 0s 3ms/step - loss: 0.0659 - accuracy: 1.0000 - val_loss: 0.0802 - val_accuracy: 1.0000\n",
            "Epoch 188/1000\n",
            "29/29 [==============================] - 0s 3ms/step - loss: 0.0627 - accuracy: 1.0000 - val_loss: 0.0762 - val_accuracy: 1.0000\n",
            "Epoch 189/1000\n",
            "29/29 [==============================] - 0s 3ms/step - loss: 0.0595 - accuracy: 1.0000 - val_loss: 0.0724 - val_accuracy: 1.0000\n",
            "Epoch 190/1000\n",
            "29/29 [==============================] - 0s 3ms/step - loss: 0.0565 - accuracy: 1.0000 - val_loss: 0.0689 - val_accuracy: 1.0000\n",
            "Epoch 191/1000\n",
            "29/29 [==============================] - 0s 3ms/step - loss: 0.0537 - accuracy: 1.0000 - val_loss: 0.0654 - val_accuracy: 1.0000\n",
            "Epoch 192/1000\n",
            "29/29 [==============================] - 0s 3ms/step - loss: 0.0509 - accuracy: 1.0000 - val_loss: 0.0620 - val_accuracy: 1.0000\n",
            "Epoch 193/1000\n",
            "29/29 [==============================] - 0s 3ms/step - loss: 0.0483 - accuracy: 1.0000 - val_loss: 0.0589 - val_accuracy: 1.0000\n",
            "Epoch 194/1000\n",
            "29/29 [==============================] - 0s 3ms/step - loss: 0.0458 - accuracy: 1.0000 - val_loss: 0.0560 - val_accuracy: 1.0000\n",
            "Epoch 195/1000\n",
            "29/29 [==============================] - 0s 3ms/step - loss: 0.0435 - accuracy: 1.0000 - val_loss: 0.0532 - val_accuracy: 1.0000\n",
            "Epoch 196/1000\n",
            "29/29 [==============================] - 0s 3ms/step - loss: 0.0412 - accuracy: 1.0000 - val_loss: 0.0507 - val_accuracy: 1.0000\n",
            "Epoch 197/1000\n",
            "29/29 [==============================] - 0s 4ms/step - loss: 0.0390 - accuracy: 1.0000 - val_loss: 0.0482 - val_accuracy: 1.0000\n",
            "Epoch 198/1000\n",
            "29/29 [==============================] - 0s 3ms/step - loss: 0.0370 - accuracy: 1.0000 - val_loss: 0.0454 - val_accuracy: 1.0000\n",
            "Epoch 199/1000\n",
            "29/29 [==============================] - 0s 3ms/step - loss: 0.0350 - accuracy: 1.0000 - val_loss: 0.0431 - val_accuracy: 1.0000\n",
            "Epoch 200/1000\n",
            "29/29 [==============================] - 0s 3ms/step - loss: 0.0331 - accuracy: 1.0000 - val_loss: 0.0408 - val_accuracy: 1.0000\n",
            "Epoch 201/1000\n",
            "29/29 [==============================] - 0s 3ms/step - loss: 0.0313 - accuracy: 1.0000 - val_loss: 0.0386 - val_accuracy: 1.0000\n",
            "Epoch 202/1000\n",
            "29/29 [==============================] - 0s 3ms/step - loss: 0.0296 - accuracy: 1.0000 - val_loss: 0.0366 - val_accuracy: 1.0000\n",
            "Epoch 203/1000\n",
            "29/29 [==============================] - 0s 4ms/step - loss: 0.0280 - accuracy: 1.0000 - val_loss: 0.0344 - val_accuracy: 1.0000\n",
            "Epoch 204/1000\n",
            "29/29 [==============================] - 0s 3ms/step - loss: 0.0264 - accuracy: 1.0000 - val_loss: 0.0327 - val_accuracy: 1.0000\n",
            "Epoch 205/1000\n",
            "29/29 [==============================] - 0s 3ms/step - loss: 0.0250 - accuracy: 1.0000 - val_loss: 0.0311 - val_accuracy: 1.0000\n",
            "Epoch 206/1000\n",
            "29/29 [==============================] - 0s 3ms/step - loss: 0.0236 - accuracy: 1.0000 - val_loss: 0.0293 - val_accuracy: 1.0000\n",
            "Epoch 207/1000\n",
            "29/29 [==============================] - 0s 4ms/step - loss: 0.0222 - accuracy: 1.0000 - val_loss: 0.0277 - val_accuracy: 1.0000\n",
            "Epoch 208/1000\n",
            "29/29 [==============================] - 0s 3ms/step - loss: 0.0210 - accuracy: 1.0000 - val_loss: 0.0264 - val_accuracy: 1.0000\n",
            "Epoch 209/1000\n",
            "29/29 [==============================] - 0s 3ms/step - loss: 0.0198 - accuracy: 1.0000 - val_loss: 0.0248 - val_accuracy: 1.0000\n",
            "Epoch 210/1000\n",
            "29/29 [==============================] - 0s 3ms/step - loss: 0.0187 - accuracy: 1.0000 - val_loss: 0.0234 - val_accuracy: 1.0000\n",
            "Epoch 211/1000\n",
            "29/29 [==============================] - 0s 3ms/step - loss: 0.0177 - accuracy: 1.0000 - val_loss: 0.0222 - val_accuracy: 1.0000\n",
            "Epoch 212/1000\n",
            "29/29 [==============================] - 0s 3ms/step - loss: 0.0167 - accuracy: 1.0000 - val_loss: 0.0210 - val_accuracy: 1.0000\n",
            "Epoch 213/1000\n",
            "29/29 [==============================] - 0s 3ms/step - loss: 0.0157 - accuracy: 1.0000 - val_loss: 0.0198 - val_accuracy: 1.0000\n",
            "Epoch 214/1000\n",
            "29/29 [==============================] - 0s 3ms/step - loss: 0.0148 - accuracy: 1.0000 - val_loss: 0.0186 - val_accuracy: 1.0000\n",
            "Epoch 215/1000\n",
            "29/29 [==============================] - 0s 4ms/step - loss: 0.0140 - accuracy: 1.0000 - val_loss: 0.0176 - val_accuracy: 1.0000\n",
            "Epoch 216/1000\n",
            "29/29 [==============================] - 0s 4ms/step - loss: 0.0132 - accuracy: 1.0000 - val_loss: 0.0166 - val_accuracy: 1.0000\n",
            "Epoch 217/1000\n",
            "29/29 [==============================] - 0s 3ms/step - loss: 0.0124 - accuracy: 1.0000 - val_loss: 0.0157 - val_accuracy: 1.0000\n",
            "Epoch 218/1000\n",
            "29/29 [==============================] - 0s 3ms/step - loss: 0.0117 - accuracy: 1.0000 - val_loss: 0.0148 - val_accuracy: 1.0000\n",
            "Epoch 219/1000\n",
            "29/29 [==============================] - 0s 3ms/step - loss: 0.0110 - accuracy: 1.0000 - val_loss: 0.0140 - val_accuracy: 1.0000\n",
            "Epoch 220/1000\n",
            "29/29 [==============================] - 0s 3ms/step - loss: 0.0103 - accuracy: 1.0000 - val_loss: 0.0131 - val_accuracy: 1.0000\n",
            "Epoch 221/1000\n",
            "29/29 [==============================] - 0s 3ms/step - loss: 0.0097 - accuracy: 1.0000 - val_loss: 0.0124 - val_accuracy: 1.0000\n",
            "Epoch 222/1000\n",
            "29/29 [==============================] - 0s 3ms/step - loss: 0.0091 - accuracy: 1.0000 - val_loss: 0.0116 - val_accuracy: 1.0000\n",
            "Epoch 223/1000\n",
            "29/29 [==============================] - 0s 3ms/step - loss: 0.0086 - accuracy: 1.0000 - val_loss: 0.0109 - val_accuracy: 1.0000\n",
            "Epoch 224/1000\n",
            "29/29 [==============================] - 0s 3ms/step - loss: 0.0081 - accuracy: 1.0000 - val_loss: 0.0103 - val_accuracy: 1.0000\n",
            "Epoch 225/1000\n",
            "29/29 [==============================] - 0s 3ms/step - loss: 0.0076 - accuracy: 1.0000 - val_loss: 0.0097 - val_accuracy: 1.0000\n",
            "Epoch 226/1000\n",
            "29/29 [==============================] - 0s 3ms/step - loss: 0.0071 - accuracy: 1.0000 - val_loss: 0.0091 - val_accuracy: 1.0000\n",
            "Epoch 227/1000\n",
            "29/29 [==============================] - 0s 3ms/step - loss: 0.0067 - accuracy: 1.0000 - val_loss: 0.0085 - val_accuracy: 1.0000\n",
            "Epoch 228/1000\n",
            "29/29 [==============================] - 0s 3ms/step - loss: 0.0063 - accuracy: 1.0000 - val_loss: 0.0080 - val_accuracy: 1.0000\n",
            "Epoch 229/1000\n",
            "29/29 [==============================] - 0s 4ms/step - loss: 0.0059 - accuracy: 1.0000 - val_loss: 0.0075 - val_accuracy: 1.0000\n",
            "Epoch 230/1000\n",
            "29/29 [==============================] - 0s 3ms/step - loss: 0.0055 - accuracy: 1.0000 - val_loss: 0.0070 - val_accuracy: 1.0000\n",
            "Epoch 231/1000\n",
            "29/29 [==============================] - 0s 3ms/step - loss: 0.0051 - accuracy: 1.0000 - val_loss: 0.0066 - val_accuracy: 1.0000\n",
            "Epoch 232/1000\n",
            "29/29 [==============================] - 0s 3ms/step - loss: 0.0048 - accuracy: 1.0000 - val_loss: 0.0062 - val_accuracy: 1.0000\n",
            "Epoch 233/1000\n",
            "29/29 [==============================] - 0s 3ms/step - loss: 0.0045 - accuracy: 1.0000 - val_loss: 0.0058 - val_accuracy: 1.0000\n",
            "Epoch 234/1000\n",
            "29/29 [==============================] - 0s 3ms/step - loss: 0.0042 - accuracy: 1.0000 - val_loss: 0.0054 - val_accuracy: 1.0000\n",
            "Epoch 235/1000\n",
            "29/29 [==============================] - 0s 3ms/step - loss: 0.0039 - accuracy: 1.0000 - val_loss: 0.0051 - val_accuracy: 1.0000\n",
            "Epoch 236/1000\n",
            "29/29 [==============================] - 0s 4ms/step - loss: 0.0037 - accuracy: 1.0000 - val_loss: 0.0047 - val_accuracy: 1.0000\n",
            "Epoch 237/1000\n",
            "29/29 [==============================] - 0s 3ms/step - loss: 0.0034 - accuracy: 1.0000 - val_loss: 0.0044 - val_accuracy: 1.0000\n",
            "Epoch 238/1000\n",
            "29/29 [==============================] - 0s 3ms/step - loss: 0.0032 - accuracy: 1.0000 - val_loss: 0.0041 - val_accuracy: 1.0000\n",
            "Epoch 239/1000\n",
            "29/29 [==============================] - 0s 4ms/step - loss: 0.0030 - accuracy: 1.0000 - val_loss: 0.0038 - val_accuracy: 1.0000\n",
            "Epoch 240/1000\n",
            "29/29 [==============================] - 0s 4ms/step - loss: 0.0028 - accuracy: 1.0000 - val_loss: 0.0036 - val_accuracy: 1.0000\n",
            "Epoch 241/1000\n",
            "29/29 [==============================] - 0s 4ms/step - loss: 0.0026 - accuracy: 1.0000 - val_loss: 0.0034 - val_accuracy: 1.0000\n",
            "Epoch 242/1000\n",
            "29/29 [==============================] - 0s 3ms/step - loss: 0.0025 - accuracy: 1.0000 - val_loss: 0.0032 - val_accuracy: 1.0000\n",
            "Epoch 243/1000\n",
            "29/29 [==============================] - 0s 3ms/step - loss: 0.0023 - accuracy: 1.0000 - val_loss: 0.0030 - val_accuracy: 1.0000\n",
            "Epoch 244/1000\n",
            "29/29 [==============================] - 0s 3ms/step - loss: 0.0021 - accuracy: 1.0000 - val_loss: 0.0028 - val_accuracy: 1.0000\n",
            "Epoch 245/1000\n",
            "29/29 [==============================] - 0s 3ms/step - loss: 0.0020 - accuracy: 1.0000 - val_loss: 0.0026 - val_accuracy: 1.0000\n",
            "Epoch 246/1000\n",
            "29/29 [==============================] - 0s 3ms/step - loss: 0.0019 - accuracy: 1.0000 - val_loss: 0.0024 - val_accuracy: 1.0000\n",
            "Epoch 247/1000\n",
            "29/29 [==============================] - 0s 3ms/step - loss: 0.0017 - accuracy: 1.0000 - val_loss: 0.0023 - val_accuracy: 1.0000\n",
            "Epoch 248/1000\n",
            "29/29 [==============================] - 0s 3ms/step - loss: 0.0016 - accuracy: 1.0000 - val_loss: 0.0021 - val_accuracy: 1.0000\n",
            "Epoch 249/1000\n",
            "29/29 [==============================] - 0s 3ms/step - loss: 0.0015 - accuracy: 1.0000 - val_loss: 0.0020 - val_accuracy: 1.0000\n",
            "Epoch 250/1000\n",
            "29/29 [==============================] - 0s 3ms/step - loss: 0.0014 - accuracy: 1.0000 - val_loss: 0.0019 - val_accuracy: 1.0000\n",
            "Epoch 251/1000\n",
            "29/29 [==============================] - 0s 3ms/step - loss: 0.0013 - accuracy: 1.0000 - val_loss: 0.0017 - val_accuracy: 1.0000\n",
            "Epoch 252/1000\n",
            "29/29 [==============================] - 0s 3ms/step - loss: 0.0012 - accuracy: 1.0000 - val_loss: 0.0016 - val_accuracy: 1.0000\n",
            "Epoch 253/1000\n",
            "29/29 [==============================] - 0s 3ms/step - loss: 0.0011 - accuracy: 1.0000 - val_loss: 0.0015 - val_accuracy: 1.0000\n",
            "Epoch 254/1000\n",
            "29/29 [==============================] - 0s 3ms/step - loss: 0.0011 - accuracy: 1.0000 - val_loss: 0.0014 - val_accuracy: 1.0000\n",
            "Epoch 255/1000\n",
            "29/29 [==============================] - 0s 3ms/step - loss: 9.8203e-04 - accuracy: 1.0000 - val_loss: 0.0013 - val_accuracy: 1.0000\n",
            "Epoch 256/1000\n",
            "29/29 [==============================] - 0s 4ms/step - loss: 9.1462e-04 - accuracy: 1.0000 - val_loss: 0.0012 - val_accuracy: 1.0000\n",
            "Epoch 257/1000\n",
            "29/29 [==============================] - 0s 3ms/step - loss: 8.5149e-04 - accuracy: 1.0000 - val_loss: 0.0011 - val_accuracy: 1.0000\n",
            "Epoch 258/1000\n",
            "29/29 [==============================] - 0s 3ms/step - loss: 7.9107e-04 - accuracy: 1.0000 - val_loss: 0.0011 - val_accuracy: 1.0000\n",
            "Epoch 259/1000\n",
            "29/29 [==============================] - 0s 3ms/step - loss: 7.3493e-04 - accuracy: 1.0000 - val_loss: 9.8474e-04 - val_accuracy: 1.0000\n",
            "Epoch 260/1000\n",
            "29/29 [==============================] - 0s 4ms/step - loss: 6.8222e-04 - accuracy: 1.0000 - val_loss: 9.1883e-04 - val_accuracy: 1.0000\n",
            "Epoch 261/1000\n",
            "29/29 [==============================] - 0s 3ms/step - loss: 6.3339e-04 - accuracy: 1.0000 - val_loss: 8.5084e-04 - val_accuracy: 1.0000\n",
            "Epoch 262/1000\n",
            "29/29 [==============================] - 0s 3ms/step - loss: 5.8843e-04 - accuracy: 1.0000 - val_loss: 7.9026e-04 - val_accuracy: 1.0000\n",
            "Epoch 263/1000\n",
            "29/29 [==============================] - 0s 3ms/step - loss: 5.4611e-04 - accuracy: 1.0000 - val_loss: 7.3747e-04 - val_accuracy: 1.0000\n",
            "Epoch 264/1000\n",
            "29/29 [==============================] - 0s 3ms/step - loss: 5.0615e-04 - accuracy: 1.0000 - val_loss: 6.8656e-04 - val_accuracy: 1.0000\n",
            "Epoch 265/1000\n",
            "29/29 [==============================] - 0s 4ms/step - loss: 4.6836e-04 - accuracy: 1.0000 - val_loss: 6.3257e-04 - val_accuracy: 1.0000\n",
            "Epoch 266/1000\n",
            "29/29 [==============================] - 0s 4ms/step - loss: 4.3421e-04 - accuracy: 1.0000 - val_loss: 5.8766e-04 - val_accuracy: 1.0000\n",
            "Epoch 267/1000\n",
            "29/29 [==============================] - 0s 4ms/step - loss: 4.0261e-04 - accuracy: 1.0000 - val_loss: 5.3921e-04 - val_accuracy: 1.0000\n",
            "Epoch 268/1000\n",
            "29/29 [==============================] - 0s 3ms/step - loss: 3.7255e-04 - accuracy: 1.0000 - val_loss: 5.0445e-04 - val_accuracy: 1.0000\n",
            "Epoch 269/1000\n",
            "29/29 [==============================] - 0s 3ms/step - loss: 3.4447e-04 - accuracy: 1.0000 - val_loss: 4.6606e-04 - val_accuracy: 1.0000\n",
            "Epoch 270/1000\n",
            "29/29 [==============================] - 0s 4ms/step - loss: 3.1814e-04 - accuracy: 1.0000 - val_loss: 4.2924e-04 - val_accuracy: 1.0000\n",
            "Epoch 271/1000\n",
            "29/29 [==============================] - 0s 4ms/step - loss: 2.9447e-04 - accuracy: 1.0000 - val_loss: 3.9853e-04 - val_accuracy: 1.0000\n",
            "Epoch 272/1000\n",
            "29/29 [==============================] - 0s 3ms/step - loss: 2.7230e-04 - accuracy: 1.0000 - val_loss: 3.7066e-04 - val_accuracy: 1.0000\n",
            "Epoch 273/1000\n",
            "29/29 [==============================] - 0s 3ms/step - loss: 2.5136e-04 - accuracy: 1.0000 - val_loss: 3.4061e-04 - val_accuracy: 1.0000\n",
            "Epoch 274/1000\n",
            "29/29 [==============================] - 0s 4ms/step - loss: 2.3227e-04 - accuracy: 1.0000 - val_loss: 3.1348e-04 - val_accuracy: 1.0000\n",
            "Epoch 275/1000\n",
            "29/29 [==============================] - 0s 3ms/step - loss: 2.1436e-04 - accuracy: 1.0000 - val_loss: 2.8768e-04 - val_accuracy: 1.0000\n",
            "Epoch 276/1000\n",
            "29/29 [==============================] - 0s 3ms/step - loss: 1.9797e-04 - accuracy: 1.0000 - val_loss: 2.6796e-04 - val_accuracy: 1.0000\n",
            "Epoch 277/1000\n",
            "29/29 [==============================] - 0s 3ms/step - loss: 1.8307e-04 - accuracy: 1.0000 - val_loss: 2.4808e-04 - val_accuracy: 1.0000\n",
            "Epoch 278/1000\n",
            "29/29 [==============================] - 0s 3ms/step - loss: 1.6936e-04 - accuracy: 1.0000 - val_loss: 2.3117e-04 - val_accuracy: 1.0000\n",
            "Epoch 279/1000\n",
            "29/29 [==============================] - 0s 3ms/step - loss: 1.5683e-04 - accuracy: 1.0000 - val_loss: 2.1619e-04 - val_accuracy: 1.0000\n",
            "Epoch 280/1000\n",
            "29/29 [==============================] - 0s 3ms/step - loss: 1.4446e-04 - accuracy: 1.0000 - val_loss: 1.9835e-04 - val_accuracy: 1.0000\n",
            "Epoch 281/1000\n",
            "29/29 [==============================] - 0s 3ms/step - loss: 1.3296e-04 - accuracy: 1.0000 - val_loss: 1.8390e-04 - val_accuracy: 1.0000\n",
            "Epoch 282/1000\n",
            "29/29 [==============================] - 0s 4ms/step - loss: 1.2284e-04 - accuracy: 1.0000 - val_loss: 1.6908e-04 - val_accuracy: 1.0000\n",
            "Epoch 283/1000\n",
            "29/29 [==============================] - 0s 3ms/step - loss: 1.1320e-04 - accuracy: 1.0000 - val_loss: 1.5483e-04 - val_accuracy: 1.0000\n",
            "Epoch 284/1000\n",
            "29/29 [==============================] - 0s 4ms/step - loss: 1.0427e-04 - accuracy: 1.0000 - val_loss: 1.4158e-04 - val_accuracy: 1.0000\n",
            "Epoch 285/1000\n",
            "29/29 [==============================] - 0s 3ms/step - loss: 9.5899e-05 - accuracy: 1.0000 - val_loss: 1.2981e-04 - val_accuracy: 1.0000\n",
            "Epoch 286/1000\n",
            "29/29 [==============================] - 0s 3ms/step - loss: 8.8006e-05 - accuracy: 1.0000 - val_loss: 1.1879e-04 - val_accuracy: 1.0000\n",
            "Epoch 287/1000\n",
            "29/29 [==============================] - 0s 4ms/step - loss: 8.0686e-05 - accuracy: 1.0000 - val_loss: 1.1027e-04 - val_accuracy: 1.0000\n",
            "Epoch 288/1000\n",
            "29/29 [==============================] - 0s 4ms/step - loss: 7.4005e-05 - accuracy: 1.0000 - val_loss: 1.0149e-04 - val_accuracy: 1.0000\n",
            "Epoch 289/1000\n",
            "29/29 [==============================] - 0s 3ms/step - loss: 6.7882e-05 - accuracy: 1.0000 - val_loss: 9.2153e-05 - val_accuracy: 1.0000\n",
            "Epoch 290/1000\n",
            "29/29 [==============================] - 0s 3ms/step - loss: 6.2298e-05 - accuracy: 1.0000 - val_loss: 8.4373e-05 - val_accuracy: 1.0000\n",
            "Epoch 291/1000\n",
            "29/29 [==============================] - 0s 3ms/step - loss: 5.7257e-05 - accuracy: 1.0000 - val_loss: 7.7370e-05 - val_accuracy: 1.0000\n",
            "Epoch 292/1000\n",
            "29/29 [==============================] - 0s 3ms/step - loss: 5.2673e-05 - accuracy: 1.0000 - val_loss: 7.1508e-05 - val_accuracy: 1.0000\n",
            "Epoch 293/1000\n",
            "29/29 [==============================] - 0s 4ms/step - loss: 4.8352e-05 - accuracy: 1.0000 - val_loss: 6.5306e-05 - val_accuracy: 1.0000\n",
            "Epoch 294/1000\n",
            "29/29 [==============================] - 0s 3ms/step - loss: 4.4516e-05 - accuracy: 1.0000 - val_loss: 6.1090e-05 - val_accuracy: 1.0000\n",
            "Epoch 295/1000\n",
            "29/29 [==============================] - 0s 3ms/step - loss: 4.0978e-05 - accuracy: 1.0000 - val_loss: 5.6456e-05 - val_accuracy: 1.0000\n",
            "Epoch 296/1000\n",
            "29/29 [==============================] - 0s 3ms/step - loss: 3.7794e-05 - accuracy: 1.0000 - val_loss: 5.2095e-05 - val_accuracy: 1.0000\n",
            "Epoch 297/1000\n",
            "29/29 [==============================] - 0s 3ms/step - loss: 3.4708e-05 - accuracy: 1.0000 - val_loss: 4.7915e-05 - val_accuracy: 1.0000\n",
            "Epoch 298/1000\n",
            "29/29 [==============================] - 0s 3ms/step - loss: 3.1801e-05 - accuracy: 1.0000 - val_loss: 4.3919e-05 - val_accuracy: 1.0000\n",
            "Epoch 299/1000\n",
            "29/29 [==============================] - 0s 3ms/step - loss: 2.9134e-05 - accuracy: 1.0000 - val_loss: 4.0246e-05 - val_accuracy: 1.0000\n",
            "Epoch 300/1000\n",
            "29/29 [==============================] - 0s 4ms/step - loss: 2.6722e-05 - accuracy: 1.0000 - val_loss: 3.6744e-05 - val_accuracy: 1.0000\n",
            "Epoch 301/1000\n",
            "29/29 [==============================] - 0s 3ms/step - loss: 2.4532e-05 - accuracy: 1.0000 - val_loss: 3.3642e-05 - val_accuracy: 1.0000\n",
            "Epoch 302/1000\n",
            "29/29 [==============================] - 0s 3ms/step - loss: 2.2509e-05 - accuracy: 1.0000 - val_loss: 3.0889e-05 - val_accuracy: 1.0000\n",
            "Epoch 303/1000\n",
            "29/29 [==============================] - 0s 4ms/step - loss: 2.0650e-05 - accuracy: 1.0000 - val_loss: 2.8188e-05 - val_accuracy: 1.0000\n",
            "Epoch 304/1000\n",
            "29/29 [==============================] - 0s 3ms/step - loss: 1.8933e-05 - accuracy: 1.0000 - val_loss: 2.5838e-05 - val_accuracy: 1.0000\n",
            "Epoch 305/1000\n",
            "29/29 [==============================] - 0s 3ms/step - loss: 1.7358e-05 - accuracy: 1.0000 - val_loss: 2.3677e-05 - val_accuracy: 1.0000\n",
            "Epoch 306/1000\n",
            "29/29 [==============================] - 0s 3ms/step - loss: 1.5947e-05 - accuracy: 1.0000 - val_loss: 2.1848e-05 - val_accuracy: 1.0000\n",
            "Epoch 307/1000\n",
            "29/29 [==============================] - 0s 3ms/step - loss: 1.4615e-05 - accuracy: 1.0000 - val_loss: 2.0079e-05 - val_accuracy: 1.0000\n",
            "Epoch 308/1000\n",
            "29/29 [==============================] - 0s 3ms/step - loss: 1.3396e-05 - accuracy: 1.0000 - val_loss: 1.8298e-05 - val_accuracy: 1.0000\n",
            "Epoch 309/1000\n",
            "29/29 [==============================] - 0s 3ms/step - loss: 1.2290e-05 - accuracy: 1.0000 - val_loss: 1.6961e-05 - val_accuracy: 1.0000\n",
            "Epoch 310/1000\n",
            "29/29 [==============================] - 0s 4ms/step - loss: 1.1324e-05 - accuracy: 1.0000 - val_loss: 1.5586e-05 - val_accuracy: 1.0000\n",
            "Epoch 311/1000\n",
            "29/29 [==============================] - 0s 4ms/step - loss: 1.0388e-05 - accuracy: 1.0000 - val_loss: 1.4264e-05 - val_accuracy: 1.0000\n",
            "Epoch 312/1000\n",
            "29/29 [==============================] - 0s 4ms/step - loss: 9.5180e-06 - accuracy: 1.0000 - val_loss: 1.2979e-05 - val_accuracy: 1.0000\n",
            "Epoch 313/1000\n",
            "29/29 [==============================] - 0s 3ms/step - loss: 8.7308e-06 - accuracy: 1.0000 - val_loss: 1.1898e-05 - val_accuracy: 1.0000\n",
            "Epoch 314/1000\n",
            "29/29 [==============================] - 0s 3ms/step - loss: 8.0466e-06 - accuracy: 1.0000 - val_loss: 1.1038e-05 - val_accuracy: 1.0000\n",
            "Epoch 315/1000\n",
            "29/29 [==============================] - 0s 3ms/step - loss: 7.3855e-06 - accuracy: 1.0000 - val_loss: 1.0278e-05 - val_accuracy: 1.0000\n",
            "Epoch 316/1000\n",
            "29/29 [==============================] - 0s 4ms/step - loss: 6.7638e-06 - accuracy: 1.0000 - val_loss: 9.3131e-06 - val_accuracy: 1.0000\n",
            "Epoch 317/1000\n",
            "29/29 [==============================] - 0s 3ms/step - loss: 6.2005e-06 - accuracy: 1.0000 - val_loss: 8.4563e-06 - val_accuracy: 1.0000\n",
            "Epoch 318/1000\n",
            "29/29 [==============================] - 0s 3ms/step - loss: 5.6839e-06 - accuracy: 1.0000 - val_loss: 7.6703e-06 - val_accuracy: 1.0000\n",
            "Epoch 319/1000\n",
            "29/29 [==============================] - 0s 3ms/step - loss: 5.2659e-06 - accuracy: 1.0000 - val_loss: 7.0445e-06 - val_accuracy: 1.0000\n",
            "Epoch 320/1000\n",
            "29/29 [==============================] - 0s 4ms/step - loss: 4.8383e-06 - accuracy: 1.0000 - val_loss: 6.4410e-06 - val_accuracy: 1.0000\n",
            "Epoch 321/1000\n",
            "29/29 [==============================] - 0s 4ms/step - loss: 4.4484e-06 - accuracy: 1.0000 - val_loss: 5.9418e-06 - val_accuracy: 1.0000\n",
            "Epoch 322/1000\n",
            "29/29 [==============================] - 0s 3ms/step - loss: 4.1032e-06 - accuracy: 1.0000 - val_loss: 5.4277e-06 - val_accuracy: 1.0000\n",
            "Epoch 323/1000\n",
            "29/29 [==============================] - 0s 3ms/step - loss: 3.7667e-06 - accuracy: 1.0000 - val_loss: 5.0068e-06 - val_accuracy: 1.0000\n",
            "Epoch 324/1000\n",
            "29/29 [==============================] - 0s 3ms/step - loss: 3.4699e-06 - accuracy: 1.0000 - val_loss: 4.5784e-06 - val_accuracy: 1.0000\n",
            "Epoch 325/1000\n",
            "29/29 [==============================] - 0s 3ms/step - loss: 3.2191e-06 - accuracy: 1.0000 - val_loss: 4.2692e-06 - val_accuracy: 1.0000\n",
            "Epoch 326/1000\n",
            "29/29 [==============================] - 0s 4ms/step - loss: 2.9690e-06 - accuracy: 1.0000 - val_loss: 4.0494e-06 - val_accuracy: 1.0000\n",
            "Epoch 327/1000\n",
            "29/29 [==============================] - 0s 3ms/step - loss: 2.7468e-06 - accuracy: 1.0000 - val_loss: 3.6768e-06 - val_accuracy: 1.0000\n",
            "Epoch 328/1000\n",
            "29/29 [==============================] - 0s 3ms/step - loss: 2.5518e-06 - accuracy: 1.0000 - val_loss: 3.4310e-06 - val_accuracy: 1.0000\n",
            "Epoch 329/1000\n",
            "29/29 [==============================] - 0s 3ms/step - loss: 2.3569e-06 - accuracy: 1.0000 - val_loss: 3.1553e-06 - val_accuracy: 1.0000\n",
            "Epoch 330/1000\n",
            "29/29 [==============================] - 0s 3ms/step - loss: 2.1818e-06 - accuracy: 1.0000 - val_loss: 2.9057e-06 - val_accuracy: 1.0000\n",
            "Epoch 331/1000\n",
            "29/29 [==============================] - 0s 4ms/step - loss: 2.0183e-06 - accuracy: 1.0000 - val_loss: 2.6897e-06 - val_accuracy: 1.0000\n",
            "Epoch 332/1000\n",
            "29/29 [==============================] - 0s 4ms/step - loss: 1.8780e-06 - accuracy: 1.0000 - val_loss: 2.4997e-06 - val_accuracy: 1.0000\n",
            "Epoch 333/1000\n",
            "29/29 [==============================] - 0s 3ms/step - loss: 1.7720e-06 - accuracy: 1.0000 - val_loss: 2.3507e-06 - val_accuracy: 1.0000\n",
            "Epoch 334/1000\n",
            "29/29 [==============================] - 0s 3ms/step - loss: 1.6578e-06 - accuracy: 1.0000 - val_loss: 2.1830e-06 - val_accuracy: 1.0000\n",
            "Epoch 335/1000\n",
            "29/29 [==============================] - 0s 4ms/step - loss: 1.5481e-06 - accuracy: 1.0000 - val_loss: 2.0564e-06 - val_accuracy: 1.0000\n",
            "Epoch 336/1000\n",
            "29/29 [==============================] - 0s 3ms/step - loss: 1.4404e-06 - accuracy: 1.0000 - val_loss: 1.8924e-06 - val_accuracy: 1.0000\n",
            "Epoch 337/1000\n",
            "29/29 [==============================] - 0s 4ms/step - loss: 1.3515e-06 - accuracy: 1.0000 - val_loss: 1.7770e-06 - val_accuracy: 1.0000\n",
            "Epoch 338/1000\n",
            "29/29 [==============================] - 0s 3ms/step - loss: 1.2716e-06 - accuracy: 1.0000 - val_loss: 1.6578e-06 - val_accuracy: 1.0000\n",
            "Epoch 339/1000\n",
            "29/29 [==============================] - 0s 3ms/step - loss: 1.1805e-06 - accuracy: 1.0000 - val_loss: 1.5236e-06 - val_accuracy: 1.0000\n",
            "Epoch 340/1000\n",
            "29/29 [==============================] - 0s 4ms/step - loss: 1.1039e-06 - accuracy: 1.0000 - val_loss: 1.4342e-06 - val_accuracy: 1.0000\n",
            "Epoch 341/1000\n",
            "29/29 [==============================] - 0s 3ms/step - loss: 1.0249e-06 - accuracy: 1.0000 - val_loss: 1.3411e-06 - val_accuracy: 1.0000\n",
            "Epoch 342/1000\n",
            "29/29 [==============================] - 0s 3ms/step - loss: 9.6982e-07 - accuracy: 1.0000 - val_loss: 1.2778e-06 - val_accuracy: 1.0000\n",
            "Epoch 343/1000\n",
            "29/29 [==============================] - 0s 3ms/step - loss: 9.1352e-07 - accuracy: 1.0000 - val_loss: 1.2107e-06 - val_accuracy: 1.0000\n",
            "Epoch 344/1000\n",
            "29/29 [==============================] - 0s 3ms/step - loss: 8.5433e-07 - accuracy: 1.0000 - val_loss: 1.1288e-06 - val_accuracy: 1.0000\n",
            "Epoch 345/1000\n",
            "29/29 [==============================] - 0s 3ms/step - loss: 8.0963e-07 - accuracy: 1.0000 - val_loss: 1.0692e-06 - val_accuracy: 1.0000\n",
            "Epoch 346/1000\n",
            "29/29 [==============================] - 0s 4ms/step - loss: 7.6700e-07 - accuracy: 1.0000 - val_loss: 1.0096e-06 - val_accuracy: 1.0000\n",
            "Epoch 347/1000\n",
            "29/29 [==============================] - 0s 3ms/step - loss: 7.3181e-07 - accuracy: 1.0000 - val_loss: 9.3877e-07 - val_accuracy: 1.0000\n",
            "Epoch 348/1000\n",
            "29/29 [==============================] - 0s 3ms/step - loss: 6.8049e-07 - accuracy: 1.0000 - val_loss: 9.0152e-07 - val_accuracy: 1.0000\n",
            "Epoch 349/1000\n",
            "29/29 [==============================] - 0s 4ms/step - loss: 6.3413e-07 - accuracy: 1.0000 - val_loss: 8.1584e-07 - val_accuracy: 1.0000\n",
            "Epoch 350/1000\n",
            "29/29 [==============================] - 0s 4ms/step - loss: 5.9067e-07 - accuracy: 1.0000 - val_loss: 7.7858e-07 - val_accuracy: 1.0000\n",
            "Epoch 351/1000\n",
            "29/29 [==============================] - 0s 3ms/step - loss: 5.6417e-07 - accuracy: 1.0000 - val_loss: 7.5251e-07 - val_accuracy: 1.0000\n",
            "Epoch 352/1000\n",
            "29/29 [==============================] - 0s 3ms/step - loss: 5.3147e-07 - accuracy: 1.0000 - val_loss: 6.9663e-07 - val_accuracy: 1.0000\n",
            "Epoch 353/1000\n",
            "29/29 [==============================] - 0s 3ms/step - loss: 5.0540e-07 - accuracy: 1.0000 - val_loss: 6.7055e-07 - val_accuracy: 1.0000\n",
            "Epoch 354/1000\n",
            "29/29 [==============================] - 0s 3ms/step - loss: 4.8429e-07 - accuracy: 1.0000 - val_loss: 6.1467e-07 - val_accuracy: 1.0000\n",
            "Epoch 355/1000\n",
            "29/29 [==============================] - 0s 3ms/step - loss: 4.6442e-07 - accuracy: 1.0000 - val_loss: 6.0722e-07 - val_accuracy: 1.0000\n",
            "Epoch 356/1000\n",
            "29/29 [==============================] - 0s 3ms/step - loss: 4.4165e-07 - accuracy: 1.0000 - val_loss: 5.6997e-07 - val_accuracy: 1.0000\n",
            "Epoch 357/1000\n",
            "29/29 [==============================] - 0s 3ms/step - loss: 4.2634e-07 - accuracy: 1.0000 - val_loss: 5.5134e-07 - val_accuracy: 1.0000\n",
            "Epoch 358/1000\n",
            "29/29 [==============================] - 0s 4ms/step - loss: 3.9364e-07 - accuracy: 1.0000 - val_loss: 5.4017e-07 - val_accuracy: 1.0000\n",
            "Epoch 359/1000\n",
            "29/29 [==============================] - 0s 3ms/step - loss: 3.8826e-07 - accuracy: 1.0000 - val_loss: 5.1409e-07 - val_accuracy: 1.0000\n",
            "Epoch 360/1000\n",
            "29/29 [==============================] - 0s 3ms/step - loss: 3.7625e-07 - accuracy: 1.0000 - val_loss: 4.8801e-07 - val_accuracy: 1.0000\n",
            "Epoch 361/1000\n",
            "29/29 [==============================] - 0s 3ms/step - loss: 3.5059e-07 - accuracy: 1.0000 - val_loss: 4.4331e-07 - val_accuracy: 1.0000\n",
            "Epoch 362/1000\n",
            "29/29 [==============================] - 0s 3ms/step - loss: 3.2948e-07 - accuracy: 1.0000 - val_loss: 4.3958e-07 - val_accuracy: 1.0000\n",
            "Epoch 363/1000\n",
            "29/29 [==============================] - 0s 3ms/step - loss: 3.1748e-07 - accuracy: 1.0000 - val_loss: 3.8743e-07 - val_accuracy: 1.0000\n",
            "Epoch 364/1000\n",
            "29/29 [==============================] - 0s 3ms/step - loss: 2.9513e-07 - accuracy: 1.0000 - val_loss: 3.8743e-07 - val_accuracy: 1.0000\n",
            "Epoch 365/1000\n",
            "29/29 [==============================] - 0s 3ms/step - loss: 2.9264e-07 - accuracy: 1.0000 - val_loss: 3.8743e-07 - val_accuracy: 1.0000\n",
            "Epoch 366/1000\n",
            "29/29 [==============================] - 0s 3ms/step - loss: 2.8643e-07 - accuracy: 1.0000 - val_loss: 3.7625e-07 - val_accuracy: 1.0000\n",
            "Epoch 367/1000\n",
            "29/29 [==============================] - 0s 3ms/step - loss: 2.6367e-07 - accuracy: 1.0000 - val_loss: 3.7253e-07 - val_accuracy: 1.0000\n",
            "Epoch 368/1000\n",
            "29/29 [==============================] - 0s 3ms/step - loss: 2.5746e-07 - accuracy: 1.0000 - val_loss: 3.5018e-07 - val_accuracy: 1.0000\n",
            "Epoch 369/1000\n",
            "29/29 [==============================] - 0s 3ms/step - loss: 2.4835e-07 - accuracy: 1.0000 - val_loss: 3.3900e-07 - val_accuracy: 1.0000\n",
            "Epoch 370/1000\n",
            "29/29 [==============================] - 0s 3ms/step - loss: 2.4711e-07 - accuracy: 1.0000 - val_loss: 3.3155e-07 - val_accuracy: 1.0000\n",
            "Epoch 371/1000\n",
            "29/29 [==============================] - 0s 3ms/step - loss: 2.4297e-07 - accuracy: 1.0000 - val_loss: 3.2037e-07 - val_accuracy: 1.0000\n",
            "Epoch 372/1000\n",
            "29/29 [==============================] - 0s 3ms/step - loss: 2.3097e-07 - accuracy: 1.0000 - val_loss: 3.1665e-07 - val_accuracy: 1.0000\n",
            "Epoch 373/1000\n",
            "29/29 [==============================] - 0s 3ms/step - loss: 2.3014e-07 - accuracy: 1.0000 - val_loss: 2.9430e-07 - val_accuracy: 1.0000\n",
            "Epoch 374/1000\n",
            "29/29 [==============================] - 0s 3ms/step - loss: 2.1648e-07 - accuracy: 1.0000 - val_loss: 2.9430e-07 - val_accuracy: 1.0000\n",
            "Epoch 375/1000\n",
            "29/29 [==============================] - 0s 4ms/step - loss: 2.1524e-07 - accuracy: 1.0000 - val_loss: 2.7940e-07 - val_accuracy: 1.0000\n",
            "Epoch 376/1000\n",
            "29/29 [==============================] - 0s 4ms/step - loss: 2.0448e-07 - accuracy: 1.0000 - val_loss: 2.7567e-07 - val_accuracy: 1.0000\n",
            "Epoch 377/1000\n",
            "29/29 [==============================] - 0s 4ms/step - loss: 2.0075e-07 - accuracy: 1.0000 - val_loss: 2.6450e-07 - val_accuracy: 1.0000\n",
            "Epoch 378/1000\n",
            "29/29 [==============================] - 0s 3ms/step - loss: 1.9040e-07 - accuracy: 1.0000 - val_loss: 2.4214e-07 - val_accuracy: 1.0000\n",
            "Epoch 379/1000\n",
            "29/29 [==============================] - 0s 3ms/step - loss: 1.8875e-07 - accuracy: 1.0000 - val_loss: 2.4214e-07 - val_accuracy: 1.0000\n",
            "Epoch 380/1000\n",
            "29/29 [==============================] - 0s 3ms/step - loss: 1.8213e-07 - accuracy: 1.0000 - val_loss: 2.3469e-07 - val_accuracy: 1.0000\n",
            "Epoch 381/1000\n",
            "29/29 [==============================] - 0s 3ms/step - loss: 1.7757e-07 - accuracy: 1.0000 - val_loss: 2.4587e-07 - val_accuracy: 1.0000\n",
            "Epoch 382/1000\n",
            "29/29 [==============================] - 0s 3ms/step - loss: 1.7757e-07 - accuracy: 1.0000 - val_loss: 2.2724e-07 - val_accuracy: 1.0000\n",
            "Epoch 383/1000\n",
            "29/29 [==============================] - 0s 3ms/step - loss: 1.6308e-07 - accuracy: 1.0000 - val_loss: 2.0862e-07 - val_accuracy: 1.0000\n",
            "Epoch 384/1000\n",
            "29/29 [==============================] - 0s 3ms/step - loss: 1.4322e-07 - accuracy: 1.0000 - val_loss: 2.0862e-07 - val_accuracy: 1.0000\n",
            "Epoch 385/1000\n",
            "29/29 [==============================] - 0s 3ms/step - loss: 1.4239e-07 - accuracy: 1.0000 - val_loss: 1.5646e-07 - val_accuracy: 1.0000\n",
            "Epoch 386/1000\n",
            "29/29 [==============================] - 0s 3ms/step - loss: 1.2873e-07 - accuracy: 1.0000 - val_loss: 1.5646e-07 - val_accuracy: 1.0000\n",
            "Epoch 387/1000\n",
            "29/29 [==============================] - 0s 4ms/step - loss: 1.2335e-07 - accuracy: 1.0000 - val_loss: 1.4901e-07 - val_accuracy: 1.0000\n",
            "Epoch 388/1000\n",
            "29/29 [==============================] - 0s 3ms/step - loss: 1.2749e-07 - accuracy: 1.0000 - val_loss: 1.5274e-07 - val_accuracy: 1.0000\n",
            "Epoch 389/1000\n",
            "29/29 [==============================] - 0s 3ms/step - loss: 1.2418e-07 - accuracy: 1.0000 - val_loss: 1.5646e-07 - val_accuracy: 1.0000\n",
            "Epoch 390/1000\n",
            "29/29 [==============================] - 0s 3ms/step - loss: 1.2542e-07 - accuracy: 1.0000 - val_loss: 1.4901e-07 - val_accuracy: 1.0000\n",
            "Epoch 391/1000\n",
            "29/29 [==============================] - 0s 4ms/step - loss: 1.2832e-07 - accuracy: 1.0000 - val_loss: 1.4529e-07 - val_accuracy: 1.0000\n",
            "Epoch 392/1000\n",
            "29/29 [==============================] - 0s 3ms/step - loss: 1.2459e-07 - accuracy: 1.0000 - val_loss: 1.4901e-07 - val_accuracy: 1.0000\n",
            "Epoch 393/1000\n",
            "29/29 [==============================] - 0s 4ms/step - loss: 1.2459e-07 - accuracy: 1.0000 - val_loss: 1.3784e-07 - val_accuracy: 1.0000\n",
            "Epoch 394/1000\n",
            "29/29 [==============================] - 0s 3ms/step - loss: 1.1424e-07 - accuracy: 1.0000 - val_loss: 1.4156e-07 - val_accuracy: 1.0000\n",
            "Epoch 395/1000\n",
            "29/29 [==============================] - 0s 3ms/step - loss: 1.2045e-07 - accuracy: 1.0000 - val_loss: 1.3784e-07 - val_accuracy: 1.0000\n",
            "Epoch 396/1000\n",
            "29/29 [==============================] - 0s 4ms/step - loss: 1.1383e-07 - accuracy: 1.0000 - val_loss: 1.1921e-07 - val_accuracy: 1.0000\n",
            "Epoch 397/1000\n",
            "29/29 [==============================] - 0s 3ms/step - loss: 9.8927e-08 - accuracy: 1.0000 - val_loss: 1.1548e-07 - val_accuracy: 1.0000\n",
            "Epoch 398/1000\n",
            "29/29 [==============================] - 0s 4ms/step - loss: 9.1063e-08 - accuracy: 1.0000 - val_loss: 1.0058e-07 - val_accuracy: 1.0000\n",
            "Epoch 399/1000\n",
            "29/29 [==============================] - 0s 3ms/step - loss: 8.5268e-08 - accuracy: 1.0000 - val_loss: 1.0058e-07 - val_accuracy: 1.0000\n",
            "Epoch 400/1000\n",
            "29/29 [==============================] - 0s 4ms/step - loss: 8.4440e-08 - accuracy: 1.0000 - val_loss: 7.8231e-08 - val_accuracy: 1.0000\n",
            "Epoch 401/1000\n",
            "29/29 [==============================] - 0s 4ms/step - loss: 7.9887e-08 - accuracy: 1.0000 - val_loss: 1.0803e-07 - val_accuracy: 1.0000\n",
            "Epoch 402/1000\n",
            "29/29 [==============================] - 0s 3ms/step - loss: 7.9059e-08 - accuracy: 1.0000 - val_loss: 8.9407e-08 - val_accuracy: 1.0000\n",
            "Epoch 403/1000\n",
            "29/29 [==============================] - 0s 3ms/step - loss: 8.2784e-08 - accuracy: 1.0000 - val_loss: 7.0781e-08 - val_accuracy: 1.0000\n",
            "Epoch 404/1000\n",
            "29/29 [==============================] - 0s 3ms/step - loss: 7.7403e-08 - accuracy: 1.0000 - val_loss: 7.0781e-08 - val_accuracy: 1.0000\n",
            "Epoch 405/1000\n",
            "29/29 [==============================] - 0s 4ms/step - loss: 7.2022e-08 - accuracy: 1.0000 - val_loss: 8.5682e-08 - val_accuracy: 1.0000\n",
            "Epoch 406/1000\n",
            "29/29 [==============================] - 0s 4ms/step - loss: 7.4506e-08 - accuracy: 1.0000 - val_loss: 7.0781e-08 - val_accuracy: 1.0000\n",
            "Epoch 407/1000\n",
            "29/29 [==============================] - 0s 3ms/step - loss: 7.2022e-08 - accuracy: 1.0000 - val_loss: 6.3330e-08 - val_accuracy: 1.0000\n",
            "Epoch 408/1000\n",
            "29/29 [==============================] - 0s 3ms/step - loss: 6.7469e-08 - accuracy: 1.0000 - val_loss: 6.3330e-08 - val_accuracy: 1.0000\n",
            "Epoch 409/1000\n",
            "29/29 [==============================] - 0s 4ms/step - loss: 6.7883e-08 - accuracy: 1.0000 - val_loss: 1.0803e-07 - val_accuracy: 1.0000\n",
            "Epoch 410/1000\n",
            "29/29 [==============================] - 0s 3ms/step - loss: 6.9125e-08 - accuracy: 1.0000 - val_loss: 8.9407e-08 - val_accuracy: 1.0000\n",
            "Epoch 411/1000\n",
            "29/29 [==============================] - 0s 3ms/step - loss: 6.8297e-08 - accuracy: 1.0000 - val_loss: 8.5682e-08 - val_accuracy: 1.0000\n",
            "Epoch 412/1000\n",
            "29/29 [==============================] - 0s 3ms/step - loss: 7.3264e-08 - accuracy: 1.0000 - val_loss: 6.3330e-08 - val_accuracy: 1.0000\n",
            "Epoch 413/1000\n",
            "29/29 [==============================] - 0s 3ms/step - loss: 6.5813e-08 - accuracy: 1.0000 - val_loss: 9.6858e-08 - val_accuracy: 1.0000\n",
            "Epoch 414/1000\n",
            "29/29 [==============================] - 0s 4ms/step - loss: 7.0781e-08 - accuracy: 1.0000 - val_loss: 7.8231e-08 - val_accuracy: 1.0000\n",
            "Epoch 415/1000\n",
            "29/29 [==============================] - 0s 3ms/step - loss: 6.7055e-08 - accuracy: 1.0000 - val_loss: 6.3330e-08 - val_accuracy: 1.0000\n",
            "Epoch 416/1000\n",
            "29/29 [==============================] - 0s 4ms/step - loss: 6.2916e-08 - accuracy: 1.0000 - val_loss: 6.3330e-08 - val_accuracy: 1.0000\n",
            "Epoch 417/1000\n",
            "22/29 [=====================>........] - ETA: 0s - loss: 7.1526e-08 - accuracy: 1.0000Restoring model weights from the end of the best epoch.\n",
            "29/29 [==============================] - 0s 3ms/step - loss: 6.7469e-08 - accuracy: 1.0000 - val_loss: 6.7055e-08 - val_accuracy: 1.0000\n",
            "Epoch 00417: early stopping\n"
          ],
          "name": "stdout"
        },
        {
          "output_type": "execute_result",
          "data": {
            "text/plain": [
              "<tensorflow.python.keras.callbacks.History at 0x7fd9e01c9a90>"
            ]
          },
          "metadata": {
            "tags": []
          },
          "execution_count": 17
        }
      ]
    },
    {
      "cell_type": "code",
      "metadata": {
        "id": "nnvfipwoOPgN"
      },
      "source": [
        "History = model_SS.history"
      ],
      "execution_count": null,
      "outputs": []
    },
    {
      "cell_type": "code",
      "metadata": {
        "id": "Jz5ojF3QOPgS",
        "outputId": "c48803bc-3a4a-4710-ee14-83d8eb6e5ea8",
        "colab": {
          "base_uri": "https://localhost:8080/",
          "height": 295
        }
      },
      "source": [
        "plt.plot(History.history['accuracy'])\n",
        "plt.title('Accuracy VS Epoch')\n",
        "plt.ylabel('Accuracy')\n",
        "plt.xlabel('Epoch')\n",
        "plt.legend(['Train'], loc='lower right')\n",
        "plt.show()"
      ],
      "execution_count": null,
      "outputs": [
        {
          "output_type": "display_data",
          "data": {
            "image/png": "[encoded data removed]",
            "text/plain": [
              "<Figure size 432x288 with 1 Axes>"
            ]
          },
          "metadata": {
            "tags": [],
            "needs_background": "light"
          }
        }
      ]
    },
    {
      "cell_type": "code",
      "metadata": {
        "id": "HAsmBbW-OPgX",
        "outputId": "f18a09b2-a4e0-4815-af35-67b1db589f2f",
        "colab": {
          "base_uri": "https://localhost:8080/",
          "height": 295
        }
      },
      "source": [
        "plt.plot(History.history['loss'])\n",
        "plt.title('Loss VS Epoch')\n",
        "plt.ylabel('Loss')\n",
        "plt.xlabel('Epoch')\n",
        "plt.legend(['Train'], loc='lower right')\n",
        "plt.show()"
      ],
      "execution_count": null,
      "outputs": [
        {
          "output_type": "display_data",
          "data": {
            "image/png": "[encoded data removed]",
            "text/plain": [
              "<Figure size 432x288 with 1 Axes>"
            ]
          },
          "metadata": {
            "tags": [],
            "needs_background": "light"
          }
        }
      ]
    },
    {
      "cell_type": "markdown",
      "metadata": {
        "id": "-24OmuxbOPgc"
      },
      "source": [
        "## Testing the Shallow Neural Network"
      ]
    },
    {
      "cell_type": "code",
      "metadata": {
        "id": "W-sOoy9FOPgd",
        "outputId": "3f813f0c-b342-4ae3-a1cd-06f9c344008d",
        "colab": {
          "base_uri": "https://localhost:8080/",
          "height": 67
        }
      },
      "source": [
        "Loss,Accuracy=model_SS.evaluate(X_test,Y_test,verbose=1)\n",
        "print('Accuracy: ',Accuracy)\n",
        "print('Loss: ',Loss)"
      ],
      "execution_count": null,
      "outputs": [
        {
          "output_type": "stream",
          "text": [
            "3/3 [==============================] - 0s 3ms/step - loss: 7.7486e-08 - accuracy: 1.0000\n",
            "Accuracy:  1.0\n",
            "Loss:  7.748602826040951e-08\n"
          ],
          "name": "stdout"
        }
      ]
    },
    {
      "cell_type": "markdown",
      "metadata": {
        "id": "dmrSMVAFOPgh"
      },
      "source": [
        "## Save the Model"
      ]
    },
    {
      "cell_type": "code",
      "metadata": {
        "id": "09oPY_gUOPgi"
      },
      "source": [
        "Name='Model 3.3 - SS 39'"
      ],
      "execution_count": null,
      "outputs": []
    },
    {
      "cell_type": "code",
      "metadata": {
        "id": "JmTxz7dTOPgo"
      },
      "source": [
        "Name=Name + ' - ' + str(datetime.datetime.now()) + '.h5'\n",
        "model_SS.save('/content/drive/My Drive/AI Breaks Cryptography/Models/'+Name)"
      ],
      "execution_count": null,
      "outputs": []
    },
    {
      "cell_type": "markdown",
      "metadata": {
        "id": "tz3FZKlSOPgs"
      },
      "source": [
        "## Decoding function"
      ]
    },
    {
      "cell_type": "code",
      "metadata": {
        "id": "p8EL5uVhOPgv",
        "outputId": "b31a5c6a-1f03-45a7-b8ff-4b0ca29703ab",
        "colab": {
          "base_uri": "https://localhost:8080/",
          "height": 507
        }
      },
      "source": [
        "Categories=[i for i in CHOICES]\n",
        "Label_Encoding=LabelEncoder().fit_transform(Categories).reshape(-1,1)\n",
        "One_Hot_Encoding=OneHotEncoder().fit_transform(Label_Encoding).toarray()\n",
        "Categories_Dictionary={Categories[i]:One_Hot_Encoding[i] for i in range(len(Categories))}\n",
        "Categories_Dictionary_Reverse={tuple(One_Hot_Encoding[i]):Categories[i] for i in range(len(Categories))}\n",
        "print(Categories_Dictionary)\n",
        "print(Categories_Dictionary_Reverse)"
      ],
      "execution_count": null,
      "outputs": [
        {
          "output_type": "stream",
          "text": [
            "{'A': array([1., 0., 0., 0., 0., 0., 0., 0., 0., 0., 0., 0., 0., 0., 0., 0., 0.,\n",
            "       0., 0., 0., 0., 0., 0., 0., 0., 0.]), 'B': array([0., 1., 0., 0., 0., 0., 0., 0., 0., 0., 0., 0., 0., 0., 0., 0., 0.,\n",
            "       0., 0., 0., 0., 0., 0., 0., 0., 0.]), 'C': array([0., 0., 1., 0., 0., 0., 0., 0., 0., 0., 0., 0., 0., 0., 0., 0., 0.,\n",
            "       0., 0., 0., 0., 0., 0., 0., 0., 0.]), 'D': array([0., 0., 0., 1., 0., 0., 0., 0., 0., 0., 0., 0., 0., 0., 0., 0., 0.,\n",
            "       0., 0., 0., 0., 0., 0., 0., 0., 0.]), 'E': array([0., 0., 0., 0., 1., 0., 0., 0., 0., 0., 0., 0., 0., 0., 0., 0., 0.,\n",
            "       0., 0., 0., 0., 0., 0., 0., 0., 0.]), 'F': array([0., 0., 0., 0., 0., 1., 0., 0., 0., 0., 0., 0., 0., 0., 0., 0., 0.,\n",
            "       0., 0., 0., 0., 0., 0., 0., 0., 0.]), 'G': array([0., 0., 0., 0., 0., 0., 1., 0., 0., 0., 0., 0., 0., 0., 0., 0., 0.,\n",
            "       0., 0., 0., 0., 0., 0., 0., 0., 0.]), 'H': array([0., 0., 0., 0., 0., 0., 0., 1., 0., 0., 0., 0., 0., 0., 0., 0., 0.,\n",
            "       0., 0., 0., 0., 0., 0., 0., 0., 0.]), 'I': array([0., 0., 0., 0., 0., 0., 0., 0., 1., 0., 0., 0., 0., 0., 0., 0., 0.,\n",
            "       0., 0., 0., 0., 0., 0., 0., 0., 0.]), 'J': array([0., 0., 0., 0., 0., 0., 0., 0., 0., 1., 0., 0., 0., 0., 0., 0., 0.,\n",
            "       0., 0., 0., 0., 0., 0., 0., 0., 0.]), 'K': array([0., 0., 0., 0., 0., 0., 0., 0., 0., 0., 1., 0., 0., 0., 0., 0., 0.,\n",
            "       0., 0., 0., 0., 0., 0., 0., 0., 0.]), 'L': array([0., 0., 0., 0., 0., 0., 0., 0., 0., 0., 0., 1., 0., 0., 0., 0., 0.,\n",
            "       0., 0., 0., 0., 0., 0., 0., 0., 0.]), 'M': array([0., 0., 0., 0., 0., 0., 0., 0., 0., 0., 0., 0., 1., 0., 0., 0., 0.,\n",
            "       0., 0., 0., 0., 0., 0., 0., 0., 0.]), 'N': array([0., 0., 0., 0., 0., 0., 0., 0., 0., 0., 0., 0., 0., 1., 0., 0., 0.,\n",
            "       0., 0., 0., 0., 0., 0., 0., 0., 0.]), 'O': array([0., 0., 0., 0., 0., 0., 0., 0., 0., 0., 0., 0., 0., 0., 1., 0., 0.,\n",
            "       0., 0., 0., 0., 0., 0., 0., 0., 0.]), 'P': array([0., 0., 0., 0., 0., 0., 0., 0., 0., 0., 0., 0., 0., 0., 0., 1., 0.,\n",
            "       0., 0., 0., 0., 0., 0., 0., 0., 0.]), 'Q': array([0., 0., 0., 0., 0., 0., 0., 0., 0., 0., 0., 0., 0., 0., 0., 0., 1.,\n",
            "       0., 0., 0., 0., 0., 0., 0., 0., 0.]), 'R': array([0., 0., 0., 0., 0., 0., 0., 0., 0., 0., 0., 0., 0., 0., 0., 0., 0.,\n",
            "       1., 0., 0., 0., 0., 0., 0., 0., 0.]), 'S': array([0., 0., 0., 0., 0., 0., 0., 0., 0., 0., 0., 0., 0., 0., 0., 0., 0.,\n",
            "       0., 1., 0., 0., 0., 0., 0., 0., 0.]), 'T': array([0., 0., 0., 0., 0., 0., 0., 0., 0., 0., 0., 0., 0., 0., 0., 0., 0.,\n",
            "       0., 0., 1., 0., 0., 0., 0., 0., 0.]), 'U': array([0., 0., 0., 0., 0., 0., 0., 0., 0., 0., 0., 0., 0., 0., 0., 0., 0.,\n",
            "       0., 0., 0., 1., 0., 0., 0., 0., 0.]), 'V': array([0., 0., 0., 0., 0., 0., 0., 0., 0., 0., 0., 0., 0., 0., 0., 0., 0.,\n",
            "       0., 0., 0., 0., 1., 0., 0., 0., 0.]), 'W': array([0., 0., 0., 0., 0., 0., 0., 0., 0., 0., 0., 0., 0., 0., 0., 0., 0.,\n",
            "       0., 0., 0., 0., 0., 1., 0., 0., 0.]), 'X': array([0., 0., 0., 0., 0., 0., 0., 0., 0., 0., 0., 0., 0., 0., 0., 0., 0.,\n",
            "       0., 0., 0., 0., 0., 0., 1., 0., 0.]), 'Y': array([0., 0., 0., 0., 0., 0., 0., 0., 0., 0., 0., 0., 0., 0., 0., 0., 0.,\n",
            "       0., 0., 0., 0., 0., 0., 0., 1., 0.]), 'Z': array([0., 0., 0., 0., 0., 0., 0., 0., 0., 0., 0., 0., 0., 0., 0., 0., 0.,\n",
            "       0., 0., 0., 0., 0., 0., 0., 0., 1.])}\n",
            "{(1.0, 0.0, 0.0, 0.0, 0.0, 0.0, 0.0, 0.0, 0.0, 0.0, 0.0, 0.0, 0.0, 0.0, 0.0, 0.0, 0.0, 0.0, 0.0, 0.0, 0.0, 0.0, 0.0, 0.0, 0.0, 0.0): 'A', (0.0, 1.0, 0.0, 0.0, 0.0, 0.0, 0.0, 0.0, 0.0, 0.0, 0.0, 0.0, 0.0, 0.0, 0.0, 0.0, 0.0, 0.0, 0.0, 0.0, 0.0, 0.0, 0.0, 0.0, 0.0, 0.0): 'B', (0.0, 0.0, 1.0, 0.0, 0.0, 0.0, 0.0, 0.0, 0.0, 0.0, 0.0, 0.0, 0.0, 0.0, 0.0, 0.0, 0.0, 0.0, 0.0, 0.0, 0.0, 0.0, 0.0, 0.0, 0.0, 0.0): 'C', (0.0, 0.0, 0.0, 1.0, 0.0, 0.0, 0.0, 0.0, 0.0, 0.0, 0.0, 0.0, 0.0, 0.0, 0.0, 0.0, 0.0, 0.0, 0.0, 0.0, 0.0, 0.0, 0.0, 0.0, 0.0, 0.0): 'D', (0.0, 0.0, 0.0, 0.0, 1.0, 0.0, 0.0, 0.0, 0.0, 0.0, 0.0, 0.0, 0.0, 0.0, 0.0, 0.0, 0.0, 0.0, 0.0, 0.0, 0.0, 0.0, 0.0, 0.0, 0.0, 0.0): 'E', (0.0, 0.0, 0.0, 0.0, 0.0, 1.0, 0.0, 0.0, 0.0, 0.0, 0.0, 0.0, 0.0, 0.0, 0.0, 0.0, 0.0, 0.0, 0.0, 0.0, 0.0, 0.0, 0.0, 0.0, 0.0, 0.0): 'F', (0.0, 0.0, 0.0, 0.0, 0.0, 0.0, 1.0, 0.0, 0.0, 0.0, 0.0, 0.0, 0.0, 0.0, 0.0, 0.0, 0.0, 0.0, 0.0, 0.0, 0.0, 0.0, 0.0, 0.0, 0.0, 0.0): 'G', (0.0, 0.0, 0.0, 0.0, 0.0, 0.0, 0.0, 1.0, 0.0, 0.0, 0.0, 0.0, 0.0, 0.0, 0.0, 0.0, 0.0, 0.0, 0.0, 0.0, 0.0, 0.0, 0.0, 0.0, 0.0, 0.0): 'H', (0.0, 0.0, 0.0, 0.0, 0.0, 0.0, 0.0, 0.0, 1.0, 0.0, 0.0, 0.0, 0.0, 0.0, 0.0, 0.0, 0.0, 0.0, 0.0, 0.0, 0.0, 0.0, 0.0, 0.0, 0.0, 0.0): 'I', (0.0, 0.0, 0.0, 0.0, 0.0, 0.0, 0.0, 0.0, 0.0, 1.0, 0.0, 0.0, 0.0, 0.0, 0.0, 0.0, 0.0, 0.0, 0.0, 0.0, 0.0, 0.0, 0.0, 0.0, 0.0, 0.0): 'J', (0.0, 0.0, 0.0, 0.0, 0.0, 0.0, 0.0, 0.0, 0.0, 0.0, 1.0, 0.0, 0.0, 0.0, 0.0, 0.0, 0.0, 0.0, 0.0, 0.0, 0.0, 0.0, 0.0, 0.0, 0.0, 0.0): 'K', (0.0, 0.0, 0.0, 0.0, 0.0, 0.0, 0.0, 0.0, 0.0, 0.0, 0.0, 1.0, 0.0, 0.0, 0.0, 0.0, 0.0, 0.0, 0.0, 0.0, 0.0, 0.0, 0.0, 0.0, 0.0, 0.0): 'L', (0.0, 0.0, 0.0, 0.0, 0.0, 0.0, 0.0, 0.0, 0.0, 0.0, 0.0, 0.0, 1.0, 0.0, 0.0, 0.0, 0.0, 0.0, 0.0, 0.0, 0.0, 0.0, 0.0, 0.0, 0.0, 0.0): 'M', (0.0, 0.0, 0.0, 0.0, 0.0, 0.0, 0.0, 0.0, 0.0, 0.0, 0.0, 0.0, 0.0, 1.0, 0.0, 0.0, 0.0, 0.0, 0.0, 0.0, 0.0, 0.0, 0.0, 0.0, 0.0, 0.0): 'N', (0.0, 0.0, 0.0, 0.0, 0.0, 0.0, 0.0, 0.0, 0.0, 0.0, 0.0, 0.0, 0.0, 0.0, 1.0, 0.0, 0.0, 0.0, 0.0, 0.0, 0.0, 0.0, 0.0, 0.0, 0.0, 0.0): 'O', (0.0, 0.0, 0.0, 0.0, 0.0, 0.0, 0.0, 0.0, 0.0, 0.0, 0.0, 0.0, 0.0, 0.0, 0.0, 1.0, 0.0, 0.0, 0.0, 0.0, 0.0, 0.0, 0.0, 0.0, 0.0, 0.0): 'P', (0.0, 0.0, 0.0, 0.0, 0.0, 0.0, 0.0, 0.0, 0.0, 0.0, 0.0, 0.0, 0.0, 0.0, 0.0, 0.0, 1.0, 0.0, 0.0, 0.0, 0.0, 0.0, 0.0, 0.0, 0.0, 0.0): 'Q', (0.0, 0.0, 0.0, 0.0, 0.0, 0.0, 0.0, 0.0, 0.0, 0.0, 0.0, 0.0, 0.0, 0.0, 0.0, 0.0, 0.0, 1.0, 0.0, 0.0, 0.0, 0.0, 0.0, 0.0, 0.0, 0.0): 'R', (0.0, 0.0, 0.0, 0.0, 0.0, 0.0, 0.0, 0.0, 0.0, 0.0, 0.0, 0.0, 0.0, 0.0, 0.0, 0.0, 0.0, 0.0, 1.0, 0.0, 0.0, 0.0, 0.0, 0.0, 0.0, 0.0): 'S', (0.0, 0.0, 0.0, 0.0, 0.0, 0.0, 0.0, 0.0, 0.0, 0.0, 0.0, 0.0, 0.0, 0.0, 0.0, 0.0, 0.0, 0.0, 0.0, 1.0, 0.0, 0.0, 0.0, 0.0, 0.0, 0.0): 'T', (0.0, 0.0, 0.0, 0.0, 0.0, 0.0, 0.0, 0.0, 0.0, 0.0, 0.0, 0.0, 0.0, 0.0, 0.0, 0.0, 0.0, 0.0, 0.0, 0.0, 1.0, 0.0, 0.0, 0.0, 0.0, 0.0): 'U', (0.0, 0.0, 0.0, 0.0, 0.0, 0.0, 0.0, 0.0, 0.0, 0.0, 0.0, 0.0, 0.0, 0.0, 0.0, 0.0, 0.0, 0.0, 0.0, 0.0, 0.0, 1.0, 0.0, 0.0, 0.0, 0.0): 'V', (0.0, 0.0, 0.0, 0.0, 0.0, 0.0, 0.0, 0.0, 0.0, 0.0, 0.0, 0.0, 0.0, 0.0, 0.0, 0.0, 0.0, 0.0, 0.0, 0.0, 0.0, 0.0, 1.0, 0.0, 0.0, 0.0): 'W', (0.0, 0.0, 0.0, 0.0, 0.0, 0.0, 0.0, 0.0, 0.0, 0.0, 0.0, 0.0, 0.0, 0.0, 0.0, 0.0, 0.0, 0.0, 0.0, 0.0, 0.0, 0.0, 0.0, 1.0, 0.0, 0.0): 'X', (0.0, 0.0, 0.0, 0.0, 0.0, 0.0, 0.0, 0.0, 0.0, 0.0, 0.0, 0.0, 0.0, 0.0, 0.0, 0.0, 0.0, 0.0, 0.0, 0.0, 0.0, 0.0, 0.0, 0.0, 1.0, 0.0): 'Y', (0.0, 0.0, 0.0, 0.0, 0.0, 0.0, 0.0, 0.0, 0.0, 0.0, 0.0, 0.0, 0.0, 0.0, 0.0, 0.0, 0.0, 0.0, 0.0, 0.0, 0.0, 0.0, 0.0, 0.0, 0.0, 1.0): 'Z'}\n"
          ],
          "name": "stdout"
        }
      ]
    },
    {
      "cell_type": "code",
      "metadata": {
        "id": "dqKACZpmOPgz"
      },
      "source": [
        "def Decode(character,Categories_Dictionary_Reverse=Categories_Dictionary_Reverse):\n",
        "  #print(np.array(Categories_Dictionary[character]).shape)\n",
        "  prediction=model_SS.predict(np.array(Categories_Dictionary[character]).reshape(1,26))\n",
        "  prediction=prediction>=prediction.max()\n",
        "  #print(prediction)\n",
        "  temp=[0.0 for i in range(26)]\n",
        "  for i in range(len(prediction[0])):\n",
        "    if prediction[0][i]==True:\n",
        "      temp[i]=1\n",
        "  return Categories_Dictionary_Reverse[tuple(temp)]"
      ],
      "execution_count": null,
      "outputs": []
    },
    {
      "cell_type": "code",
      "metadata": {
        "id": "AlEcAjMEOPg5",
        "outputId": "97fb0493-0335-4dfd-c728-e9eaff592aa4",
        "colab": {
          "base_uri": "https://localhost:8080/",
          "height": 50
        }
      },
      "source": [
        "character='S'\n",
        "print(character)\n",
        "print(Decode(character))"
      ],
      "execution_count": null,
      "outputs": [
        {
          "output_type": "stream",
          "text": [
            "S\n",
            "K\n"
          ],
          "name": "stdout"
        }
      ]
    },
    {
      "cell_type": "markdown",
      "metadata": {
        "id": "LUIzASudOPg9"
      },
      "source": [
        "## AI Based Decryption of Simple Substitution Cipher"
      ]
    },
    {
      "cell_type": "code",
      "metadata": {
        "id": "D75TYeYqOPg-",
        "outputId": "edb4a1de-3e48-4cba-bc46-5a9faef8bc09",
        "colab": {
          "base_uri": "https://localhost:8080/",
          "height": 134
        }
      },
      "source": [
        "MESSAGE=\"ISAA PROJECT REVIEW\"\n",
        "MESSAGE=MESSAGE.upper()\n",
        "print(\"\\t\\tOriginal Message:\\t\\t\\t\\t\\t\\t\",MESSAGE)\n",
        "ENCRYPTED_MESSAGE=SimpleSubstitutionCipher_encryption(MESSAGE,KEY)\n",
        "print(\"\\n\\n\\t\\tMessage after Encryption using Simple Substitution Cipher:\\t\",ENCRYPTED_MESSAGE)\n",
        "#print(\"Key used for Encryption: \",KEY)\n",
        "DECRYPTED_MESSAGE=''\n",
        "for i in ENCRYPTED_MESSAGE:\n",
        "  if i==' ':\n",
        "    DECRYPTED_MESSAGE+=i\n",
        "  else:\n",
        "    DECRYPTED_MESSAGE+=Decode(i)\n",
        "print(\"\\n\\n\\t\\tMessage after AI based Decryption:\\t\\t\\t\\t\",DECRYPTED_MESSAGE)"
      ],
      "execution_count": null,
      "outputs": [
        {
          "output_type": "stream",
          "text": [
            "\t\tOriginal Message:\t\t\t\t\t\t ISAA PROJECT REVIEW\n",
            "\n",
            "\n",
            "\t\tMessage after Encryption using Simple Substitution Cipher:\t ILPP GKFWEOM KEQIEU\n",
            "\n",
            "\n",
            "\t\tMessage after AI based Decryption:\t\t\t\t ISAA PROJECT REVIEW\n"
          ],
          "name": "stdout"
        }
      ]
    },
    {
      "cell_type": "markdown",
      "metadata": {
        "id": "dyLVzT2gD8sf"
      },
      "source": [
        "# Observation: The AI model has 100% accuracy of decrypting an encrypted password"
      ]
    },
    {
      "cell_type": "markdown",
      "metadata": {
        "id": "CltxYj2MNxsC"
      },
      "source": [
        "# Caesar Cipher (Protected Version)"
      ]
    },
    {
      "cell_type": "markdown",
      "metadata": {
        "id": "NrcSgEUfNxsJ"
      },
      "source": [
        "**Note**: Variable Key is used"
      ]
    },
    {
      "cell_type": "markdown",
      "metadata": {
        "id": "8fSU-FTHNxsH"
      },
      "source": [
        "## Known-Plaintext Attack"
      ]
    },
    {
      "cell_type": "markdown",
      "metadata": {
        "id": "rCBpVzKRNxsV"
      },
      "source": [
        "### Password Size"
      ]
    },
    {
      "cell_type": "code",
      "metadata": {
        "id": "WzlbbHzSNxsW"
      },
      "source": [
        "PASSWORD_SIZE=8"
      ],
      "execution_count": 4,
      "outputs": []
    },
    {
      "cell_type": "markdown",
      "metadata": {
        "id": "M_KE3p8zNxsd"
      },
      "source": [
        "### Dataset Size"
      ]
    },
    {
      "cell_type": "code",
      "metadata": {
        "id": "9d1yklFNNxsf"
      },
      "source": [
        "DATASET_SIZE=50"
      ],
      "execution_count": 5,
      "outputs": []
    },
    {
      "cell_type": "markdown",
      "metadata": {
        "id": "h8VbsGCVNxsm"
      },
      "source": [
        "### Generation of Dataset"
      ]
    },
    {
      "cell_type": "code",
      "metadata": {
        "id": "Hf1jnrPKNxsn",
        "outputId": "58a48153-569e-4142-e556-703c6a43da7b",
        "colab": {
          "base_uri": "https://localhost:8080/",
          "height": 35
        }
      },
      "source": [
        "CHOICES=CaesarCipher_characterset()\n",
        "CHOICES"
      ],
      "execution_count": 6,
      "outputs": [
        {
          "output_type": "execute_result",
          "data": {
            "application/vnd.google.colaboratory.intrinsic+json": {
              "type": "string"
            },
            "text/plain": [
              "'ABCDEFGHIJKLMNOPQRSTUVWXYZ'"
            ]
          },
          "metadata": {
            "tags": []
          },
          "execution_count": 6
        }
      ]
    },
    {
      "cell_type": "code",
      "metadata": {
        "id": "ThVlQJRDNxsx",
        "outputId": "19b77568-75d8-4633-f43b-193e8f7f226d",
        "colab": {
          "base_uri": "https://localhost:8080/"
        }
      },
      "source": [
        "x=[]\n",
        "y=[]\n",
        "for i in range(DATASET_SIZE):\n",
        "  temp=''\n",
        "  for j in range(PASSWORD_SIZE):\n",
        "    temp+=random.choice(CHOICES)\n",
        "  x.append(temp)\n",
        "  age = random.randint(12,120)\n",
        "  KEY = age % 26;\n",
        "  y.append(CaesarCipher_encryption(temp,KEY))\n",
        "print(x)\n",
        "print(y)"
      ],
      "execution_count": 7,
      "outputs": [
        {
          "output_type": "stream",
          "text": [
            "['RQJDPQEF', 'TLHDGUQL', 'YIOMVUBB', 'NBMECQJL', 'TOIILJAF', 'JBUCTJKI', 'MEIHYXMP', 'AVSCAWHB', 'WEHMEYDQ', 'YENTHTBR', 'ABJAQDIQ', 'IDPITQRK', 'IYMCHOIS', 'XCUZRNXX', 'RLVWRKRE', 'NFVDYBJX', 'IQRJIQZJ', 'AXDFUSKL', 'MFOTOMZB', 'ONAJEWZG', 'SSFMNFEZ', 'BJGTCWFQ', 'BENZRSXD', 'SUZJXXAT', 'HSKDGFOJ', 'IKVPPGZZ', 'XSBCSCTR', 'ZJOWBGFO', 'CXEDOAUJ', 'GKVJNBYX', 'NKPYGYAQ', 'BVCUZCDE', 'PBIPAUQQ', 'GVKKKBWD', 'NGKMYGSL', 'YVPRYIXP', 'WPFODQII', 'QUFUGDDH', 'MQBGQDIN', 'BCLNAJEV', 'DJEDJYXR', 'CIRVJJOP', 'EXQNQVBU', 'MJYZUJPE', 'IBCPVZHV', 'SROTZHNB', 'EIBJXHIE', 'XAUZVDOQ', 'JTQWWQIB', 'LKFTHMRT']\n",
            "['WVOIUVJK', 'SKGCFTPK', 'EOUSBAHH', 'CQBTRFYA', 'AVPPSQHM', 'EWPXOEFD', 'PHLKBAPS', 'KFCMKGRL', 'YGJOGAFS', 'YENTHTBR', 'TUCTJWBJ', 'WRDWHEFY', 'VLZPUBVF', 'HMEJBXHH', 'DXHIDWDQ', 'HZPXSVDR', 'QYZRQYHR', 'ZWCETRJK', 'XQZEZXKM', 'JIVEZRUB', 'YYLSTLKF', 'CKHUDXGR', 'CFOASTYE', 'PRWGUUXQ', 'XIATWVEZ', 'XZKEEVOO', 'VQZAQARP', 'GQVDINMV', 'GBIHSEYN', 'ZDOCGURQ', 'HEJSASUK', 'ICJBGJKL', 'JVCJUOKK', 'YNCCCTOV', 'RKOQCKWP', 'ROIKRBQI', 'WPFODQII', 'GKVKWTTX', 'ZDOTDQVA', 'KLUWJSNE', 'PVQPVKJD', 'EKTXLLQR', 'KDWTWBHA', 'PMBCXMSH', 'ZSTGMQYM', 'POLQWEKY', 'YCVDRBCY', 'RUOTPXIK', 'WGDJJDVO', 'XWRFTYDF']\n"
          ],
          "name": "stdout"
        }
      ]
    },
    {
      "cell_type": "code",
      "metadata": {
        "id": "Q4ggmXBkNxs7",
        "outputId": "29e930bd-d960-49a3-cb89-f3cd2748380f",
        "colab": {
          "base_uri": "https://localhost:8080/",
          "height": 491
        }
      },
      "source": [
        "Data=pd.DataFrame({'Plaintext':x,'Ciphertext':y})\n",
        "Data.head(15)"
      ],
      "execution_count": 8,
      "outputs": [
        {
          "output_type": "execute_result",
          "data": {
            "text/html": [
              "<div>\n",
              "<style scoped>\n",
              "    .dataframe tbody tr th:only-of-type {\n",
              "        vertical-align: middle;\n",
              "    }\n",
              "\n",
              "    .dataframe tbody tr th {\n",
              "        vertical-align: top;\n",
              "    }\n",
              "\n",
              "    .dataframe thead th {\n",
              "        text-align: right;\n",
              "    }\n",
              "</style>\n",
              "<table border=\"1\" class=\"dataframe\">\n",
              "  <thead>\n",
              "    <tr style=\"text-align: right;\">\n",
              "      <th></th>\n",
              "      <th>Plaintext</th>\n",
              "      <th>Ciphertext</th>\n",
              "    </tr>\n",
              "  </thead>\n",
              "  <tbody>\n",
              "    <tr>\n",
              "      <th>0</th>\n",
              "      <td>RQJDPQEF</td>\n",
              "      <td>WVOIUVJK</td>\n",
              "    </tr>\n",
              "    <tr>\n",
              "      <th>1</th>\n",
              "      <td>TLHDGUQL</td>\n",
              "      <td>SKGCFTPK</td>\n",
              "    </tr>\n",
              "    <tr>\n",
              "      <th>2</th>\n",
              "      <td>YIOMVUBB</td>\n",
              "      <td>EOUSBAHH</td>\n",
              "    </tr>\n",
              "    <tr>\n",
              "      <th>3</th>\n",
              "      <td>NBMECQJL</td>\n",
              "      <td>CQBTRFYA</td>\n",
              "    </tr>\n",
              "    <tr>\n",
              "      <th>4</th>\n",
              "      <td>TOIILJAF</td>\n",
              "      <td>AVPPSQHM</td>\n",
              "    </tr>\n",
              "    <tr>\n",
              "      <th>5</th>\n",
              "      <td>JBUCTJKI</td>\n",
              "      <td>EWPXOEFD</td>\n",
              "    </tr>\n",
              "    <tr>\n",
              "      <th>6</th>\n",
              "      <td>MEIHYXMP</td>\n",
              "      <td>PHLKBAPS</td>\n",
              "    </tr>\n",
              "    <tr>\n",
              "      <th>7</th>\n",
              "      <td>AVSCAWHB</td>\n",
              "      <td>KFCMKGRL</td>\n",
              "    </tr>\n",
              "    <tr>\n",
              "      <th>8</th>\n",
              "      <td>WEHMEYDQ</td>\n",
              "      <td>YGJOGAFS</td>\n",
              "    </tr>\n",
              "    <tr>\n",
              "      <th>9</th>\n",
              "      <td>YENTHTBR</td>\n",
              "      <td>YENTHTBR</td>\n",
              "    </tr>\n",
              "    <tr>\n",
              "      <th>10</th>\n",
              "      <td>ABJAQDIQ</td>\n",
              "      <td>TUCTJWBJ</td>\n",
              "    </tr>\n",
              "    <tr>\n",
              "      <th>11</th>\n",
              "      <td>IDPITQRK</td>\n",
              "      <td>WRDWHEFY</td>\n",
              "    </tr>\n",
              "    <tr>\n",
              "      <th>12</th>\n",
              "      <td>IYMCHOIS</td>\n",
              "      <td>VLZPUBVF</td>\n",
              "    </tr>\n",
              "    <tr>\n",
              "      <th>13</th>\n",
              "      <td>XCUZRNXX</td>\n",
              "      <td>HMEJBXHH</td>\n",
              "    </tr>\n",
              "    <tr>\n",
              "      <th>14</th>\n",
              "      <td>RLVWRKRE</td>\n",
              "      <td>DXHIDWDQ</td>\n",
              "    </tr>\n",
              "  </tbody>\n",
              "</table>\n",
              "</div>"
            ],
            "text/plain": [
              "   Plaintext Ciphertext\n",
              "0   RQJDPQEF   WVOIUVJK\n",
              "1   TLHDGUQL   SKGCFTPK\n",
              "2   YIOMVUBB   EOUSBAHH\n",
              "3   NBMECQJL   CQBTRFYA\n",
              "4   TOIILJAF   AVPPSQHM\n",
              "5   JBUCTJKI   EWPXOEFD\n",
              "6   MEIHYXMP   PHLKBAPS\n",
              "7   AVSCAWHB   KFCMKGRL\n",
              "8   WEHMEYDQ   YGJOGAFS\n",
              "9   YENTHTBR   YENTHTBR\n",
              "10  ABJAQDIQ   TUCTJWBJ\n",
              "11  IDPITQRK   WRDWHEFY\n",
              "12  IYMCHOIS   VLZPUBVF\n",
              "13  XCUZRNXX   HMEJBXHH\n",
              "14  RLVWRKRE   DXHIDWDQ"
            ]
          },
          "metadata": {
            "tags": []
          },
          "execution_count": 8
        }
      ]
    },
    {
      "cell_type": "markdown",
      "metadata": {
        "id": "WShkUv-wNxtD"
      },
      "source": [
        "### Since Caesar Cipher is a Stream Cipher"
      ]
    },
    {
      "cell_type": "code",
      "metadata": {
        "id": "ZxckUu13NxtE",
        "outputId": "912d54f6-ce8b-483f-8dfe-86e8d7cff717",
        "colab": {
          "base_uri": "https://localhost:8080/",
          "height": 491
        }
      },
      "source": [
        "plaintext=[]\n",
        "ciphertext=[]\n",
        "for password in x:\n",
        "  for character in password:\n",
        "    plaintext.append(character)\n",
        "for Encrypted_password in y:\n",
        "  for character in Encrypted_password:\n",
        "    ciphertext.append(character)\n",
        "Data=pd.DataFrame({'Plaintext':plaintext,'Ciphertext':ciphertext})\n",
        "Data.head(15)"
      ],
      "execution_count": 9,
      "outputs": [
        {
          "output_type": "execute_result",
          "data": {
            "text/html": [
              "<div>\n",
              "<style scoped>\n",
              "    .dataframe tbody tr th:only-of-type {\n",
              "        vertical-align: middle;\n",
              "    }\n",
              "\n",
              "    .dataframe tbody tr th {\n",
              "        vertical-align: top;\n",
              "    }\n",
              "\n",
              "    .dataframe thead th {\n",
              "        text-align: right;\n",
              "    }\n",
              "</style>\n",
              "<table border=\"1\" class=\"dataframe\">\n",
              "  <thead>\n",
              "    <tr style=\"text-align: right;\">\n",
              "      <th></th>\n",
              "      <th>Plaintext</th>\n",
              "      <th>Ciphertext</th>\n",
              "    </tr>\n",
              "  </thead>\n",
              "  <tbody>\n",
              "    <tr>\n",
              "      <th>0</th>\n",
              "      <td>R</td>\n",
              "      <td>W</td>\n",
              "    </tr>\n",
              "    <tr>\n",
              "      <th>1</th>\n",
              "      <td>Q</td>\n",
              "      <td>V</td>\n",
              "    </tr>\n",
              "    <tr>\n",
              "      <th>2</th>\n",
              "      <td>J</td>\n",
              "      <td>O</td>\n",
              "    </tr>\n",
              "    <tr>\n",
              "      <th>3</th>\n",
              "      <td>D</td>\n",
              "      <td>I</td>\n",
              "    </tr>\n",
              "    <tr>\n",
              "      <th>4</th>\n",
              "      <td>P</td>\n",
              "      <td>U</td>\n",
              "    </tr>\n",
              "    <tr>\n",
              "      <th>5</th>\n",
              "      <td>Q</td>\n",
              "      <td>V</td>\n",
              "    </tr>\n",
              "    <tr>\n",
              "      <th>6</th>\n",
              "      <td>E</td>\n",
              "      <td>J</td>\n",
              "    </tr>\n",
              "    <tr>\n",
              "      <th>7</th>\n",
              "      <td>F</td>\n",
              "      <td>K</td>\n",
              "    </tr>\n",
              "    <tr>\n",
              "      <th>8</th>\n",
              "      <td>T</td>\n",
              "      <td>S</td>\n",
              "    </tr>\n",
              "    <tr>\n",
              "      <th>9</th>\n",
              "      <td>L</td>\n",
              "      <td>K</td>\n",
              "    </tr>\n",
              "    <tr>\n",
              "      <th>10</th>\n",
              "      <td>H</td>\n",
              "      <td>G</td>\n",
              "    </tr>\n",
              "    <tr>\n",
              "      <th>11</th>\n",
              "      <td>D</td>\n",
              "      <td>C</td>\n",
              "    </tr>\n",
              "    <tr>\n",
              "      <th>12</th>\n",
              "      <td>G</td>\n",
              "      <td>F</td>\n",
              "    </tr>\n",
              "    <tr>\n",
              "      <th>13</th>\n",
              "      <td>U</td>\n",
              "      <td>T</td>\n",
              "    </tr>\n",
              "    <tr>\n",
              "      <th>14</th>\n",
              "      <td>Q</td>\n",
              "      <td>P</td>\n",
              "    </tr>\n",
              "  </tbody>\n",
              "</table>\n",
              "</div>"
            ],
            "text/plain": [
              "   Plaintext Ciphertext\n",
              "0          R          W\n",
              "1          Q          V\n",
              "2          J          O\n",
              "3          D          I\n",
              "4          P          U\n",
              "5          Q          V\n",
              "6          E          J\n",
              "7          F          K\n",
              "8          T          S\n",
              "9          L          K\n",
              "10         H          G\n",
              "11         D          C\n",
              "12         G          F\n",
              "13         U          T\n",
              "14         Q          P"
            ]
          },
          "metadata": {
            "tags": []
          },
          "execution_count": 9
        }
      ]
    },
    {
      "cell_type": "code",
      "metadata": {
        "id": "zKfKX-VyQNFj",
        "outputId": "ccbc0a34-b576-4d53-ff15-fba34a1561dc",
        "colab": {
          "base_uri": "https://localhost:8080/",
          "height": 402
        }
      },
      "source": [
        "Data[Data[\"Ciphertext\"] == 'A']"
      ],
      "execution_count": 10,
      "outputs": [
        {
          "output_type": "execute_result",
          "data": {
            "text/html": [
              "<div>\n",
              "<style scoped>\n",
              "    .dataframe tbody tr th:only-of-type {\n",
              "        vertical-align: middle;\n",
              "    }\n",
              "\n",
              "    .dataframe tbody tr th {\n",
              "        vertical-align: top;\n",
              "    }\n",
              "\n",
              "    .dataframe thead th {\n",
              "        text-align: right;\n",
              "    }\n",
              "</style>\n",
              "<table border=\"1\" class=\"dataframe\">\n",
              "  <thead>\n",
              "    <tr style=\"text-align: right;\">\n",
              "      <th></th>\n",
              "      <th>Plaintext</th>\n",
              "      <th>Ciphertext</th>\n",
              "    </tr>\n",
              "  </thead>\n",
              "  <tbody>\n",
              "    <tr>\n",
              "      <th>21</th>\n",
              "      <td>U</td>\n",
              "      <td>A</td>\n",
              "    </tr>\n",
              "    <tr>\n",
              "      <th>31</th>\n",
              "      <td>L</td>\n",
              "      <td>A</td>\n",
              "    </tr>\n",
              "    <tr>\n",
              "      <th>32</th>\n",
              "      <td>T</td>\n",
              "      <td>A</td>\n",
              "    </tr>\n",
              "    <tr>\n",
              "      <th>53</th>\n",
              "      <td>X</td>\n",
              "      <td>A</td>\n",
              "    </tr>\n",
              "    <tr>\n",
              "      <th>69</th>\n",
              "      <td>Y</td>\n",
              "      <td>A</td>\n",
              "    </tr>\n",
              "    <tr>\n",
              "      <th>179</th>\n",
              "      <td>Z</td>\n",
              "      <td>A</td>\n",
              "    </tr>\n",
              "    <tr>\n",
              "      <th>194</th>\n",
              "      <td>K</td>\n",
              "      <td>A</td>\n",
              "    </tr>\n",
              "    <tr>\n",
              "      <th>211</th>\n",
              "      <td>C</td>\n",
              "      <td>A</td>\n",
              "    </tr>\n",
              "    <tr>\n",
              "      <th>213</th>\n",
              "      <td>C</td>\n",
              "      <td>A</td>\n",
              "    </tr>\n",
              "    <tr>\n",
              "      <th>244</th>\n",
              "      <td>G</td>\n",
              "      <td>A</td>\n",
              "    </tr>\n",
              "    <tr>\n",
              "      <th>311</th>\n",
              "      <td>N</td>\n",
              "      <td>A</td>\n",
              "    </tr>\n",
              "    <tr>\n",
              "      <th>343</th>\n",
              "      <td>U</td>\n",
              "      <td>A</td>\n",
              "    </tr>\n",
              "  </tbody>\n",
              "</table>\n",
              "</div>"
            ],
            "text/plain": [
              "    Plaintext Ciphertext\n",
              "21          U          A\n",
              "31          L          A\n",
              "32          T          A\n",
              "53          X          A\n",
              "69          Y          A\n",
              "179         Z          A\n",
              "194         K          A\n",
              "211         C          A\n",
              "213         C          A\n",
              "244         G          A\n",
              "311         N          A\n",
              "343         U          A"
            ]
          },
          "metadata": {
            "tags": []
          },
          "execution_count": 10
        }
      ]
    },
    {
      "cell_type": "markdown",
      "metadata": {
        "id": "vvXVWN1ZNxtL"
      },
      "source": [
        "## Data Preprocessing"
      ]
    },
    {
      "cell_type": "markdown",
      "metadata": {
        "id": "WalLImZXNxtN"
      },
      "source": [
        "### Encoding"
      ]
    },
    {
      "cell_type": "code",
      "metadata": {
        "id": "zSKr6pQjNxtO",
        "outputId": "8722ea9d-514b-4752-9857-18b7467141af",
        "colab": {
          "base_uri": "https://localhost:8080/"
        }
      },
      "source": [
        "plaintext=LabelEncoder().fit_transform(plaintext).reshape(-1, 1)\n",
        "ciphertext=LabelEncoder().fit_transform(ciphertext).reshape(-1, 1)\n",
        "X=OneHotEncoder().fit_transform(plaintext).toarray()\n",
        "Y=OneHotEncoder().fit_transform(ciphertext).toarray()\n",
        "print(X)\n",
        "print(Y)"
      ],
      "execution_count": 11,
      "outputs": [
        {
          "output_type": "stream",
          "text": [
            "[[0. 0. 0. ... 0. 0. 0.]\n",
            " [0. 0. 0. ... 0. 0. 0.]\n",
            " [0. 0. 0. ... 0. 0. 0.]\n",
            " ...\n",
            " [0. 0. 0. ... 0. 0. 0.]\n",
            " [0. 0. 0. ... 0. 0. 0.]\n",
            " [0. 0. 0. ... 0. 0. 0.]]\n",
            "[[0. 0. 0. ... 0. 0. 0.]\n",
            " [0. 0. 0. ... 0. 0. 0.]\n",
            " [0. 0. 0. ... 0. 0. 0.]\n",
            " ...\n",
            " [0. 0. 0. ... 0. 1. 0.]\n",
            " [0. 0. 0. ... 0. 0. 0.]\n",
            " [0. 0. 0. ... 0. 0. 0.]]\n"
          ],
          "name": "stdout"
        }
      ]
    },
    {
      "cell_type": "markdown",
      "metadata": {
        "id": "A4tXClb0NxtV"
      },
      "source": [
        "### Splitting the Dataset - Decryption"
      ]
    },
    {
      "cell_type": "code",
      "metadata": {
        "id": "gRvFFiAoNxtX",
        "outputId": "41a7f72f-b704-44b2-997c-640d0a4126a8",
        "colab": {
          "base_uri": "https://localhost:8080/"
        }
      },
      "source": [
        "from sklearn.model_selection import train_test_split\n",
        "X_train,X_test,Y_train,Y_test=train_test_split(Y,X,test_size=0.2,random_state=0)\n",
        "print(X_train.shape)"
      ],
      "execution_count": 12,
      "outputs": [
        {
          "output_type": "stream",
          "text": [
            "(320, 26)\n"
          ],
          "name": "stdout"
        }
      ]
    },
    {
      "cell_type": "markdown",
      "metadata": {
        "id": "3gZG99DQNxth"
      },
      "source": [
        "## Training the Shallow Neural Network"
      ]
    },
    {
      "cell_type": "code",
      "metadata": {
        "id": "oPhmyWHANxtj",
        "outputId": "2bd9ca08-2811-4529-dc4b-69fd6d5d2c07",
        "colab": {
          "base_uri": "https://localhost:8080/"
        }
      },
      "source": [
        "model_CC_P= models.Sequential()\n",
        "model_CC_P.add(layers.Dense(26, activation='relu',input_shape=(26,)))\n",
        "model_CC_P.add(layers.Dense(39, activation='relu'))\n",
        "model_CC_P.add(layers.Dense(26, activation='softmax'))\n",
        "model_CC_P.summary()"
      ],
      "execution_count": 13,
      "outputs": [
        {
          "output_type": "stream",
          "text": [
            "Model: \"sequential\"\n",
            "_________________________________________________________________\n",
            "Layer (type)                 Output Shape              Param #   \n",
            "=================================================================\n",
            "dense (Dense)                (None, 26)                702       \n",
            "_________________________________________________________________\n",
            "dense_1 (Dense)              (None, 39)                1053      \n",
            "_________________________________________________________________\n",
            "dense_2 (Dense)              (None, 26)                1040      \n",
            "=================================================================\n",
            "Total params: 2,795\n",
            "Trainable params: 2,795\n",
            "Non-trainable params: 0\n",
            "_________________________________________________________________\n"
          ],
          "name": "stdout"
        }
      ]
    },
    {
      "cell_type": "code",
      "metadata": {
        "id": "ZUFrUuLDNxtq"
      },
      "source": [
        "EarlyStopping=tf.keras.callbacks.EarlyStopping(monitor='val_loss', patience=10, verbose=1, mode='min',restore_best_weights=True)"
      ],
      "execution_count": 14,
      "outputs": []
    },
    {
      "cell_type": "code",
      "metadata": {
        "id": "kQUeq_A7Nxtx"
      },
      "source": [
        "model_CC_P.compile(loss='categorical_crossentropy',\n",
        "              optimizer=tf.keras.optimizers.RMSprop(learning_rate=0.0001, decay=1e-6),\n",
        "              metrics=['accuracy'])"
      ],
      "execution_count": 15,
      "outputs": []
    },
    {
      "cell_type": "code",
      "metadata": {
        "id": "FzBaxcWXNxt3",
        "outputId": "f3a2ef4b-6657-4de2-fed9-2ae182a5fc96",
        "colab": {
          "base_uri": "https://localhost:8080/"
        }
      },
      "source": [
        "model_CC_P.fit(x=X_train,y=Y_train,epochs=1000,batch_size=10,validation_split=0.1,callbacks=EarlyStopping)"
      ],
      "execution_count": 16,
      "outputs": [
        {
          "output_type": "stream",
          "text": [
            "Epoch 1/1000\n",
            "29/29 [==============================] - 0s 8ms/step - loss: 3.2657 - accuracy: 0.0382 - val_loss: 3.2910 - val_accuracy: 0.0000e+00\n",
            "Epoch 2/1000\n",
            "29/29 [==============================] - 0s 3ms/step - loss: 3.2638 - accuracy: 0.0417 - val_loss: 3.2906 - val_accuracy: 0.0000e+00\n",
            "Epoch 3/1000\n",
            "29/29 [==============================] - 0s 3ms/step - loss: 3.2623 - accuracy: 0.0417 - val_loss: 3.2902 - val_accuracy: 0.0000e+00\n",
            "Epoch 4/1000\n",
            "29/29 [==============================] - 0s 3ms/step - loss: 3.2609 - accuracy: 0.0486 - val_loss: 3.2898 - val_accuracy: 0.0000e+00\n",
            "Epoch 5/1000\n",
            "29/29 [==============================] - 0s 3ms/step - loss: 3.2594 - accuracy: 0.0486 - val_loss: 3.2896 - val_accuracy: 0.0000e+00\n",
            "Epoch 6/1000\n",
            "29/29 [==============================] - 0s 3ms/step - loss: 3.2580 - accuracy: 0.0451 - val_loss: 3.2894 - val_accuracy: 0.0000e+00\n",
            "Epoch 7/1000\n",
            "29/29 [==============================] - 0s 4ms/step - loss: 3.2566 - accuracy: 0.0451 - val_loss: 3.2891 - val_accuracy: 0.0312\n",
            "Epoch 8/1000\n",
            "29/29 [==============================] - 0s 3ms/step - loss: 3.2552 - accuracy: 0.0417 - val_loss: 3.2890 - val_accuracy: 0.0312\n",
            "Epoch 9/1000\n",
            "29/29 [==============================] - 0s 3ms/step - loss: 3.2538 - accuracy: 0.0417 - val_loss: 3.2889 - val_accuracy: 0.0312\n",
            "Epoch 10/1000\n",
            "29/29 [==============================] - 0s 3ms/step - loss: 3.2524 - accuracy: 0.0521 - val_loss: 3.2888 - val_accuracy: 0.0312\n",
            "Epoch 11/1000\n",
            "29/29 [==============================] - 0s 3ms/step - loss: 3.2510 - accuracy: 0.0556 - val_loss: 3.2887 - val_accuracy: 0.0312\n",
            "Epoch 12/1000\n",
            "29/29 [==============================] - 0s 3ms/step - loss: 3.2497 - accuracy: 0.0660 - val_loss: 3.2886 - val_accuracy: 0.0312\n",
            "Epoch 13/1000\n",
            "29/29 [==============================] - 0s 3ms/step - loss: 3.2483 - accuracy: 0.0694 - val_loss: 3.2885 - val_accuracy: 0.0312\n",
            "Epoch 14/1000\n",
            "29/29 [==============================] - 0s 3ms/step - loss: 3.2470 - accuracy: 0.0694 - val_loss: 3.2885 - val_accuracy: 0.0312\n",
            "Epoch 15/1000\n",
            "29/29 [==============================] - 0s 3ms/step - loss: 3.2457 - accuracy: 0.0729 - val_loss: 3.2884 - val_accuracy: 0.0312\n",
            "Epoch 16/1000\n",
            "29/29 [==============================] - 0s 3ms/step - loss: 3.2444 - accuracy: 0.0660 - val_loss: 3.2884 - val_accuracy: 0.0312\n",
            "Epoch 17/1000\n",
            "29/29 [==============================] - 0s 3ms/step - loss: 3.2432 - accuracy: 0.0694 - val_loss: 3.2883 - val_accuracy: 0.0000e+00\n",
            "Epoch 18/1000\n",
            "29/29 [==============================] - 0s 3ms/step - loss: 3.2418 - accuracy: 0.0799 - val_loss: 3.2884 - val_accuracy: 0.0000e+00\n",
            "Epoch 19/1000\n",
            "29/29 [==============================] - 0s 3ms/step - loss: 3.2406 - accuracy: 0.0833 - val_loss: 3.2885 - val_accuracy: 0.0000e+00\n",
            "Epoch 20/1000\n",
            "29/29 [==============================] - 0s 3ms/step - loss: 3.2393 - accuracy: 0.0833 - val_loss: 3.2885 - val_accuracy: 0.0000e+00\n",
            "Epoch 21/1000\n",
            "29/29 [==============================] - 0s 3ms/step - loss: 3.2380 - accuracy: 0.0833 - val_loss: 3.2885 - val_accuracy: 0.0000e+00\n",
            "Epoch 22/1000\n",
            "29/29 [==============================] - 0s 3ms/step - loss: 3.2367 - accuracy: 0.0833 - val_loss: 3.2884 - val_accuracy: 0.0000e+00\n",
            "Epoch 23/1000\n",
            "29/29 [==============================] - 0s 3ms/step - loss: 3.2355 - accuracy: 0.0833 - val_loss: 3.2884 - val_accuracy: 0.0000e+00\n",
            "Epoch 24/1000\n",
            "29/29 [==============================] - 0s 3ms/step - loss: 3.2342 - accuracy: 0.0833 - val_loss: 3.2884 - val_accuracy: 0.0000e+00\n",
            "Epoch 25/1000\n",
            "29/29 [==============================] - 0s 3ms/step - loss: 3.2330 - accuracy: 0.0833 - val_loss: 3.2885 - val_accuracy: 0.0000e+00\n",
            "Epoch 26/1000\n",
            "29/29 [==============================] - 0s 3ms/step - loss: 3.2317 - accuracy: 0.0903 - val_loss: 3.2885 - val_accuracy: 0.0000e+00\n",
            "Epoch 27/1000\n",
            "18/29 [=================>............] - ETA: 0s - loss: 3.2362 - accuracy: 0.0944Restoring model weights from the end of the best epoch.\n",
            "29/29 [==============================] - 0s 4ms/step - loss: 3.2304 - accuracy: 0.0903 - val_loss: 3.2886 - val_accuracy: 0.0000e+00\n",
            "Epoch 00027: early stopping\n"
          ],
          "name": "stdout"
        },
        {
          "output_type": "execute_result",
          "data": {
            "text/plain": [
              "<tensorflow.python.keras.callbacks.History at 0x7f30b00cab38>"
            ]
          },
          "metadata": {
            "tags": []
          },
          "execution_count": 16
        }
      ]
    },
    {
      "cell_type": "code",
      "metadata": {
        "id": "SaxN62W7Nxt_"
      },
      "source": [
        "History = model_CC_P.history"
      ],
      "execution_count": 17,
      "outputs": []
    },
    {
      "cell_type": "code",
      "metadata": {
        "id": "SRJBcGTQNxuM",
        "outputId": "f3a504b7-a064-4ed7-a220-bc9b9733c19c",
        "colab": {
          "base_uri": "https://localhost:8080/",
          "height": 295
        }
      },
      "source": [
        "plt.plot(History.history['accuracy'])\n",
        "plt.title('Accuracy VS Epoch')\n",
        "plt.ylabel('Accuracy')\n",
        "plt.xlabel('Epoch')\n",
        "plt.legend(['Train'], loc='lower right')\n",
        "plt.show()"
      ],
      "execution_count": 18,
      "outputs": [
        {
          "output_type": "display_data",
          "data": {
            "image/png": "[encoded data removed]",
            "text/plain": [
              "<Figure size 432x288 with 1 Axes>"
            ]
          },
          "metadata": {
            "tags": [],
            "needs_background": "light"
          }
        }
      ]
    },
    {
      "cell_type": "code",
      "metadata": {
        "id": "WFxtW0PENxuV",
        "outputId": "180df15e-0b8a-4206-bcbf-93af57c4189a",
        "colab": {
          "base_uri": "https://localhost:8080/",
          "height": 295
        }
      },
      "source": [
        "plt.plot(History.history['loss'])\n",
        "plt.title('Loss VS Epoch')\n",
        "plt.ylabel('Loss')\n",
        "plt.xlabel('Epoch')\n",
        "plt.legend(['Train'], loc='lower right')\n",
        "plt.show()"
      ],
      "execution_count": 19,
      "outputs": [
        {
          "output_type": "display_data",
          "data": {
            "image/png": "[encoded data removed]",
            "text/plain": [
              "<Figure size 432x288 with 1 Axes>"
            ]
          },
          "metadata": {
            "tags": [],
            "needs_background": "light"
          }
        }
      ]
    },
    {
      "cell_type": "markdown",
      "metadata": {
        "id": "azj1CeLHNxuc"
      },
      "source": [
        "## Testing the Shallow Neural Network"
      ]
    },
    {
      "cell_type": "code",
      "metadata": {
        "id": "hsnZCtuRNxue",
        "outputId": "dba4f201-692f-415a-9509-f5a5db67f6e7",
        "colab": {
          "base_uri": "https://localhost:8080/"
        }
      },
      "source": [
        "Loss,Accuracy=model_CC_P.evaluate(X_test,Y_test,verbose=1)\n",
        "print('Accuracy: ',Accuracy)\n",
        "print('Loss: ',Loss)"
      ],
      "execution_count": 20,
      "outputs": [
        {
          "output_type": "stream",
          "text": [
            "3/3 [==============================] - 0s 2ms/step - loss: 3.2852 - accuracy: 0.0375\n",
            "Accuracy:  0.03750000149011612\n",
            "Loss:  3.285165309906006\n"
          ],
          "name": "stdout"
        }
      ]
    },
    {
      "cell_type": "markdown",
      "metadata": {
        "id": "DdWyDkCaNxui"
      },
      "source": [
        "## Save the Model"
      ]
    },
    {
      "cell_type": "code",
      "metadata": {
        "id": "pZoXc9VDNxuk"
      },
      "source": [
        "Name='Model 4.3 - VK CC 39'"
      ],
      "execution_count": 21,
      "outputs": []
    },
    {
      "cell_type": "code",
      "metadata": {
        "id": "sTQ6co0JNxuo"
      },
      "source": [
        "Name=Name + ' - ' + str(datetime.datetime.now()) + '.h5'\n",
        "model_CC_P.save('/content/drive/My Drive/AI Breaks Cryptography/Models/'+Name)"
      ],
      "execution_count": 22,
      "outputs": []
    },
    {
      "cell_type": "markdown",
      "metadata": {
        "id": "GTuei6saNxur"
      },
      "source": [
        "## Decoding function"
      ]
    },
    {
      "cell_type": "code",
      "metadata": {
        "id": "QhOxwvm8Nxus",
        "outputId": "57ad470c-3232-403e-b207-0d302dae9a6f",
        "colab": {
          "base_uri": "https://localhost:8080/"
        }
      },
      "source": [
        "Categories=[i for i in CHOICES]\n",
        "Label_Encoding=LabelEncoder().fit_transform(Categories).reshape(-1,1)\n",
        "One_Hot_Encoding=OneHotEncoder().fit_transform(Label_Encoding).toarray()\n",
        "Categories_Dictionary={Categories[i]:One_Hot_Encoding[i] for i in range(len(Categories))}\n",
        "Categories_Dictionary_Reverse={tuple(One_Hot_Encoding[i]):Categories[i] for i in range(len(Categories))}\n",
        "print(Categories_Dictionary)\n",
        "print(Categories_Dictionary_Reverse)"
      ],
      "execution_count": 23,
      "outputs": [
        {
          "output_type": "stream",
          "text": [
            "{'A': array([1., 0., 0., 0., 0., 0., 0., 0., 0., 0., 0., 0., 0., 0., 0., 0., 0.,\n",
            "       0., 0., 0., 0., 0., 0., 0., 0., 0.]), 'B': array([0., 1., 0., 0., 0., 0., 0., 0., 0., 0., 0., 0., 0., 0., 0., 0., 0.,\n",
            "       0., 0., 0., 0., 0., 0., 0., 0., 0.]), 'C': array([0., 0., 1., 0., 0., 0., 0., 0., 0., 0., 0., 0., 0., 0., 0., 0., 0.,\n",
            "       0., 0., 0., 0., 0., 0., 0., 0., 0.]), 'D': array([0., 0., 0., 1., 0., 0., 0., 0., 0., 0., 0., 0., 0., 0., 0., 0., 0.,\n",
            "       0., 0., 0., 0., 0., 0., 0., 0., 0.]), 'E': array([0., 0., 0., 0., 1., 0., 0., 0., 0., 0., 0., 0., 0., 0., 0., 0., 0.,\n",
            "       0., 0., 0., 0., 0., 0., 0., 0., 0.]), 'F': array([0., 0., 0., 0., 0., 1., 0., 0., 0., 0., 0., 0., 0., 0., 0., 0., 0.,\n",
            "       0., 0., 0., 0., 0., 0., 0., 0., 0.]), 'G': array([0., 0., 0., 0., 0., 0., 1., 0., 0., 0., 0., 0., 0., 0., 0., 0., 0.,\n",
            "       0., 0., 0., 0., 0., 0., 0., 0., 0.]), 'H': array([0., 0., 0., 0., 0., 0., 0., 1., 0., 0., 0., 0., 0., 0., 0., 0., 0.,\n",
            "       0., 0., 0., 0., 0., 0., 0., 0., 0.]), 'I': array([0., 0., 0., 0., 0., 0., 0., 0., 1., 0., 0., 0., 0., 0., 0., 0., 0.,\n",
            "       0., 0., 0., 0., 0., 0., 0., 0., 0.]), 'J': array([0., 0., 0., 0., 0., 0., 0., 0., 0., 1., 0., 0., 0., 0., 0., 0., 0.,\n",
            "       0., 0., 0., 0., 0., 0., 0., 0., 0.]), 'K': array([0., 0., 0., 0., 0., 0., 0., 0., 0., 0., 1., 0., 0., 0., 0., 0., 0.,\n",
            "       0., 0., 0., 0., 0., 0., 0., 0., 0.]), 'L': array([0., 0., 0., 0., 0., 0., 0., 0., 0., 0., 0., 1., 0., 0., 0., 0., 0.,\n",
            "       0., 0., 0., 0., 0., 0., 0., 0., 0.]), 'M': array([0., 0., 0., 0., 0., 0., 0., 0., 0., 0., 0., 0., 1., 0., 0., 0., 0.,\n",
            "       0., 0., 0., 0., 0., 0., 0., 0., 0.]), 'N': array([0., 0., 0., 0., 0., 0., 0., 0., 0., 0., 0., 0., 0., 1., 0., 0., 0.,\n",
            "       0., 0., 0., 0., 0., 0., 0., 0., 0.]), 'O': array([0., 0., 0., 0., 0., 0., 0., 0., 0., 0., 0., 0., 0., 0., 1., 0., 0.,\n",
            "       0., 0., 0., 0., 0., 0., 0., 0., 0.]), 'P': array([0., 0., 0., 0., 0., 0., 0., 0., 0., 0., 0., 0., 0., 0., 0., 1., 0.,\n",
            "       0., 0., 0., 0., 0., 0., 0., 0., 0.]), 'Q': array([0., 0., 0., 0., 0., 0., 0., 0., 0., 0., 0., 0., 0., 0., 0., 0., 1.,\n",
            "       0., 0., 0., 0., 0., 0., 0., 0., 0.]), 'R': array([0., 0., 0., 0., 0., 0., 0., 0., 0., 0., 0., 0., 0., 0., 0., 0., 0.,\n",
            "       1., 0., 0., 0., 0., 0., 0., 0., 0.]), 'S': array([0., 0., 0., 0., 0., 0., 0., 0., 0., 0., 0., 0., 0., 0., 0., 0., 0.,\n",
            "       0., 1., 0., 0., 0., 0., 0., 0., 0.]), 'T': array([0., 0., 0., 0., 0., 0., 0., 0., 0., 0., 0., 0., 0., 0., 0., 0., 0.,\n",
            "       0., 0., 1., 0., 0., 0., 0., 0., 0.]), 'U': array([0., 0., 0., 0., 0., 0., 0., 0., 0., 0., 0., 0., 0., 0., 0., 0., 0.,\n",
            "       0., 0., 0., 1., 0., 0., 0., 0., 0.]), 'V': array([0., 0., 0., 0., 0., 0., 0., 0., 0., 0., 0., 0., 0., 0., 0., 0., 0.,\n",
            "       0., 0., 0., 0., 1., 0., 0., 0., 0.]), 'W': array([0., 0., 0., 0., 0., 0., 0., 0., 0., 0., 0., 0., 0., 0., 0., 0., 0.,\n",
            "       0., 0., 0., 0., 0., 1., 0., 0., 0.]), 'X': array([0., 0., 0., 0., 0., 0., 0., 0., 0., 0., 0., 0., 0., 0., 0., 0., 0.,\n",
            "       0., 0., 0., 0., 0., 0., 1., 0., 0.]), 'Y': array([0., 0., 0., 0., 0., 0., 0., 0., 0., 0., 0., 0., 0., 0., 0., 0., 0.,\n",
            "       0., 0., 0., 0., 0., 0., 0., 1., 0.]), 'Z': array([0., 0., 0., 0., 0., 0., 0., 0., 0., 0., 0., 0., 0., 0., 0., 0., 0.,\n",
            "       0., 0., 0., 0., 0., 0., 0., 0., 1.])}\n",
            "{(1.0, 0.0, 0.0, 0.0, 0.0, 0.0, 0.0, 0.0, 0.0, 0.0, 0.0, 0.0, 0.0, 0.0, 0.0, 0.0, 0.0, 0.0, 0.0, 0.0, 0.0, 0.0, 0.0, 0.0, 0.0, 0.0): 'A', (0.0, 1.0, 0.0, 0.0, 0.0, 0.0, 0.0, 0.0, 0.0, 0.0, 0.0, 0.0, 0.0, 0.0, 0.0, 0.0, 0.0, 0.0, 0.0, 0.0, 0.0, 0.0, 0.0, 0.0, 0.0, 0.0): 'B', (0.0, 0.0, 1.0, 0.0, 0.0, 0.0, 0.0, 0.0, 0.0, 0.0, 0.0, 0.0, 0.0, 0.0, 0.0, 0.0, 0.0, 0.0, 0.0, 0.0, 0.0, 0.0, 0.0, 0.0, 0.0, 0.0): 'C', (0.0, 0.0, 0.0, 1.0, 0.0, 0.0, 0.0, 0.0, 0.0, 0.0, 0.0, 0.0, 0.0, 0.0, 0.0, 0.0, 0.0, 0.0, 0.0, 0.0, 0.0, 0.0, 0.0, 0.0, 0.0, 0.0): 'D', (0.0, 0.0, 0.0, 0.0, 1.0, 0.0, 0.0, 0.0, 0.0, 0.0, 0.0, 0.0, 0.0, 0.0, 0.0, 0.0, 0.0, 0.0, 0.0, 0.0, 0.0, 0.0, 0.0, 0.0, 0.0, 0.0): 'E', (0.0, 0.0, 0.0, 0.0, 0.0, 1.0, 0.0, 0.0, 0.0, 0.0, 0.0, 0.0, 0.0, 0.0, 0.0, 0.0, 0.0, 0.0, 0.0, 0.0, 0.0, 0.0, 0.0, 0.0, 0.0, 0.0): 'F', (0.0, 0.0, 0.0, 0.0, 0.0, 0.0, 1.0, 0.0, 0.0, 0.0, 0.0, 0.0, 0.0, 0.0, 0.0, 0.0, 0.0, 0.0, 0.0, 0.0, 0.0, 0.0, 0.0, 0.0, 0.0, 0.0): 'G', (0.0, 0.0, 0.0, 0.0, 0.0, 0.0, 0.0, 1.0, 0.0, 0.0, 0.0, 0.0, 0.0, 0.0, 0.0, 0.0, 0.0, 0.0, 0.0, 0.0, 0.0, 0.0, 0.0, 0.0, 0.0, 0.0): 'H', (0.0, 0.0, 0.0, 0.0, 0.0, 0.0, 0.0, 0.0, 1.0, 0.0, 0.0, 0.0, 0.0, 0.0, 0.0, 0.0, 0.0, 0.0, 0.0, 0.0, 0.0, 0.0, 0.0, 0.0, 0.0, 0.0): 'I', (0.0, 0.0, 0.0, 0.0, 0.0, 0.0, 0.0, 0.0, 0.0, 1.0, 0.0, 0.0, 0.0, 0.0, 0.0, 0.0, 0.0, 0.0, 0.0, 0.0, 0.0, 0.0, 0.0, 0.0, 0.0, 0.0): 'J', (0.0, 0.0, 0.0, 0.0, 0.0, 0.0, 0.0, 0.0, 0.0, 0.0, 1.0, 0.0, 0.0, 0.0, 0.0, 0.0, 0.0, 0.0, 0.0, 0.0, 0.0, 0.0, 0.0, 0.0, 0.0, 0.0): 'K', (0.0, 0.0, 0.0, 0.0, 0.0, 0.0, 0.0, 0.0, 0.0, 0.0, 0.0, 1.0, 0.0, 0.0, 0.0, 0.0, 0.0, 0.0, 0.0, 0.0, 0.0, 0.0, 0.0, 0.0, 0.0, 0.0): 'L', (0.0, 0.0, 0.0, 0.0, 0.0, 0.0, 0.0, 0.0, 0.0, 0.0, 0.0, 0.0, 1.0, 0.0, 0.0, 0.0, 0.0, 0.0, 0.0, 0.0, 0.0, 0.0, 0.0, 0.0, 0.0, 0.0): 'M', (0.0, 0.0, 0.0, 0.0, 0.0, 0.0, 0.0, 0.0, 0.0, 0.0, 0.0, 0.0, 0.0, 1.0, 0.0, 0.0, 0.0, 0.0, 0.0, 0.0, 0.0, 0.0, 0.0, 0.0, 0.0, 0.0): 'N', (0.0, 0.0, 0.0, 0.0, 0.0, 0.0, 0.0, 0.0, 0.0, 0.0, 0.0, 0.0, 0.0, 0.0, 1.0, 0.0, 0.0, 0.0, 0.0, 0.0, 0.0, 0.0, 0.0, 0.0, 0.0, 0.0): 'O', (0.0, 0.0, 0.0, 0.0, 0.0, 0.0, 0.0, 0.0, 0.0, 0.0, 0.0, 0.0, 0.0, 0.0, 0.0, 1.0, 0.0, 0.0, 0.0, 0.0, 0.0, 0.0, 0.0, 0.0, 0.0, 0.0): 'P', (0.0, 0.0, 0.0, 0.0, 0.0, 0.0, 0.0, 0.0, 0.0, 0.0, 0.0, 0.0, 0.0, 0.0, 0.0, 0.0, 1.0, 0.0, 0.0, 0.0, 0.0, 0.0, 0.0, 0.0, 0.0, 0.0): 'Q', (0.0, 0.0, 0.0, 0.0, 0.0, 0.0, 0.0, 0.0, 0.0, 0.0, 0.0, 0.0, 0.0, 0.0, 0.0, 0.0, 0.0, 1.0, 0.0, 0.0, 0.0, 0.0, 0.0, 0.0, 0.0, 0.0): 'R', (0.0, 0.0, 0.0, 0.0, 0.0, 0.0, 0.0, 0.0, 0.0, 0.0, 0.0, 0.0, 0.0, 0.0, 0.0, 0.0, 0.0, 0.0, 1.0, 0.0, 0.0, 0.0, 0.0, 0.0, 0.0, 0.0): 'S', (0.0, 0.0, 0.0, 0.0, 0.0, 0.0, 0.0, 0.0, 0.0, 0.0, 0.0, 0.0, 0.0, 0.0, 0.0, 0.0, 0.0, 0.0, 0.0, 1.0, 0.0, 0.0, 0.0, 0.0, 0.0, 0.0): 'T', (0.0, 0.0, 0.0, 0.0, 0.0, 0.0, 0.0, 0.0, 0.0, 0.0, 0.0, 0.0, 0.0, 0.0, 0.0, 0.0, 0.0, 0.0, 0.0, 0.0, 1.0, 0.0, 0.0, 0.0, 0.0, 0.0): 'U', (0.0, 0.0, 0.0, 0.0, 0.0, 0.0, 0.0, 0.0, 0.0, 0.0, 0.0, 0.0, 0.0, 0.0, 0.0, 0.0, 0.0, 0.0, 0.0, 0.0, 0.0, 1.0, 0.0, 0.0, 0.0, 0.0): 'V', (0.0, 0.0, 0.0, 0.0, 0.0, 0.0, 0.0, 0.0, 0.0, 0.0, 0.0, 0.0, 0.0, 0.0, 0.0, 0.0, 0.0, 0.0, 0.0, 0.0, 0.0, 0.0, 1.0, 0.0, 0.0, 0.0): 'W', (0.0, 0.0, 0.0, 0.0, 0.0, 0.0, 0.0, 0.0, 0.0, 0.0, 0.0, 0.0, 0.0, 0.0, 0.0, 0.0, 0.0, 0.0, 0.0, 0.0, 0.0, 0.0, 0.0, 1.0, 0.0, 0.0): 'X', (0.0, 0.0, 0.0, 0.0, 0.0, 0.0, 0.0, 0.0, 0.0, 0.0, 0.0, 0.0, 0.0, 0.0, 0.0, 0.0, 0.0, 0.0, 0.0, 0.0, 0.0, 0.0, 0.0, 0.0, 1.0, 0.0): 'Y', (0.0, 0.0, 0.0, 0.0, 0.0, 0.0, 0.0, 0.0, 0.0, 0.0, 0.0, 0.0, 0.0, 0.0, 0.0, 0.0, 0.0, 0.0, 0.0, 0.0, 0.0, 0.0, 0.0, 0.0, 0.0, 1.0): 'Z'}\n"
          ],
          "name": "stdout"
        }
      ]
    },
    {
      "cell_type": "code",
      "metadata": {
        "id": "w6rOYBNANxuv"
      },
      "source": [
        "def Decode(character,Categories_Dictionary_Reverse=Categories_Dictionary_Reverse):\n",
        "  #print(np.array(Categories_Dictionary[character]).shape)\n",
        "  prediction=model_CC_P.predict(np.array(Categories_Dictionary[character]).reshape(1,26))\n",
        "  prediction=prediction>=prediction.max()\n",
        "  #print(prediction)\n",
        "  temp=[0.0 for i in range(26)]\n",
        "  for i in range(len(prediction[0])):\n",
        "    if prediction[0][i]==True:\n",
        "      temp[i]=1\n",
        "  return Categories_Dictionary_Reverse[tuple(temp)]"
      ],
      "execution_count": 24,
      "outputs": []
    },
    {
      "cell_type": "code",
      "metadata": {
        "id": "NHWSIbmgNxuz",
        "outputId": "8057cf9c-8ac2-4d63-ccfa-a95261d7c9b4",
        "colab": {
          "base_uri": "https://localhost:8080/"
        }
      },
      "source": [
        "character='G'\n",
        "print(character)\n",
        "print(Decode(character))"
      ],
      "execution_count": 25,
      "outputs": [
        {
          "output_type": "stream",
          "text": [
            "G\n",
            "B\n"
          ],
          "name": "stdout"
        }
      ]
    },
    {
      "cell_type": "markdown",
      "metadata": {
        "id": "7KyEsKwnNxu2"
      },
      "source": [
        "## AI Attempting to Decrypt Variable Key Implementation of Caesar Cipher"
      ]
    },
    {
      "cell_type": "code",
      "metadata": {
        "id": "sTRLDiDONxu2",
        "outputId": "80df610b-e5eb-4262-9bb1-79851f758f81",
        "colab": {
          "base_uri": "https://localhost:8080/"
        }
      },
      "source": [
        "MESSAGE=\"CHRISTEEN T JOSE\"\n",
        "MESSAGE=MESSAGE.upper()\n",
        "print(\"\\t\\tOriginal Message:\\t\\t\\t\\t\",MESSAGE)\n",
        "ENCRYPTED_MESSAGE=CaesarCipher_encryption(MESSAGE,KEY)\n",
        "print(\"\\n\\n\\t\\tMessage after Encryption using Caesar Cipher:\\t\",ENCRYPTED_MESSAGE)\n",
        "#print(\"Key used for Encryption: \",KEY)\n",
        "DECRYPTED_MESSAGE=''\n",
        "for i in ENCRYPTED_MESSAGE:\n",
        "  if i==' ':\n",
        "    DECRYPTED_MESSAGE+=i\n",
        "  else:\n",
        "    DECRYPTED_MESSAGE+=Decode(i)\n",
        "print(\"\\n\\n\\t\\tMessage after AI based Decryption:\\t\\t\",DECRYPTED_MESSAGE)"
      ],
      "execution_count": 26,
      "outputs": [
        {
          "output_type": "stream",
          "text": [
            "\t\tOriginal Message:\t\t\t\t CHRISTEEN T JOSE\n",
            "\n",
            "\n",
            "\t\tMessage after Encryption using Caesar Cipher:\t OTDUEFQQZ F VAEQ\n",
            "\n",
            "\n",
            "\t\tMessage after AI based Decryption:\t\t XBJXAWJJB W WBAJ\n"
          ],
          "name": "stdout"
        }
      ]
    },
    {
      "cell_type": "markdown",
      "metadata": {
        "id": "K7zk6xWCSJxW"
      },
      "source": [
        "# Observation: The accuracy of the AI model has been brought down to 3 - 6%"
      ]
    }
  ]
}